{
 "cells": [
  {
   "cell_type": "markdown",
   "metadata": {},
   "source": [
    "##### Why use dependent groups? Come up with a few scenarios where getting repeated measures from the same people would be beneficial. Summarize them in your notebook and discuss with your mentor."
   ]
  },
  {
   "cell_type": "markdown",
   "metadata": {},
   "source": [
    "1) One reason would be because of longitudinal research on humans, whether it be measuring their happiness or cholesterol levels before and after taking a medicine.  \n",
    "2) Often in higher education, professors want to know if their teaching methods are effective or not, so students are given a test at the beginning of a course and the same test at the end to see how much the students have learned.  \n"
   ]
  },
  {
   "cell_type": "code",
   "execution_count": null,
   "metadata": {},
   "outputs": [],
   "source": []
  }
 ],
 "metadata": {
  "kernelspec": {
   "display_name": "Python [default]",
   "language": "python",
   "name": "python3"
  },
  "language_info": {
   "codemirror_mode": {
    "name": "ipython",
    "version": 3
   },
   "file_extension": ".py",
   "mimetype": "text/x-python",
   "name": "python",
   "nbconvert_exporter": "python",
   "pygments_lexer": "ipython3",
   "version": "3.5.2"
  }
 },
 "nbformat": 4,
 "nbformat_minor": 1
}
