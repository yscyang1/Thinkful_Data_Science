{
 "cells": [
  {
   "cell_type": "markdown",
   "metadata": {},
   "source": [
    "### Instructions\n",
    "Pick an algorithm from the [Wikipedia sort page](https://en.wikipedia.org/wiki/Sorting_algorithm) that hasn't been covered in the lecture (we covered insertion, merge, and default sorts) and implement it in Python.   Good sorts to try are: heap, selection, and quick sort.  \n",
    "\n",
    "In addition, see if you can figure out why the chosen sort runs faster or slower than other sorting algorithms."
   ]
  },
  {
   "cell_type": "code",
   "execution_count": 1,
   "metadata": {},
   "outputs": [],
   "source": [
    "import time\n",
    "import random\n",
    "import numpy as np\n",
    "\n",
    "# Set seed.\n",
    "random.seed(a=42)\n",
    "\n",
    "# Create our default list.\n",
    "short_list = list(random.sample(range(1000000), 10))\n",
    "long_list = list(random.sample(range(1000000), 10000))"
   ]
  },
  {
   "cell_type": "markdown",
   "metadata": {},
   "source": [
    "### Quicksort\n",
    "I've decided to implement quicksort.  With quicksort, the idea is that you have an array of numbers, and you pick a number to be a pivot.  Each number in the list is sorted so that any number smaller than the pivot is placed to the left of the pivot, and any number larger than the pivot is placed to the right; this gives us left and right partitions.  \n",
    "\n",
    "Picking a good pivot is essential as you want the pivot to be a number near the middle of the list.  People often pick the pivot to be the first or last number in the list, but this can sometimes be problematic if the list is already sorted for example.  \n",
    "\n",
    "Another method is to take the median of three numbers, the first, last, and middle value, which is what I'll do with the get_pivot function."
   ]
  },
  {
   "cell_type": "code",
   "execution_count": 2,
   "metadata": {},
   "outputs": [],
   "source": [
    "def get_pivot(arr):\n",
    "    low = arr[0]\n",
    "    high = arr[-1]\n",
    "    mid = arr[len(arr)//2]\n",
    "    median = np.median([low, mid, high])\n",
    "    if median == arr[0]:\n",
    "        return 0\n",
    "    elif median == arr[-1]:\n",
    "        return len(arr)-1\n",
    "    else:\n",
    "        return len(arr)//2"
   ]
  },
  {
   "cell_type": "markdown",
   "metadata": {},
   "source": [
    "How do we get the partitions?  First we put the pivot value at the beginning of the array.  Then the \"border\" will start in position 1 (since python is 0 index based).  The border is what creates the partition.  We work our way down the list and everything with a value lower than the pivot value will be put in a list called left, and everything with a value higher than the pivot value will be put in a list called right.  We recursively return the value of the quicksorted left, pivot value, and quicksorted right lists. "
   ]
  },
  {
   "cell_type": "code",
   "execution_count": 3,
   "metadata": {},
   "outputs": [],
   "source": [
    "def quicksort(arr):\n",
    "    # if arr has more than 1 element...\n",
    "    if len(arr) > 1:\n",
    "        # get pivot number and index\n",
    "        pivotIndex = get_pivot(arr)\n",
    "        pivotNum = arr[pivotIndex]\n",
    "\n",
    "        low = 0 #lowest element is always index 0\n",
    "        \n",
    "        # pivot number goes to beginning of array (position 0)\n",
    "        arr[pivotIndex], arr[low] = arr[low], arr[pivotIndex]\n",
    "\n",
    "        # border to position 1\n",
    "        borderIndex = 1\n",
    "\n",
    "        for i in range(borderIndex, len(arr)):\n",
    "            if arr[i] < pivotNum:\n",
    "                arr[borderIndex], arr[i] = arr[i], arr[borderIndex]\n",
    "                borderIndex += 1\n",
    "        arr[borderIndex-1], arr[0] = arr[0], arr[borderIndex-1]\n",
    "        return quicksort(arr[:borderIndex-1]) +  [pivotNum] + quicksort(arr[borderIndex:])\n",
    "    else:\n",
    "        return arr"
   ]
  },
  {
   "cell_type": "markdown",
   "metadata": {},
   "source": [
    "As a test, I will see how long it takes to sort the short list and long list using the quicksort method I wrote...I get 0.001 and 0.44 seconds respectively."
   ]
  },
  {
   "cell_type": "code",
   "execution_count": 4,
   "metadata": {},
   "outputs": [
    {
     "name": "stdout",
     "output_type": "stream",
     "text": [
      "0.0009984970092773438 seconds\n"
     ]
    }
   ],
   "source": [
    "start_time = time.time()\n",
    "quicksort(short_list)\n",
    "print('{} seconds'.format(time.time() - start_time))"
   ]
  },
  {
   "cell_type": "code",
   "execution_count": 5,
   "metadata": {},
   "outputs": [
    {
     "name": "stdout",
     "output_type": "stream",
     "text": [
      "0.4375779628753662 seconds\n"
     ]
    }
   ],
   "source": [
    "start_time = time.time()\n",
    "quicksort(long_list)\n",
    "print('{} seconds'.format(time.time() - start_time))"
   ]
  },
  {
   "cell_type": "markdown",
   "metadata": {},
   "source": [
    "What about if I did this for a list that is already sorted?  The short list is about the same speed, but the long list takes longer than the randomized list.  This is most likely due to the function needing to switch elements more often."
   ]
  },
  {
   "cell_type": "code",
   "execution_count": 6,
   "metadata": {},
   "outputs": [
    {
     "name": "stdout",
     "output_type": "stream",
     "text": [
      "0.0010001659393310547 seconds\n"
     ]
    }
   ],
   "source": [
    "start_time = time.time()\n",
    "quicksort(np.arange(10))\n",
    "print('{} seconds'.format(time.time() - start_time))"
   ]
  },
  {
   "cell_type": "code",
   "execution_count": 7,
   "metadata": {},
   "outputs": [
    {
     "name": "stdout",
     "output_type": "stream",
     "text": [
      "0.5514869689941406 seconds\n"
     ]
    }
   ],
   "source": [
    "start_time = time.time()\n",
    "quicksort(np.arange(10000))\n",
    "print('{} seconds'.format(time.time() - start_time))"
   ]
  },
  {
   "cell_type": "markdown",
   "metadata": {},
   "source": [
    "As a sanity check, this type of sort is bad if the pivot point is chosen incorrectly.  The worst case scenario would be choosing the pivot point as the first or last element in a sorted list. I'll test that out now and summarize all 8 results in the table below."
   ]
  },
  {
   "cell_type": "markdown",
   "metadata": {},
   "source": [
    "| List Type | Time (sec)   | Time of Non-Optimizal Pivot (sec)\n",
    "|------|------|\n",
    "|   Short List  | 0.001| 0.003 |\n",
    "|   Long List  | 0.438| 0.667|\n",
    "|   Sorted Short List  | 0.001|0.001|\n",
    "|   Sorted Long List  | 0.551|0.790|"
   ]
  },
  {
   "cell_type": "markdown",
   "metadata": {},
   "source": [
    "It is pretty clear in the long list that choosing the correct pivot point is important, as the sorting takes ~0.15 seconds longer than the more optimal pivot point.  "
   ]
  },
  {
   "cell_type": "code",
   "execution_count": 8,
   "metadata": {},
   "outputs": [],
   "source": [
    "def quicksort2(arr):\n",
    "    # if arr has more than 1 element...\n",
    "    if len(arr) > 1:\n",
    "        # get pivot number and index\n",
    "        pivotIndex = 0\n",
    "        pivotNum = arr[pivotIndex]\n",
    "\n",
    "        low = 0 #lowest element is always index 0\n",
    "        \n",
    "        # pivot number goes to beginning of array (position 0)\n",
    "        arr[pivotIndex], arr[low] = arr[low], arr[pivotIndex]\n",
    "\n",
    "        # border to position 1\n",
    "        borderIndex = 1\n",
    "\n",
    "        for i in range(borderIndex, len(arr)):\n",
    "            if arr[i] < pivotNum:\n",
    "                arr[borderIndex], arr[i] = arr[i], arr[borderIndex]\n",
    "                borderIndex += 1\n",
    "        arr[borderIndex-1], arr[0] = arr[0], arr[borderIndex-1]\n",
    "        return quicksort(arr[:borderIndex-1]) +  [pivotNum] + quicksort(arr[borderIndex:])\n",
    "    else:\n",
    "        return arr"
   ]
  },
  {
   "cell_type": "code",
   "execution_count": 9,
   "metadata": {},
   "outputs": [
    {
     "name": "stdout",
     "output_type": "stream",
     "text": [
      "0.003004789352416992 seconds\n"
     ]
    }
   ],
   "source": [
    "start_time = time.time()\n",
    "quicksort2(short_list)\n",
    "print('{} seconds'.format(time.time() - start_time))"
   ]
  },
  {
   "cell_type": "code",
   "execution_count": 10,
   "metadata": {},
   "outputs": [
    {
     "name": "stdout",
     "output_type": "stream",
     "text": [
      "0.6673743724822998 seconds\n"
     ]
    }
   ],
   "source": [
    "start_time = time.time()\n",
    "quicksort2(long_list)\n",
    "print('{} seconds'.format(time.time() - start_time))"
   ]
  },
  {
   "cell_type": "code",
   "execution_count": 11,
   "metadata": {},
   "outputs": [
    {
     "name": "stdout",
     "output_type": "stream",
     "text": [
      "0.0009982585906982422 seconds\n"
     ]
    }
   ],
   "source": [
    "start_time = time.time()\n",
    "quicksort2(np.arange(10))\n",
    "print('{} seconds'.format(time.time() - start_time))"
   ]
  },
  {
   "cell_type": "code",
   "execution_count": 12,
   "metadata": {},
   "outputs": [
    {
     "name": "stdout",
     "output_type": "stream",
     "text": [
      "0.7902567386627197 seconds\n"
     ]
    }
   ],
   "source": [
    "start_time = time.time()\n",
    "quicksort2(np.arange(10000))\n",
    "print('{} seconds'.format(time.time() - start_time))"
   ]
  }
 ],
 "metadata": {
  "kernelspec": {
   "display_name": "Python [default]",
   "language": "python",
   "name": "python3"
  },
  "language_info": {
   "codemirror_mode": {
    "name": "ipython",
    "version": 3
   },
   "file_extension": ".py",
   "mimetype": "text/x-python",
   "name": "python",
   "nbconvert_exporter": "python",
   "pygments_lexer": "ipython3",
   "version": "3.5.2"
  }
 },
 "nbformat": 4,
 "nbformat_minor": 1
}
