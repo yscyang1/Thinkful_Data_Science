{
 "cells": [
  {
   "cell_type": "markdown",
   "metadata": {},
   "source": [
    "### Instructions\n",
    "Implement a binary tree with 15 pieces of random data.  Traverse the tree with a breadth first traversal.  Bonus points for implementing other forms of traversal."
   ]
  },
  {
   "cell_type": "markdown",
   "metadata": {},
   "source": [
    "#### Node Creation\n",
    "The first thing to notice is that we are specifically asked to make a binary tree, which is a tree where all parent nodes have no more than two children.  Thus, for each node, I can initiate the value and create a space for a left and right child.  I also create a function to print the value of the node."
   ]
  },
  {
   "cell_type": "code",
   "execution_count": 6,
   "metadata": {},
   "outputs": [],
   "source": [
    "import random"
   ]
  },
  {
   "cell_type": "code",
   "execution_count": 7,
   "metadata": {},
   "outputs": [],
   "source": [
    "class Node:\n",
    "    def __init__(self, val):\n",
    "        self.left = None\n",
    "        self.right = None\n",
    "        self.val = val\n",
    "    \n",
    "    def get_val(self):\n",
    "        if self.val:\n",
    "            return self.val\n",
    "        else:\n",
    "            'no value'"
   ]
  },
  {
   "cell_type": "markdown",
   "metadata": {},
   "source": [
    "Below are the 15 random numbers I will be inserting into the nodes."
   ]
  },
  {
   "cell_type": "code",
   "execution_count": 8,
   "metadata": {},
   "outputs": [
    {
     "data": {
      "text/plain": [
       "[4, 49, 10, 50, 77, 27, 7, 100, 26, 46, 73, 77, 90, 53, 71]"
      ]
     },
     "execution_count": 8,
     "metadata": {},
     "output_type": "execute_result"
    }
   ],
   "source": [
    "data = [random.randint(1, 100) for i in range(15)]\n",
    "data"
   ]
  },
  {
   "cell_type": "markdown",
   "metadata": {},
   "source": [
    "Next I create my binary tree.  To make things simple, I make a perfect binary tree, so I should have 4 layers with 8 leaves.  "
   ]
  },
  {
   "cell_type": "code",
   "execution_count": 9,
   "metadata": {},
   "outputs": [],
   "source": [
    "# root = Node(data[0])\n",
    "root= Node(data[0])\n",
    "\n",
    "root.left = Node(data[1])\n",
    "root.right = Node(data[2])\n",
    "\n",
    "root.left.left = Node(data[3])\n",
    "root.left.right = Node(data[4])\n",
    "root.right.left = Node(data[5])\n",
    "root.right.right = Node(data[6])\n",
    "\n",
    "root.left.left.left = Node(data[7])\n",
    "root.left.left.right = Node(data[8])\n",
    "root.left.right.left = Node(data[9])\n",
    "root.left.right.right = Node(data[10])\n",
    "root.right.left.left = Node(data[11])\n",
    "root.right.left.right = Node(data[12])\n",
    "root.right.right.left = Node(data[13])\n",
    "root.right.right.right = Node(data[14])"
   ]
  },
  {
   "cell_type": "markdown",
   "metadata": {},
   "source": [
    "Lastly, the recursive function to print the value of each node via breadth traversal.  It should match the order of the data above."
   ]
  },
  {
   "cell_type": "code",
   "execution_count": 10,
   "metadata": {},
   "outputs": [
    {
     "name": "stdout",
     "output_type": "stream",
     "text": [
      "4\n",
      "49\n",
      "10\n",
      "50\n",
      "77\n",
      "27\n",
      "7\n",
      "100\n",
      "26\n",
      "46\n",
      "73\n",
      "77\n",
      "90\n",
      "53\n",
      "71\n"
     ]
    }
   ],
   "source": [
    "def breadth_traverse(node):\n",
    "    print(node.get_val())\n",
    "    parents = [node]\n",
    "    new_parents = []\n",
    "    while len(parents) >0:\n",
    "        for node in parents:\n",
    "            if node.left:\n",
    "                get_child(node.left)\n",
    "                new_parents.append(node.left)\n",
    "            if node.right:\n",
    "                get_child(node.right)\n",
    "                new_parents.append(node.right)\n",
    "        parents = new_parents\n",
    "        new_parents = []\n",
    "\n",
    "def get_child(node):\n",
    "    print(node.get_val())\n",
    "\n",
    "        \n",
    "breadth_traverse(root)"
   ]
  },
  {
   "cell_type": "code",
   "execution_count": null,
   "metadata": {},
   "outputs": [],
   "source": []
  }
 ],
 "metadata": {
  "kernelspec": {
   "display_name": "Python [default]",
   "language": "python",
   "name": "python3"
  },
  "language_info": {
   "codemirror_mode": {
    "name": "ipython",
    "version": 3
   },
   "file_extension": ".py",
   "mimetype": "text/x-python",
   "name": "python",
   "nbconvert_exporter": "python",
   "pygments_lexer": "ipython3",
   "version": "3.5.2"
  }
 },
 "nbformat": 4,
 "nbformat_minor": 1
}
