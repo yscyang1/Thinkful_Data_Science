{
 "cells": [
  {
   "cell_type": "markdown",
   "metadata": {},
   "source": [
    "### Task\n",
    "1.  Determine 5 most common journals\n",
    "    1. Find total articles for each\n",
    "2.  Calculate mean, median, std dev of open access cost per article for each journal\n",
    "3.  Bonus Round:  identify open access prices paid by subj area"
   ]
  },
  {
   "cell_type": "markdown",
   "metadata": {},
   "source": [
    "#### Import libraries and data"
   ]
  },
  {
   "cell_type": "code",
   "execution_count": 1,
   "metadata": {
    "collapsed": true
   },
   "outputs": [],
   "source": [
    "import seaborn as sns\n",
    "import pandas as pd\n",
    "import numpy as np\n",
    "import matplotlib.pyplot as plt\n",
    "%matplotlib inline\n",
    "\n",
    "import re\n",
    "import string"
   ]
  },
  {
   "cell_type": "code",
   "execution_count": 2,
   "metadata": {
    "collapsed": false
   },
   "outputs": [],
   "source": [
    "df = pd.read_csv('WELLCOME_APCspend2013_forThinkful.csv', encoding = 'Latin-1')"
   ]
  },
  {
   "cell_type": "code",
   "execution_count": 3,
   "metadata": {
    "collapsed": false
   },
   "outputs": [
    {
     "data": {
      "text/html": [
       "<div>\n",
       "<style scoped>\n",
       "    .dataframe tbody tr th:only-of-type {\n",
       "        vertical-align: middle;\n",
       "    }\n",
       "\n",
       "    .dataframe tbody tr th {\n",
       "        vertical-align: top;\n",
       "    }\n",
       "\n",
       "    .dataframe thead th {\n",
       "        text-align: right;\n",
       "    }\n",
       "</style>\n",
       "<table border=\"1\" class=\"dataframe\">\n",
       "  <thead>\n",
       "    <tr style=\"text-align: right;\">\n",
       "      <th></th>\n",
       "      <th>PMID/PMCID</th>\n",
       "      <th>Publisher</th>\n",
       "      <th>Journal title</th>\n",
       "      <th>Article title</th>\n",
       "      <th>COST (£) charged to Wellcome (inc VAT when charged)</th>\n",
       "    </tr>\n",
       "  </thead>\n",
       "  <tbody>\n",
       "    <tr>\n",
       "      <th>count</th>\n",
       "      <td>1928</td>\n",
       "      <td>2127</td>\n",
       "      <td>2126</td>\n",
       "      <td>2127</td>\n",
       "      <td>2127</td>\n",
       "    </tr>\n",
       "    <tr>\n",
       "      <th>unique</th>\n",
       "      <td>1880</td>\n",
       "      <td>299</td>\n",
       "      <td>984</td>\n",
       "      <td>2126</td>\n",
       "      <td>1402</td>\n",
       "    </tr>\n",
       "    <tr>\n",
       "      <th>top</th>\n",
       "      <td>Not yet available</td>\n",
       "      <td>Elsevier</td>\n",
       "      <td>PLoS One</td>\n",
       "      <td>Exclusive breastfeeding, diarrhoel morbidity a...</td>\n",
       "      <td>£2040.00</td>\n",
       "    </tr>\n",
       "    <tr>\n",
       "      <th>freq</th>\n",
       "      <td>7</td>\n",
       "      <td>387</td>\n",
       "      <td>92</td>\n",
       "      <td>2</td>\n",
       "      <td>94</td>\n",
       "    </tr>\n",
       "  </tbody>\n",
       "</table>\n",
       "</div>"
      ],
      "text/plain": [
       "               PMID/PMCID Publisher Journal title  \\\n",
       "count                1928      2127          2126   \n",
       "unique               1880       299           984   \n",
       "top     Not yet available  Elsevier      PLoS One   \n",
       "freq                    7       387            92   \n",
       "\n",
       "                                            Article title  \\\n",
       "count                                                2127   \n",
       "unique                                               2126   \n",
       "top     Exclusive breastfeeding, diarrhoel morbidity a...   \n",
       "freq                                                    2   \n",
       "\n",
       "       COST (£) charged to Wellcome (inc VAT when charged)  \n",
       "count                                                2127   \n",
       "unique                                               1402   \n",
       "top                                              £2040.00   \n",
       "freq                                                   94   "
      ]
     },
     "execution_count": 3,
     "metadata": {},
     "output_type": "execute_result"
    }
   ],
   "source": [
    "df.describe()"
   ]
  },
  {
   "cell_type": "code",
   "execution_count": 4,
   "metadata": {
    "collapsed": false
   },
   "outputs": [
    {
     "data": {
      "text/html": [
       "<div>\n",
       "<style scoped>\n",
       "    .dataframe tbody tr th:only-of-type {\n",
       "        vertical-align: middle;\n",
       "    }\n",
       "\n",
       "    .dataframe tbody tr th {\n",
       "        vertical-align: top;\n",
       "    }\n",
       "\n",
       "    .dataframe thead th {\n",
       "        text-align: right;\n",
       "    }\n",
       "</style>\n",
       "<table border=\"1\" class=\"dataframe\">\n",
       "  <thead>\n",
       "    <tr style=\"text-align: right;\">\n",
       "      <th></th>\n",
       "      <th>PMID/PMCID</th>\n",
       "      <th>Publisher</th>\n",
       "      <th>Journal title</th>\n",
       "      <th>Article title</th>\n",
       "      <th>COST (£) charged to Wellcome (inc VAT when charged)</th>\n",
       "    </tr>\n",
       "  </thead>\n",
       "  <tbody>\n",
       "    <tr>\n",
       "      <th>0</th>\n",
       "      <td>NaN</td>\n",
       "      <td>CUP</td>\n",
       "      <td>Psychological Medicine</td>\n",
       "      <td>Reduced parahippocampal cortical thickness in ...</td>\n",
       "      <td>£0.00</td>\n",
       "    </tr>\n",
       "    <tr>\n",
       "      <th>1</th>\n",
       "      <td>PMC3679557</td>\n",
       "      <td>ACS</td>\n",
       "      <td>Biomacromolecules</td>\n",
       "      <td>Structural characterization of a Model Gram-ne...</td>\n",
       "      <td>£2381.04</td>\n",
       "    </tr>\n",
       "    <tr>\n",
       "      <th>2</th>\n",
       "      <td>23043264  PMC3506128</td>\n",
       "      <td>ACS</td>\n",
       "      <td>J Med Chem</td>\n",
       "      <td>Fumaroylamino-4,5-epoxymorphinans and related ...</td>\n",
       "      <td>£642.56</td>\n",
       "    </tr>\n",
       "    <tr>\n",
       "      <th>3</th>\n",
       "      <td>23438330 PMC3646402</td>\n",
       "      <td>ACS</td>\n",
       "      <td>J Med Chem</td>\n",
       "      <td>Orvinols with mixed kappa/mu opioid receptor a...</td>\n",
       "      <td>£669.64</td>\n",
       "    </tr>\n",
       "    <tr>\n",
       "      <th>4</th>\n",
       "      <td>23438216 PMC3601604</td>\n",
       "      <td>ACS</td>\n",
       "      <td>J Org Chem</td>\n",
       "      <td>Regioselective opening of myo-inositol orthoes...</td>\n",
       "      <td>£685.88</td>\n",
       "    </tr>\n",
       "  </tbody>\n",
       "</table>\n",
       "</div>"
      ],
      "text/plain": [
       "              PMID/PMCID Publisher           Journal title  \\\n",
       "0                    NaN       CUP  Psychological Medicine   \n",
       "1             PMC3679557       ACS       Biomacromolecules   \n",
       "2  23043264  PMC3506128        ACS              J Med Chem   \n",
       "3    23438330 PMC3646402       ACS              J Med Chem   \n",
       "4   23438216 PMC3601604        ACS              J Org Chem   \n",
       "\n",
       "                                       Article title  \\\n",
       "0  Reduced parahippocampal cortical thickness in ...   \n",
       "1  Structural characterization of a Model Gram-ne...   \n",
       "2  Fumaroylamino-4,5-epoxymorphinans and related ...   \n",
       "3  Orvinols with mixed kappa/mu opioid receptor a...   \n",
       "4  Regioselective opening of myo-inositol orthoes...   \n",
       "\n",
       "  COST (£) charged to Wellcome (inc VAT when charged)  \n",
       "0                                              £0.00   \n",
       "1                                           £2381.04   \n",
       "2                                            £642.56   \n",
       "3                                            £669.64   \n",
       "4                                            £685.88   "
      ]
     },
     "execution_count": 4,
     "metadata": {},
     "output_type": "execute_result"
    }
   ],
   "source": [
    "df.head()"
   ]
  },
  {
   "cell_type": "markdown",
   "metadata": {},
   "source": [
    "#### Missing Info\n",
    "About 10% missing from PMID/PMCID column.  But we are mostly concerned with the journal titles, article titles, and cost.  Of these, only one 0.05% (1 journal title) is missing.  "
   ]
  },
  {
   "cell_type": "code",
   "execution_count": 5,
   "metadata": {
    "collapsed": false
   },
   "outputs": [
    {
     "name": "stdout",
     "output_type": "stream",
     "text": [
      "PMID/PMCID:  9.35590032910202\n",
      "Publisher:  0.0\n",
      "Journal title:  0.04701457451810061\n",
      "Article title:  0.0\n",
      "COST (£) charged to Wellcome (inc VAT when charged):  0.0\n"
     ]
    }
   ],
   "source": [
    "for col in df.columns:\n",
    "    print('{}:  {}'.format(col, df[col].isnull().sum()/df[col].shape[0]*100))"
   ]
  },
  {
   "cell_type": "markdown",
   "metadata": {},
   "source": [
    "### Determine 5 most common journals"
   ]
  },
  {
   "cell_type": "markdown",
   "metadata": {},
   "source": [
    "From the raw data, there are ~985 unique journal titles.  But looking at the first 10 journal titles in alphabetical order, we see that ACS NANO and ACS Nano are the same journal, but categorized as different titles.  A similar situation arises with PLoS One and PLoS ONE, seen below in the top 15 most common journals as seen in the raw data.  An easy way to fix this is to make all letters lowercase and strip the white space.  Other small things to decrease repeated journals is to remove punctuation, convert '&' to 'and', and convert '1' to 'one'.\n",
    " "
   ]
  },
  {
   "cell_type": "code",
   "execution_count": 6,
   "metadata": {
    "collapsed": false
   },
   "outputs": [
    {
     "data": {
      "text/plain": [
       "984"
      ]
     },
     "execution_count": 6,
     "metadata": {},
     "output_type": "execute_result"
    }
   ],
   "source": [
    "df['Journal title'].nunique()"
   ]
  },
  {
   "cell_type": "code",
   "execution_count": 7,
   "metadata": {
    "collapsed": false
   },
   "outputs": [
    {
     "data": {
      "text/plain": [
       "['ACS Chemical Biology',\n",
       " 'ACS Chemical Neuroscience',\n",
       " 'ACS NANO',\n",
       " 'ACS Nano',\n",
       " 'ACTA F',\n",
       " 'AGE',\n",
       " 'AIDS',\n",
       " 'AIDS Behav',\n",
       " 'AIDS Care',\n",
       " 'AIDS Journal']"
      ]
     },
     "execution_count": 7,
     "metadata": {},
     "output_type": "execute_result"
    }
   ],
   "source": [
    "sorted(df[df['Journal title'].notnull()]['Journal title'].unique())[:10]"
   ]
  },
  {
   "cell_type": "code",
   "execution_count": 8,
   "metadata": {
    "collapsed": false
   },
   "outputs": [
    {
     "data": {
      "text/plain": [
       "PLoS One                                           92\n",
       "PLoS ONE                                           62\n",
       "Journal of Biological Chemistry                    48\n",
       "Nucleic Acids Research                             21\n",
       "Proceedings of the National Academy of Sciences    19\n",
       "Human Molecular Genetics                           18\n",
       "PLoS Neglected Tropical Diseases                   18\n",
       "Nature Communications                              17\n",
       "PLoS Pathogens                                     15\n",
       "Neuroimage                                         15\n",
       "PLoS Genetics                                      15\n",
       "PLOS ONE                                           14\n",
       "NeuroImage                                         14\n",
       "BMC Public Health                                  14\n",
       "Brain                                              14\n",
       "Name: Journal title, dtype: int64"
      ]
     },
     "execution_count": 8,
     "metadata": {},
     "output_type": "execute_result"
    }
   ],
   "source": [
    "df['Journal title'].value_counts()[:15]"
   ]
  },
  {
   "cell_type": "code",
   "execution_count": 9,
   "metadata": {
    "collapsed": false
   },
   "outputs": [],
   "source": [
    "def initial_conversion(col):\n",
    "# Convert string to lower case and remove white space\n",
    "# Convert '&' to 'and'\n",
    "# Convert '1', to 'one\n",
    "# Remove punctuation\n",
    "    try:\n",
    "        col = col.lower().strip()\n",
    "        col = col.replace('&', 'and')\n",
    "        col = col.replace('1', 'one')\n",
    "        col = col.translate(str.maketrans('', '', string.punctuation))\n",
    "        return col\n",
    "    except AttributeError:\n",
    "        pass"
   ]
  },
  {
   "cell_type": "code",
   "execution_count": 10,
   "metadata": {
    "collapsed": false
   },
   "outputs": [],
   "source": [
    "df['Journal title'] = df['Journal title'].apply(initial_conversion)"
   ]
  },
  {
   "cell_type": "code",
   "execution_count": 11,
   "metadata": {
    "collapsed": false
   },
   "outputs": [
    {
     "data": {
      "text/plain": [
       "876"
      ]
     },
     "execution_count": 11,
     "metadata": {},
     "output_type": "execute_result"
    }
   ],
   "source": [
    "df['Journal title'].nunique()"
   ]
  },
  {
   "cell_type": "markdown",
   "metadata": {},
   "source": [
    "Purely converting all titles to lowercase and stripping of white space reduces the number of unique journals by ~100.  The other manipulations decreased the count by 10.  \n",
    "\n",
    "Below I've looked at the top 15 most common journal titles to see where to concentrate most of my efforts to find the 5 most common journals.  "
   ]
  },
  {
   "cell_type": "code",
   "execution_count": 12,
   "metadata": {
    "collapsed": false
   },
   "outputs": [
    {
     "data": {
      "text/plain": [
       "plos one                                           197\n",
       "journal of biological chemistry                     53\n",
       "neuroimage                                          29\n",
       "nucleic acids research                              26\n",
       "plos genetics                                       24\n",
       "plos pathogens                                      24\n",
       "proceedings of the national academy of sciences     22\n",
       "plos neglected tropical diseases                    20\n",
       "nature communications                               19\n",
       "human molecular genetics                            19\n",
       "movement disorders                                  15\n",
       "brain                                               14\n",
       "bmc public health                                   14\n",
       "journal of neuroscience                             13\n",
       "developmental cell                                  12\n",
       "Name: Journal title, dtype: int64"
      ]
     },
     "execution_count": 12,
     "metadata": {},
     "output_type": "execute_result"
    }
   ],
   "source": [
    "df['Journal title'].value_counts()[:15]"
   ]
  },
  {
   "cell_type": "markdown",
   "metadata": {},
   "source": [
    "#### Plos one\n",
    "Plos one is by far the most popular journal so far.  plos is a pretty unique spelling, so lets see if we can find other variations of plos one."
   ]
  },
  {
   "cell_type": "code",
   "execution_count": 13,
   "metadata": {
    "collapsed": false
   },
   "outputs": [
    {
     "name": "stdout",
     "output_type": "stream",
     "text": [
      "plos computational biology\n",
      "plos genetics\n",
      "plos ntd\n",
      "plos one\n",
      "plos pathogens\n",
      "plos\n",
      "plos  computational biology\n",
      "plos  one\n",
      "plos biology\n",
      "plos medicine\n",
      "plos medicine journal\n",
      "plos negected tropical diseases\n",
      "plos neglected tropical diseases\n",
      "plosone\n"
     ]
    }
   ],
   "source": [
    "for j in df[df['Journal title'].notnull()]['Journal title'].unique():\n",
    "    if 'plos' in j:\n",
    "        print(j)"
   ]
  },
  {
   "cell_type": "markdown",
   "metadata": {},
   "source": [
    "From the above list, I see 'plosone' and 'plos  one'.  Fixing these typos increases the number from 197 to 207.  "
   ]
  },
  {
   "cell_type": "code",
   "execution_count": 14,
   "metadata": {
    "collapsed": true
   },
   "outputs": [],
   "source": [
    "def fix_plos_one(col):\n",
    "    try:\n",
    "        if col == 'plosone':\n",
    "            return 'plos one'\n",
    "        elif col == 'plos  one':\n",
    "            return 'plos one' \n",
    "        else:\n",
    "            return col\n",
    "    except AttributeError:\n",
    "        pass"
   ]
  },
  {
   "cell_type": "code",
   "execution_count": 15,
   "metadata": {
    "collapsed": true
   },
   "outputs": [],
   "source": [
    "df['Journal title'] = df['Journal title'].apply(fix_plos_one)"
   ]
  },
  {
   "cell_type": "markdown",
   "metadata": {},
   "source": [
    "#### Journal of biological chemistry\n",
    "Biology, bio, chem, and biochem are all very common phrases.  I had to go through the alphabetized list by eye to pick out the following variations.  Fixing these variations increased the number from 52 to 59."
   ]
  },
  {
   "cell_type": "markdown",
   "metadata": {},
   "source": [
    "*List of journal of biological chemistry abbreviations:*  \n",
    "'j biol chem.'  \n",
    "'j biol chemistry'  \n",
    "'jnl biological chemistry'  \n",
    "'journal biological chemistry'   \n",
    "'journal of biological chemistry'  \n",
    "'journal of biol chem'  \n",
    "'journal of biological chemistry'  "
   ]
  },
  {
   "cell_type": "code",
   "execution_count": 16,
   "metadata": {
    "collapsed": true
   },
   "outputs": [],
   "source": [
    "def fix_bio_chem(col):\n",
    "    try:\n",
    "        if col == 'j biol chem.':\n",
    "            return 'journal of biological chemistry'\n",
    "        elif col == 'j biol chemistry':\n",
    "            return 'journal of biological chemistry'\n",
    "        elif col == 'jnl biological chemistry':\n",
    "            return 'journal of biological chemistry'\n",
    "        elif col == 'journal biological chemistry':\n",
    "            return 'journal of biological chemistry'\n",
    "        elif col == 'journal of biol chem':\n",
    "            return 'journal of biological chemistry'\n",
    "        else:\n",
    "            return col\n",
    "    except AttributeError:\n",
    "        pass"
   ]
  },
  {
   "cell_type": "code",
   "execution_count": 17,
   "metadata": {
    "collapsed": true
   },
   "outputs": [],
   "source": [
    "df['Journal title'] = df['Journal title'].apply(fix_bio_chem)"
   ]
  },
  {
   "cell_type": "markdown",
   "metadata": {},
   "source": [
    "#### Nucleic acid research\n",
    "I only found one misspelling of 'nucleic acid research'.  Fixing this increased the count from 26 to 29.  "
   ]
  },
  {
   "cell_type": "code",
   "execution_count": 18,
   "metadata": {
    "collapsed": false
   },
   "outputs": [
    {
     "name": "stdout",
     "output_type": "stream",
     "text": [
      "nucleic acids research\n",
      "nucleic acid research\n"
     ]
    }
   ],
   "source": [
    "for j in df[df['Journal title'].notnull()]['Journal title'].unique():\n",
    "    if 'nucleic' in j:\n",
    "        print(j)"
   ]
  },
  {
   "cell_type": "code",
   "execution_count": 19,
   "metadata": {
    "collapsed": true
   },
   "outputs": [],
   "source": [
    "def fix_nar(col):\n",
    "    try:\n",
    "        if col == 'nucleic acid research':\n",
    "            return 'nucleic acids research'\n",
    "        else:\n",
    "            return col\n",
    "    except AttributeError:\n",
    "        pass"
   ]
  },
  {
   "cell_type": "code",
   "execution_count": 20,
   "metadata": {
    "collapsed": true
   },
   "outputs": [],
   "source": [
    "df['Journal title'] = df['Journal title'].apply(fix_nar)"
   ]
  },
  {
   "cell_type": "markdown",
   "metadata": {},
   "source": [
    "#### Proceedings of the national academy of sciences\n",
    "This is another one that required scanning by eye to find all the variations, which is listed as follows:\n",
    "\n",
    "*List of Proceedings of the national academy of sciences abbreviations:*  \n",
    "'pnas'  \n",
    "'pnas (proceedings of the national academy of sciences of the united states of america'  \n",
    "'pnas usa'  \n",
    "'proc natl acad sci u s a.'  \n",
    "'proceddings of the national academy of sciences of usa'  \n",
    "'proceedings of the national academy of sciences'  \n",
    "'proceedings of the national academy of sciences (pnas)'  \n",
    "'proceedings of the national academy of sciences of the united states of america'  \n",
    "'proceedings of the national academy of sciences of the usa'  \n",
    "\n",
    "\n",
    "Fixing these abbreviations increased the number from 22 to 34.  "
   ]
  },
  {
   "cell_type": "code",
   "execution_count": 22,
   "metadata": {
    "collapsed": false
   },
   "outputs": [],
   "source": [
    "def fix_pnas(col):\n",
    "    try:\n",
    "        if col == 'pnas':\n",
    "            return 'proceedings of the national academy of sciences'\n",
    "        elif col == 'pnas (proceedings of the national academy of sciences of the united states of america':\n",
    "            return 'proceedings of the national academy of sciences'\n",
    "        elif col == 'pnas usa':\n",
    "            return 'proceedings of the national academy of sciences'\n",
    "        elif col == 'proc natl acad sci u s a.':\n",
    "            return 'proceedings of the national academy of sciences'\n",
    "        elif col == 'proceddings of the national academy of sciences of usa':\n",
    "            return 'proceedings of the national academy of sciences'\n",
    "        elif col == 'proceedings of the national academy of sciences (pnas)':\n",
    "            return 'proceedings of the national academy of sciences'\n",
    "        elif col == 'proceedings of the national academy of sciences of the united states of america':\n",
    "            return 'proceedings of the national academy of sciences'\n",
    "        elif col == 'proceedings of the national academy of sciences of the usa':\n",
    "            return 'proceedings of the national academy of sciences'\n",
    "        else:\n",
    "            return col\n",
    "    except AttributeError:\n",
    "        pass"
   ]
  },
  {
   "cell_type": "code",
   "execution_count": 23,
   "metadata": {
    "collapsed": false
   },
   "outputs": [],
   "source": [
    "df['Journal title'] = df['Journal title'].apply(fix_pnas)"
   ]
  },
  {
   "cell_type": "markdown",
   "metadata": {},
   "source": [
    "#### Answer:\n",
    "top 5 journals are:  "
   ]
  },
  {
   "cell_type": "code",
   "execution_count": 26,
   "metadata": {
    "collapsed": false
   },
   "outputs": [
    {
     "data": {
      "text/plain": [
       "plos one                                           207\n",
       "journal of biological chemistry                     59\n",
       "proceedings of the national academy of sciences     34\n",
       "neuroimage                                          29\n",
       "nucleic acids research                              29\n",
       "Name: Journal title, dtype: int64"
      ]
     },
     "execution_count": 26,
     "metadata": {},
     "output_type": "execute_result"
    }
   ],
   "source": [
    "df['Journal title'].value_counts()[:5]"
   ]
  },
  {
   "cell_type": "markdown",
   "metadata": {},
   "source": [
    "As expected, plos one by far was the most frequent journal with almost 200 articles.  The next most frequent journal was the Journal of Biological Chemistry, which had ~70 articles.  The rest were between 25 and 35 articles.  "
   ]
  },
  {
   "cell_type": "code",
   "execution_count": 49,
   "metadata": {
    "collapsed": false
   },
   "outputs": [],
   "source": [
    "top_five = df[(df['Journal title'] == df['Journal title'].value_counts()[:1].index[0]) | \n",
    "  (df['Journal title'] == df['Journal title'].value_counts()[1:2].index[0]) |\n",
    "  (df['Journal title'] == df['Journal title'].value_counts()[2:3].index[0]) |\n",
    "  (df['Journal title'] == df['Journal title'].value_counts()[3:4].index[0]) |\n",
    "  (df['Journal title'] == df['Journal title'].value_counts()[4:5].index[0]) ]"
   ]
  },
  {
   "cell_type": "code",
   "execution_count": 50,
   "metadata": {
    "collapsed": true
   },
   "outputs": [],
   "source": [
    "answer1 = pd.DataFrame()\n",
    "answer1['Journal title'] = top_five['Journal title'].value_counts().index\n",
    "answer1['Title count'] = top_five['Journal title'].value_counts().values"
   ]
  },
  {
   "cell_type": "code",
   "execution_count": 51,
   "metadata": {
    "collapsed": false
   },
   "outputs": [
    {
     "data": {
      "text/plain": [
       "<matplotlib.text.Text at 0x1e8dfa155c0>"
      ]
     },
     "execution_count": 51,
     "metadata": {},
     "output_type": "execute_result"
    },
    {
     "data": {
      "image/png": "[encoded data removed]",
      "text/plain": [
       "<matplotlib.figure.Figure at 0x1e8dfc5cda0>"
      ]
     },
     "metadata": {},
     "output_type": "display_data"
    }
   ],
   "source": [
    "sns.barplot(x = 'Title count', y = 'Journal title',  data = answer1)\n",
    "plt.title('5 Most Frequent Journals and Number of Articles')\n",
    "plt.ylabel('Journal')\n",
    "plt.xlabel('Title Count')"
   ]
  },
  {
   "cell_type": "markdown",
   "metadata": {},
   "source": [
    "### Mean, Median, Std Dev of Cost for per article for each journal\n",
    "To find the cost per article, I had to do some string manipulation because there is a '£' symbol.  Then, to plot it in a histogram, I needed to convert it to a float."
   ]
  },
  {
   "cell_type": "code",
   "execution_count": 53,
   "metadata": {
    "collapsed": false
   },
   "outputs": [
    {
     "name": "stderr",
     "output_type": "stream",
     "text": [
      "C:\\Users\\Crystal\\AppData\\Local\\Continuum\\Anaconda3\\lib\\site-packages\\ipykernel\\__main__.py:1: SettingWithCopyWarning: \n",
      "A value is trying to be set on a copy of a slice from a DataFrame.\n",
      "Try using .loc[row_indexer,col_indexer] = value instead\n",
      "\n",
      "See the caveats in the documentation: http://pandas.pydata.org/pandas-docs/stable/indexing.html#indexing-view-versus-copy\n",
      "  if __name__ == '__main__':\n"
     ]
    }
   ],
   "source": [
    "# Remove '£' symbol and convert to float\n",
    "top_five['COST (£) charged to Wellcome (inc VAT when charged)'] = top_five['COST (£) charged to Wellcome (inc VAT when charged)'].apply(lambda x:  float(x[1:]))"
   ]
  },
  {
   "cell_type": "markdown",
   "metadata": {},
   "source": [
    "Below are the histograms of the costs.  On the left is the cost distribution for all articles.  As you can see, some of the prices get ridiculously high, at 1 million pounds.  To the right is a cost distribution for all articles under £25000.  As you can see, the highest cost in this figure is ~£3000, so there aren't any articles that cost between £3000 and £25000.  From this plot, we can see that most of the articles cost ~£800. "
   ]
  },
  {
   "cell_type": "code",
   "execution_count": 55,
   "metadata": {
    "collapsed": false
   },
   "outputs": [
    {
     "data": {
      "image/png": "[encoded data removed]",
      "text/plain": [
       "<matplotlib.figure.Figure at 0x1e8dfdef588>"
      ]
     },
     "metadata": {},
     "output_type": "display_data"
    }
   ],
   "source": [
    "fig, (axis1, axis2) = plt.subplots(1,2,figsize=(15,4))\n",
    "\n",
    "sns.distplot(top_five['COST (£) charged to Wellcome (inc VAT when charged)'], ax = axis1)\n",
    "sns.distplot(top_five[top_five['COST (£) charged to Wellcome (inc VAT when charged)'] < 25000]['COST (£) charged to Wellcome (inc VAT when charged)'], ax = axis2)\n",
    "\n",
    "axis1.set_title('Price Distribution For All Data')\n",
    "axis2.set_title('Price Distribution Under £25000')\n",
    "\n",
    "for ax in [axis1, axis2]:\n",
    "    ax.set_xlabel('Cost (£)')\n",
    "    ax.set_ylabel('Density')"
   ]
  },
  {
   "cell_type": "markdown",
   "metadata": {},
   "source": [
    "Instead of removing these outlier prices, I'll try a 90% winsorization on them.  The data now ranges between £600 and £2500."
   ]
  },
  {
   "cell_type": "code",
   "execution_count": 56,
   "metadata": {
    "collapsed": true
   },
   "outputs": [],
   "source": [
    "import scipy.stats"
   ]
  },
  {
   "cell_type": "code",
   "execution_count": 57,
   "metadata": {
    "collapsed": false
   },
   "outputs": [
    {
     "name": "stderr",
     "output_type": "stream",
     "text": [
      "C:\\Users\\Crystal\\AppData\\Local\\Continuum\\Anaconda3\\lib\\site-packages\\ipykernel\\__main__.py:1: SettingWithCopyWarning: \n",
      "A value is trying to be set on a copy of a slice from a DataFrame.\n",
      "Try using .loc[row_indexer,col_indexer] = value instead\n",
      "\n",
      "See the caveats in the documentation: http://pandas.pydata.org/pandas-docs/stable/indexing.html#indexing-view-versus-copy\n",
      "  if __name__ == '__main__':\n"
     ]
    }
   ],
   "source": [
    "top_five['COST (£) charged to Wellcome (inc VAT when charged)'] = scipy.stats.mstats.winsorize(top_five['COST (£) charged to Wellcome (inc VAT when charged)'], limits = [0.05, 0.05])"
   ]
  },
  {
   "cell_type": "code",
   "execution_count": 59,
   "metadata": {
    "collapsed": false
   },
   "outputs": [
    {
     "data": {
      "text/plain": [
       "<matplotlib.text.Text at 0x1e8e01118d0>"
      ]
     },
     "execution_count": 59,
     "metadata": {},
     "output_type": "execute_result"
    },
    {
     "data": {
      "image/png": "[encoded data removed]",
      "text/plain": [
       "<matplotlib.figure.Figure at 0x1e8e028a048>"
      ]
     },
     "metadata": {},
     "output_type": "display_data"
    }
   ],
   "source": [
    "sns.distplot(top_five['COST (£) charged to Wellcome (inc VAT when charged)'])\n",
    "plt.title('Winsorized Data')\n",
    "plt.xlabel('Cost (£)')\n",
    "plt.ylabel('Density')"
   ]
  },
  {
   "cell_type": "markdown",
   "metadata": {},
   "source": [
    "I can now find the mean, median, and standard deviations per article for each journal, seen below."
   ]
  },
  {
   "cell_type": "code",
   "execution_count": 60,
   "metadata": {
    "collapsed": false
   },
   "outputs": [],
   "source": [
    "plos_one_mean = top_five[top_five['Journal title'] == 'plos one']['COST (£) charged to Wellcome (inc VAT when charged)'].mean()\n",
    "plos_one_median = top_five[top_five['Journal title'] == 'plos one']['COST (£) charged to Wellcome (inc VAT when charged)'].median()\n",
    "plos_one_std = top_five[top_five['Journal title'] == 'plos one']['COST (£) charged to Wellcome (inc VAT when charged)'].std()"
   ]
  },
  {
   "cell_type": "code",
   "execution_count": 61,
   "metadata": {
    "collapsed": true
   },
   "outputs": [],
   "source": [
    "jbc_mean = top_five[top_five['Journal title'] == 'journal of biological chemistry']['COST (£) charged to Wellcome (inc VAT when charged)'].mean()\n",
    "jbc_median = top_five[top_five['Journal title'] == 'journal of biological chemistry']['COST (£) charged to Wellcome (inc VAT when charged)'].median()\n",
    "jbc_std = top_five[top_five['Journal title'] == 'journal of biological chemistry']['COST (£) charged to Wellcome (inc VAT when charged)'].std()"
   ]
  },
  {
   "cell_type": "code",
   "execution_count": 62,
   "metadata": {
    "collapsed": true
   },
   "outputs": [],
   "source": [
    "pnas_mean = top_five[top_five['Journal title'] == 'proceedings of the national academy of sciences']['COST (£) charged to Wellcome (inc VAT when charged)'].mean()\n",
    "pnas_median = top_five[top_five['Journal title'] == 'proceedings of the national academy of sciences']['COST (£) charged to Wellcome (inc VAT when charged)'].median()\n",
    "pnas_std = top_five[top_five['Journal title'] == 'proceedings of the national academy of sciences']['COST (£) charged to Wellcome (inc VAT when charged)'].std()"
   ]
  },
  {
   "cell_type": "code",
   "execution_count": 63,
   "metadata": {
    "collapsed": true
   },
   "outputs": [],
   "source": [
    "neural_mean = top_five[top_five['Journal title'] == 'neuroimage']['COST (£) charged to Wellcome (inc VAT when charged)'].mean()\n",
    "neural_median = top_five[top_five['Journal title'] == 'neuroimage']['COST (£) charged to Wellcome (inc VAT when charged)'].median()\n",
    "neural_std = top_five[top_five['Journal title'] == 'neuroimage']['COST (£) charged to Wellcome (inc VAT when charged)'].std()"
   ]
  },
  {
   "cell_type": "code",
   "execution_count": 64,
   "metadata": {
    "collapsed": true
   },
   "outputs": [],
   "source": [
    "nar_mean = top_five[top_five['Journal title'] == 'nucleic acids research']['COST (£) charged to Wellcome (inc VAT when charged)'].mean()\n",
    "nar_median = top_five[top_five['Journal title'] == 'nucleic acids research']['COST (£) charged to Wellcome (inc VAT when charged)'].median()\n",
    "nar_std = top_five[top_five['Journal title'] == 'nucleic acids research']['COST (£) charged to Wellcome (inc VAT when charged)'].std()"
   ]
  },
  {
   "cell_type": "code",
   "execution_count": 67,
   "metadata": {
    "collapsed": false
   },
   "outputs": [],
   "source": [
    "top_five_stats = pd.DataFrame(np.array([[plos_one_mean, plos_one_median, plos_one_std], \n",
    "                                      [jbc_mean, jbc_median, jbc_std],\n",
    "                                      [pnas_mean, pnas_median, pnas_std],\n",
    "                                      [neural_mean, neural_median, neural_std], \n",
    "                                      [nar_mean, nar_median, nar_std]]), \n",
    "                             columns = ['Mean', 'Median', 'Standard Deviation'],\n",
    "                             index = ['plos one', 'journal of biological chemistry','pnas', 'neuralimage', 'nucleic acids research'])"
   ]
  },
  {
   "cell_type": "code",
   "execution_count": 68,
   "metadata": {
    "collapsed": false
   },
   "outputs": [
    {
     "data": {
      "text/html": [
       "<div>\n",
       "<style scoped>\n",
       "    .dataframe tbody tr th:only-of-type {\n",
       "        vertical-align: middle;\n",
       "    }\n",
       "\n",
       "    .dataframe tbody tr th {\n",
       "        vertical-align: top;\n",
       "    }\n",
       "\n",
       "    .dataframe thead th {\n",
       "        text-align: right;\n",
       "    }\n",
       "</style>\n",
       "<table border=\"1\" class=\"dataframe\">\n",
       "  <thead>\n",
       "    <tr style=\"text-align: right;\">\n",
       "      <th></th>\n",
       "      <th>Mean</th>\n",
       "      <th>Median</th>\n",
       "      <th>Standard Deviation</th>\n",
       "    </tr>\n",
       "  </thead>\n",
       "  <tbody>\n",
       "    <tr>\n",
       "      <th>plos one</th>\n",
       "      <td>1010.648116</td>\n",
       "      <td>899.340</td>\n",
       "      <td>352.534855</td>\n",
       "    </tr>\n",
       "    <tr>\n",
       "      <th>journal of biological chemistry</th>\n",
       "      <td>1428.166949</td>\n",
       "      <td>1287.750</td>\n",
       "      <td>440.153896</td>\n",
       "    </tr>\n",
       "    <tr>\n",
       "      <th>pnas</th>\n",
       "      <td>835.172059</td>\n",
       "      <td>728.825</td>\n",
       "      <td>435.344194</td>\n",
       "    </tr>\n",
       "    <tr>\n",
       "      <th>neuralimage</th>\n",
       "      <td>2212.011034</td>\n",
       "      <td>2326.430</td>\n",
       "      <td>263.328930</td>\n",
       "    </tr>\n",
       "    <tr>\n",
       "      <th>nucleic acids research</th>\n",
       "      <td>1162.344828</td>\n",
       "      <td>852.000</td>\n",
       "      <td>442.150934</td>\n",
       "    </tr>\n",
       "  </tbody>\n",
       "</table>\n",
       "</div>"
      ],
      "text/plain": [
       "                                        Mean    Median  Standard Deviation\n",
       "plos one                         1010.648116   899.340          352.534855\n",
       "journal of biological chemistry  1428.166949  1287.750          440.153896\n",
       "pnas                              835.172059   728.825          435.344194\n",
       "neuralimage                      2212.011034  2326.430          263.328930\n",
       "nucleic acids research           1162.344828   852.000          442.150934"
      ]
     },
     "execution_count": 68,
     "metadata": {},
     "output_type": "execute_result"
    }
   ],
   "source": [
    "top_five_stats"
   ]
  },
  {
   "cell_type": "markdown",
   "metadata": {
    "collapsed": true
   },
   "source": [
    "Here, we see the journal with the cheapest per article is from pnas, with a mean at ~£835.  The most expensive (and with the lowest standard deviation) is from neuralimage, with a mean of ~£2200.  "
   ]
  },
  {
   "cell_type": "markdown",
   "metadata": {
    "collapsed": true
   },
   "source": [
    "### Bonus Round: identify open access prices paid by subject area\n",
    "I've chosen to not do the bonus round for now.  Next time..."
   ]
  },
  {
   "cell_type": "code",
   "execution_count": null,
   "metadata": {
    "collapsed": true
   },
   "outputs": [],
   "source": []
  }
 ],
 "metadata": {
  "kernelspec": {
   "display_name": "Python [conda root]",
   "language": "python",
   "name": "conda-root-py"
  },
  "language_info": {
   "codemirror_mode": {
    "name": "ipython",
    "version": 3
   },
   "file_extension": ".py",
   "mimetype": "text/x-python",
   "name": "python",
   "nbconvert_exporter": "python",
   "pygments_lexer": "ipython3",
   "version": "3.5.2"
  }
 },
 "nbformat": 4,
 "nbformat_minor": 1
}
