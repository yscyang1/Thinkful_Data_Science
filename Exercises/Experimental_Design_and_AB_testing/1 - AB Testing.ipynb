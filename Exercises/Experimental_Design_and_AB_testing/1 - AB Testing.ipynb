{
 "cells": [
  {
   "cell_type": "markdown",
   "metadata": {},
   "source": [
    "For each of the following questions, outline how you could use an A/B test to find an answer. "
   ]
  },
  {
   "cell_type": "markdown",
   "metadata": {},
   "source": [
    "### 1 - Does a new supplement help people sleep better?"
   ]
  },
  {
   "cell_type": "markdown",
   "metadata": {},
   "source": [
    "#### Two versions\n",
    "The control would be the people who don't use the new supplement (or maybe stay on the old supplement), and the test version are the people with the new supplement."
   ]
  },
  {
   "cell_type": "markdown",
   "metadata": {},
   "source": [
    "#### A sample\n",
    "The groups should be a mix of men and women 18 and up.  Most health related studies limit to one race.  These samples should be split into two or three groups, depending on the controls stated above (no supplment and old supplment users), and those on the new supplement.  Possibly the participants should be instructed to sleep with as little light in the room as possible.  "
   ]
  },
  {
   "cell_type": "markdown",
   "metadata": {},
   "source": [
    "#### A hypothesis\n",
    "The company expects the new supplement to help people sleep better.  "
   ]
  },
  {
   "cell_type": "markdown",
   "metadata": {},
   "source": [
    "#### Outcome(s) of interest.\n",
    "This can be measured by hours slept."
   ]
  },
  {
   "cell_type": "markdown",
   "metadata": {},
   "source": [
    "#### Other measured variables.\n",
    "Secondary outcomes could include how quickly it took to fall asleep and/or how long the person was in deep sleep."
   ]
  },
  {
   "cell_type": "markdown",
   "metadata": {},
   "source": [
    "### 2 - Will new uniforms help a gym's business?"
   ]
  },
  {
   "cell_type": "markdown",
   "metadata": {},
   "source": [
    "#### Two versions\n",
    "One group has the old uniform and the other group has the new uniform.   "
   ]
  },
  {
   "cell_type": "markdown",
   "metadata": {},
   "source": [
    "####  A sample\n",
    "A subset of employees with the old uniform, and another subset with the new uniform.  The subgroups should be by gyms with well established membership numbers, where all employees in the gym will wear the same uniform. "
   ]
  },
  {
   "cell_type": "markdown",
   "metadata": {},
   "source": [
    "#### A hypothesis\n",
    "The gym with employees wearing the new uniform will see an increase in business."
   ]
  },
  {
   "cell_type": "markdown",
   "metadata": {},
   "source": [
    "#### Outcome(s) of interest\n",
    "Key metric would be if significantly more new members sign up for business.  "
   ]
  },
  {
   "cell_type": "markdown",
   "metadata": {},
   "source": [
    "#### Other measured variables\n",
    "Sub outcomes would include if more people stopped by to inquire about memberships, or if current members use the paid services more (ie spa, massage, bar).  \n",
    "\n",
    "Other variables would include location of gyms (urban, rural, or suburban).  Either restrict to one type of location or include a good mix of all three for both subgroups."
   ]
  },
  {
   "cell_type": "markdown",
   "metadata": {},
   "source": [
    "### 3 - Will a new homepage improve my online exotic pet rental business?"
   ]
  },
  {
   "cell_type": "markdown",
   "metadata": {},
   "source": [
    "#### Two versions\n",
    "One group has seen the old home page, the other group has seen the new home page"
   ]
  },
  {
   "cell_type": "markdown",
   "metadata": {},
   "source": [
    "#### A sample"
   ]
  },
  {
   "cell_type": "code",
   "execution_count": null,
   "metadata": {
    "collapsed": true
   },
   "outputs": [],
   "source": []
  },
  {
   "cell_type": "markdown",
   "metadata": {},
   "source": [
    "####  Hypothesis\n",
    "the people who visited the new home page will improve online business"
   ]
  },
  {
   "cell_type": "markdown",
   "metadata": {},
   "source": [
    "#### Outcome of interest\n",
    "The number of rentals (or hours?) will increase with the implementation of the new homepage"
   ]
  },
  {
   "cell_type": "markdown",
   "metadata": {},
   "source": [
    "#### Other measured variables\n",
    "Can also measure if there is an increase in clicks throughout website/time spent on website."
   ]
  },
  {
   "cell_type": "markdown",
   "metadata": {},
   "source": [
    "### 4 - If I put 'please read' in the email subject will more people read my emails?"
   ]
  },
  {
   "cell_type": "markdown",
   "metadata": {
    "collapsed": true
   },
   "source": [
    "#### Two versions\n",
    "the control version will not have 'please read' in the email subject line while the test version will.  "
   ]
  },
  {
   "cell_type": "markdown",
   "metadata": {},
   "source": [
    "####  A sample\n",
    "For all emails going out in a time period, a randomized sample will have the 'please read' in the subject line."
   ]
  },
  {
   "cell_type": "markdown",
   "metadata": {},
   "source": [
    "#### Hypothesis\n",
    "Putting 'please read' will have more people read emails"
   ]
  },
  {
   "cell_type": "markdown",
   "metadata": {},
   "source": [
    "#### Outcome of interest\n",
    "One outcome of interest would be if a higher percentage of people read the email.  A more useful metric would be if response rates increased."
   ]
  }
 ],
 "metadata": {
  "anaconda-cloud": {},
  "kernelspec": {
   "display_name": "Python [conda root]",
   "language": "python",
   "name": "conda-root-py"
  },
  "language_info": {
   "codemirror_mode": {
    "name": "ipython",
    "version": 3
   },
   "file_extension": ".py",
   "mimetype": "text/x-python",
   "name": "python",
   "nbconvert_exporter": "python",
   "pygments_lexer": "ipython3",
   "version": "3.5.2"
  }
 },
 "nbformat": 4,
 "nbformat_minor": 1
}
