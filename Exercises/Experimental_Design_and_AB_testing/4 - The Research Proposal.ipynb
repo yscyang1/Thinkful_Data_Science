{
 "cells": [
  {
   "cell_type": "markdown",
   "metadata": {},
   "source": [
    "### Look back to the potential experiments in the previous assignment. For one of those experiments, write up the essential points of a research proposal for an improved version of that experiment."
   ]
  },
  {
   "cell_type": "markdown",
   "metadata": {},
   "source": [
    "#### Chosen prompt: \n",
    "The Sith Lords are concerned that their recruiting slogan, \"Give In to Your Anger,\" isn't very effective. Darth Vader develops an alternative slogan, \"Together We Can Rule the Galaxy.\" They compare the slogans on two groups of 50 captured droids each. In one group, Emperor Palpatine delivers the \"Anger\" slogan. In the other, Darth Vader presents the \"Together\" slogan. 20 droids convert to the Dark Side after hearing Palpatine's slogan, while only 5 droids convert after hearing Vader's. The Sith's data scientist concludes that \"Anger\" is a more effective slogan and should continue to be used."
   ]
  },
  {
   "cell_type": "markdown",
   "metadata": {},
   "source": [
    "#### The problem\n",
    "Define the question/problem:  How to best increase recruitment rates to the Dark Side.  \n",
    "\n",
    "Why should the problem be studied:  The Jedis are gaining traction/supporters and generally being a pain in the butt for the Dark Side.  \n",
    "\n",
    "What do we already know about the problem:  The current recruiting slogan is \"Give into your anger\".  The Sith Lords are not sure it is effective."
   ]
  },
  {
   "cell_type": "markdown",
   "metadata": {},
   "source": [
    "#### The potential solution\n",
    "A potential new slogan can help raise recruitment rates.  Try \"Together we can rule the galaxy\".  "
   ]
  },
  {
   "cell_type": "markdown",
   "metadata": {},
   "source": [
    "#### The method of testing the solution\n",
    "Design the experiment:  Find drones from different planets that are friendly, neutral, and unfriendly to the Dark Side.  The drones should be split evenly (by planet friendliness) into 2 groups of 50 droids each.  In one group, the original slogan should be given to the droids whereas the second group should receive the new slogan.  Both slogans should be delivered by one person of leadership, such as Emperor Palpatine.\n",
    "\n",
    "The analysis plan:  In each group, calculate how many droids converted to the Dark Side.\n",
    "\n",
    "Set benchmarks:  First, gather recruitment rates from before the study (this should be the old slogan).  Compare this rate to the study group with the old slogan.  If the recruitment rates are similar, then compare the rates to the new slogan.  If the slogan has increased recruitment, we can conclude that the new slogan is better.  Else find a new solution or a new slogan.\n",
    "\n",
    "If the 2 recruitment rates from the old slogan don't match, there might be a problem with how we are finding droids."
   ]
  },
  {
   "cell_type": "code",
   "execution_count": null,
   "metadata": {
    "collapsed": true
   },
   "outputs": [],
   "source": []
  }
 ],
 "metadata": {
  "anaconda-cloud": {},
  "kernelspec": {
   "display_name": "Python [conda root]",
   "language": "python",
   "name": "conda-root-py"
  },
  "language_info": {
   "codemirror_mode": {
    "name": "ipython",
    "version": 3
   },
   "file_extension": ".py",
   "mimetype": "text/x-python",
   "name": "python",
   "nbconvert_exporter": "python",
   "pygments_lexer": "ipython3",
   "version": "3.5.2"
  }
 },
 "nbformat": 4,
 "nbformat_minor": 1
}
