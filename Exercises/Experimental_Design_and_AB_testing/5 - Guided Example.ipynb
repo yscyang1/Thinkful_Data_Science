{
 "cells": [
  {
   "cell_type": "code",
   "execution_count": 1,
   "metadata": {},
   "outputs": [],
   "source": [
    "import pandas as pd\n",
    "import numpy as np\n",
    "import seaborn as sns\n",
    "import matplotlib.pyplot as plt\n",
    "%matplotlib inline\n",
    "from scipy.stats import ttest_ind"
   ]
  },
  {
   "cell_type": "code",
   "execution_count": 2,
   "metadata": {},
   "outputs": [],
   "source": [
    "df = pd.read_csv('experiment_data_2_wks.txt', parse_dates=['treatment_date', 'signup_date'])"
   ]
  },
  {
   "cell_type": "code",
   "execution_count": 3,
   "metadata": {},
   "outputs": [
    {
     "data": {
      "text/html": [
       "<div>\n",
       "<style scoped>\n",
       "    .dataframe tbody tr th:only-of-type {\n",
       "        vertical-align: middle;\n",
       "    }\n",
       "\n",
       "    .dataframe tbody tr th {\n",
       "        vertical-align: top;\n",
       "    }\n",
       "\n",
       "    .dataframe thead th {\n",
       "        text-align: right;\n",
       "    }\n",
       "</style>\n",
       "<table border=\"1\" class=\"dataframe\">\n",
       "  <thead>\n",
       "    <tr style=\"text-align: right;\">\n",
       "      <th></th>\n",
       "      <th>treatment_date</th>\n",
       "      <th>test</th>\n",
       "      <th>is_signed_up</th>\n",
       "      <th>signup_date</th>\n",
       "    </tr>\n",
       "  </thead>\n",
       "  <tbody>\n",
       "    <tr>\n",
       "      <th>0</th>\n",
       "      <td>2016-04-01</td>\n",
       "      <td>0</td>\n",
       "      <td>0</td>\n",
       "      <td>NaT</td>\n",
       "    </tr>\n",
       "    <tr>\n",
       "      <th>1</th>\n",
       "      <td>2016-04-01</td>\n",
       "      <td>0</td>\n",
       "      <td>0</td>\n",
       "      <td>NaT</td>\n",
       "    </tr>\n",
       "    <tr>\n",
       "      <th>2</th>\n",
       "      <td>2016-04-01</td>\n",
       "      <td>0</td>\n",
       "      <td>0</td>\n",
       "      <td>NaT</td>\n",
       "    </tr>\n",
       "    <tr>\n",
       "      <th>3</th>\n",
       "      <td>2016-04-01</td>\n",
       "      <td>0</td>\n",
       "      <td>0</td>\n",
       "      <td>NaT</td>\n",
       "    </tr>\n",
       "    <tr>\n",
       "      <th>4</th>\n",
       "      <td>2016-04-01</td>\n",
       "      <td>0</td>\n",
       "      <td>0</td>\n",
       "      <td>NaT</td>\n",
       "    </tr>\n",
       "  </tbody>\n",
       "</table>\n",
       "</div>"
      ],
      "text/plain": [
       "  treatment_date  test  is_signed_up signup_date\n",
       "0     2016-04-01     0             0         NaT\n",
       "1     2016-04-01     0             0         NaT\n",
       "2     2016-04-01     0             0         NaT\n",
       "3     2016-04-01     0             0         NaT\n",
       "4     2016-04-01     0             0         NaT"
      ]
     },
     "execution_count": 3,
     "metadata": {},
     "output_type": "execute_result"
    }
   ],
   "source": [
    "df.head()"
   ]
  },
  {
   "cell_type": "markdown",
   "metadata": {},
   "source": [
    "treatment date:  the date of the email being sent  \n",
    "test:  if the email was in test or control group  \n",
    "is signed up:  if the user is signed up  \n",
    "signup date:  when the user signed up  "
   ]
  },
  {
   "cell_type": "markdown",
   "metadata": {},
   "source": [
    "#### How large is each group?\n",
    "By group I believe they mean test groups.  About 30k in the control group and 3.3k in the test group.  As expected, there are about 10% in the test group."
   ]
  },
  {
   "cell_type": "code",
   "execution_count": 4,
   "metadata": {},
   "outputs": [
    {
     "data": {
      "text/plain": [
       "0    30241\n",
       "1     3372\n",
       "Name: test, dtype: int64"
      ]
     },
     "execution_count": 4,
     "metadata": {},
     "output_type": "execute_result"
    }
   ],
   "source": [
    "df['test'].value_counts()"
   ]
  },
  {
   "cell_type": "code",
   "execution_count": 5,
   "metadata": {},
   "outputs": [
    {
     "data": {
      "text/plain": [
       "0.10031832921786214"
      ]
     },
     "execution_count": 5,
     "metadata": {},
     "output_type": "execute_result"
    }
   ],
   "source": [
    "df[df['test']==1].shape[0]/df.shape[0]"
   ]
  },
  {
   "cell_type": "markdown",
   "metadata": {},
   "source": [
    "#### What is the signup rate of test and control groups?"
   ]
  },
  {
   "cell_type": "code",
   "execution_count": 6,
   "metadata": {
    "collapsed": true
   },
   "outputs": [],
   "source": [
    "control_signedup = df[(df['test']==0) & (df['is_signed_up']==1)]\n",
    "test_signedup = df[(df['test']==1) & (df['is_signed_up']==1)]"
   ]
  },
  {
   "cell_type": "code",
   "execution_count": 7,
   "metadata": {},
   "outputs": [
    {
     "name": "stdout",
     "output_type": "stream",
     "text": [
      "Signup rate for control group: 14.708508316523924\n"
     ]
    }
   ],
   "source": [
    "print('Signup rate for control group: {}'.format(control_signedup.shape[0]/df[df['test']==0].shape[0]*100))"
   ]
  },
  {
   "cell_type": "code",
   "execution_count": 8,
   "metadata": {},
   "outputs": [
    {
     "name": "stdout",
     "output_type": "stream",
     "text": [
      "Signup rate for test group: 13.701067615658364\n"
     ]
    }
   ],
   "source": [
    "print('Signup rate for test group: {}'.format(test_signedup.shape[0]/df[df['test']==1].shape[0]*100))"
   ]
  },
  {
   "cell_type": "markdown",
   "metadata": {},
   "source": [
    "Note the signup rates for the test groups is actually lower than the control."
   ]
  },
  {
   "cell_type": "markdown",
   "metadata": {
    "collapsed": true
   },
   "source": [
    "#### Is the experiment already significant?\n",
    "To find out, perform a t-test and set p-value to 0.05.  The null hypothesis is that the new email campaign resulted in more people signing up for the service.  The alternative is that the email campaign made no difference in signup rates.  "
   ]
  },
  {
   "cell_type": "code",
   "execution_count": 9,
   "metadata": {},
   "outputs": [],
   "source": [
    "sample_control_signedup = np.random.choice(df[(df['test']==0)]['is_signed_up'], size = 500, replace = True)\n",
    "sample_test_signedup = np.random.choice(df[(df['test']==1)]['is_signed_up'], size = 500, replace = False)"
   ]
  },
  {
   "cell_type": "code",
   "execution_count": 10,
   "metadata": {},
   "outputs": [
    {
     "name": "stdout",
     "output_type": "stream",
     "text": [
      "Ttest_indResult(statistic=-0.37334364178372648, pvalue=0.70897203837167422)\n"
     ]
    }
   ],
   "source": [
    "print(ttest_ind(sample_control_signedup, sample_test_signedup, equal_var=False))"
   ]
  },
  {
   "cell_type": "markdown",
   "metadata": {},
   "source": [
    "The t-test has a value of 1.62, but the p-value is 0.11, greater than 0.05.  Thus, we reject the null hypothesis and there conclude that for the first 2 weeks, there is no difference between the control and test groups."
   ]
  },
  {
   "cell_type": "markdown",
   "metadata": {},
   "source": [
    "#### Why would the test signup rate be lower than the control signup rate?\n",
    "Look at secondary metric, the time between receiving the email to the signup date.  "
   ]
  },
  {
   "cell_type": "code",
   "execution_count": 11,
   "metadata": {
    "collapsed": true
   },
   "outputs": [],
   "source": [
    "def time_to_signup(cols):\n",
    "#     print(cols[0], cols[1])\n",
    "    return (cols[1] - cols[0]).days"
   ]
  },
  {
   "cell_type": "code",
   "execution_count": 12,
   "metadata": {},
   "outputs": [
    {
     "data": {
      "text/html": [
       "<div>\n",
       "<style scoped>\n",
       "    .dataframe tbody tr th:only-of-type {\n",
       "        vertical-align: middle;\n",
       "    }\n",
       "\n",
       "    .dataframe tbody tr th {\n",
       "        vertical-align: top;\n",
       "    }\n",
       "\n",
       "    .dataframe thead th {\n",
       "        text-align: right;\n",
       "    }\n",
       "</style>\n",
       "<table border=\"1\" class=\"dataframe\">\n",
       "  <thead>\n",
       "    <tr style=\"text-align: right;\">\n",
       "      <th></th>\n",
       "      <th>treatment_date</th>\n",
       "      <th>signup_date</th>\n",
       "    </tr>\n",
       "  </thead>\n",
       "  <tbody>\n",
       "    <tr>\n",
       "      <th>6</th>\n",
       "      <td>2016-04-01</td>\n",
       "      <td>2016-04-02</td>\n",
       "    </tr>\n",
       "    <tr>\n",
       "      <th>29</th>\n",
       "      <td>2016-04-01</td>\n",
       "      <td>2016-04-02</td>\n",
       "    </tr>\n",
       "    <tr>\n",
       "      <th>35</th>\n",
       "      <td>2016-04-01</td>\n",
       "      <td>2016-04-03</td>\n",
       "    </tr>\n",
       "    <tr>\n",
       "      <th>36</th>\n",
       "      <td>2016-04-01</td>\n",
       "      <td>2016-04-05</td>\n",
       "    </tr>\n",
       "    <tr>\n",
       "      <th>37</th>\n",
       "      <td>2016-04-01</td>\n",
       "      <td>2016-04-05</td>\n",
       "    </tr>\n",
       "  </tbody>\n",
       "</table>\n",
       "</div>"
      ],
      "text/plain": [
       "   treatment_date signup_date\n",
       "6      2016-04-01  2016-04-02\n",
       "29     2016-04-01  2016-04-02\n",
       "35     2016-04-01  2016-04-03\n",
       "36     2016-04-01  2016-04-05\n",
       "37     2016-04-01  2016-04-05"
      ]
     },
     "execution_count": 12,
     "metadata": {},
     "output_type": "execute_result"
    }
   ],
   "source": [
    "df[(df['is_signed_up']) & (df['signup_date'].notnull())][['treatment_date', 'signup_date']].head()"
   ]
  },
  {
   "cell_type": "code",
   "execution_count": 14,
   "metadata": {},
   "outputs": [],
   "source": [
    "df['time_elapsed'] = df[(df['is_signed_up']) & (df['signup_date'].notnull())][['treatment_date', 'signup_date']].apply(time_to_signup, axis = 1)"
   ]
  },
  {
   "cell_type": "code",
   "execution_count": 15,
   "metadata": {},
   "outputs": [
    {
     "name": "stdout",
     "output_type": "stream",
     "text": [
      "Average signup time for control group: 3.187275179856115\n",
      "Average signup time for test group: 4.283549783549783\n"
     ]
    }
   ],
   "source": [
    "print('Average signup time for control group: {}'.format(df[df['test']==0]['time_elapsed'].mean()))\n",
    "print('Average signup time for test group: {}'.format(df[df['test']==1]['time_elapsed'].mean()))"
   ]
  },
  {
   "cell_type": "markdown",
   "metadata": {},
   "source": [
    "Here we see that it takes on average a full day longer for the test group to sign up, with the control group averaging 3 days to sign up and the test group averaging 4 days.  \n",
    "\n",
    "Below is a distribution of when people signed up.  It shows a right skew distribution spanning the whole two weeks.  The control group peaked at 2 days whereas the test group peaked at 3 days."
   ]
  },
  {
   "cell_type": "code",
   "execution_count": 78,
   "metadata": {
    "collapsed": true
   },
   "outputs": [],
   "source": [
    "df['days_to_signup'] = (df['signup_date'] - df['treatment_date']).dt.days"
   ]
  },
  {
   "cell_type": "code",
   "execution_count": 80,
   "metadata": {},
   "outputs": [
    {
     "data": {
      "text/plain": [
       "<matplotlib.text.Text at 0x24d9b1de278>"
      ]
     },
     "execution_count": 80,
     "metadata": {},
     "output_type": "execute_result"
    },
    {
     "data": {
      "image/png": "[encoded data removed]",
      "text/plain": [
       "<matplotlib.figure.Figure at 0x24d9a14b710>"
      ]
     },
     "metadata": {},
     "output_type": "display_data"
    }
   ],
   "source": [
    "sns.countplot(x = 'days_to_signup', hue = 'test', data = df)\n",
    "plt.xticks(rotation = 90)\n",
    "plt.title('Distribution of How Long it Took to Signup First Two Weeks')\n",
    "plt.xlabel('Days to Signup')\n",
    "plt.ylabel('Count')"
   ]
  },
  {
   "cell_type": "markdown",
   "metadata": {},
   "source": [
    "#### Get final dataset\n",
    "Answer same questions as above."
   ]
  },
  {
   "cell_type": "code",
   "execution_count": 16,
   "metadata": {
    "collapsed": true
   },
   "outputs": [],
   "source": [
    "final = pd.read_csv('experiment_data_final.txt', parse_dates=['treatment_date', 'signup_date'])"
   ]
  },
  {
   "cell_type": "markdown",
   "metadata": {},
   "source": [
    "#### How large is each group?\n",
    "There are ~47k in the control group and ~20k in the test group.  Test group now accounts for 30% of campaign emails sent.  But we wanted 50%..."
   ]
  },
  {
   "cell_type": "code",
   "execution_count": 17,
   "metadata": {},
   "outputs": [
    {
     "data": {
      "text/plain": [
       "0    46867\n",
       "1    19861\n",
       "Name: test, dtype: int64"
      ]
     },
     "execution_count": 17,
     "metadata": {},
     "output_type": "execute_result"
    }
   ],
   "source": [
    "final['test'].value_counts()"
   ]
  },
  {
   "cell_type": "code",
   "execution_count": 18,
   "metadata": {},
   "outputs": [
    {
     "data": {
      "text/plain": [
       "29.76411701234864"
      ]
     },
     "execution_count": 18,
     "metadata": {},
     "output_type": "execute_result"
    }
   ],
   "source": [
    "final[final['test']==1].shape[0]/len(final)*100"
   ]
  },
  {
   "cell_type": "markdown",
   "metadata": {},
   "source": [
    "#### What is the signup rate of test and control groups?"
   ]
  },
  {
   "cell_type": "code",
   "execution_count": 19,
   "metadata": {},
   "outputs": [
    {
     "name": "stdout",
     "output_type": "stream",
     "text": [
      "Signup rate for control group: 19.937269293959503\n"
     ]
    }
   ],
   "source": [
    "print('Signup rate for control group: {}'.format(final[(final['test']==0) & (final['is_signed_up']==1)]\n",
    ".shape[0]/final[final['test']==0].shape[0]*100))"
   ]
  },
  {
   "cell_type": "code",
   "execution_count": 20,
   "metadata": {},
   "outputs": [
    {
     "name": "stdout",
     "output_type": "stream",
     "text": [
      "Signup rate for test group: 24.21328231206888\n"
     ]
    }
   ],
   "source": [
    "print('Signup rate for test group: {}'.format(final[(final['test']==1) & (final['is_signed_up']==1)]\n",
    ".shape[0]/final[final['test']==1].shape[0]*100))"
   ]
  },
  {
   "cell_type": "markdown",
   "metadata": {},
   "source": [
    "#### Is the experiment already significant?\n",
    "The null hypothesis is the same as above, that the new email campaign increased the rate of signups.  Here, we see that the p value is below 0.05, so we can accept the null hypothesis and that the new email campaign increase signups.  "
   ]
  },
  {
   "cell_type": "code",
   "execution_count": 21,
   "metadata": {
    "collapsed": true
   },
   "outputs": [],
   "source": [
    "sample_control_signedup = np.random.choice(final[(final['test']==0)]['is_signed_up'], size = 1000, replace = True)\n",
    "sample_test_signedup = np.random.choice(final[(final['test']==1)]['is_signed_up'], size = 1000, replace = False)"
   ]
  },
  {
   "cell_type": "code",
   "execution_count": 22,
   "metadata": {},
   "outputs": [
    {
     "name": "stdout",
     "output_type": "stream",
     "text": [
      "Ttest_indResult(statistic=-0.70089365064004527, pvalue=0.48345103914405185)\n"
     ]
    }
   ],
   "source": [
    "print(ttest_ind(sample_control_signedup, sample_test_signedup, equal_var=False))"
   ]
  },
  {
   "cell_type": "markdown",
   "metadata": {},
   "source": [
    "#### Create a visualization to tell the story of the effect of the new email\n",
    "First, I'd like to look at the time elapsed when the person first receives the email and signs up.  This time, the elapsed time is 4 days for the control group and 6 days for the test group."
   ]
  },
  {
   "cell_type": "code",
   "execution_count": 72,
   "metadata": {
    "collapsed": true
   },
   "outputs": [],
   "source": [
    "final['time_elapsed'] = final[(final['is_signed_up']) & (final['signup_date'].notnull())][['treatment_date', 'signup_date']].apply(time_to_signup, axis = 1)"
   ]
  },
  {
   "cell_type": "code",
   "execution_count": 73,
   "metadata": {},
   "outputs": [
    {
     "name": "stdout",
     "output_type": "stream",
     "text": [
      "Average signup time for control group: 4.008775684931507\n",
      "Average signup time for test group: 6.043876065710127\n"
     ]
    }
   ],
   "source": [
    "print('Average signup time for control group: {}'.format(final[final['test']==0]['time_elapsed'].mean()))\n",
    "print('Average signup time for test group: {}'.format(final[final['test']==1]['time_elapsed'].mean()))"
   ]
  },
  {
   "cell_type": "markdown",
   "metadata": {},
   "source": [
    "Below is a distribution for how long it took users to sign up.  The plot is similar to the two weeks version, with a heavy right skew and peaks at 2 and 3 days for control and test groups respectively.  But the tail extends for the duration of the testing period (38 day instead of 13), increasing the average by 2-3 days.  **Overall it seems that the new email campaign works, just the signup rate is slower than expected.**   "
   ]
  },
  {
   "cell_type": "code",
   "execution_count": 74,
   "metadata": {
    "collapsed": true
   },
   "outputs": [],
   "source": [
    "final['days_to_signup'] = (final['signup_date'] - final['treatment_date']).dt.days"
   ]
  },
  {
   "cell_type": "code",
   "execution_count": 81,
   "metadata": {},
   "outputs": [
    {
     "data": {
      "text/plain": [
       "<matplotlib.text.Text at 0x24d9b30b978>"
      ]
     },
     "execution_count": 81,
     "metadata": {},
     "output_type": "execute_result"
    },
    {
     "data": {
      "image/png": "[encoded data removed]",
      "text/plain": [
       "<matplotlib.figure.Figure at 0x24d9b20be48>"
      ]
     },
     "metadata": {},
     "output_type": "display_data"
    }
   ],
   "source": [
    "sns.countplot(x = 'days_to_signup', hue = 'test', data = final)\n",
    "plt.xticks(rotation = 90)\n",
    "plt.title('Distribution of How Long it Took to Signup First Four Weeks')\n",
    "plt.xlabel('Days to Signup')\n",
    "plt.ylabel('Count')"
   ]
  }
 ],
 "metadata": {
  "kernelspec": {
   "display_name": "Python [conda root]",
   "language": "python",
   "name": "conda-root-py"
  },
  "language_info": {
   "codemirror_mode": {
    "name": "ipython",
    "version": 3
   },
   "file_extension": ".py",
   "mimetype": "text/x-python",
   "name": "python",
   "nbconvert_exporter": "python",
   "pygments_lexer": "ipython3",
   "version": "3.5.2"
  }
 },
 "nbformat": 4,
 "nbformat_minor": 1
}
