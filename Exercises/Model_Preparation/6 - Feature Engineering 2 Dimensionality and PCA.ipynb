{
 "cells": [
  {
   "cell_type": "code",
   "execution_count": 1,
   "metadata": {},
   "outputs": [
    {
     "name": "stderr",
     "output_type": "stream",
     "text": [
      "C:\\Users\\Crystal\\AppData\\Local\\Continuum\\Anaconda3\\lib\\site-packages\\sklearn\\utils\\fixes.py:313: FutureWarning: numpy not_equal will not check object identity in the future. The comparison did not return the same result as suggested by the identity (`is`)) and will change.\n",
      "  _nan_object_mask = _nan_object_array != _nan_object_array\n"
     ]
    }
   ],
   "source": [
    "import pandas as pd\n",
    "import numpy as np\n",
    "import seaborn as sns\n",
    "import matplotlib.pyplot as plt\n",
    "%matplotlib inline\n",
    "\n",
    "from sklearn.decomposition import PCA\n",
    "from sklearn.preprocessing import StandardScaler\n"
   ]
  },
  {
   "cell_type": "code",
   "execution_count": 2,
   "metadata": {},
   "outputs": [],
   "source": [
    "df = pd.read_csv('useducation-Cleaned2.csv')"
   ]
  },
  {
   "cell_type": "markdown",
   "metadata": {},
   "source": [
    "### 1) Create a new score variable from the weighted averages of all score variables in the datasets. Notice that the number of students in the 4th grade isn't the same as the number of students in the 8th grade. So, you should appropriately weigh the scores!."
   ]
  },
  {
   "cell_type": "code",
   "execution_count": 3,
   "metadata": {},
   "outputs": [],
   "source": [
    "grade_cols = ['AVG_MATH_4_SCORE', 'AVG_MATH_8_SCORE', 'AVG_READING_4_SCORE', 'AVG_READING_8_SCORE']"
   ]
  },
  {
   "cell_type": "code",
   "execution_count": 4,
   "metadata": {},
   "outputs": [
    {
     "data": {
      "text/plain": [
       "Index(['PRIMARY_KEY', 'STATE', 'YEAR', 'TOTAL_REVENUE', 'FEDERAL_REVENUE',\n",
       "       'STATE_REVENUE', 'LOCAL_REVENUE', 'TOTAL_EXPENDITURE',\n",
       "       'INSTRUCTION_EXPENDITURE', 'SUPPORT_SERVICES_EXPENDITURE',\n",
       "       'OTHER_EXPENDITURE', 'CAPITAL_OUTLAY_EXPENDITURE', 'GRADES_PK_G',\n",
       "       'GRADES_KG_G', 'GRADES_4_G', 'GRADES_8_G', 'GRADES_12_G',\n",
       "       'GRADES_1_8_G', 'GRADES_9_12_G', 'GRADES_ALL_G', 'AVG_MATH_4_SCORE',\n",
       "       'AVG_MATH_8_SCORE', 'AVG_READING_4_SCORE', 'AVG_READING_8_SCORE'],\n",
       "      dtype='object')"
      ]
     },
     "execution_count": 4,
     "metadata": {},
     "output_type": "execute_result"
    }
   ],
   "source": [
    "df.columns"
   ]
  },
  {
   "cell_type": "code",
   "execution_count": 5,
   "metadata": {},
   "outputs": [
    {
     "data": {
      "text/html": [
       "<div>\n",
       "<style scoped>\n",
       "    .dataframe tbody tr th:only-of-type {\n",
       "        vertical-align: middle;\n",
       "    }\n",
       "\n",
       "    .dataframe tbody tr th {\n",
       "        vertical-align: top;\n",
       "    }\n",
       "\n",
       "    .dataframe thead th {\n",
       "        text-align: right;\n",
       "    }\n",
       "</style>\n",
       "<table border=\"1\" class=\"dataframe\">\n",
       "  <thead>\n",
       "    <tr style=\"text-align: right;\">\n",
       "      <th></th>\n",
       "      <th>AVG_MATH_4_SCORE</th>\n",
       "      <th>AVG_MATH_8_SCORE</th>\n",
       "      <th>AVG_READING_4_SCORE</th>\n",
       "      <th>AVG_READING_8_SCORE</th>\n",
       "    </tr>\n",
       "  </thead>\n",
       "  <tbody>\n",
       "    <tr>\n",
       "      <th>0</th>\n",
       "      <td>208.327876</td>\n",
       "      <td>252.187522</td>\n",
       "      <td>207.963517</td>\n",
       "      <td>260.276441</td>\n",
       "    </tr>\n",
       "    <tr>\n",
       "      <th>1</th>\n",
       "      <td>223.833455</td>\n",
       "      <td>277.643071</td>\n",
       "      <td>211.547154</td>\n",
       "      <td>258.859712</td>\n",
       "    </tr>\n",
       "    <tr>\n",
       "      <th>2</th>\n",
       "      <td>215.253932</td>\n",
       "      <td>265.366278</td>\n",
       "      <td>206.212716</td>\n",
       "      <td>262.169895</td>\n",
       "    </tr>\n",
       "    <tr>\n",
       "      <th>3</th>\n",
       "      <td>210.206028</td>\n",
       "      <td>256.312090</td>\n",
       "      <td>208.634458</td>\n",
       "      <td>264.619665</td>\n",
       "    </tr>\n",
       "    <tr>\n",
       "      <th>4</th>\n",
       "      <td>208.398961</td>\n",
       "      <td>260.892247</td>\n",
       "      <td>196.764414</td>\n",
       "      <td>269.197451</td>\n",
       "    </tr>\n",
       "  </tbody>\n",
       "</table>\n",
       "</div>"
      ],
      "text/plain": [
       "   AVG_MATH_4_SCORE  AVG_MATH_8_SCORE  AVG_READING_4_SCORE  \\\n",
       "0        208.327876        252.187522           207.963517   \n",
       "1        223.833455        277.643071           211.547154   \n",
       "2        215.253932        265.366278           206.212716   \n",
       "3        210.206028        256.312090           208.634458   \n",
       "4        208.398961        260.892247           196.764414   \n",
       "\n",
       "   AVG_READING_8_SCORE  \n",
       "0           260.276441  \n",
       "1           258.859712  \n",
       "2           262.169895  \n",
       "3           264.619665  \n",
       "4           269.197451  "
      ]
     },
     "execution_count": 5,
     "metadata": {},
     "output_type": "execute_result"
    }
   ],
   "source": [
    "df.head()[grade_cols]"
   ]
  },
  {
   "cell_type": "code",
   "execution_count": 6,
   "metadata": {},
   "outputs": [],
   "source": [
    "def get_wt_avg(row):\n",
    "    four = row['GRADES_4_G'] * (row['AVG_MATH_4_SCORE'] + row['AVG_READING_4_SCORE'])/2\n",
    "    eight = row['GRADES_8_G'] * (row['AVG_MATH_8_SCORE'] + row['AVG_READING_8_SCORE'])/2\n",
    "    wt_avg = (four + eight)/(row['GRADES_4_G'] + row['GRADES_8_G'])\n",
    "    return wt_avg"
   ]
  },
  {
   "cell_type": "code",
   "execution_count": 7,
   "metadata": {},
   "outputs": [],
   "source": [
    "df['wt_avg'] = df.apply(lambda row: get_wt_avg(row) , axis = 1)"
   ]
  },
  {
   "cell_type": "markdown",
   "metadata": {},
   "source": [
    "### 2) What are the correlations between this newly created score variable and the expenditure types? Which 1 of the expenditure types is more correlated than the others?"
   ]
  },
  {
   "cell_type": "markdown",
   "metadata": {},
   "source": [
    "The expenditure with the highest correlation to the weighted scores is Support Services Expenditure, although instruction expenditure similarly correlated. "
   ]
  },
  {
   "cell_type": "code",
   "execution_count": 67,
   "metadata": {},
   "outputs": [
    {
     "data": {
      "text/html": [
       "<div>\n",
       "<style scoped>\n",
       "    .dataframe tbody tr th:only-of-type {\n",
       "        vertical-align: middle;\n",
       "    }\n",
       "\n",
       "    .dataframe tbody tr th {\n",
       "        vertical-align: top;\n",
       "    }\n",
       "\n",
       "    .dataframe thead th {\n",
       "        text-align: right;\n",
       "    }\n",
       "</style>\n",
       "<table border=\"1\" class=\"dataframe\">\n",
       "  <thead>\n",
       "    <tr style=\"text-align: right;\">\n",
       "      <th></th>\n",
       "      <th>TOTAL_EXPENDITURE</th>\n",
       "      <th>INSTRUCTION_EXPENDITURE</th>\n",
       "      <th>SUPPORT_SERVICES_EXPENDITURE</th>\n",
       "      <th>OTHER_EXPENDITURE</th>\n",
       "      <th>CAPITAL_OUTLAY_EXPENDITURE</th>\n",
       "      <th>wt_avg</th>\n",
       "    </tr>\n",
       "  </thead>\n",
       "  <tbody>\n",
       "    <tr>\n",
       "      <th>TOTAL_EXPENDITURE</th>\n",
       "      <td>1.000000</td>\n",
       "      <td>0.991256</td>\n",
       "      <td>0.993101</td>\n",
       "      <td>0.939809</td>\n",
       "      <td>0.930754</td>\n",
       "      <td>0.119924</td>\n",
       "    </tr>\n",
       "    <tr>\n",
       "      <th>INSTRUCTION_EXPENDITURE</th>\n",
       "      <td>0.991256</td>\n",
       "      <td>1.000000</td>\n",
       "      <td>0.976215</td>\n",
       "      <td>0.902637</td>\n",
       "      <td>0.894034</td>\n",
       "      <td>0.126793</td>\n",
       "    </tr>\n",
       "    <tr>\n",
       "      <th>SUPPORT_SERVICES_EXPENDITURE</th>\n",
       "      <td>0.993101</td>\n",
       "      <td>0.976215</td>\n",
       "      <td>1.000000</td>\n",
       "      <td>0.947094</td>\n",
       "      <td>0.915849</td>\n",
       "      <td>0.127076</td>\n",
       "    </tr>\n",
       "    <tr>\n",
       "      <th>OTHER_EXPENDITURE</th>\n",
       "      <td>0.939809</td>\n",
       "      <td>0.902637</td>\n",
       "      <td>0.947094</td>\n",
       "      <td>1.000000</td>\n",
       "      <td>0.916466</td>\n",
       "      <td>0.076439</td>\n",
       "    </tr>\n",
       "    <tr>\n",
       "      <th>CAPITAL_OUTLAY_EXPENDITURE</th>\n",
       "      <td>0.930754</td>\n",
       "      <td>0.894034</td>\n",
       "      <td>0.915849</td>\n",
       "      <td>0.916466</td>\n",
       "      <td>1.000000</td>\n",
       "      <td>0.051503</td>\n",
       "    </tr>\n",
       "    <tr>\n",
       "      <th>wt_avg</th>\n",
       "      <td>0.119924</td>\n",
       "      <td>0.126793</td>\n",
       "      <td>0.127076</td>\n",
       "      <td>0.076439</td>\n",
       "      <td>0.051503</td>\n",
       "      <td>1.000000</td>\n",
       "    </tr>\n",
       "  </tbody>\n",
       "</table>\n",
       "</div>"
      ],
      "text/plain": [
       "                              TOTAL_EXPENDITURE  INSTRUCTION_EXPENDITURE  \\\n",
       "TOTAL_EXPENDITURE                      1.000000                 0.991256   \n",
       "INSTRUCTION_EXPENDITURE                0.991256                 1.000000   \n",
       "SUPPORT_SERVICES_EXPENDITURE           0.993101                 0.976215   \n",
       "OTHER_EXPENDITURE                      0.939809                 0.902637   \n",
       "CAPITAL_OUTLAY_EXPENDITURE             0.930754                 0.894034   \n",
       "wt_avg                                 0.119924                 0.126793   \n",
       "\n",
       "                              SUPPORT_SERVICES_EXPENDITURE  OTHER_EXPENDITURE  \\\n",
       "TOTAL_EXPENDITURE                                 0.993101           0.939809   \n",
       "INSTRUCTION_EXPENDITURE                           0.976215           0.902637   \n",
       "SUPPORT_SERVICES_EXPENDITURE                      1.000000           0.947094   \n",
       "OTHER_EXPENDITURE                                 0.947094           1.000000   \n",
       "CAPITAL_OUTLAY_EXPENDITURE                        0.915849           0.916466   \n",
       "wt_avg                                            0.127076           0.076439   \n",
       "\n",
       "                              CAPITAL_OUTLAY_EXPENDITURE    wt_avg  \n",
       "TOTAL_EXPENDITURE                               0.930754  0.119924  \n",
       "INSTRUCTION_EXPENDITURE                         0.894034  0.126793  \n",
       "SUPPORT_SERVICES_EXPENDITURE                    0.915849  0.127076  \n",
       "OTHER_EXPENDITURE                               0.916466  0.076439  \n",
       "CAPITAL_OUTLAY_EXPENDITURE                      1.000000  0.051503  \n",
       "wt_avg                                          0.051503  1.000000  "
      ]
     },
     "execution_count": 67,
     "metadata": {},
     "output_type": "execute_result"
    }
   ],
   "source": [
    "df[['TOTAL_EXPENDITURE', 'INSTRUCTION_EXPENDITURE', 'SUPPORT_SERVICES_EXPENDITURE', 'OTHER_EXPENDITURE', 'CAPITAL_OUTLAY_EXPENDITURE', 'wt_avg']].corr()"
   ]
  },
  {
   "cell_type": "markdown",
   "metadata": {},
   "source": [
    "### 3) Now, apply PCA to the 4 expenditure types. How much of the total variance is explained by the 1st component?"
   ]
  },
  {
   "cell_type": "code",
   "execution_count": 43,
   "metadata": {},
   "outputs": [],
   "source": [
    "finance_df = df[['TOTAL_EXPENDITURE', 'INSTRUCTION_EXPENDITURE', 'SUPPORT_SERVICES_EXPENDITURE', 'OTHER_EXPENDITURE', 'wt_avg']].dropna(axis = 0)"
   ]
  },
  {
   "cell_type": "code",
   "execution_count": 56,
   "metadata": {},
   "outputs": [],
   "source": [
    "X = StandardScaler().fit_transform(finance_df.drop('wt_avg', axis = 1))\n",
    "sklearn_pca = PCA(n_components=1)\n",
    "Y_sklearn = sklearn_pca.fit_transform(X)"
   ]
  },
  {
   "cell_type": "code",
   "execution_count": 57,
   "metadata": {},
   "outputs": [
    {
     "name": "stdout",
     "output_type": "stream",
     "text": [
      "The total variance explained by the 1st component is 96.89521365307421\n"
     ]
    }
   ],
   "source": [
    "print('The total variance explained by the 1st component is {}'.format(sklearn_pca.explained_variance_ratio_[0]*100))"
   ]
  },
  {
   "cell_type": "markdown",
   "metadata": {},
   "source": [
    "### 4) What is the correlation between the overall score variable and the 1st principal component?"
   ]
  },
  {
   "cell_type": "code",
   "execution_count": 59,
   "metadata": {},
   "outputs": [],
   "source": [
    "finance_df['pca1'] = Y_sklearn"
   ]
  },
  {
   "cell_type": "code",
   "execution_count": 68,
   "metadata": {},
   "outputs": [
    {
     "data": {
      "text/html": [
       "<div>\n",
       "<style scoped>\n",
       "    .dataframe tbody tr th:only-of-type {\n",
       "        vertical-align: middle;\n",
       "    }\n",
       "\n",
       "    .dataframe tbody tr th {\n",
       "        vertical-align: top;\n",
       "    }\n",
       "\n",
       "    .dataframe thead th {\n",
       "        text-align: right;\n",
       "    }\n",
       "</style>\n",
       "<table border=\"1\" class=\"dataframe\">\n",
       "  <thead>\n",
       "    <tr style=\"text-align: right;\">\n",
       "      <th></th>\n",
       "      <th>TOTAL_EXPENDITURE</th>\n",
       "      <th>INSTRUCTION_EXPENDITURE</th>\n",
       "      <th>SUPPORT_SERVICES_EXPENDITURE</th>\n",
       "      <th>OTHER_EXPENDITURE</th>\n",
       "      <th>wt_avg</th>\n",
       "      <th>pca1</th>\n",
       "    </tr>\n",
       "  </thead>\n",
       "  <tbody>\n",
       "    <tr>\n",
       "      <th>TOTAL_EXPENDITURE</th>\n",
       "      <td>1.000000</td>\n",
       "      <td>0.991256</td>\n",
       "      <td>0.993101</td>\n",
       "      <td>0.939809</td>\n",
       "      <td>0.119924</td>\n",
       "      <td>0.996865</td>\n",
       "    </tr>\n",
       "    <tr>\n",
       "      <th>INSTRUCTION_EXPENDITURE</th>\n",
       "      <td>0.991256</td>\n",
       "      <td>1.000000</td>\n",
       "      <td>0.976215</td>\n",
       "      <td>0.902637</td>\n",
       "      <td>0.126793</td>\n",
       "      <td>0.983274</td>\n",
       "    </tr>\n",
       "    <tr>\n",
       "      <th>SUPPORT_SERVICES_EXPENDITURE</th>\n",
       "      <td>0.993101</td>\n",
       "      <td>0.976215</td>\n",
       "      <td>1.000000</td>\n",
       "      <td>0.947094</td>\n",
       "      <td>0.127076</td>\n",
       "      <td>0.994854</td>\n",
       "    </tr>\n",
       "    <tr>\n",
       "      <th>OTHER_EXPENDITURE</th>\n",
       "      <td>0.939809</td>\n",
       "      <td>0.902637</td>\n",
       "      <td>0.947094</td>\n",
       "      <td>1.000000</td>\n",
       "      <td>0.076439</td>\n",
       "      <td>0.962033</td>\n",
       "    </tr>\n",
       "    <tr>\n",
       "      <th>wt_avg</th>\n",
       "      <td>0.119924</td>\n",
       "      <td>0.126793</td>\n",
       "      <td>0.127076</td>\n",
       "      <td>0.076439</td>\n",
       "      <td>1.000000</td>\n",
       "      <td>0.114603</td>\n",
       "    </tr>\n",
       "    <tr>\n",
       "      <th>pca1</th>\n",
       "      <td>0.996865</td>\n",
       "      <td>0.983274</td>\n",
       "      <td>0.994854</td>\n",
       "      <td>0.962033</td>\n",
       "      <td>0.114603</td>\n",
       "      <td>1.000000</td>\n",
       "    </tr>\n",
       "  </tbody>\n",
       "</table>\n",
       "</div>"
      ],
      "text/plain": [
       "                              TOTAL_EXPENDITURE  INSTRUCTION_EXPENDITURE  \\\n",
       "TOTAL_EXPENDITURE                      1.000000                 0.991256   \n",
       "INSTRUCTION_EXPENDITURE                0.991256                 1.000000   \n",
       "SUPPORT_SERVICES_EXPENDITURE           0.993101                 0.976215   \n",
       "OTHER_EXPENDITURE                      0.939809                 0.902637   \n",
       "wt_avg                                 0.119924                 0.126793   \n",
       "pca1                                   0.996865                 0.983274   \n",
       "\n",
       "                              SUPPORT_SERVICES_EXPENDITURE  OTHER_EXPENDITURE  \\\n",
       "TOTAL_EXPENDITURE                                 0.993101           0.939809   \n",
       "INSTRUCTION_EXPENDITURE                           0.976215           0.902637   \n",
       "SUPPORT_SERVICES_EXPENDITURE                      1.000000           0.947094   \n",
       "OTHER_EXPENDITURE                                 0.947094           1.000000   \n",
       "wt_avg                                            0.127076           0.076439   \n",
       "pca1                                              0.994854           0.962033   \n",
       "\n",
       "                                wt_avg      pca1  \n",
       "TOTAL_EXPENDITURE             0.119924  0.996865  \n",
       "INSTRUCTION_EXPENDITURE       0.126793  0.983274  \n",
       "SUPPORT_SERVICES_EXPENDITURE  0.127076  0.994854  \n",
       "OTHER_EXPENDITURE             0.076439  0.962033  \n",
       "wt_avg                        1.000000  0.114603  \n",
       "pca1                          0.114603  1.000000  "
      ]
     },
     "execution_count": 68,
     "metadata": {},
     "output_type": "execute_result"
    }
   ],
   "source": [
    "finance_df.corr()"
   ]
  },
  {
   "cell_type": "markdown",
   "metadata": {},
   "source": [
    "The correlation is 0.114603."
   ]
  },
  {
   "cell_type": "markdown",
   "metadata": {},
   "source": [
    "### 5)  If you were to choose the best variables for your model, would you prefer using the 1st principal component instead of the expenditure variables? Why?"
   ]
  },
  {
   "cell_type": "markdown",
   "metadata": {},
   "source": [
    "Correlations between each of the expenditure variables are highly correlated with each other (> 0.8).  This can create problems if using PCA.  In addition, the correlation between support services expenditure and 1st principal component are 0.127076 and 0.114603 respectively.  The correlation for the expenditure variable is higher.  These two combined points to the expenditure variables being the better choice."
   ]
  },
  {
   "cell_type": "code",
   "execution_count": null,
   "metadata": {},
   "outputs": [],
   "source": []
  }
 ],
 "metadata": {
  "anaconda-cloud": {},
  "kernelspec": {
   "display_name": "Python [conda root]",
   "language": "python",
   "name": "conda-root-py"
  },
  "language_info": {
   "codemirror_mode": {
    "name": "ipython",
    "version": 3
   },
   "file_extension": ".py",
   "mimetype": "text/x-python",
   "name": "python",
   "nbconvert_exporter": "python",
   "pygments_lexer": "ipython3",
   "version": "3.5.2"
  }
 },
 "nbformat": 4,
 "nbformat_minor": 1
}
