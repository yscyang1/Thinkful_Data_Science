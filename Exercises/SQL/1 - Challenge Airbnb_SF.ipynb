{
 "cells": [
  {
   "cell_type": "markdown",
   "metadata": {},
   "source": [
    "### Question 1\n",
    "What's the most expensive listing? What else can you tell me about the listing?"
   ]
  },
  {
   "cell_type": "markdown",
   "metadata": {},
   "source": [
    "#### Q1 Answer:\n",
    "SELECT *  \n",
    "FROM sfo_listings  \n",
    "ORDER BY price DESC  \n",
    "LIMIT 25  "
   ]
  },
  {
   "cell_type": "markdown",
   "metadata": {},
   "source": [
    "The most expensive listing is a whole Victorian house rented out for $10,000/night with a 2 night minimum.  As ridiculous as this price is, there are 3 reviews so there are people who have actually rented this place out.  "
   ]
  },
  {
   "cell_type": "markdown",
   "metadata": {},
   "source": [
    "### Question 2\n",
    "What neighborhoods seem to be the most popular?"
   ]
  },
  {
   "cell_type": "markdown",
   "metadata": {},
   "source": [
    "#### Q2 Answer:\n",
    "SELECT neighbourhood, COUNT(*) as neigh_count FROM sfo_listings  \n",
    "GROUP BY neighbourhood  \n",
    "ORDER BY neigh_count DESC  "
   ]
  },
  {
   "cell_type": "markdown",
   "metadata": {},
   "source": [
    "Most popular neighborhoods are mission, western addition, and south of market.  "
   ]
  },
  {
   "cell_type": "markdown",
   "metadata": {},
   "source": [
    "### Question 3\n",
    "What time of year is the cheapest time to go to San Francisco? What about the busiest?"
   ]
  },
  {
   "cell_type": "markdown",
   "metadata": {},
   "source": [
    "#### Q3 Answer:\n",
    "WITH time_year  \n",
    "AS (  \n",
    "SELECT   \n",
    "\tlisting_id,  \n",
    "\tcalender_date  \n",
    "FROM sfo_calendar_abbreviated  \n",
    "GROUP BY listing_id, calender_date  \n",
    ")  \n",
    "\n",
    "SELECT  \n",
    "\ttime_year.listing_id,  \n",
    "\ttime_year.calender_date,  \n",
    "\tsfo_listings_abbreviated.price  \n",
    "FROM time_year    \n",
    "JOIN sfo_listings_abbreviated  \n",
    "ON time_year.listing_id = sfo_listings_abbreviated.id  \n",
    "ORDER BY price DESC  "
   ]
  },
  {
   "cell_type": "markdown",
   "metadata": {},
   "source": [
    "Most expensive prices around sept - nov, cheapest around june"
   ]
  },
  {
   "cell_type": "code",
   "execution_count": null,
   "metadata": {},
   "outputs": [],
   "source": []
  }
 ],
 "metadata": {
  "kernelspec": {
   "display_name": "Python 3",
   "language": "python",
   "name": "python3"
  },
  "language_info": {
   "codemirror_mode": {
    "name": "ipython",
    "version": 3
   },
   "file_extension": ".py",
   "mimetype": "text/x-python",
   "name": "python",
   "nbconvert_exporter": "python",
   "pygments_lexer": "ipython3",
   "version": "3.7.3"
  }
 },
 "nbformat": 4,
 "nbformat_minor": 2
}
