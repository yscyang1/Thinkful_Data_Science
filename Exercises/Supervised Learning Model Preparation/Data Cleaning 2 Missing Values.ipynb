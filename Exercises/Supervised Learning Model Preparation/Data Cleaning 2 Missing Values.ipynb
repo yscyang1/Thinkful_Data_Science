{
 "cells": [
  {
   "cell_type": "markdown",
   "metadata": {},
   "source": [
    "https://www.kaggle.com/noriuk/us-education-datasets-unification-project/home\n",
    "\n",
    "**Identification**  \n",
    "\n",
    "| Variable | Description   |\n",
    "|------|------|\n",
    "|   Primary key  | combination of year and state name|\n",
    "|   Year  | |\n",
    "|   State  | |\n"
   ]
  },
  {
   "cell_type": "code",
   "execution_count": 1,
   "metadata": {},
   "outputs": [],
   "source": [
    "import pandas as pd\n",
    "import numpy as np\n",
    "from tabulate import tabulate\n",
    "import string\n",
    "import seaborn as sns\n",
    "import matplotlib.pyplot as plt\n",
    "%matplotlib inline\n",
    "from scipy import stats"
   ]
  },
  {
   "cell_type": "code",
   "execution_count": 2,
   "metadata": {},
   "outputs": [],
   "source": [
    "df = pd.read_csv('useducation.csv')"
   ]
  },
  {
   "cell_type": "markdown",
   "metadata": {},
   "source": [
    "### 1)  Determine all the variable types and find the fraction of the missing values for each variable."
   ]
  },
  {
   "cell_type": "markdown",
   "metadata": {},
   "source": [
    "First, look at the data types pandas has automatically determined.  There are 2 objects and the rest are integers or floats.  Based on the descriptions given on Kaggle, these make sense. "
   ]
  },
  {
   "cell_type": "code",
   "execution_count": 3,
   "metadata": {},
   "outputs": [
    {
     "name": "stdout",
     "output_type": "stream",
     "text": [
      "<class 'pandas.core.frame.DataFrame'>\n",
      "RangeIndex: 1492 entries, 0 to 1491\n",
      "Data columns (total 25 columns):\n",
      "PRIMARY_KEY                     1492 non-null object\n",
      "STATE                           1492 non-null object\n",
      "YEAR                            1492 non-null int64\n",
      "ENROLL                          1229 non-null float64\n",
      "TOTAL_REVENUE                   1280 non-null float64\n",
      "FEDERAL_REVENUE                 1280 non-null float64\n",
      "STATE_REVENUE                   1280 non-null float64\n",
      "LOCAL_REVENUE                   1280 non-null float64\n",
      "TOTAL_EXPENDITURE               1280 non-null float64\n",
      "INSTRUCTION_EXPENDITURE         1280 non-null float64\n",
      "SUPPORT_SERVICES_EXPENDITURE    1280 non-null float64\n",
      "OTHER_EXPENDITURE               1229 non-null float64\n",
      "CAPITAL_OUTLAY_EXPENDITURE      1280 non-null float64\n",
      "GRADES_PK_G                     1319 non-null float64\n",
      "GRADES_KG_G                     1360 non-null float64\n",
      "GRADES_4_G                      1361 non-null float64\n",
      "GRADES_8_G                      1361 non-null float64\n",
      "GRADES_12_G                     1361 non-null float64\n",
      "GRADES_1_8_G                    1361 non-null float64\n",
      "GRADES_9_12_G                   1361 non-null float64\n",
      "GRADES_ALL_G                    1319 non-null float64\n",
      "AVG_MATH_4_SCORE                536 non-null float64\n",
      "AVG_MATH_8_SCORE                532 non-null float64\n",
      "AVG_READING_4_SCORE             533 non-null float64\n",
      "AVG_READING_8_SCORE             498 non-null float64\n",
      "dtypes: float64(22), int64(1), object(2)\n",
      "memory usage: 291.5+ KB\n"
     ]
    }
   ],
   "source": [
    "df.info()"
   ]
  },
  {
   "cell_type": "markdown",
   "metadata": {},
   "source": [
    "Looking at the first five rows confirms that the data types are correct.  But, see a lot of null values already, especially in the 'Enroll' column."
   ]
  },
  {
   "cell_type": "code",
   "execution_count": 4,
   "metadata": {},
   "outputs": [
    {
     "data": {
      "text/html": [
       "<div>\n",
       "<style scoped>\n",
       "    .dataframe tbody tr th:only-of-type {\n",
       "        vertical-align: middle;\n",
       "    }\n",
       "\n",
       "    .dataframe tbody tr th {\n",
       "        vertical-align: top;\n",
       "    }\n",
       "\n",
       "    .dataframe thead th {\n",
       "        text-align: right;\n",
       "    }\n",
       "</style>\n",
       "<table border=\"1\" class=\"dataframe\">\n",
       "  <thead>\n",
       "    <tr style=\"text-align: right;\">\n",
       "      <th></th>\n",
       "      <th>PRIMARY_KEY</th>\n",
       "      <th>STATE</th>\n",
       "      <th>YEAR</th>\n",
       "      <th>ENROLL</th>\n",
       "      <th>TOTAL_REVENUE</th>\n",
       "      <th>FEDERAL_REVENUE</th>\n",
       "      <th>STATE_REVENUE</th>\n",
       "      <th>LOCAL_REVENUE</th>\n",
       "      <th>TOTAL_EXPENDITURE</th>\n",
       "      <th>INSTRUCTION_EXPENDITURE</th>\n",
       "      <th>...</th>\n",
       "      <th>GRADES_4_G</th>\n",
       "      <th>GRADES_8_G</th>\n",
       "      <th>GRADES_12_G</th>\n",
       "      <th>GRADES_1_8_G</th>\n",
       "      <th>GRADES_9_12_G</th>\n",
       "      <th>GRADES_ALL_G</th>\n",
       "      <th>AVG_MATH_4_SCORE</th>\n",
       "      <th>AVG_MATH_8_SCORE</th>\n",
       "      <th>AVG_READING_4_SCORE</th>\n",
       "      <th>AVG_READING_8_SCORE</th>\n",
       "    </tr>\n",
       "  </thead>\n",
       "  <tbody>\n",
       "    <tr>\n",
       "      <th>0</th>\n",
       "      <td>1992_ALABAMA</td>\n",
       "      <td>ALABAMA</td>\n",
       "      <td>1992</td>\n",
       "      <td>NaN</td>\n",
       "      <td>2678885.0</td>\n",
       "      <td>304177.0</td>\n",
       "      <td>1659028.0</td>\n",
       "      <td>715680.0</td>\n",
       "      <td>2653798.0</td>\n",
       "      <td>1481703.0</td>\n",
       "      <td>...</td>\n",
       "      <td>57948.0</td>\n",
       "      <td>58025.0</td>\n",
       "      <td>41167.0</td>\n",
       "      <td>471564.0</td>\n",
       "      <td>196386.0</td>\n",
       "      <td>676174.0</td>\n",
       "      <td>208.327876</td>\n",
       "      <td>252.187522</td>\n",
       "      <td>207.963517</td>\n",
       "      <td>NaN</td>\n",
       "    </tr>\n",
       "    <tr>\n",
       "      <th>1</th>\n",
       "      <td>1992_ALASKA</td>\n",
       "      <td>ALASKA</td>\n",
       "      <td>1992</td>\n",
       "      <td>NaN</td>\n",
       "      <td>1049591.0</td>\n",
       "      <td>106780.0</td>\n",
       "      <td>720711.0</td>\n",
       "      <td>222100.0</td>\n",
       "      <td>972488.0</td>\n",
       "      <td>498362.0</td>\n",
       "      <td>...</td>\n",
       "      <td>9748.0</td>\n",
       "      <td>8789.0</td>\n",
       "      <td>6714.0</td>\n",
       "      <td>79117.0</td>\n",
       "      <td>30847.0</td>\n",
       "      <td>112335.0</td>\n",
       "      <td>NaN</td>\n",
       "      <td>NaN</td>\n",
       "      <td>NaN</td>\n",
       "      <td>258.859712</td>\n",
       "    </tr>\n",
       "    <tr>\n",
       "      <th>2</th>\n",
       "      <td>1992_ARIZONA</td>\n",
       "      <td>ARIZONA</td>\n",
       "      <td>1992</td>\n",
       "      <td>NaN</td>\n",
       "      <td>3258079.0</td>\n",
       "      <td>297888.0</td>\n",
       "      <td>1369815.0</td>\n",
       "      <td>1590376.0</td>\n",
       "      <td>3401580.0</td>\n",
       "      <td>1435908.0</td>\n",
       "      <td>...</td>\n",
       "      <td>55433.0</td>\n",
       "      <td>49081.0</td>\n",
       "      <td>37410.0</td>\n",
       "      <td>437127.0</td>\n",
       "      <td>175210.0</td>\n",
       "      <td>614881.0</td>\n",
       "      <td>215.253932</td>\n",
       "      <td>265.366278</td>\n",
       "      <td>206.212716</td>\n",
       "      <td>262.169895</td>\n",
       "    </tr>\n",
       "    <tr>\n",
       "      <th>3</th>\n",
       "      <td>1992_ARKANSAS</td>\n",
       "      <td>ARKANSAS</td>\n",
       "      <td>1992</td>\n",
       "      <td>NaN</td>\n",
       "      <td>1711959.0</td>\n",
       "      <td>178571.0</td>\n",
       "      <td>958785.0</td>\n",
       "      <td>574603.0</td>\n",
       "      <td>1743022.0</td>\n",
       "      <td>964323.0</td>\n",
       "      <td>...</td>\n",
       "      <td>34632.0</td>\n",
       "      <td>36011.0</td>\n",
       "      <td>27651.0</td>\n",
       "      <td>281338.0</td>\n",
       "      <td>123113.0</td>\n",
       "      <td>405259.0</td>\n",
       "      <td>210.206028</td>\n",
       "      <td>256.312090</td>\n",
       "      <td>208.634458</td>\n",
       "      <td>264.619665</td>\n",
       "    </tr>\n",
       "    <tr>\n",
       "      <th>4</th>\n",
       "      <td>1992_CALIFORNIA</td>\n",
       "      <td>CALIFORNIA</td>\n",
       "      <td>1992</td>\n",
       "      <td>NaN</td>\n",
       "      <td>26260025.0</td>\n",
       "      <td>2072470.0</td>\n",
       "      <td>16546514.0</td>\n",
       "      <td>7641041.0</td>\n",
       "      <td>27138832.0</td>\n",
       "      <td>14358922.0</td>\n",
       "      <td>...</td>\n",
       "      <td>418418.0</td>\n",
       "      <td>363296.0</td>\n",
       "      <td>270675.0</td>\n",
       "      <td>3286034.0</td>\n",
       "      <td>1372011.0</td>\n",
       "      <td>4717112.0</td>\n",
       "      <td>208.398961</td>\n",
       "      <td>260.892247</td>\n",
       "      <td>196.764414</td>\n",
       "      <td>NaN</td>\n",
       "    </tr>\n",
       "  </tbody>\n",
       "</table>\n",
       "<p>5 rows × 25 columns</p>\n",
       "</div>"
      ],
      "text/plain": [
       "       PRIMARY_KEY       STATE  YEAR  ENROLL  TOTAL_REVENUE  FEDERAL_REVENUE  \\\n",
       "0     1992_ALABAMA     ALABAMA  1992     NaN      2678885.0         304177.0   \n",
       "1      1992_ALASKA      ALASKA  1992     NaN      1049591.0         106780.0   \n",
       "2     1992_ARIZONA     ARIZONA  1992     NaN      3258079.0         297888.0   \n",
       "3    1992_ARKANSAS    ARKANSAS  1992     NaN      1711959.0         178571.0   \n",
       "4  1992_CALIFORNIA  CALIFORNIA  1992     NaN     26260025.0        2072470.0   \n",
       "\n",
       "   STATE_REVENUE  LOCAL_REVENUE  TOTAL_EXPENDITURE  INSTRUCTION_EXPENDITURE  \\\n",
       "0      1659028.0       715680.0          2653798.0                1481703.0   \n",
       "1       720711.0       222100.0           972488.0                 498362.0   \n",
       "2      1369815.0      1590376.0          3401580.0                1435908.0   \n",
       "3       958785.0       574603.0          1743022.0                 964323.0   \n",
       "4     16546514.0      7641041.0         27138832.0               14358922.0   \n",
       "\n",
       "          ...           GRADES_4_G  GRADES_8_G  GRADES_12_G  GRADES_1_8_G  \\\n",
       "0         ...              57948.0     58025.0      41167.0      471564.0   \n",
       "1         ...               9748.0      8789.0       6714.0       79117.0   \n",
       "2         ...              55433.0     49081.0      37410.0      437127.0   \n",
       "3         ...              34632.0     36011.0      27651.0      281338.0   \n",
       "4         ...             418418.0    363296.0     270675.0     3286034.0   \n",
       "\n",
       "   GRADES_9_12_G  GRADES_ALL_G  AVG_MATH_4_SCORE  AVG_MATH_8_SCORE  \\\n",
       "0       196386.0      676174.0        208.327876        252.187522   \n",
       "1        30847.0      112335.0               NaN               NaN   \n",
       "2       175210.0      614881.0        215.253932        265.366278   \n",
       "3       123113.0      405259.0        210.206028        256.312090   \n",
       "4      1372011.0     4717112.0        208.398961        260.892247   \n",
       "\n",
       "   AVG_READING_4_SCORE  AVG_READING_8_SCORE  \n",
       "0           207.963517                  NaN  \n",
       "1                  NaN           258.859712  \n",
       "2           206.212716           262.169895  \n",
       "3           208.634458           264.619665  \n",
       "4           196.764414                  NaN  \n",
       "\n",
       "[5 rows x 25 columns]"
      ]
     },
     "execution_count": 4,
     "metadata": {},
     "output_type": "execute_result"
    }
   ],
   "source": [
    "df.head()"
   ]
  },
  {
   "cell_type": "code",
   "execution_count": 5,
   "metadata": {},
   "outputs": [
    {
     "name": "stdout",
     "output_type": "stream",
     "text": [
      "| Column                       |   Percent Missing |   Unique Values |\n",
      "|------------------------------+-------------------+-----------------|\n",
      "| PRIMARY_KEY                  |           0       |            1487 |\n",
      "| STATE                        |           0       |              80 |\n",
      "| YEAR                         |           0       |              26 |\n",
      "| ENROLL                       |          17.6273  |            1224 |\n",
      "| TOTAL_REVENUE                |          14.2091  |            1274 |\n",
      "| FEDERAL_REVENUE              |          14.2091  |            1275 |\n",
      "| STATE_REVENUE                |          14.2091  |            1251 |\n",
      "| LOCAL_REVENUE                |          14.2091  |            1275 |\n",
      "| TOTAL_EXPENDITURE            |          14.2091  |            1275 |\n",
      "| INSTRUCTION_EXPENDITURE      |          14.2091  |            1275 |\n",
      "| SUPPORT_SERVICES_EXPENDITURE |          14.2091  |            1275 |\n",
      "| OTHER_EXPENDITURE            |          17.6273  |            1222 |\n",
      "| CAPITAL_OUTLAY_EXPENDITURE   |          14.2091  |            1275 |\n",
      "| GRADES_PK_G                  |          11.5952  |            1261 |\n",
      "| GRADES_KG_G                  |           8.84718 |            1348 |\n",
      "| GRADES_4_G                   |           8.78016 |            1340 |\n",
      "| GRADES_8_G                   |           8.78016 |            1347 |\n",
      "| GRADES_12_G                  |           8.78016 |            1342 |\n",
      "| GRADES_1_8_G                 |           8.78016 |            1360 |\n",
      "| GRADES_9_12_G                |           8.78016 |            1358 |\n",
      "| GRADES_ALL_G                 |          11.5952  |            1318 |\n",
      "| AVG_MATH_4_SCORE             |          64.0751  |             535 |\n",
      "| AVG_MATH_8_SCORE             |          64.3432  |             531 |\n",
      "| AVG_READING_4_SCORE          |          64.2761  |             532 |\n",
      "| AVG_READING_8_SCORE          |          66.622   |             497 |\n"
     ]
    }
   ],
   "source": [
    "print(tabulate([[i, df[i].isnull().sum()/df.shape[0] * 100, df[i].nunique()] for i in df.columns], headers=['Column', 'Percent Missing', 'Unique Values'], tablefmt='orgtbl'))"
   ]
  },
  {
   "cell_type": "markdown",
   "metadata": {},
   "source": [
    "The above table lists the variable, percent missing in the column, and the number of unique values.  The only variables without any null values are the primary key, state, and year.  "
   ]
  },
  {
   "cell_type": "markdown",
   "metadata": {},
   "source": [
    "### 2) Notice that the data has a time dimension (year). For this assignment, forget about time and treat all the observations as if they're from the same year. Choose a strategy to deal with the missing values for each variables. For which variables would filling in the missing values with some value make sense? For which might tossing out the records entirely make sense?"
   ]
  },
  {
   "cell_type": "markdown",
   "metadata": {},
   "source": [
    "To impute missing values without messing up the raw data, I create a copy of the original dataframe and drop the year in the copy."
   ]
  },
  {
   "cell_type": "code",
   "execution_count": 6,
   "metadata": {},
   "outputs": [],
   "source": [
    "df_2 = df.copy()\n",
    "df_2.drop('YEAR', inplace=True, axis = 1)"
   ]
  },
  {
   "cell_type": "markdown",
   "metadata": {},
   "source": [
    "#### 2.1 - State\n",
    "Since for this problem, we are ignoring year, I will create a copy of the raw data to drop the year column.  \n",
    "\n",
    "The first variable to go through is the state variable.  There are 80 unique variables but to my knowledge there are only 50 states.  To see what's going on, I'll look at the sorted list of states."
   ]
  },
  {
   "cell_type": "code",
   "execution_count": 7,
   "metadata": {},
   "outputs": [
    {
     "data": {
      "text/plain": [
       "['ALABAMA',\n",
       " 'ALASKA',\n",
       " 'AMERICAN_SAMOA',\n",
       " 'ARIZONA',\n",
       " 'ARKANSAS',\n",
       " 'AS',\n",
       " 'BI',\n",
       " 'BIE',\n",
       " 'BUREAU_OF_INDIAN_AFFAIRS',\n",
       " 'BUREAU_OF_INDIAN_EDUCATIO',\n",
       " 'BUREAU_OF_INDIAN_EDUCATION',\n",
       " 'CALIFORNIA',\n",
       " 'COLORADO',\n",
       " 'COMMONWEALTH_OF_MARIANAS',\n",
       " 'CONNECTICUT',\n",
       " 'DD',\n",
       " 'DELAWARE',\n",
       " 'DEPARTMENT_OF_DEFENSE',\n",
       " 'DEPARTMENT_OF_DEFENSE_EDUCATION_ACTIVITY',\n",
       " 'DISTRICT_OF_COLUMBIA',\n",
       " 'DOD',\n",
       " 'DOD_(OVERSEAS_AND_DOMESTIC_COMBINED)',\n",
       " 'DOD_-_DOMESTIC',\n",
       " 'DOD_-_FOREIGN',\n",
       " 'DOD_-_OVERSEAS',\n",
       " 'DOD_DOMESTIC',\n",
       " 'DOD_OVERSEAS',\n",
       " 'FLORIDA',\n",
       " 'GEORGIA',\n",
       " 'GU',\n",
       " 'GUAM',\n",
       " 'HAWAII',\n",
       " 'IDAHO',\n",
       " 'ILLINOIS',\n",
       " 'INDIANA',\n",
       " 'IOWA',\n",
       " 'KANSAS',\n",
       " 'KENTUCKY',\n",
       " 'LOUISIANA',\n",
       " 'MAINE',\n",
       " 'MARIANAS',\n",
       " 'MARYLAND',\n",
       " 'MASSACHUSETTS',\n",
       " 'MICHIGAN',\n",
       " 'MINNESOTA',\n",
       " 'MISSISSIPPI',\n",
       " 'MISSOURI',\n",
       " 'MONTANA',\n",
       " 'MP',\n",
       " 'NEBRASKA',\n",
       " 'NEVADA',\n",
       " 'NEW_HAMPSHIRE',\n",
       " 'NEW_JERSEY',\n",
       " 'NEW_MEXICO',\n",
       " 'NEW_YORK',\n",
       " 'NORTHERN_MARIANAS',\n",
       " 'NORTHERN_MARIANA_ISLANDS',\n",
       " 'NORTH_CAROLINA',\n",
       " 'NORTH_DAKOTA',\n",
       " 'OHIO',\n",
       " 'OKLAHOMA',\n",
       " 'OREGON',\n",
       " 'PENNSYLVANIA',\n",
       " 'PR',\n",
       " 'PUERTO_RICO',\n",
       " 'RHODE_ISLAND',\n",
       " 'SOUTH_CAROLINA',\n",
       " 'SOUTH_DAKOTA',\n",
       " 'TENNESSEE',\n",
       " 'TEXAS',\n",
       " 'U.S._VIRGIN_ISLANDS',\n",
       " 'UTAH',\n",
       " 'VERMONT',\n",
       " 'VI',\n",
       " 'VIRGINIA',\n",
       " 'VIRGIN_ISLANDS',\n",
       " 'WASHINGTON',\n",
       " 'WEST_VIRGINIA',\n",
       " 'WISCONSIN',\n",
       " 'WYOMING']"
      ]
     },
     "execution_count": 7,
     "metadata": {},
     "output_type": "execute_result"
    }
   ],
   "source": [
    "df_2 = df.copy()\n",
    "df_2.drop('YEAR', axis = 1, inplace = True)\n",
    "sorted(df_2['STATE'].unique())"
   ]
  },
  {
   "cell_type": "markdown",
   "metadata": {},
   "source": [
    "There are a variety of reasons why there are 80 states instead of 50.  The first is that I didn't think to include U.S territories (e.g. Virgin Islands, Guam, etc.) in my count.  The second is that there are typos, such as 'BUREAU_OF_INDIAN_EDUCATIO' instead of 'education'.  Lastly, some of the territories are referred to by their full name (e.g. Virgin Islands, DOD_OVERSEAS), and others are by an abbreviation or with different punctuation (e.g. VI, DOD_-_OVERSEAS).  Clearly, the state names must be cleaned.  \n",
    "\n",
    "The first step would be to remove punctuation to easily clear up values such as DOD_OVERSEAS and DOD_-_OVERSEAS.  The next step is to correct any misspellings and convert abbreviations."
   ]
  },
  {
   "cell_type": "code",
   "execution_count": 8,
   "metadata": {},
   "outputs": [],
   "source": [
    "df_2['STATE'] = df_2['STATE'].apply(lambda x: x.translate(str.maketrans('', '', string.punctuation)))"
   ]
  },
  {
   "cell_type": "code",
   "execution_count": 9,
   "metadata": {},
   "outputs": [],
   "source": [
    "states_dict = {'AS': 'AMERICANSAMOA', 'BI': 'BUREAUOFINDIANAFFAIRS', 'BUREAUOFINDIANEDUCATIO': 'BUREAUOFINDIANEDUCATION', \n",
    "              'DD': 'DEPARTMENTOFDEFENSE', 'DOD': 'DEPARTMENTOFDEFENSE', 'GU': 'GUAM', 'PR': 'PUERTORICO', 'VI': 'VIRGINISLANDS',\n",
    "              'USVIRGINISLANDS': 'VIRGINISLANDS', 'MP': 'COMMONWEALTHOFMARIANAS', 'BIE': 'BUREAUOFINDIANEDUCATION'}\n",
    "def correct_states(col):\n",
    "    if col in states_dict.keys():\n",
    "        return states_dict[col]\n",
    "    elif 'MARIANA' in col:\n",
    "        return 'COMMONWEALTHOFMARIANAS'\n",
    "    else:\n",
    "        return col"
   ]
  },
  {
   "cell_type": "code",
   "execution_count": 10,
   "metadata": {},
   "outputs": [],
   "source": [
    "df_2['STATE'] = df_2['STATE'].apply(correct_states)"
   ]
  },
  {
   "cell_type": "markdown",
   "metadata": {},
   "source": [
    "After removing punctuations and other corrections, I get a total of 64 unique states.  "
   ]
  },
  {
   "cell_type": "code",
   "execution_count": 11,
   "metadata": {},
   "outputs": [
    {
     "data": {
      "text/plain": [
       "64"
      ]
     },
     "execution_count": 11,
     "metadata": {},
     "output_type": "execute_result"
    }
   ],
   "source": [
    "df_2['STATE'].nunique()"
   ]
  },
  {
   "cell_type": "markdown",
   "metadata": {},
   "source": [
    "I wanted to see which states had a lot of missing values, so I showed all the states with more than 50% missing values, seen below.  Most of these only have valid entries for grades.  Anything pertaining to finances, enrollment, or average scores are not entered.  The one exception to this is the 'DODOVERSEASANDDOMESTICCOMBINED' state, where there is 91% missing values.  This state repeats information from 'DODOVERSEAS' and 'DODDOMESTIC', so I will delete this state.  "
   ]
  },
  {
   "cell_type": "code",
   "execution_count": 12,
   "metadata": {},
   "outputs": [],
   "source": [
    "state_df = pd.DataFrame()\n",
    "state_df['State'] = [state for state in df_2['STATE'].unique()]\n",
    "state_df['State Missing Values'] = [df_2[df_2['STATE']==state].isnull().sum().sum()/(df_2[df_2['STATE']==state].shape[0]*df_2[df_2['STATE']==state].shape[1])*100 for state in df_2['STATE'].unique()]"
   ]
  },
  {
   "cell_type": "code",
   "execution_count": 13,
   "metadata": {},
   "outputs": [
    {
     "data": {
      "text/html": [
       "<div>\n",
       "<style scoped>\n",
       "    .dataframe tbody tr th:only-of-type {\n",
       "        vertical-align: middle;\n",
       "    }\n",
       "\n",
       "    .dataframe tbody tr th {\n",
       "        vertical-align: top;\n",
       "    }\n",
       "\n",
       "    .dataframe thead th {\n",
       "        text-align: right;\n",
       "    }\n",
       "</style>\n",
       "<table border=\"1\" class=\"dataframe\">\n",
       "  <thead>\n",
       "    <tr style=\"text-align: right;\">\n",
       "      <th></th>\n",
       "      <th>State</th>\n",
       "      <th>State Missing Values</th>\n",
       "    </tr>\n",
       "  </thead>\n",
       "  <tbody>\n",
       "    <tr>\n",
       "      <th>62</th>\n",
       "      <td>DODOVERSEASANDDOMESTICCOMBINED</td>\n",
       "      <td>91.666667</td>\n",
       "    </tr>\n",
       "    <tr>\n",
       "      <th>60</th>\n",
       "      <td>BUREAUOFINDIANEDUCATION</td>\n",
       "      <td>81.666667</td>\n",
       "    </tr>\n",
       "    <tr>\n",
       "      <th>59</th>\n",
       "      <td>DEPARTMENTOFDEFENSE</td>\n",
       "      <td>80.555556</td>\n",
       "    </tr>\n",
       "    <tr>\n",
       "      <th>51</th>\n",
       "      <td>BUREAUOFINDIANAFFAIRS</td>\n",
       "      <td>77.083333</td>\n",
       "    </tr>\n",
       "    <tr>\n",
       "      <th>54</th>\n",
       "      <td>AMERICANSAMOA</td>\n",
       "      <td>69.927536</td>\n",
       "    </tr>\n",
       "    <tr>\n",
       "      <th>58</th>\n",
       "      <td>VIRGINISLANDS</td>\n",
       "      <td>67.708333</td>\n",
       "    </tr>\n",
       "    <tr>\n",
       "      <th>55</th>\n",
       "      <td>GUAM</td>\n",
       "      <td>65.277778</td>\n",
       "    </tr>\n",
       "    <tr>\n",
       "      <th>52</th>\n",
       "      <td>DODOVERSEAS</td>\n",
       "      <td>65.000000</td>\n",
       "    </tr>\n",
       "    <tr>\n",
       "      <th>53</th>\n",
       "      <td>DODDOMESTIC</td>\n",
       "      <td>61.666667</td>\n",
       "    </tr>\n",
       "    <tr>\n",
       "      <th>56</th>\n",
       "      <td>COMMONWEALTHOFMARIANAS</td>\n",
       "      <td>58.333333</td>\n",
       "    </tr>\n",
       "    <tr>\n",
       "      <th>57</th>\n",
       "      <td>PUERTORICO</td>\n",
       "      <td>58.333333</td>\n",
       "    </tr>\n",
       "    <tr>\n",
       "      <th>61</th>\n",
       "      <td>DEPARTMENTOFDEFENSEEDUCATIONACTIVITY</td>\n",
       "      <td>58.333333</td>\n",
       "    </tr>\n",
       "    <tr>\n",
       "      <th>63</th>\n",
       "      <td>DODFOREIGN</td>\n",
       "      <td>58.333333</td>\n",
       "    </tr>\n",
       "  </tbody>\n",
       "</table>\n",
       "</div>"
      ],
      "text/plain": [
       "                                   State  State Missing Values\n",
       "62        DODOVERSEASANDDOMESTICCOMBINED             91.666667\n",
       "60               BUREAUOFINDIANEDUCATION             81.666667\n",
       "59                   DEPARTMENTOFDEFENSE             80.555556\n",
       "51                 BUREAUOFINDIANAFFAIRS             77.083333\n",
       "54                         AMERICANSAMOA             69.927536\n",
       "58                         VIRGINISLANDS             67.708333\n",
       "55                                  GUAM             65.277778\n",
       "52                           DODOVERSEAS             65.000000\n",
       "53                           DODDOMESTIC             61.666667\n",
       "56                COMMONWEALTHOFMARIANAS             58.333333\n",
       "57                            PUERTORICO             58.333333\n",
       "61  DEPARTMENTOFDEFENSEEDUCATIONACTIVITY             58.333333\n",
       "63                            DODFOREIGN             58.333333"
      ]
     },
     "execution_count": 13,
     "metadata": {},
     "output_type": "execute_result"
    }
   ],
   "source": [
    "state_df[state_df['State Missing Values'] > 50].sort_values('State Missing Values', ascending=False)"
   ]
  },
  {
   "cell_type": "code",
   "execution_count": 14,
   "metadata": {},
   "outputs": [
    {
     "data": {
      "text/html": [
       "<div>\n",
       "<style scoped>\n",
       "    .dataframe tbody tr th:only-of-type {\n",
       "        vertical-align: middle;\n",
       "    }\n",
       "\n",
       "    .dataframe tbody tr th {\n",
       "        vertical-align: top;\n",
       "    }\n",
       "\n",
       "    .dataframe thead th {\n",
       "        text-align: right;\n",
       "    }\n",
       "</style>\n",
       "<table border=\"1\" class=\"dataframe\">\n",
       "  <thead>\n",
       "    <tr style=\"text-align: right;\">\n",
       "      <th></th>\n",
       "      <th>PRIMARY_KEY</th>\n",
       "      <th>STATE</th>\n",
       "      <th>ENROLL</th>\n",
       "      <th>TOTAL_REVENUE</th>\n",
       "      <th>FEDERAL_REVENUE</th>\n",
       "      <th>STATE_REVENUE</th>\n",
       "      <th>LOCAL_REVENUE</th>\n",
       "      <th>TOTAL_EXPENDITURE</th>\n",
       "      <th>INSTRUCTION_EXPENDITURE</th>\n",
       "      <th>SUPPORT_SERVICES_EXPENDITURE</th>\n",
       "      <th>...</th>\n",
       "      <th>GRADES_4_G</th>\n",
       "      <th>GRADES_8_G</th>\n",
       "      <th>GRADES_12_G</th>\n",
       "      <th>GRADES_1_8_G</th>\n",
       "      <th>GRADES_9_12_G</th>\n",
       "      <th>GRADES_ALL_G</th>\n",
       "      <th>AVG_MATH_4_SCORE</th>\n",
       "      <th>AVG_MATH_8_SCORE</th>\n",
       "      <th>AVG_READING_4_SCORE</th>\n",
       "      <th>AVG_READING_8_SCORE</th>\n",
       "    </tr>\n",
       "  </thead>\n",
       "  <tbody>\n",
       "    <tr>\n",
       "      <th>1290</th>\n",
       "      <td>2001_NORTHERN_MARIANAS</td>\n",
       "      <td>COMMONWEALTHOFMARIANAS</td>\n",
       "      <td>NaN</td>\n",
       "      <td>NaN</td>\n",
       "      <td>NaN</td>\n",
       "      <td>NaN</td>\n",
       "      <td>NaN</td>\n",
       "      <td>NaN</td>\n",
       "      <td>NaN</td>\n",
       "      <td>NaN</td>\n",
       "      <td>...</td>\n",
       "      <td>832.0</td>\n",
       "      <td>779.0</td>\n",
       "      <td>432.0</td>\n",
       "      <td>6773.0</td>\n",
       "      <td>2464.0</td>\n",
       "      <td>9760.0</td>\n",
       "      <td>NaN</td>\n",
       "      <td>NaN</td>\n",
       "      <td>NaN</td>\n",
       "      <td>NaN</td>\n",
       "    </tr>\n",
       "    <tr>\n",
       "      <th>1297</th>\n",
       "      <td>2012_NORTHERN_MARIANA_ISLANDS</td>\n",
       "      <td>COMMONWEALTHOFMARIANAS</td>\n",
       "      <td>NaN</td>\n",
       "      <td>NaN</td>\n",
       "      <td>NaN</td>\n",
       "      <td>NaN</td>\n",
       "      <td>NaN</td>\n",
       "      <td>NaN</td>\n",
       "      <td>NaN</td>\n",
       "      <td>NaN</td>\n",
       "      <td>...</td>\n",
       "      <td>776.0</td>\n",
       "      <td>792.0</td>\n",
       "      <td>630.0</td>\n",
       "      <td>6297.0</td>\n",
       "      <td>3250.0</td>\n",
       "      <td>10009.0</td>\n",
       "      <td>NaN</td>\n",
       "      <td>NaN</td>\n",
       "      <td>NaN</td>\n",
       "      <td>NaN</td>\n",
       "    </tr>\n",
       "    <tr>\n",
       "      <th>1314</th>\n",
       "      <td>2010_NORTHERN_MARIANAS</td>\n",
       "      <td>COMMONWEALTHOFMARIANAS</td>\n",
       "      <td>NaN</td>\n",
       "      <td>NaN</td>\n",
       "      <td>NaN</td>\n",
       "      <td>NaN</td>\n",
       "      <td>NaN</td>\n",
       "      <td>NaN</td>\n",
       "      <td>NaN</td>\n",
       "      <td>NaN</td>\n",
       "      <td>...</td>\n",
       "      <td>841.0</td>\n",
       "      <td>816.0</td>\n",
       "      <td>716.0</td>\n",
       "      <td>6569.0</td>\n",
       "      <td>3417.0</td>\n",
       "      <td>10448.0</td>\n",
       "      <td>NaN</td>\n",
       "      <td>NaN</td>\n",
       "      <td>NaN</td>\n",
       "      <td>NaN</td>\n",
       "    </tr>\n",
       "    <tr>\n",
       "      <th>1319</th>\n",
       "      <td>2008_NORTHERN_MARIANAS</td>\n",
       "      <td>COMMONWEALTHOFMARIANAS</td>\n",
       "      <td>NaN</td>\n",
       "      <td>NaN</td>\n",
       "      <td>NaN</td>\n",
       "      <td>NaN</td>\n",
       "      <td>NaN</td>\n",
       "      <td>NaN</td>\n",
       "      <td>NaN</td>\n",
       "      <td>NaN</td>\n",
       "      <td>...</td>\n",
       "      <td>819.0</td>\n",
       "      <td>824.0</td>\n",
       "      <td>537.0</td>\n",
       "      <td>6658.0</td>\n",
       "      <td>3097.0</td>\n",
       "      <td>10217.0</td>\n",
       "      <td>NaN</td>\n",
       "      <td>NaN</td>\n",
       "      <td>NaN</td>\n",
       "      <td>NaN</td>\n",
       "    </tr>\n",
       "    <tr>\n",
       "      <th>1327</th>\n",
       "      <td>2005_NORTHERN_MARIANAS</td>\n",
       "      <td>COMMONWEALTHOFMARIANAS</td>\n",
       "      <td>NaN</td>\n",
       "      <td>NaN</td>\n",
       "      <td>NaN</td>\n",
       "      <td>NaN</td>\n",
       "      <td>NaN</td>\n",
       "      <td>NaN</td>\n",
       "      <td>NaN</td>\n",
       "      <td>NaN</td>\n",
       "      <td>...</td>\n",
       "      <td>870.0</td>\n",
       "      <td>810.0</td>\n",
       "      <td>682.0</td>\n",
       "      <td>7044.0</td>\n",
       "      <td>3291.0</td>\n",
       "      <td>10915.0</td>\n",
       "      <td>NaN</td>\n",
       "      <td>NaN</td>\n",
       "      <td>NaN</td>\n",
       "      <td>NaN</td>\n",
       "    </tr>\n",
       "    <tr>\n",
       "      <th>1333</th>\n",
       "      <td>1997_COMMONWEALTH_OF_MARIANAS</td>\n",
       "      <td>COMMONWEALTHOFMARIANAS</td>\n",
       "      <td>NaN</td>\n",
       "      <td>NaN</td>\n",
       "      <td>NaN</td>\n",
       "      <td>NaN</td>\n",
       "      <td>NaN</td>\n",
       "      <td>NaN</td>\n",
       "      <td>NaN</td>\n",
       "      <td>NaN</td>\n",
       "      <td>...</td>\n",
       "      <td>799.0</td>\n",
       "      <td>585.0</td>\n",
       "      <td>500.0</td>\n",
       "      <td>6030.0</td>\n",
       "      <td>2062.0</td>\n",
       "      <td>8680.0</td>\n",
       "      <td>NaN</td>\n",
       "      <td>NaN</td>\n",
       "      <td>NaN</td>\n",
       "      <td>NaN</td>\n",
       "    </tr>\n",
       "    <tr>\n",
       "      <th>1338</th>\n",
       "      <td>1995_NORTHERN_MARIANAS</td>\n",
       "      <td>COMMONWEALTHOFMARIANAS</td>\n",
       "      <td>NaN</td>\n",
       "      <td>NaN</td>\n",
       "      <td>NaN</td>\n",
       "      <td>NaN</td>\n",
       "      <td>NaN</td>\n",
       "      <td>NaN</td>\n",
       "      <td>NaN</td>\n",
       "      <td>NaN</td>\n",
       "      <td>...</td>\n",
       "      <td>683.0</td>\n",
       "      <td>596.0</td>\n",
       "      <td>467.0</td>\n",
       "      <td>5667.0</td>\n",
       "      <td>1984.0</td>\n",
       "      <td>8211.0</td>\n",
       "      <td>NaN</td>\n",
       "      <td>NaN</td>\n",
       "      <td>NaN</td>\n",
       "      <td>NaN</td>\n",
       "    </tr>\n",
       "    <tr>\n",
       "      <th>1345</th>\n",
       "      <td>1998_MP</td>\n",
       "      <td>COMMONWEALTHOFMARIANAS</td>\n",
       "      <td>NaN</td>\n",
       "      <td>NaN</td>\n",
       "      <td>NaN</td>\n",
       "      <td>NaN</td>\n",
       "      <td>NaN</td>\n",
       "      <td>NaN</td>\n",
       "      <td>NaN</td>\n",
       "      <td>NaN</td>\n",
       "      <td>...</td>\n",
       "      <td>791.0</td>\n",
       "      <td>650.0</td>\n",
       "      <td>352.0</td>\n",
       "      <td>6270.0</td>\n",
       "      <td>2078.0</td>\n",
       "      <td>8874.0</td>\n",
       "      <td>NaN</td>\n",
       "      <td>NaN</td>\n",
       "      <td>NaN</td>\n",
       "      <td>NaN</td>\n",
       "    </tr>\n",
       "    <tr>\n",
       "      <th>1354</th>\n",
       "      <td>2003_NORTHERN_MARIANAS</td>\n",
       "      <td>COMMONWEALTHOFMARIANAS</td>\n",
       "      <td>NaN</td>\n",
       "      <td>NaN</td>\n",
       "      <td>NaN</td>\n",
       "      <td>NaN</td>\n",
       "      <td>NaN</td>\n",
       "      <td>NaN</td>\n",
       "      <td>NaN</td>\n",
       "      <td>NaN</td>\n",
       "      <td>...</td>\n",
       "      <td>841.0</td>\n",
       "      <td>776.0</td>\n",
       "      <td>596.0</td>\n",
       "      <td>6857.0</td>\n",
       "      <td>3052.0</td>\n",
       "      <td>10494.0</td>\n",
       "      <td>NaN</td>\n",
       "      <td>NaN</td>\n",
       "      <td>NaN</td>\n",
       "      <td>NaN</td>\n",
       "    </tr>\n",
       "    <tr>\n",
       "      <th>1361</th>\n",
       "      <td>2013_NORTHERN_MARIANA_ISLANDS</td>\n",
       "      <td>COMMONWEALTHOFMARIANAS</td>\n",
       "      <td>NaN</td>\n",
       "      <td>NaN</td>\n",
       "      <td>NaN</td>\n",
       "      <td>NaN</td>\n",
       "      <td>NaN</td>\n",
       "      <td>NaN</td>\n",
       "      <td>NaN</td>\n",
       "      <td>NaN</td>\n",
       "      <td>...</td>\n",
       "      <td>750.0</td>\n",
       "      <td>814.0</td>\n",
       "      <td>656.0</td>\n",
       "      <td>6265.0</td>\n",
       "      <td>3298.0</td>\n",
       "      <td>10025.0</td>\n",
       "      <td>NaN</td>\n",
       "      <td>NaN</td>\n",
       "      <td>NaN</td>\n",
       "      <td>NaN</td>\n",
       "    </tr>\n",
       "    <tr>\n",
       "      <th>1366</th>\n",
       "      <td>1994_MARIANAS</td>\n",
       "      <td>COMMONWEALTHOFMARIANAS</td>\n",
       "      <td>NaN</td>\n",
       "      <td>NaN</td>\n",
       "      <td>NaN</td>\n",
       "      <td>NaN</td>\n",
       "      <td>NaN</td>\n",
       "      <td>NaN</td>\n",
       "      <td>NaN</td>\n",
       "      <td>NaN</td>\n",
       "      <td>...</td>\n",
       "      <td>681.0</td>\n",
       "      <td>550.0</td>\n",
       "      <td>406.0</td>\n",
       "      <td>5493.0</td>\n",
       "      <td>1870.0</td>\n",
       "      <td>7873.0</td>\n",
       "      <td>NaN</td>\n",
       "      <td>NaN</td>\n",
       "      <td>NaN</td>\n",
       "      <td>NaN</td>\n",
       "    </tr>\n",
       "    <tr>\n",
       "      <th>1373</th>\n",
       "      <td>2011_NORTHERN_MARIANA_ISLANDS</td>\n",
       "      <td>COMMONWEALTHOFMARIANAS</td>\n",
       "      <td>NaN</td>\n",
       "      <td>NaN</td>\n",
       "      <td>NaN</td>\n",
       "      <td>NaN</td>\n",
       "      <td>NaN</td>\n",
       "      <td>NaN</td>\n",
       "      <td>NaN</td>\n",
       "      <td>NaN</td>\n",
       "      <td>...</td>\n",
       "      <td>814.0</td>\n",
       "      <td>841.0</td>\n",
       "      <td>654.0</td>\n",
       "      <td>6589.0</td>\n",
       "      <td>3308.0</td>\n",
       "      <td>10359.0</td>\n",
       "      <td>NaN</td>\n",
       "      <td>NaN</td>\n",
       "      <td>NaN</td>\n",
       "      <td>NaN</td>\n",
       "    </tr>\n",
       "    <tr>\n",
       "      <th>1381</th>\n",
       "      <td>2002_NORTHERN_MARIANAS</td>\n",
       "      <td>COMMONWEALTHOFMARIANAS</td>\n",
       "      <td>NaN</td>\n",
       "      <td>NaN</td>\n",
       "      <td>NaN</td>\n",
       "      <td>NaN</td>\n",
       "      <td>NaN</td>\n",
       "      <td>NaN</td>\n",
       "      <td>NaN</td>\n",
       "      <td>NaN</td>\n",
       "      <td>...</td>\n",
       "      <td>977.0</td>\n",
       "      <td>816.0</td>\n",
       "      <td>461.0</td>\n",
       "      <td>7020.0</td>\n",
       "      <td>2872.0</td>\n",
       "      <td>10498.0</td>\n",
       "      <td>NaN</td>\n",
       "      <td>NaN</td>\n",
       "      <td>NaN</td>\n",
       "      <td>NaN</td>\n",
       "    </tr>\n",
       "    <tr>\n",
       "      <th>1389</th>\n",
       "      <td>2006_NORTHERN_MARIANAS</td>\n",
       "      <td>COMMONWEALTHOFMARIANAS</td>\n",
       "      <td>NaN</td>\n",
       "      <td>NaN</td>\n",
       "      <td>NaN</td>\n",
       "      <td>NaN</td>\n",
       "      <td>NaN</td>\n",
       "      <td>NaN</td>\n",
       "      <td>NaN</td>\n",
       "      <td>NaN</td>\n",
       "      <td>...</td>\n",
       "      <td>892.0</td>\n",
       "      <td>939.0</td>\n",
       "      <td>718.0</td>\n",
       "      <td>7115.0</td>\n",
       "      <td>3191.0</td>\n",
       "      <td>10885.0</td>\n",
       "      <td>NaN</td>\n",
       "      <td>NaN</td>\n",
       "      <td>NaN</td>\n",
       "      <td>NaN</td>\n",
       "    </tr>\n",
       "    <tr>\n",
       "      <th>1397</th>\n",
       "      <td>2004_NORTHERN_MARIANAS</td>\n",
       "      <td>COMMONWEALTHOFMARIANAS</td>\n",
       "      <td>NaN</td>\n",
       "      <td>NaN</td>\n",
       "      <td>NaN</td>\n",
       "      <td>NaN</td>\n",
       "      <td>NaN</td>\n",
       "      <td>NaN</td>\n",
       "      <td>NaN</td>\n",
       "      <td>NaN</td>\n",
       "      <td>...</td>\n",
       "      <td>851.0</td>\n",
       "      <td>834.0</td>\n",
       "      <td>668.0</td>\n",
       "      <td>7072.0</td>\n",
       "      <td>3185.0</td>\n",
       "      <td>10837.0</td>\n",
       "      <td>NaN</td>\n",
       "      <td>NaN</td>\n",
       "      <td>NaN</td>\n",
       "      <td>NaN</td>\n",
       "    </tr>\n",
       "    <tr>\n",
       "      <th>1402</th>\n",
       "      <td>1993_NORTHERN_MARIANAS</td>\n",
       "      <td>COMMONWEALTHOFMARIANAS</td>\n",
       "      <td>NaN</td>\n",
       "      <td>NaN</td>\n",
       "      <td>NaN</td>\n",
       "      <td>NaN</td>\n",
       "      <td>NaN</td>\n",
       "      <td>NaN</td>\n",
       "      <td>NaN</td>\n",
       "      <td>NaN</td>\n",
       "      <td>...</td>\n",
       "      <td>633.0</td>\n",
       "      <td>610.0</td>\n",
       "      <td>384.0</td>\n",
       "      <td>5303.0</td>\n",
       "      <td>1808.0</td>\n",
       "      <td>7532.0</td>\n",
       "      <td>NaN</td>\n",
       "      <td>NaN</td>\n",
       "      <td>NaN</td>\n",
       "      <td>NaN</td>\n",
       "    </tr>\n",
       "    <tr>\n",
       "      <th>1410</th>\n",
       "      <td>1999_NORTHERN_MARIANAS</td>\n",
       "      <td>COMMONWEALTHOFMARIANAS</td>\n",
       "      <td>NaN</td>\n",
       "      <td>NaN</td>\n",
       "      <td>NaN</td>\n",
       "      <td>NaN</td>\n",
       "      <td>NaN</td>\n",
       "      <td>NaN</td>\n",
       "      <td>NaN</td>\n",
       "      <td>NaN</td>\n",
       "      <td>...</td>\n",
       "      <td>838.0</td>\n",
       "      <td>694.0</td>\n",
       "      <td>344.0</td>\n",
       "      <td>6471.0</td>\n",
       "      <td>2098.0</td>\n",
       "      <td>9118.0</td>\n",
       "      <td>NaN</td>\n",
       "      <td>NaN</td>\n",
       "      <td>NaN</td>\n",
       "      <td>NaN</td>\n",
       "    </tr>\n",
       "    <tr>\n",
       "      <th>1418</th>\n",
       "      <td>2007_NORTHERN_MARIANAS</td>\n",
       "      <td>COMMONWEALTHOFMARIANAS</td>\n",
       "      <td>NaN</td>\n",
       "      <td>NaN</td>\n",
       "      <td>NaN</td>\n",
       "      <td>NaN</td>\n",
       "      <td>NaN</td>\n",
       "      <td>NaN</td>\n",
       "      <td>NaN</td>\n",
       "      <td>NaN</td>\n",
       "      <td>...</td>\n",
       "      <td>869.0</td>\n",
       "      <td>855.0</td>\n",
       "      <td>558.0</td>\n",
       "      <td>6894.0</td>\n",
       "      <td>3159.0</td>\n",
       "      <td>10515.0</td>\n",
       "      <td>NaN</td>\n",
       "      <td>NaN</td>\n",
       "      <td>NaN</td>\n",
       "      <td>NaN</td>\n",
       "    </tr>\n",
       "    <tr>\n",
       "      <th>1423</th>\n",
       "      <td>1992_COMMONWEALTH_OF_MARIANAS</td>\n",
       "      <td>COMMONWEALTHOFMARIANAS</td>\n",
       "      <td>NaN</td>\n",
       "      <td>NaN</td>\n",
       "      <td>NaN</td>\n",
       "      <td>NaN</td>\n",
       "      <td>NaN</td>\n",
       "      <td>NaN</td>\n",
       "      <td>NaN</td>\n",
       "      <td>NaN</td>\n",
       "      <td>...</td>\n",
       "      <td>661.0</td>\n",
       "      <td>437.0</td>\n",
       "      <td>311.0</td>\n",
       "      <td>4878.0</td>\n",
       "      <td>1953.0</td>\n",
       "      <td>7254.0</td>\n",
       "      <td>NaN</td>\n",
       "      <td>NaN</td>\n",
       "      <td>NaN</td>\n",
       "      <td>NaN</td>\n",
       "    </tr>\n",
       "    <tr>\n",
       "      <th>1429</th>\n",
       "      <td>1996_COMMONWEALTH_OF_MARIANAS</td>\n",
       "      <td>COMMONWEALTHOFMARIANAS</td>\n",
       "      <td>NaN</td>\n",
       "      <td>NaN</td>\n",
       "      <td>NaN</td>\n",
       "      <td>NaN</td>\n",
       "      <td>NaN</td>\n",
       "      <td>NaN</td>\n",
       "      <td>NaN</td>\n",
       "      <td>NaN</td>\n",
       "      <td>...</td>\n",
       "      <td>784.0</td>\n",
       "      <td>580.0</td>\n",
       "      <td>363.0</td>\n",
       "      <td>5795.0</td>\n",
       "      <td>1964.0</td>\n",
       "      <td>8349.0</td>\n",
       "      <td>NaN</td>\n",
       "      <td>NaN</td>\n",
       "      <td>NaN</td>\n",
       "      <td>NaN</td>\n",
       "    </tr>\n",
       "    <tr>\n",
       "      <th>1437</th>\n",
       "      <td>2000_NORTHERN_MARIANAS</td>\n",
       "      <td>COMMONWEALTHOFMARIANAS</td>\n",
       "      <td>NaN</td>\n",
       "      <td>NaN</td>\n",
       "      <td>NaN</td>\n",
       "      <td>NaN</td>\n",
       "      <td>NaN</td>\n",
       "      <td>NaN</td>\n",
       "      <td>NaN</td>\n",
       "      <td>NaN</td>\n",
       "      <td>...</td>\n",
       "      <td>890.0</td>\n",
       "      <td>714.0</td>\n",
       "      <td>342.0</td>\n",
       "      <td>6594.0</td>\n",
       "      <td>2195.0</td>\n",
       "      <td>9368.0</td>\n",
       "      <td>NaN</td>\n",
       "      <td>NaN</td>\n",
       "      <td>NaN</td>\n",
       "      <td>NaN</td>\n",
       "    </tr>\n",
       "    <tr>\n",
       "      <th>1444</th>\n",
       "      <td>2009_NORTHERN_MARIANAS</td>\n",
       "      <td>COMMONWEALTHOFMARIANAS</td>\n",
       "      <td>NaN</td>\n",
       "      <td>NaN</td>\n",
       "      <td>NaN</td>\n",
       "      <td>NaN</td>\n",
       "      <td>NaN</td>\n",
       "      <td>NaN</td>\n",
       "      <td>NaN</td>\n",
       "      <td>NaN</td>\n",
       "      <td>...</td>\n",
       "      <td>862.0</td>\n",
       "      <td>823.0</td>\n",
       "      <td>635.0</td>\n",
       "      <td>6595.0</td>\n",
       "      <td>3218.0</td>\n",
       "      <td>10275.0</td>\n",
       "      <td>NaN</td>\n",
       "      <td>NaN</td>\n",
       "      <td>NaN</td>\n",
       "      <td>NaN</td>\n",
       "    </tr>\n",
       "  </tbody>\n",
       "</table>\n",
       "<p>22 rows × 24 columns</p>\n",
       "</div>"
      ],
      "text/plain": [
       "                        PRIMARY_KEY                   STATE  ENROLL  \\\n",
       "1290         2001_NORTHERN_MARIANAS  COMMONWEALTHOFMARIANAS     NaN   \n",
       "1297  2012_NORTHERN_MARIANA_ISLANDS  COMMONWEALTHOFMARIANAS     NaN   \n",
       "1314         2010_NORTHERN_MARIANAS  COMMONWEALTHOFMARIANAS     NaN   \n",
       "1319         2008_NORTHERN_MARIANAS  COMMONWEALTHOFMARIANAS     NaN   \n",
       "1327         2005_NORTHERN_MARIANAS  COMMONWEALTHOFMARIANAS     NaN   \n",
       "1333  1997_COMMONWEALTH_OF_MARIANAS  COMMONWEALTHOFMARIANAS     NaN   \n",
       "1338         1995_NORTHERN_MARIANAS  COMMONWEALTHOFMARIANAS     NaN   \n",
       "1345                        1998_MP  COMMONWEALTHOFMARIANAS     NaN   \n",
       "1354         2003_NORTHERN_MARIANAS  COMMONWEALTHOFMARIANAS     NaN   \n",
       "1361  2013_NORTHERN_MARIANA_ISLANDS  COMMONWEALTHOFMARIANAS     NaN   \n",
       "1366                  1994_MARIANAS  COMMONWEALTHOFMARIANAS     NaN   \n",
       "1373  2011_NORTHERN_MARIANA_ISLANDS  COMMONWEALTHOFMARIANAS     NaN   \n",
       "1381         2002_NORTHERN_MARIANAS  COMMONWEALTHOFMARIANAS     NaN   \n",
       "1389         2006_NORTHERN_MARIANAS  COMMONWEALTHOFMARIANAS     NaN   \n",
       "1397         2004_NORTHERN_MARIANAS  COMMONWEALTHOFMARIANAS     NaN   \n",
       "1402         1993_NORTHERN_MARIANAS  COMMONWEALTHOFMARIANAS     NaN   \n",
       "1410         1999_NORTHERN_MARIANAS  COMMONWEALTHOFMARIANAS     NaN   \n",
       "1418         2007_NORTHERN_MARIANAS  COMMONWEALTHOFMARIANAS     NaN   \n",
       "1423  1992_COMMONWEALTH_OF_MARIANAS  COMMONWEALTHOFMARIANAS     NaN   \n",
       "1429  1996_COMMONWEALTH_OF_MARIANAS  COMMONWEALTHOFMARIANAS     NaN   \n",
       "1437         2000_NORTHERN_MARIANAS  COMMONWEALTHOFMARIANAS     NaN   \n",
       "1444         2009_NORTHERN_MARIANAS  COMMONWEALTHOFMARIANAS     NaN   \n",
       "\n",
       "      TOTAL_REVENUE  FEDERAL_REVENUE  STATE_REVENUE  LOCAL_REVENUE  \\\n",
       "1290            NaN              NaN            NaN            NaN   \n",
       "1297            NaN              NaN            NaN            NaN   \n",
       "1314            NaN              NaN            NaN            NaN   \n",
       "1319            NaN              NaN            NaN            NaN   \n",
       "1327            NaN              NaN            NaN            NaN   \n",
       "1333            NaN              NaN            NaN            NaN   \n",
       "1338            NaN              NaN            NaN            NaN   \n",
       "1345            NaN              NaN            NaN            NaN   \n",
       "1354            NaN              NaN            NaN            NaN   \n",
       "1361            NaN              NaN            NaN            NaN   \n",
       "1366            NaN              NaN            NaN            NaN   \n",
       "1373            NaN              NaN            NaN            NaN   \n",
       "1381            NaN              NaN            NaN            NaN   \n",
       "1389            NaN              NaN            NaN            NaN   \n",
       "1397            NaN              NaN            NaN            NaN   \n",
       "1402            NaN              NaN            NaN            NaN   \n",
       "1410            NaN              NaN            NaN            NaN   \n",
       "1418            NaN              NaN            NaN            NaN   \n",
       "1423            NaN              NaN            NaN            NaN   \n",
       "1429            NaN              NaN            NaN            NaN   \n",
       "1437            NaN              NaN            NaN            NaN   \n",
       "1444            NaN              NaN            NaN            NaN   \n",
       "\n",
       "      TOTAL_EXPENDITURE  INSTRUCTION_EXPENDITURE  \\\n",
       "1290                NaN                      NaN   \n",
       "1297                NaN                      NaN   \n",
       "1314                NaN                      NaN   \n",
       "1319                NaN                      NaN   \n",
       "1327                NaN                      NaN   \n",
       "1333                NaN                      NaN   \n",
       "1338                NaN                      NaN   \n",
       "1345                NaN                      NaN   \n",
       "1354                NaN                      NaN   \n",
       "1361                NaN                      NaN   \n",
       "1366                NaN                      NaN   \n",
       "1373                NaN                      NaN   \n",
       "1381                NaN                      NaN   \n",
       "1389                NaN                      NaN   \n",
       "1397                NaN                      NaN   \n",
       "1402                NaN                      NaN   \n",
       "1410                NaN                      NaN   \n",
       "1418                NaN                      NaN   \n",
       "1423                NaN                      NaN   \n",
       "1429                NaN                      NaN   \n",
       "1437                NaN                      NaN   \n",
       "1444                NaN                      NaN   \n",
       "\n",
       "      SUPPORT_SERVICES_EXPENDITURE         ...           GRADES_4_G  \\\n",
       "1290                           NaN         ...                832.0   \n",
       "1297                           NaN         ...                776.0   \n",
       "1314                           NaN         ...                841.0   \n",
       "1319                           NaN         ...                819.0   \n",
       "1327                           NaN         ...                870.0   \n",
       "1333                           NaN         ...                799.0   \n",
       "1338                           NaN         ...                683.0   \n",
       "1345                           NaN         ...                791.0   \n",
       "1354                           NaN         ...                841.0   \n",
       "1361                           NaN         ...                750.0   \n",
       "1366                           NaN         ...                681.0   \n",
       "1373                           NaN         ...                814.0   \n",
       "1381                           NaN         ...                977.0   \n",
       "1389                           NaN         ...                892.0   \n",
       "1397                           NaN         ...                851.0   \n",
       "1402                           NaN         ...                633.0   \n",
       "1410                           NaN         ...                838.0   \n",
       "1418                           NaN         ...                869.0   \n",
       "1423                           NaN         ...                661.0   \n",
       "1429                           NaN         ...                784.0   \n",
       "1437                           NaN         ...                890.0   \n",
       "1444                           NaN         ...                862.0   \n",
       "\n",
       "      GRADES_8_G  GRADES_12_G  GRADES_1_8_G  GRADES_9_12_G  GRADES_ALL_G  \\\n",
       "1290       779.0        432.0        6773.0         2464.0        9760.0   \n",
       "1297       792.0        630.0        6297.0         3250.0       10009.0   \n",
       "1314       816.0        716.0        6569.0         3417.0       10448.0   \n",
       "1319       824.0        537.0        6658.0         3097.0       10217.0   \n",
       "1327       810.0        682.0        7044.0         3291.0       10915.0   \n",
       "1333       585.0        500.0        6030.0         2062.0        8680.0   \n",
       "1338       596.0        467.0        5667.0         1984.0        8211.0   \n",
       "1345       650.0        352.0        6270.0         2078.0        8874.0   \n",
       "1354       776.0        596.0        6857.0         3052.0       10494.0   \n",
       "1361       814.0        656.0        6265.0         3298.0       10025.0   \n",
       "1366       550.0        406.0        5493.0         1870.0        7873.0   \n",
       "1373       841.0        654.0        6589.0         3308.0       10359.0   \n",
       "1381       816.0        461.0        7020.0         2872.0       10498.0   \n",
       "1389       939.0        718.0        7115.0         3191.0       10885.0   \n",
       "1397       834.0        668.0        7072.0         3185.0       10837.0   \n",
       "1402       610.0        384.0        5303.0         1808.0        7532.0   \n",
       "1410       694.0        344.0        6471.0         2098.0        9118.0   \n",
       "1418       855.0        558.0        6894.0         3159.0       10515.0   \n",
       "1423       437.0        311.0        4878.0         1953.0        7254.0   \n",
       "1429       580.0        363.0        5795.0         1964.0        8349.0   \n",
       "1437       714.0        342.0        6594.0         2195.0        9368.0   \n",
       "1444       823.0        635.0        6595.0         3218.0       10275.0   \n",
       "\n",
       "      AVG_MATH_4_SCORE  AVG_MATH_8_SCORE  AVG_READING_4_SCORE  \\\n",
       "1290               NaN               NaN                  NaN   \n",
       "1297               NaN               NaN                  NaN   \n",
       "1314               NaN               NaN                  NaN   \n",
       "1319               NaN               NaN                  NaN   \n",
       "1327               NaN               NaN                  NaN   \n",
       "1333               NaN               NaN                  NaN   \n",
       "1338               NaN               NaN                  NaN   \n",
       "1345               NaN               NaN                  NaN   \n",
       "1354               NaN               NaN                  NaN   \n",
       "1361               NaN               NaN                  NaN   \n",
       "1366               NaN               NaN                  NaN   \n",
       "1373               NaN               NaN                  NaN   \n",
       "1381               NaN               NaN                  NaN   \n",
       "1389               NaN               NaN                  NaN   \n",
       "1397               NaN               NaN                  NaN   \n",
       "1402               NaN               NaN                  NaN   \n",
       "1410               NaN               NaN                  NaN   \n",
       "1418               NaN               NaN                  NaN   \n",
       "1423               NaN               NaN                  NaN   \n",
       "1429               NaN               NaN                  NaN   \n",
       "1437               NaN               NaN                  NaN   \n",
       "1444               NaN               NaN                  NaN   \n",
       "\n",
       "      AVG_READING_8_SCORE  \n",
       "1290                  NaN  \n",
       "1297                  NaN  \n",
       "1314                  NaN  \n",
       "1319                  NaN  \n",
       "1327                  NaN  \n",
       "1333                  NaN  \n",
       "1338                  NaN  \n",
       "1345                  NaN  \n",
       "1354                  NaN  \n",
       "1361                  NaN  \n",
       "1366                  NaN  \n",
       "1373                  NaN  \n",
       "1381                  NaN  \n",
       "1389                  NaN  \n",
       "1397                  NaN  \n",
       "1402                  NaN  \n",
       "1410                  NaN  \n",
       "1418                  NaN  \n",
       "1423                  NaN  \n",
       "1429                  NaN  \n",
       "1437                  NaN  \n",
       "1444                  NaN  \n",
       "\n",
       "[22 rows x 24 columns]"
      ]
     },
     "execution_count": 14,
     "metadata": {},
     "output_type": "execute_result"
    }
   ],
   "source": [
    "df_2[df_2['STATE']=='COMMONWEALTHOFMARIANAS']"
   ]
  },
  {
   "cell_type": "code",
   "execution_count": 15,
   "metadata": {},
   "outputs": [],
   "source": [
    "df_2 = df_2[df_2['STATE'] != 'DODOVERSEASANDDOMESTICCOMBINED']"
   ]
  },
  {
   "cell_type": "code",
   "execution_count": 16,
   "metadata": {},
   "outputs": [],
   "source": [
    "df_2.reset_index(drop = True,inplace = True)"
   ]
  },
  {
   "cell_type": "markdown",
   "metadata": {},
   "source": [
    "#### 2.2 - Enrollments\n",
    "According to the data description, column 'GRADES_ALL' is comparable to the 'ENROLL' column.  Thus, I will insert the value from the other column when possible."
   ]
  },
  {
   "cell_type": "code",
   "execution_count": 17,
   "metadata": {},
   "outputs": [
    {
     "name": "stdout",
     "output_type": "stream",
     "text": [
      "| Column       |   Percent Missing |   Unique Values |\n",
      "|--------------+-------------------+-----------------|\n",
      "| ENROLL       |           17.5721 |            1224 |\n",
      "| GRADES_ALL_G |           11.5359 |            1318 |\n"
     ]
    }
   ],
   "source": [
    "print(tabulate([[i, df_2[i].isnull().sum()/df_2.shape[0] * 100, df_2[i].nunique()] for i in ['ENROLL', 'GRADES_ALL_G']], headers=['Column', 'Percent Missing', 'Unique Values'], tablefmt='orgtbl'))"
   ]
  },
  {
   "cell_type": "code",
   "execution_count": 18,
   "metadata": {},
   "outputs": [],
   "source": [
    "df_2['GRADES_ALL_G'].fillna(df_2['ENROLL'], inplace = True)"
   ]
  },
  {
   "cell_type": "code",
   "execution_count": 19,
   "metadata": {},
   "outputs": [],
   "source": [
    "df_2['ENROLL'].fillna(df_2['GRADES_ALL_G'], inplace = True)"
   ]
  },
  {
   "cell_type": "code",
   "execution_count": 20,
   "metadata": {},
   "outputs": [
    {
     "name": "stdout",
     "output_type": "stream",
     "text": [
      "| Column       |   Percent Missing |   Unique Values |\n",
      "|--------------+-------------------+-----------------|\n",
      "| ENROLL       |           7.44467 |            1375 |\n",
      "| GRADES_ALL_G |           7.44467 |            1379 |\n"
     ]
    }
   ],
   "source": [
    "print(tabulate([[i, df_2[i].isnull().sum()/df_2.shape[0] * 100, df_2[i].nunique()] for i in ['ENROLL', 'GRADES_ALL_G']], headers=['Column', 'Percent Missing', 'Unique Values'], tablefmt='orgtbl'))"
   ]
  },
  {
   "cell_type": "markdown",
   "metadata": {},
   "source": [
    "There are still ~7.5% missing values in the two columns. But since the two columns are now redundant, I can delete one of them.  'Grades all' is related to other columns, so I will delete 'enroll'. "
   ]
  },
  {
   "cell_type": "code",
   "execution_count": 21,
   "metadata": {},
   "outputs": [],
   "source": [
    "df_2.drop('ENROLL', axis = 1, inplace=True)"
   ]
  },
  {
   "cell_type": "markdown",
   "metadata": {},
   "source": [
    "#### 2.3 - Grades\n",
    "Grades, as mentioned in section 2.2, is how many students are enrolled.  'Grades all' represents the total enrollment as measured by NCES.  'Grades 1_8' and 'Grades 9_12' represents the total number of students in grades 1-8 and 9-12 respectively.  Lastly, Grades PK, KG, 4, 8, and 12 represent the number of students in pre-kindergarten, kindergarten, 4th, 8th, and 12th grade respectively.  \n",
    "\n",
    "I wondered if it would make sense to add the columns 'Grades 1_8' and 'Grades 9_12' to get a number for 'Grades all'.  Just to see if this method is even remotely valid, I found the mean and medians from adding grades 1-12 and from all grades, and calculated the percent difference.  "
   ]
  },
  {
   "cell_type": "code",
   "execution_count": 22,
   "metadata": {},
   "outputs": [],
   "source": [
    "def percent_diff(val1, val2):\n",
    "    num = val1-val2\n",
    "    den = (val1 + val2)/2\n",
    "    return num/den*100"
   ]
  },
  {
   "cell_type": "code",
   "execution_count": 23,
   "metadata": {},
   "outputs": [],
   "source": [
    "grades_lst = ['GRADES_PK_G',\n",
    "       'GRADES_KG_G', 'GRADES_4_G', 'GRADES_8_G', 'GRADES_12_G',\n",
    "       'GRADES_1_8_G', 'GRADES_9_12_G', 'GRADES_ALL_G']"
   ]
  },
  {
   "cell_type": "code",
   "execution_count": 24,
   "metadata": {},
   "outputs": [
    {
     "data": {
      "text/html": [
       "<div>\n",
       "<style scoped>\n",
       "    .dataframe tbody tr th:only-of-type {\n",
       "        vertical-align: middle;\n",
       "    }\n",
       "\n",
       "    .dataframe tbody tr th {\n",
       "        vertical-align: top;\n",
       "    }\n",
       "\n",
       "    .dataframe thead th {\n",
       "        text-align: right;\n",
       "    }\n",
       "</style>\n",
       "<table border=\"1\" class=\"dataframe\">\n",
       "  <thead>\n",
       "    <tr style=\"text-align: right;\">\n",
       "      <th></th>\n",
       "      <th>GRADES_PK_G</th>\n",
       "      <th>GRADES_KG_G</th>\n",
       "      <th>GRADES_4_G</th>\n",
       "      <th>GRADES_8_G</th>\n",
       "      <th>GRADES_12_G</th>\n",
       "      <th>GRADES_1_8_G</th>\n",
       "      <th>GRADES_9_12_G</th>\n",
       "      <th>GRADES_ALL_G</th>\n",
       "    </tr>\n",
       "  </thead>\n",
       "  <tbody>\n",
       "    <tr>\n",
       "      <th>38</th>\n",
       "      <td>771.0</td>\n",
       "      <td>37519.0</td>\n",
       "      <td>41443.0</td>\n",
       "      <td>39610.0</td>\n",
       "      <td>31920.0</td>\n",
       "      <td>325128.0</td>\n",
       "      <td>144002.0</td>\n",
       "      <td>469901.0</td>\n",
       "    </tr>\n",
       "    <tr>\n",
       "      <th>90</th>\n",
       "      <td>837.0</td>\n",
       "      <td>37859.0</td>\n",
       "      <td>41290.0</td>\n",
       "      <td>39500.0</td>\n",
       "      <td>32828.0</td>\n",
       "      <td>327629.0</td>\n",
       "      <td>147819.0</td>\n",
       "      <td>476285.0</td>\n",
       "    </tr>\n",
       "    <tr>\n",
       "      <th>112</th>\n",
       "      <td>NaN</td>\n",
       "      <td>NaN</td>\n",
       "      <td>NaN</td>\n",
       "      <td>NaN</td>\n",
       "      <td>NaN</td>\n",
       "      <td>NaN</td>\n",
       "      <td>NaN</td>\n",
       "      <td>574252.0</td>\n",
       "    </tr>\n",
       "    <tr>\n",
       "      <th>142</th>\n",
       "      <td>1069.0</td>\n",
       "      <td>38930.0</td>\n",
       "      <td>41739.0</td>\n",
       "      <td>40473.0</td>\n",
       "      <td>33356.0</td>\n",
       "      <td>330390.0</td>\n",
       "      <td>149412.0</td>\n",
       "      <td>480871.0</td>\n",
       "    </tr>\n",
       "    <tr>\n",
       "      <th>195</th>\n",
       "      <td>855.0</td>\n",
       "      <td>39875.0</td>\n",
       "      <td>41721.0</td>\n",
       "      <td>42141.0</td>\n",
       "      <td>33202.0</td>\n",
       "      <td>333673.0</td>\n",
       "      <td>151386.0</td>\n",
       "      <td>485914.0</td>\n",
       "    </tr>\n",
       "  </tbody>\n",
       "</table>\n",
       "</div>"
      ],
      "text/plain": [
       "     GRADES_PK_G  GRADES_KG_G  GRADES_4_G  GRADES_8_G  GRADES_12_G  \\\n",
       "38         771.0      37519.0     41443.0     39610.0      31920.0   \n",
       "90         837.0      37859.0     41290.0     39500.0      32828.0   \n",
       "112          NaN          NaN         NaN         NaN          NaN   \n",
       "142       1069.0      38930.0     41739.0     40473.0      33356.0   \n",
       "195        855.0      39875.0     41721.0     42141.0      33202.0   \n",
       "\n",
       "     GRADES_1_8_G  GRADES_9_12_G  GRADES_ALL_G  \n",
       "38       325128.0       144002.0      469901.0  \n",
       "90       327629.0       147819.0      476285.0  \n",
       "112           NaN            NaN      574252.0  \n",
       "142      330390.0       149412.0      480871.0  \n",
       "195      333673.0       151386.0      485914.0  "
      ]
     },
     "execution_count": 24,
     "metadata": {},
     "output_type": "execute_result"
    }
   ],
   "source": [
    "df_2[(df_2['STATE'] == 'OREGON')][grades_lst].head()"
   ]
  },
  {
   "cell_type": "code",
   "execution_count": 25,
   "metadata": {},
   "outputs": [
    {
     "name": "stdout",
     "output_type": "stream",
     "text": [
      "Mean of added grades: 766285.3879500368\n",
      "Mean of all grades: 807619.35\n",
      "Percent difference in mean: -5.25240963488037\n"
     ]
    }
   ],
   "source": [
    "grades_added_mean = df_2[['GRADES_1_8_G', 'GRADES_9_12_G']].apply(lambda x: sum(x), axis = 1).mean()\n",
    "grades_all_mean = df_2['GRADES_ALL_G'].mean()\n",
    "print('Mean of added grades: {}'.format(grades_added_mean))\n",
    "print('Mean of all grades: {}'.format(grades_all_mean))\n",
    "print('Percent difference in mean: {}'.format(percent_diff(grades_added_mean, grades_all_mean)))"
   ]
  },
  {
   "cell_type": "code",
   "execution_count": 26,
   "metadata": {},
   "outputs": [
    {
     "name": "stdout",
     "output_type": "stream",
     "text": [
      "Median of added grades: 519166.0\n",
      "Median of all grades: 550380.5\n",
      "Percent difference in median: -5.836959870374967\n"
     ]
    }
   ],
   "source": [
    "grades_added_median = df_2[['GRADES_1_8_G', 'GRADES_9_12_G']].apply(lambda x: sum(x), axis = 1).median()\n",
    "grades_all_median = df_2['GRADES_ALL_G'].median()\n",
    "print('Median of added grades: {}'.format(grades_added_median))\n",
    "print('Median of all grades: {}'.format(grades_all_median))\n",
    "print('Percent difference in median: {}'.format(percent_diff(grades_added_median, grades_all_median)))"
   ]
  },
  {
   "cell_type": "markdown",
   "metadata": {},
   "source": [
    "Although the means and medians are pretty far from each other, indicating potentially skewed data, the percent differences are ~5.5%.  For both mean and medians, 'Grades all' was higher number.  For this exercise, I will say it is a valid method to add 'Grades 1_8' and 'Grades 9_12' plus some percentage (this will be calculated by state) to estimate , or vice versa where 'Grades all' can be used to estimate the two grades.  \n",
    "\n",
    "Before I do that though, I wanted to see which states have values in 'Grades 1_8' and 'Grades 8_12' but missing values in 'Grades all'.  "
   ]
  },
  {
   "cell_type": "code",
   "execution_count": 27,
   "metadata": {},
   "outputs": [
    {
     "data": {
      "text/plain": [
       "VIRGINISLANDS              23\n",
       "BUREAUOFINDIANAFFAIRS       6\n",
       "BUREAUOFINDIANEDUCATION     2\n",
       "WYOMING                     1\n",
       "Name: STATE, dtype: int64"
      ]
     },
     "execution_count": 27,
     "metadata": {},
     "output_type": "execute_result"
    }
   ],
   "source": [
    "df_2[df_2['GRADES_ALL_G'].isnull() & df_2['GRADES_9_12_G'].notnull()]['STATE'].value_counts()"
   ]
  },
  {
   "cell_type": "markdown",
   "metadata": {},
   "source": [
    "Interestingly, there are 4 states with these conditions, and 3 of them have over 50% missing values (everything except Wyoming).  Originally, I didn't think there was much I could do to salvage those missing values, but now I am glad I didn't discount these states "
   ]
  },
  {
   "cell_type": "code",
   "execution_count": 28,
   "metadata": {},
   "outputs": [],
   "source": [
    "def est_grades_all(state, lower_grade, upper_grade):\n",
    "    val1 = df_2[df_2['STATE'] == state][['GRADES_1_8_G', 'GRADES_9_12_G']].apply(lambda x: sum(x), axis = 1).median()\n",
    "    val2 = df_2[df_2['STATE'] == state]['GRADES_ALL_G'].median()\n",
    "    if not pd.isna(val2):\n",
    "        grade_all = (lower_grade + upper_grade) * ((percent_diff(val1, val2) * -1)/100 + 1)\n",
    "    else:\n",
    "        grade_all = lower_grade + upper_grade\n",
    "    return grade_all"
   ]
  },
  {
   "cell_type": "code",
   "execution_count": 29,
   "metadata": {},
   "outputs": [],
   "source": [
    "for state in ['VIRGINISLANDS', 'BUREAUOFINDIANAFFAIRS', 'BUREAUOFINDIANEDUCATION', 'WYOMING']:\n",
    "    condition = ((df_2['STATE'] == state) & (df_2['GRADES_1_8_G'].notnull()) & (df_2['GRADES_ALL_G'].isnull()))\n",
    "    df_2.loc[condition, 'GRADES_ALL_G'] = df_2.loc[condition].apply(lambda row: est_grades_all(state, row['GRADES_1_8_G'], row['GRADES_9_12_G']), axis = 1)"
   ]
  },
  {
   "cell_type": "code",
   "execution_count": 30,
   "metadata": {},
   "outputs": [
    {
     "name": "stdout",
     "output_type": "stream",
     "text": [
      "| Column        |   Percent Missing |   Unique Values |\n",
      "|---------------+-------------------+-----------------|\n",
      "| GRADES_1_8_G  |           8.71898 |            1360 |\n",
      "| GRADES_9_12_G |           8.71898 |            1358 |\n",
      "| GRADES_ALL_G  |           5.29846 |            1410 |\n"
     ]
    }
   ],
   "source": [
    "print(tabulate([[i, df_2[i].isnull().sum()/df_2.shape[0] * 100, df_2[i].nunique()] for i in ['GRADES_1_8_G', 'GRADES_9_12_G', 'GRADES_ALL_G']], headers=['Column', 'Percent Missing', 'Unique Values'], tablefmt='orgtbl'))"
   ]
  },
  {
   "cell_type": "markdown",
   "metadata": {},
   "source": [
    "After applying these ideas, the percent of missing values in 'Grades all' reduced to ~5.3%.  \n",
    "\n",
    "Lastly, I wanted to see if I could estimate the enrollment numbers in 'Grades 1_8' and 'Grades 9_12'.  I suspect it will be a percentage of 'Grades all'.  Below are two boxplots showing the range in percent for 'Grades 1_8' and 'Grades 9_12' based off 'Grades all'.  There is some variance but for the most part, not too large.  Imputing the this percent multiplied by 'Grades all' should be a good starting point."
   ]
  },
  {
   "cell_type": "code",
   "execution_count": 31,
   "metadata": {},
   "outputs": [],
   "source": [
    "def get_grade_percents(state, grades_sub, get_median = True):\n",
    "    if get_median:\n",
    "        return (df_2[df_2['STATE']== state][grades_sub]/df_2[df_2['STATE']==state]['GRADES_ALL_G']).median()\n",
    "    else:\n",
    "        return df_2[df_2['STATE']== state][grades_sub]/df_2[df_2['STATE']==state]['GRADES_ALL_G']\n"
   ]
  },
  {
   "cell_type": "code",
   "execution_count": 32,
   "metadata": {},
   "outputs": [
    {
     "data": {
      "image/png": "[encoded data removed]",
      "text/plain": [
       "<matplotlib.figure.Figure at 0x2340171cc88>"
      ]
     },
     "metadata": {},
     "output_type": "display_data"
    }
   ],
   "source": [
    "fig, ((axis1, axis2), (axis3, axis4)) = plt.subplots(2,2,figsize=(10,8))\n",
    "\n",
    "sns.boxplot(x = get_grade_percents('OREGON', 'GRADES_1_8_G', False), ax = axis1)\n",
    "sns.boxplot(x = get_grade_percents('OREGON', 'GRADES_9_12_G', False), ax = axis2)\n",
    "sns.boxplot(x = get_grade_percents('VERMONT', 'GRADES_1_8_G', False), ax = axis3)\n",
    "sns.boxplot(x = get_grade_percents('VERMONT', 'GRADES_9_12_G', False), ax = axis4)\n",
    "\n",
    "axis1.set_title('Percent Enrollment of Grades 1-8 in Oregon')\n",
    "axis2.set_title('Percent Enrollment of Grades 9-12 in Oregon')\n",
    "axis3.set_title('Percent Enrollment of Grades 1-8 in Vermont')\n",
    "axis4.set_title('Percent Enrollment of Grades 9-12 in Oregon')\n",
    "\n",
    "for ax in [axis1, axis2, axis3, axis4]:\n",
    "    ax.set_xlabel('Percent')\n",
    "    \n",
    "plt.tight_layout()"
   ]
  },
  {
   "cell_type": "code",
   "execution_count": 33,
   "metadata": {},
   "outputs": [],
   "source": [
    "states_est_grades_list = df_2[df_2['GRADES_ALL_G'].notnull() & df_2['GRADES_1_8_G'].isnull()]['STATE'].unique()"
   ]
  },
  {
   "cell_type": "code",
   "execution_count": 34,
   "metadata": {},
   "outputs": [],
   "source": [
    "for state in states_est_grades_list:\n",
    "    condition = ((df_2['STATE'] == state) & (df_2['GRADES_ALL_G'].notnull()) & (df_2['GRADES_1_8_G'].isnull()))\n",
    "    df_2.loc[condition, 'GRADES_1_8_G'] = df_2.loc[condition].apply(lambda row: row['GRADES_ALL_G'] * get_grade_percents(state, 'GRADES_1_8_G') if pd.isna(row['GRADES_1_8_G']) else row['GRADES_1_8_G'], axis =1)\n",
    "    df_2.loc[condition, 'GRADES_9_12_G'] = df_2.loc[condition].apply(lambda row: row['GRADES_ALL_G'] * get_grade_percents(state, 'GRADES_9_12_G') if pd.isna(row['GRADES_9_12_G']) else row['GRADES_9_12_G'], axis =1)"
   ]
  },
  {
   "cell_type": "code",
   "execution_count": 35,
   "metadata": {},
   "outputs": [
    {
     "name": "stdout",
     "output_type": "stream",
     "text": [
      "| Column        |   Percent Missing |   Unique Values |\n",
      "|---------------+-------------------+-----------------|\n",
      "| GRADES_1_8_G  |           5.29846 |            1411 |\n",
      "| GRADES_9_12_G |           5.29846 |            1409 |\n",
      "| GRADES_ALL_G  |           5.29846 |            1410 |\n"
     ]
    }
   ],
   "source": [
    "print(tabulate([[i, df_2[i].isnull().sum()/df_2.shape[0] * 100, df_2[i].nunique()] for i in ['GRADES_1_8_G', 'GRADES_9_12_G', 'GRADES_ALL_G']], headers=['Column', 'Percent Missing', 'Unique Values'], tablefmt='orgtbl'))"
   ]
  },
  {
   "cell_type": "markdown",
   "metadata": {},
   "source": [
    "After applying these conditions, missing values of 'Grades 1_8' and 'Grades 9_12' are also reduced to ~5.3%.  I'm sure a similar approach could be applied to the other grades, but for brevity of this exercise, I will choose not to fill in those missing values.  As such, I will delete these rows.  "
   ]
  },
  {
   "cell_type": "code",
   "execution_count": 36,
   "metadata": {},
   "outputs": [],
   "source": [
    "df_2.drop(['GRADES_PK_G', 'GRADES_KG_G', 'GRADES_4_G', 'GRADES_8_G', 'GRADES_12_G'], axis = 1, inplace = True)"
   ]
  },
  {
   "cell_type": "markdown",
   "metadata": {},
   "source": [
    "The rest of the missing values will be filled in with the median values of each state."
   ]
  },
  {
   "cell_type": "code",
   "execution_count": 37,
   "metadata": {},
   "outputs": [],
   "source": [
    "states_all_list = df_2['STATE'].unique()"
   ]
  },
  {
   "cell_type": "code",
   "execution_count": 38,
   "metadata": {},
   "outputs": [],
   "source": [
    "for state in states_all_list:\n",
    "    df_2.loc[df_2['STATE']==state, 'GRADES_1_8_G'] = df_2.loc[df_2['STATE']==state, 'GRADES_1_8_G'].fillna(df_2[df_2['STATE']==state]['GRADES_1_8_G'].median())\n",
    "    df_2.loc[df_2['STATE']==state, 'GRADES_9_12_G'] = df_2.loc[df_2['STATE']==state, 'GRADES_9_12_G'].fillna(df_2[df_2['STATE']==state]['GRADES_9_12_G'].median())\n",
    "    df_2.loc[df_2['STATE']==state, 'GRADES_ALL_G'] = df_2.loc[df_2['STATE']==state, 'GRADES_ALL_G'].fillna(df_2[df_2['STATE']==state]['GRADES_ALL_G'].median())"
   ]
  },
  {
   "cell_type": "code",
   "execution_count": 39,
   "metadata": {},
   "outputs": [
    {
     "name": "stdout",
     "output_type": "stream",
     "text": [
      "| Column        |   Percent Missing |   Unique Values |\n",
      "|---------------+-------------------+-----------------|\n",
      "| GRADES_1_8_G  |                 0 |            1416 |\n",
      "| GRADES_9_12_G |                 0 |            1414 |\n",
      "| GRADES_ALL_G  |                 0 |            1415 |\n"
     ]
    }
   ],
   "source": [
    "print(tabulate([[i, df_2[i].isnull().sum()/df_2.shape[0] * 100, df_2[i].nunique()] for i in ['GRADES_1_8_G', 'GRADES_9_12_G', 'GRADES_ALL_G']], headers=['Column', 'Percent Missing', 'Unique Values'], tablefmt='orgtbl'))"
   ]
  },
  {
   "cell_type": "markdown",
   "metadata": {},
   "source": [
    "#### 2.4 - Revenues and Expenditures\n",
    "Most of the columns regarding revenues and expenditures have the same percent of missing values, at 14.2%.  This tells me that most likely the whole row is missing regarding finances.  There is however, one expenditure that has 17.6% missing values, which is the 'other expenditure' column.  My guess on why the percent of missing value is higher is because there are some rows where the other expendetures are \\$0 but got inputted as a null value.  To correct this, I will fill in $0 to any row with a value in total revenue."
   ]
  },
  {
   "cell_type": "code",
   "execution_count": 40,
   "metadata": {},
   "outputs": [],
   "source": [
    "finance_list = ['TOTAL_REVENUE', 'FEDERAL_REVENUE',\n",
    "       'STATE_REVENUE', 'LOCAL_REVENUE', 'TOTAL_EXPENDITURE',\n",
    "       'INSTRUCTION_EXPENDITURE', 'SUPPORT_SERVICES_EXPENDITURE',\n",
    "       'OTHER_EXPENDITURE', 'CAPITAL_OUTLAY_EXPENDITURE']"
   ]
  },
  {
   "cell_type": "code",
   "execution_count": 41,
   "metadata": {},
   "outputs": [
    {
     "name": "stdout",
     "output_type": "stream",
     "text": [
      "| Column                       |   Percent Missing |   Unique Values |\n",
      "|------------------------------+-------------------+-----------------|\n",
      "| TOTAL_REVENUE                |           14.1516 |            1274 |\n",
      "| FEDERAL_REVENUE              |           14.1516 |            1275 |\n",
      "| STATE_REVENUE                |           14.1516 |            1251 |\n",
      "| LOCAL_REVENUE                |           14.1516 |            1275 |\n",
      "| TOTAL_EXPENDITURE            |           14.1516 |            1275 |\n",
      "| INSTRUCTION_EXPENDITURE      |           14.1516 |            1275 |\n",
      "| SUPPORT_SERVICES_EXPENDITURE |           14.1516 |            1275 |\n",
      "| OTHER_EXPENDITURE            |           17.5721 |            1222 |\n",
      "| CAPITAL_OUTLAY_EXPENDITURE   |           14.1516 |            1275 |\n"
     ]
    }
   ],
   "source": [
    "print(tabulate([[i, df_2[i].isnull().sum()/df_2.shape[0] * 100, df_2[i].nunique()] for i in finance_list], headers=['Column', 'Percent Missing', 'Unique Values'], tablefmt='orgtbl'))"
   ]
  },
  {
   "cell_type": "code",
   "execution_count": 42,
   "metadata": {},
   "outputs": [],
   "source": [
    "df_2.loc[(df_2['OTHER_EXPENDITURE'].isnull() & df_2['TOTAL_REVENUE'].notnull()), 'OTHER_EXPENDITURE'] = df_2.loc[(df_2['OTHER_EXPENDITURE'].isnull() & df_2['TOTAL_REVENUE'].notnull()), 'OTHER_EXPENDITURE'].fillna(0)"
   ]
  },
  {
   "cell_type": "markdown",
   "metadata": {},
   "source": [
    "The rest of the missing values will be filled in with the median values by state.  This reduces the percent of missing values to ~10.5%.  The states that have missing values never had an entry to begin with, so it would be inappropriate to impute a value."
   ]
  },
  {
   "cell_type": "code",
   "execution_count": 43,
   "metadata": {},
   "outputs": [],
   "source": [
    "for state in states_all_list:\n",
    "    for col in finance_list:\n",
    "        df_2.loc[df_2['STATE']==state, col] = df_2.loc[df_2['STATE']==state, col].fillna(df_2[df_2['STATE']==state][col].median())"
   ]
  },
  {
   "cell_type": "code",
   "execution_count": 44,
   "metadata": {},
   "outputs": [
    {
     "name": "stdout",
     "output_type": "stream",
     "text": [
      "| Column                       |   Percent Missing |   Unique Values |\n",
      "|------------------------------+-------------------+-----------------|\n",
      "| TOTAL_REVENUE                |           10.7311 |            1275 |\n",
      "| FEDERAL_REVENUE              |           10.7311 |            1276 |\n",
      "| STATE_REVENUE                |           10.7311 |            1251 |\n",
      "| LOCAL_REVENUE                |           10.7311 |            1276 |\n",
      "| TOTAL_EXPENDITURE            |           10.7311 |            1276 |\n",
      "| INSTRUCTION_EXPENDITURE      |           10.7311 |            1276 |\n",
      "| SUPPORT_SERVICES_EXPENDITURE |           10.7311 |            1276 |\n",
      "| OTHER_EXPENDITURE            |           10.7311 |            1224 |\n",
      "| CAPITAL_OUTLAY_EXPENDITURE   |           10.7311 |            1276 |\n"
     ]
    }
   ],
   "source": [
    "print(tabulate([[i, df_2[i].isnull().sum()/df_2.shape[0] * 100, df_2[i].nunique()] for i in finance_list], headers=['Column', 'Percent Missing', 'Unique Values'], tablefmt='orgtbl'))"
   ]
  },
  {
   "cell_type": "code",
   "execution_count": 45,
   "metadata": {},
   "outputs": [
    {
     "data": {
      "text/plain": [
       "VIRGINISLANDS                           24\n",
       "PUERTORICO                              24\n",
       "GUAM                                    24\n",
       "AMERICANSAMOA                           23\n",
       "COMMONWEALTHOFMARIANAS                  22\n",
       "DODDOMESTIC                             10\n",
       "DODOVERSEAS                             10\n",
       "BUREAUOFINDIANAFFAIRS                   10\n",
       "DEPARTMENTOFDEFENSE                      6\n",
       "BUREAUOFINDIANEDUCATION                  5\n",
       "DODFOREIGN                               1\n",
       "DEPARTMENTOFDEFENSEEDUCATIONACTIVITY     1\n",
       "Name: STATE, dtype: int64"
      ]
     },
     "execution_count": 45,
     "metadata": {},
     "output_type": "execute_result"
    }
   ],
   "source": [
    "df_2[df_2['TOTAL_REVENUE'].isnull()]['STATE'].value_counts()"
   ]
  },
  {
   "cell_type": "markdown",
   "metadata": {},
   "source": [
    "#### 2.5 - Average Math and Reading Scores\n",
    "According to the description, the math and reading scores are taken every few years, so missing values are actually expected! I'm not entirely sure how to handle this if we are ignoring year.  Filling in median scores by state will suffice for now. "
   ]
  },
  {
   "cell_type": "code",
   "execution_count": 46,
   "metadata": {},
   "outputs": [],
   "source": [
    "for state in states_all_list:\n",
    "    df_2.loc[df_2['STATE']== state, 'AVG_MATH_4_SCORE'] = df_2.loc[df_2['STATE']== state, 'AVG_MATH_4_SCORE'].fillna(df_2[df_2['STATE']== state]['AVG_MATH_4_SCORE'].median())\n",
    "    df_2.loc[df_2['STATE']== state, 'AVG_MATH_8_SCORE'] = df_2.loc[df_2['STATE']== state, 'AVG_MATH_8_SCORE'].fillna(df_2[df_2['STATE']== state]['AVG_MATH_8_SCORE'].median())\n",
    "    df_2.loc[df_2['STATE']== state, 'AVG_READING_4_SCORE'] = df_2.loc[df_2['STATE']== state, 'AVG_READING_4_SCORE'].fillna(df_2[df_2['STATE']== state]['AVG_READING_4_SCORE'].median())\n",
    "    df_2.loc[df_2['STATE']== state, 'AVG_READING_8_SCORE'] = df_2.loc[df_2['STATE']== state, 'AVG_READING_8_SCORE'].fillna(df_2[df_2['STATE']== state]['AVG_READING_8_SCORE'].median())"
   ]
  },
  {
   "cell_type": "code",
   "execution_count": 47,
   "metadata": {},
   "outputs": [
    {
     "name": "stdout",
     "output_type": "stream",
     "text": [
      "| Column              |   Percent Missing |   Unique Values |\n",
      "|---------------------+-------------------+-----------------|\n",
      "| AVG_MATH_4_SCORE    |           10.7311 |             550 |\n",
      "| AVG_MATH_8_SCORE    |           10.7311 |             544 |\n",
      "| AVG_READING_4_SCORE |           10.7311 |             548 |\n",
      "| AVG_READING_8_SCORE |           10.7311 |             532 |\n"
     ]
    }
   ],
   "source": [
    "print(tabulate([[i, df_2[i].isnull().sum()/df_2.shape[0] * 100, df_2[i].nunique()] for i in ['AVG_MATH_4_SCORE', 'AVG_MATH_8_SCORE', 'AVG_READING_4_SCORE', 'AVG_READING_8_SCORE']], headers=['Column', 'Percent Missing', 'Unique Values'], tablefmt='orgtbl'))"
   ]
  },
  {
   "cell_type": "markdown",
   "metadata": {},
   "source": [
    "Again, there are ~10.5% missing values for these columns.  In fact, its the exact same percentage as seen with the financial related columns.  These U.S. territories never had a value inputed.  "
   ]
  },
  {
   "cell_type": "markdown",
   "metadata": {},
   "source": [
    "### 3 - Now, take into account the time factor. Replicate your second answer but this time fill in the missing values by using a statistic that is calculated within the year of the observation. For example, if you want to fill a missing value for a variable with the mean of that variable, calculate the mean by using only the observations for that specific year."
   ]
  },
  {
   "cell_type": "markdown",
   "metadata": {},
   "source": [
    "Analysis for question 3 starts off similarly to question 2 by making a copy, correcting state names, and deleting states with no information. The only difference is that I do not delete the 'Year' column."
   ]
  },
  {
   "cell_type": "code",
   "execution_count": 48,
   "metadata": {},
   "outputs": [],
   "source": [
    "df_3 = df.copy()\n",
    "df_3['STATE'] = df_3['STATE'].apply(lambda x: x.translate(str.maketrans('', '', string.punctuation)))\n",
    "df_3['STATE'] = df_3['STATE'].apply(correct_states)\n",
    "df_3 = df_3[df_3['STATE'] != 'DODOVERSEASANDDOMESTICCOMBINED']\n",
    "df_3.reset_index(drop = True,inplace = True)"
   ]
  },
  {
   "cell_type": "markdown",
   "metadata": {},
   "source": [
    "#### 3.1 - Enrollments\n",
    "Treatment of enrollments here is also the same as question 2."
   ]
  },
  {
   "cell_type": "code",
   "execution_count": 49,
   "metadata": {},
   "outputs": [],
   "source": [
    "df_3['ENROLL'].fillna(df_3['GRADES_ALL_G'], inplace = True)\n",
    "df_3['GRADES_ALL_G'].fillna(df_3['ENROLL'], inplace = True)\n",
    "df_3.drop('ENROLL', axis = 1, inplace = True)"
   ]
  },
  {
   "cell_type": "markdown",
   "metadata": {},
   "source": [
    "#### 3.2 - Grades\n",
    "The first part of the grades section is the same as Question 2, since it is most accurate to estimate 'Grades all' by adding 'Grades 1_8' and 'Grades 9_12'.  I will also drop the same columns as in Question 2."
   ]
  },
  {
   "cell_type": "code",
   "execution_count": 50,
   "metadata": {},
   "outputs": [],
   "source": [
    "df_3.drop(['GRADES_PK_G', 'GRADES_KG_G', 'GRADES_4_G', 'GRADES_8_G', 'GRADES_12_G'], axis = 1, inplace = True)"
   ]
  },
  {
   "cell_type": "code",
   "execution_count": 51,
   "metadata": {},
   "outputs": [],
   "source": [
    "for state in ['VIRGINISLANDS', 'BUREAUOFINDIANAFFAIRS', 'BUREAUOFINDIANEDUCATION', 'WYOMING']:\n",
    "    condition = ((df_3['STATE'] == state) & (df_3['GRADES_1_8_G'].notnull()) & (df_3['GRADES_ALL_G'].isnull()))\n",
    "    df_3.loc[condition, 'GRADES_ALL_G'] = df_3.loc[condition].apply(lambda row: est_grades_all(state, row['GRADES_1_8_G'], row['GRADES_9_12_G']), axis = 1)"
   ]
  },
  {
   "cell_type": "markdown",
   "metadata": {},
   "source": [
    "Now that we have a time component, lets see how 'Grades 1_8' and 'Grades 9_12' have changed over time in Oregon and Vermont."
   ]
  },
  {
   "cell_type": "code",
   "execution_count": 52,
   "metadata": {},
   "outputs": [
    {
     "data": {
      "image/png": "[encoded data removed]",
      "text/plain": [
       "<matplotlib.figure.Figure at 0x234017a4278>"
      ]
     },
     "metadata": {},
     "output_type": "display_data"
    }
   ],
   "source": [
    "fig, ((axis1, axis2), (axis3, axis4)) = plt.subplots(2,2,figsize=(10,8))\n",
    "\n",
    "sns.lineplot(x = 'YEAR', y = 'GRADES_1_8_G', data = df_3[df_3['STATE']=='OREGON'], ax = axis1)\n",
    "sns.lineplot(x = 'YEAR', y = 'GRADES_9_12_G', data = df_3[df_3['STATE']=='OREGON'], ax = axis2)\n",
    "sns.lineplot(x = 'YEAR', y = 'GRADES_1_8_G', data = df_3[df_3['STATE']=='VERMONT'], ax = axis3)\n",
    "sns.lineplot(x = 'YEAR', y = 'GRADES_9_12_G', data = df_3[df_3['STATE']=='VERMONT'], ax = axis4)\n",
    "\n",
    "axis1.set_title('Enrollment of Grades 1 to 8 in Oregon')\n",
    "axis2.set_title('Enrollment of Grades 9 to 12 in Oregon')\n",
    "axis3.set_title('Enrollment of Grades 1 to 8 in Vermont')\n",
    "axis4.set_title('Enrollment of Grades 9 to 12 in Vermont')\n",
    "\n",
    "for ax in [axis1, axis2, axis3, axis4]:\n",
    "    ax.set_ylabel('Enrollment')\n",
    "    ax.set_xlabel('Year')\n",
    "\n",
    "plt.tight_layout()"
   ]
  },
  {
   "cell_type": "markdown",
   "metadata": {},
   "source": [
    "As you can see, enrollments for each grade varies over the years, and imputing the average is not a good technique.  In addition, I show below that most of the states (aside from the territories) only have 2 missing values for 'Grades 1_8' (the same can be said for 'Grades 9_12' and 'Grades all').  If you look at the above graphs, they end in year 2015.  However, the dataset goes up to year 2017.  The data has not been entered for the last two years.  "
   ]
  },
  {
   "cell_type": "code",
   "execution_count": 53,
   "metadata": {},
   "outputs": [
    {
     "data": {
      "text/plain": [
       "AMERICANSAMOA              8\n",
       "GUAM                       5\n",
       "DEPARTMENTOFDEFENSE        4\n",
       "BUREAUOFINDIANAFFAIRS      4\n",
       "BUREAUOFINDIANEDUCATION    3\n",
       "KANSAS                     2\n",
       "ARKANSAS                   2\n",
       "RHODEISLAND                2\n",
       "HAWAII                     2\n",
       "ALASKA                     2\n",
       "MASSACHUSETTS              2\n",
       "MINNESOTA                  2\n",
       "IDAHO                      2\n",
       "INDIANA                    2\n",
       "OHIO                       2\n",
       "MICHIGAN                   2\n",
       "NEWJERSEY                  2\n",
       "MARYLAND                   2\n",
       "NORTHDAKOTA                2\n",
       "WYOMING                    2\n",
       "CONNECTICUT                2\n",
       "GEORGIA                    2\n",
       "ARIZONA                    2\n",
       "TENNESSEE                  2\n",
       "NORTHCAROLINA              2\n",
       "COLORADO                   2\n",
       "DODOVERSEAS                2\n",
       "DISTRICTOFCOLUMBIA         2\n",
       "OREGON                     2\n",
       "NEWHAMPSHIRE               2\n",
       "UTAH                       2\n",
       "DELAWARE                   2\n",
       "SOUTHCAROLINA              2\n",
       "MAINE                      2\n",
       "MISSOURI                   2\n",
       "MONTANA                    2\n",
       "IOWA                       2\n",
       "WESTVIRGINIA               2\n",
       "NEWYORK                    2\n",
       "VERMONT                    2\n",
       "OKLAHOMA                   2\n",
       "LOUISIANA                  2\n",
       "KENTUCKY                   2\n",
       "SOUTHDAKOTA                2\n",
       "ALABAMA                    2\n",
       "NEWMEXICO                  2\n",
       "WASHINGTON                 2\n",
       "FLORIDA                    2\n",
       "TEXAS                      2\n",
       "MISSISSIPPI                2\n",
       "WISCONSIN                  2\n",
       "NEVADA                     2\n",
       "NEBRASKA                   2\n",
       "CALIFORNIA                 2\n",
       "VIRGINIA                   2\n",
       "PENNSYLVANIA               2\n",
       "ILLINOIS                   2\n",
       "VIRGINISLANDS              1\n",
       "DODDOMESTIC                1\n",
       "Name: STATE, dtype: int64"
      ]
     },
     "execution_count": 53,
     "metadata": {},
     "output_type": "execute_result"
    }
   ],
   "source": [
    "df_3[df_3['GRADES_1_8_G'].isnull()]['STATE'].value_counts()"
   ]
  },
  {
   "cell_type": "markdown",
   "metadata": {},
   "source": [
    "A very simplified way to impute the enrollment data for 2016 and 2017 is to analyze what kind of trend the enrollment had in 2012-2015 and assume the enrollment will have the same trend.  A similar approach can be used for any year as long as there are data points in the year before and/or after the target year."
   ]
  },
  {
   "cell_type": "code",
   "execution_count": 54,
   "metadata": {},
   "outputs": [],
   "source": [
    "def get_grade_regression(year, state, grade):\n",
    "    try:\n",
    "        x = [year-2, year-1]\n",
    "        y = [df_3[(df_3['YEAR'] == year-2) & (df_3['STATE'] == state)][grade].values[0], df_3[(df_3['YEAR'] == year-1) & (df_3['STATE'] == state)][grade].values[0]]\n",
    "        slope, intercept, r_value, p_value, std_err = stats.linregress(x,y)\n",
    "        return slope * year + intercept \n",
    "\n",
    "    except:\n",
    "        pass\n",
    "    \n",
    "for i in range(2):\n",
    "    df_3.loc[df_3['GRADES_1_8_G'].isnull(), 'GRADES_1_8_G'] = df_3.loc[df_3['GRADES_1_8_G'].isnull()].apply(lambda row: get_grade_regression(row['YEAR'], row['STATE'], 'GRADES_1_8_G'), axis = 1)\n",
    "    df_3.loc[df_3['GRADES_9_12_G'].isnull(), 'GRADES_9_12_G'] = df_3.loc[df_3['GRADES_9_12_G'].isnull()].apply(lambda row: get_grade_regression(row['YEAR'], row['STATE'], 'GRADES_9_12_G'), axis = 1)\n",
    "    df_3.loc[df_3['GRADES_ALL_G'].isnull(), 'GRADES_ALL_G'] = df_3.loc[df_3['GRADES_ALL_G'].isnull()].apply(lambda row: get_grade_regression(row['YEAR'], row['STATE'], 'GRADES_ALL_G'), axis = 1)"
   ]
  },
  {
   "cell_type": "code",
   "execution_count": 55,
   "metadata": {},
   "outputs": [
    {
     "name": "stdout",
     "output_type": "stream",
     "text": [
      "| Column        |   Percent Missing |   Unique Values |\n",
      "|---------------+-------------------+-----------------|\n",
      "| GRADES_1_8_G  |           1.34138 |            1469 |\n",
      "| GRADES_9_12_G |           1.34138 |            1468 |\n",
      "| GRADES_ALL_G  |           1.34138 |            1470 |\n"
     ]
    }
   ],
   "source": [
    "print(tabulate([[i, df_3[i].isnull().sum()/df_3.shape[0] * 100, df_3[i].nunique()] for i in ['GRADES_1_8_G', 'GRADES_9_12_G', 'GRADES_ALL_G']], headers=['Column', 'Percent Missing', 'Unique Values'], tablefmt='orgtbl'))"
   ]
  },
  {
   "cell_type": "markdown",
   "metadata": {},
   "source": [
    "The 1.3% that is missing are from the U.S. territories."
   ]
  },
  {
   "cell_type": "markdown",
   "metadata": {},
   "source": [
    "#### 3.3 - Revenue and Expenditures\n",
    "The problem with 'Other Expenditures' starts off the same as in Question 2."
   ]
  },
  {
   "cell_type": "code",
   "execution_count": 56,
   "metadata": {},
   "outputs": [],
   "source": [
    "df_3.loc[(df_3['OTHER_EXPENDITURE'].isnull() & df_3['TOTAL_REVENUE'].notnull()), 'OTHER_EXPENDITURE'] = df_3.loc[(df_3['OTHER_EXPENDITURE'].isnull() & df_3['TOTAL_REVENUE'].notnull()), 'OTHER_EXPENDITURE'].fillna(0)"
   ]
  },
  {
   "cell_type": "markdown",
   "metadata": {},
   "source": [
    "The rest of the missing values comes from year 2017.  Lets see if I can apply a similar tactic of finding a trend."
   ]
  },
  {
   "cell_type": "code",
   "execution_count": 57,
   "metadata": {},
   "outputs": [
    {
     "data": {
      "image/png": "[encoded data removed]",
      "text/plain": [
       "<matplotlib.figure.Figure at 0x23401b345f8>"
      ]
     },
     "metadata": {},
     "output_type": "display_data"
    }
   ],
   "source": [
    "fig, (axis1, axis2) = plt.subplots(1,2,figsize=(10,4))\n",
    "\n",
    "sns.lineplot(x = 'YEAR', y = 'TOTAL_REVENUE', data = df_3[df_3['STATE']=='OREGON'], ax = axis1)\n",
    "sns.lineplot(x = 'YEAR', y = 'TOTAL_REVENUE', data = df_3[df_3['STATE']=='VERMONT'], ax = axis2)\n",
    "\n",
    "axis1.set_title('Total Revenue in Oregon')\n",
    "axis2.set_title('Total Revenue in Oregon')\n",
    "\n",
    "\n",
    "for ax in [axis1, axis2]:\n",
    "    ax.set_ylabel('Total Revenue')\n",
    "    ax.set_xlabel('Year')\n",
    "\n",
    "plt.tight_layout()"
   ]
  },
  {
   "cell_type": "markdown",
   "metadata": {},
   "source": [
    "Indeed, it looks like there are trends to follow.  "
   ]
  },
  {
   "cell_type": "code",
   "execution_count": 58,
   "metadata": {},
   "outputs": [],
   "source": [
    "def get_finance_regression(year, state, finance):\n",
    "    try:\n",
    "        x = [year-2, year-1]\n",
    "        y = [df_3[(df_3['YEAR'] == year-2) & (df_3['STATE'] == state)][finance].values[0], df_3[(df_3['YEAR'] == year-1) & (df_3['STATE'] == state)][finance].values[0]]\n",
    "        slope, intercept, r_value, p_value, std_err = stats.linregress(x,y)\n",
    "        return slope * year + intercept \n",
    "\n",
    "    except:\n",
    "        pass\n",
    "    \n",
    "for finance in finance_list:\n",
    "    df_3.loc[df_3[finance].isnull(), finance] = df_3.loc[df_3[finance].isnull()].apply(lambda row: get_finance_regression(row['YEAR'], row['STATE'], finance), axis = 1)"
   ]
  },
  {
   "cell_type": "code",
   "execution_count": 59,
   "metadata": {},
   "outputs": [
    {
     "name": "stdout",
     "output_type": "stream",
     "text": [
      "| Column                       |   Percent Missing |   Unique Values |\n",
      "|------------------------------+-------------------+-----------------|\n",
      "| TOTAL_REVENUE                |           10.7311 |            1325 |\n",
      "| FEDERAL_REVENUE              |           10.7311 |            1326 |\n",
      "| STATE_REVENUE                |           10.7311 |            1301 |\n",
      "| LOCAL_REVENUE                |           10.7311 |            1326 |\n",
      "| TOTAL_EXPENDITURE            |           10.7311 |            1326 |\n",
      "| INSTRUCTION_EXPENDITURE      |           10.7311 |            1326 |\n",
      "| SUPPORT_SERVICES_EXPENDITURE |           10.7311 |            1326 |\n",
      "| OTHER_EXPENDITURE            |           10.7311 |            1274 |\n",
      "| CAPITAL_OUTLAY_EXPENDITURE   |           10.7311 |            1326 |\n"
     ]
    }
   ],
   "source": [
    "print(tabulate([[i, df_3[i].isnull().sum()/df_3.shape[0] * 100, df_3[i].nunique()] for i in finance_list], headers=['Column', 'Percent Missing', 'Unique Values'], tablefmt='orgtbl'))"
   ]
  },
  {
   "cell_type": "markdown",
   "metadata": {},
   "source": [
    "#### 3.4 - Average Math and Reading Scores\n",
    "Since math and reading scores are only taken every few years, it is appropriate to use the forward fill method.  I also use a back fill method because in some states, initial years did not have a score."
   ]
  },
  {
   "cell_type": "code",
   "execution_count": 60,
   "metadata": {},
   "outputs": [],
   "source": [
    "avg_scores_list = ['AVG_MATH_4_SCORE', 'AVG_MATH_8_SCORE', 'AVG_READING_4_SCORE', 'AVG_READING_8_SCORE']"
   ]
  },
  {
   "cell_type": "code",
   "execution_count": 61,
   "metadata": {},
   "outputs": [],
   "source": [
    "for state in states_all_list:\n",
    "    for score in avg_scores_list:\n",
    "        df_3.loc[(df_3['STATE']==state), score] = df_3.loc[(df_3['STATE']==state), score].fillna(method = 'ffill')\n",
    "        df_3.loc[(df_3['STATE']==state), score] = df_3.loc[(df_3['STATE']==state), score].fillna(method = 'bfill')"
   ]
  },
  {
   "cell_type": "code",
   "execution_count": 62,
   "metadata": {},
   "outputs": [
    {
     "name": "stdout",
     "output_type": "stream",
     "text": [
      "| Column              |   Percent Missing |   Unique Values |\n",
      "|---------------------+-------------------+-----------------|\n",
      "| AVG_MATH_4_SCORE    |           10.7311 |             535 |\n",
      "| AVG_MATH_8_SCORE    |           10.7311 |             531 |\n",
      "| AVG_READING_4_SCORE |           10.7311 |             532 |\n",
      "| AVG_READING_8_SCORE |           10.7311 |             497 |\n"
     ]
    }
   ],
   "source": [
    "print(tabulate([[i, df_3[i].isnull().sum()/df_3.shape[0] * 100, df_3[i].nunique()] for i in avg_scores_list], headers=['Column', 'Percent Missing', 'Unique Values'], tablefmt='orgtbl'))"
   ]
  },
  {
   "cell_type": "markdown",
   "metadata": {},
   "source": [
    "### 4) This time, fill in the missing values using interpolation (extrapolation).\n",
    "Again, this is similar to techniques applied in Question 3.  The main difference is that instead of using a regression to estimate values, I will be using interpolation."
   ]
  },
  {
   "cell_type": "code",
   "execution_count": 63,
   "metadata": {},
   "outputs": [],
   "source": [
    "df_4 = df.copy()\n",
    "df_4['STATE'] = df_4['STATE'].apply(lambda x: x.translate(str.maketrans('', '', string.punctuation)))\n",
    "df_4['STATE'] = df_4['STATE'].apply(correct_states)\n",
    "df_4 = df_4[df_4['STATE'] != 'DODOVERSEASANDDOMESTICCOMBINED']\n",
    "df_4.reset_index(drop = True,inplace = True)"
   ]
  },
  {
   "cell_type": "markdown",
   "metadata": {},
   "source": [
    "#### 4.1 - Enroll"
   ]
  },
  {
   "cell_type": "code",
   "execution_count": 64,
   "metadata": {},
   "outputs": [],
   "source": [
    "df_4['ENROLL'].fillna(df_4['GRADES_ALL_G'], inplace = True)\n",
    "df_4['GRADES_ALL_G'].fillna(df_4['ENROLL'], inplace = True)\n",
    "df_4.drop('ENROLL', axis = 1, inplace = True)"
   ]
  },
  {
   "cell_type": "markdown",
   "metadata": {},
   "source": [
    "#### 4.2 - Grades"
   ]
  },
  {
   "cell_type": "code",
   "execution_count": 65,
   "metadata": {},
   "outputs": [],
   "source": [
    "df_4.drop(['GRADES_PK_G', 'GRADES_KG_G', 'GRADES_4_G', 'GRADES_8_G', 'GRADES_12_G'], axis = 1, inplace = True)"
   ]
  },
  {
   "cell_type": "code",
   "execution_count": 66,
   "metadata": {},
   "outputs": [],
   "source": [
    "for state in ['VIRGINISLANDS', 'BUREAUOFINDIANAFFAIRS', 'BUREAUOFINDIANEDUCATION', 'WYOMING']:\n",
    "    condition = ((df_4['STATE'] == state) & (df_4['GRADES_1_8_G'].notnull()) & (df_4['GRADES_ALL_G'].isnull()))\n",
    "    df_4.loc[condition, 'GRADES_ALL_G'] = df_4.loc[condition].apply(lambda row: est_grades_all(state, row['GRADES_1_8_G'], row['GRADES_9_12_G']), axis = 1)"
   ]
  },
  {
   "cell_type": "code",
   "execution_count": 67,
   "metadata": {},
   "outputs": [],
   "source": [
    "for state in states_all_list:\n",
    "    for grade in ['GRADES_1_8_G', 'GRADES_9_12_G', 'GRADES_ALL_G']:\n",
    "        df_4.loc[(df_4['STATE']==state), grade] = df_4.loc[(df_4['STATE']==state), grade].interpolate()"
   ]
  },
  {
   "cell_type": "markdown",
   "metadata": {},
   "source": [
    "#### 4.3 - Revenue and Expenditures"
   ]
  },
  {
   "cell_type": "code",
   "execution_count": 68,
   "metadata": {},
   "outputs": [],
   "source": [
    "df_4.loc[(df_3['OTHER_EXPENDITURE'].isnull() & df_4['TOTAL_REVENUE'].notnull()), 'OTHER_EXPENDITURE'] = df_4.loc[(df_3['OTHER_EXPENDITURE'].isnull() & df_4['TOTAL_REVENUE'].notnull()), 'OTHER_EXPENDITURE'].fillna(0)"
   ]
  },
  {
   "cell_type": "code",
   "execution_count": 69,
   "metadata": {},
   "outputs": [],
   "source": [
    "for state in states_all_list:\n",
    "    for finance in finance_list:\n",
    "        df_4.loc[(df_4['STATE']==state), finance] = df_4.loc[(df_4['STATE']==state), finance].interpolate()"
   ]
  },
  {
   "cell_type": "markdown",
   "metadata": {},
   "source": [
    "#### 4.4 - Average Math and Reading Scores"
   ]
  },
  {
   "cell_type": "code",
   "execution_count": 70,
   "metadata": {},
   "outputs": [],
   "source": [
    "for state in states_all_list:\n",
    "    for score in avg_scores_list:\n",
    "        df_4.loc[(df_4['STATE']==state), score] = df_4.loc[(df_4['STATE']==state), score].interpolate()"
   ]
  },
  {
   "cell_type": "markdown",
   "metadata": {},
   "source": [
    "### 5) Compare your results for the 2nd, 3rd, and 4th questions. Do you find any meaningful differences?\n",
    "For this problem, I will look at one or two columns from each type of variable.  The ones I've picked are total revenue, total expenditure, 'Grades 1_8', 'Grades all', 'Average math 4 score', and 'average reading 4 score'.\n",
    "\n",
    "For the most part, the means and standard deviations from Questions 3 and 4 are more similar to each other than to Question 2, which makes sense are they both used regression to some degree.  This relationship breaks down for the 'Grades' variables however, since I used a different technique to impute these values for each question.  For all mins and maxes, all three techniques have similar numbers.  "
   ]
  },
  {
   "cell_type": "code",
   "execution_count": 74,
   "metadata": {},
   "outputs": [
    {
     "data": {
      "text/html": [
       "<div>\n",
       "<style scoped>\n",
       "    .dataframe tbody tr th:only-of-type {\n",
       "        vertical-align: middle;\n",
       "    }\n",
       "\n",
       "    .dataframe tbody tr th {\n",
       "        vertical-align: top;\n",
       "    }\n",
       "\n",
       "    .dataframe thead th {\n",
       "        text-align: right;\n",
       "    }\n",
       "</style>\n",
       "<table border=\"1\" class=\"dataframe\">\n",
       "  <thead>\n",
       "    <tr style=\"text-align: right;\">\n",
       "      <th></th>\n",
       "      <th>TOTAL_REVENUE</th>\n",
       "      <th>TOTAL_REVENUE</th>\n",
       "      <th>TOTAL_REVENUE</th>\n",
       "    </tr>\n",
       "  </thead>\n",
       "  <tbody>\n",
       "    <tr>\n",
       "      <th>count</th>\n",
       "      <td>1.331000e+03</td>\n",
       "      <td>1.331000e+03</td>\n",
       "      <td>1.331000e+03</td>\n",
       "    </tr>\n",
       "    <tr>\n",
       "      <th>mean</th>\n",
       "      <td>9.097656e+06</td>\n",
       "      <td>9.277468e+06</td>\n",
       "      <td>9.246804e+06</td>\n",
       "    </tr>\n",
       "    <tr>\n",
       "      <th>std</th>\n",
       "      <td>1.172267e+07</td>\n",
       "      <td>1.209706e+07</td>\n",
       "      <td>1.200350e+07</td>\n",
       "    </tr>\n",
       "    <tr>\n",
       "      <th>min</th>\n",
       "      <td>4.656500e+05</td>\n",
       "      <td>4.656500e+05</td>\n",
       "      <td>4.656500e+05</td>\n",
       "    </tr>\n",
       "    <tr>\n",
       "      <th>25%</th>\n",
       "      <td>2.189504e+06</td>\n",
       "      <td>2.207700e+06</td>\n",
       "      <td>2.200842e+06</td>\n",
       "    </tr>\n",
       "    <tr>\n",
       "      <th>50%</th>\n",
       "      <td>5.086083e+06</td>\n",
       "      <td>5.176362e+06</td>\n",
       "      <td>5.169926e+06</td>\n",
       "    </tr>\n",
       "    <tr>\n",
       "      <th>75%</th>\n",
       "      <td>1.084516e+07</td>\n",
       "      <td>1.111990e+07</td>\n",
       "      <td>1.109900e+07</td>\n",
       "    </tr>\n",
       "    <tr>\n",
       "      <th>max</th>\n",
       "      <td>8.921726e+07</td>\n",
       "      <td>1.001865e+08</td>\n",
       "      <td>8.921726e+07</td>\n",
       "    </tr>\n",
       "  </tbody>\n",
       "</table>\n",
       "</div>"
      ],
      "text/plain": [
       "       TOTAL_REVENUE  TOTAL_REVENUE  TOTAL_REVENUE\n",
       "count   1.331000e+03   1.331000e+03   1.331000e+03\n",
       "mean    9.097656e+06   9.277468e+06   9.246804e+06\n",
       "std     1.172267e+07   1.209706e+07   1.200350e+07\n",
       "min     4.656500e+05   4.656500e+05   4.656500e+05\n",
       "25%     2.189504e+06   2.207700e+06   2.200842e+06\n",
       "50%     5.086083e+06   5.176362e+06   5.169926e+06\n",
       "75%     1.084516e+07   1.111990e+07   1.109900e+07\n",
       "max     8.921726e+07   1.001865e+08   8.921726e+07"
      ]
     },
     "execution_count": 74,
     "metadata": {},
     "output_type": "execute_result"
    }
   ],
   "source": [
    "col = 'TOTAL_REVENUE'\n",
    "pd.concat([df_2[col], df_3[col], df_4[col]], axis = 1).describe()"
   ]
  },
  {
   "cell_type": "code",
   "execution_count": 75,
   "metadata": {},
   "outputs": [
    {
     "data": {
      "text/html": [
       "<div>\n",
       "<style scoped>\n",
       "    .dataframe tbody tr th:only-of-type {\n",
       "        vertical-align: middle;\n",
       "    }\n",
       "\n",
       "    .dataframe tbody tr th {\n",
       "        vertical-align: top;\n",
       "    }\n",
       "\n",
       "    .dataframe thead th {\n",
       "        text-align: right;\n",
       "    }\n",
       "</style>\n",
       "<table border=\"1\" class=\"dataframe\">\n",
       "  <thead>\n",
       "    <tr style=\"text-align: right;\">\n",
       "      <th></th>\n",
       "      <th>TOTAL_EXPENDITURE</th>\n",
       "      <th>TOTAL_EXPENDITURE</th>\n",
       "      <th>TOTAL_EXPENDITURE</th>\n",
       "    </tr>\n",
       "  </thead>\n",
       "  <tbody>\n",
       "    <tr>\n",
       "      <th>count</th>\n",
       "      <td>1.331000e+03</td>\n",
       "      <td>1.331000e+03</td>\n",
       "      <td>1.331000e+03</td>\n",
       "    </tr>\n",
       "    <tr>\n",
       "      <th>mean</th>\n",
       "      <td>9.204960e+06</td>\n",
       "      <td>9.371828e+06</td>\n",
       "      <td>9.342417e+06</td>\n",
       "    </tr>\n",
       "    <tr>\n",
       "      <th>std</th>\n",
       "      <td>1.196447e+07</td>\n",
       "      <td>1.227932e+07</td>\n",
       "      <td>1.220752e+07</td>\n",
       "    </tr>\n",
       "    <tr>\n",
       "      <th>min</th>\n",
       "      <td>4.816650e+05</td>\n",
       "      <td>4.816650e+05</td>\n",
       "      <td>4.816650e+05</td>\n",
       "    </tr>\n",
       "    <tr>\n",
       "      <th>25%</th>\n",
       "      <td>2.170404e+06</td>\n",
       "      <td>2.188797e+06</td>\n",
       "      <td>2.176975e+06</td>\n",
       "    </tr>\n",
       "    <tr>\n",
       "      <th>50%</th>\n",
       "      <td>5.259909e+06</td>\n",
       "      <td>5.298932e+06</td>\n",
       "      <td>5.298267e+06</td>\n",
       "    </tr>\n",
       "    <tr>\n",
       "      <th>75%</th>\n",
       "      <td>1.074420e+07</td>\n",
       "      <td>1.089196e+07</td>\n",
       "      <td>1.087317e+07</td>\n",
       "    </tr>\n",
       "    <tr>\n",
       "      <th>max</th>\n",
       "      <td>8.532013e+07</td>\n",
       "      <td>9.227431e+07</td>\n",
       "      <td>8.532013e+07</td>\n",
       "    </tr>\n",
       "  </tbody>\n",
       "</table>\n",
       "</div>"
      ],
      "text/plain": [
       "       TOTAL_EXPENDITURE  TOTAL_EXPENDITURE  TOTAL_EXPENDITURE\n",
       "count       1.331000e+03       1.331000e+03       1.331000e+03\n",
       "mean        9.204960e+06       9.371828e+06       9.342417e+06\n",
       "std         1.196447e+07       1.227932e+07       1.220752e+07\n",
       "min         4.816650e+05       4.816650e+05       4.816650e+05\n",
       "25%         2.170404e+06       2.188797e+06       2.176975e+06\n",
       "50%         5.259909e+06       5.298932e+06       5.298267e+06\n",
       "75%         1.074420e+07       1.089196e+07       1.087317e+07\n",
       "max         8.532013e+07       9.227431e+07       8.532013e+07"
      ]
     },
     "execution_count": 75,
     "metadata": {},
     "output_type": "execute_result"
    }
   ],
   "source": [
    "col = 'TOTAL_EXPENDITURE'\n",
    "pd.concat([df_2[col], df_3[col], df_4[col]], axis = 1).describe()"
   ]
  },
  {
   "cell_type": "code",
   "execution_count": 77,
   "metadata": {},
   "outputs": [
    {
     "data": {
      "text/html": [
       "<div>\n",
       "<style scoped>\n",
       "    .dataframe tbody tr th:only-of-type {\n",
       "        vertical-align: middle;\n",
       "    }\n",
       "\n",
       "    .dataframe tbody tr th {\n",
       "        vertical-align: top;\n",
       "    }\n",
       "\n",
       "    .dataframe thead th {\n",
       "        text-align: right;\n",
       "    }\n",
       "</style>\n",
       "<table border=\"1\" class=\"dataframe\">\n",
       "  <thead>\n",
       "    <tr style=\"text-align: right;\">\n",
       "      <th></th>\n",
       "      <th>GRADES_1_8_G</th>\n",
       "      <th>GRADES_1_8_G</th>\n",
       "      <th>GRADES_1_8_G</th>\n",
       "    </tr>\n",
       "  </thead>\n",
       "  <tbody>\n",
       "    <tr>\n",
       "      <th>count</th>\n",
       "      <td>1.491000e+03</td>\n",
       "      <td>1.471000e+03</td>\n",
       "      <td>1.487000e+03</td>\n",
       "    </tr>\n",
       "    <tr>\n",
       "      <th>mean</th>\n",
       "      <td>5.154950e+05</td>\n",
       "      <td>5.216306e+05</td>\n",
       "      <td>5.155512e+05</td>\n",
       "    </tr>\n",
       "    <tr>\n",
       "      <th>std</th>\n",
       "      <td>6.459917e+05</td>\n",
       "      <td>6.472240e+05</td>\n",
       "      <td>6.440470e+05</td>\n",
       "    </tr>\n",
       "    <tr>\n",
       "      <th>min</th>\n",
       "      <td>4.878000e+03</td>\n",
       "      <td>4.878000e+03</td>\n",
       "      <td>4.878000e+03</td>\n",
       "    </tr>\n",
       "    <tr>\n",
       "      <th>25%</th>\n",
       "      <td>1.034110e+05</td>\n",
       "      <td>1.096155e+05</td>\n",
       "      <td>1.071090e+05</td>\n",
       "    </tr>\n",
       "    <tr>\n",
       "      <th>50%</th>\n",
       "      <td>3.416110e+05</td>\n",
       "      <td>3.482330e+05</td>\n",
       "      <td>3.425530e+05</td>\n",
       "    </tr>\n",
       "    <tr>\n",
       "      <th>75%</th>\n",
       "      <td>6.100285e+05</td>\n",
       "      <td>6.124295e+05</td>\n",
       "      <td>6.100285e+05</td>\n",
       "    </tr>\n",
       "    <tr>\n",
       "      <th>max</th>\n",
       "      <td>4.113063e+06</td>\n",
       "      <td>3.929869e+06</td>\n",
       "      <td>3.929869e+06</td>\n",
       "    </tr>\n",
       "  </tbody>\n",
       "</table>\n",
       "</div>"
      ],
      "text/plain": [
       "       GRADES_1_8_G  GRADES_1_8_G  GRADES_1_8_G\n",
       "count  1.491000e+03  1.471000e+03  1.487000e+03\n",
       "mean   5.154950e+05  5.216306e+05  5.155512e+05\n",
       "std    6.459917e+05  6.472240e+05  6.440470e+05\n",
       "min    4.878000e+03  4.878000e+03  4.878000e+03\n",
       "25%    1.034110e+05  1.096155e+05  1.071090e+05\n",
       "50%    3.416110e+05  3.482330e+05  3.425530e+05\n",
       "75%    6.100285e+05  6.124295e+05  6.100285e+05\n",
       "max    4.113063e+06  3.929869e+06  3.929869e+06"
      ]
     },
     "execution_count": 77,
     "metadata": {},
     "output_type": "execute_result"
    }
   ],
   "source": [
    "col = 'GRADES_1_8_G'\n",
    "pd.concat([df_2[col], df_3[col], df_4[col]], axis = 1).describe()"
   ]
  },
  {
   "cell_type": "code",
   "execution_count": 78,
   "metadata": {},
   "outputs": [
    {
     "data": {
      "text/html": [
       "<div>\n",
       "<style scoped>\n",
       "    .dataframe tbody tr th:only-of-type {\n",
       "        vertical-align: middle;\n",
       "    }\n",
       "\n",
       "    .dataframe tbody tr th {\n",
       "        vertical-align: top;\n",
       "    }\n",
       "\n",
       "    .dataframe thead th {\n",
       "        text-align: right;\n",
       "    }\n",
       "</style>\n",
       "<table border=\"1\" class=\"dataframe\">\n",
       "  <thead>\n",
       "    <tr style=\"text-align: right;\">\n",
       "      <th></th>\n",
       "      <th>GRADES_ALL_G</th>\n",
       "      <th>GRADES_ALL_G</th>\n",
       "      <th>GRADES_ALL_G</th>\n",
       "    </tr>\n",
       "  </thead>\n",
       "  <tbody>\n",
       "    <tr>\n",
       "      <th>count</th>\n",
       "      <td>1.491000e+03</td>\n",
       "      <td>1.471000e+03</td>\n",
       "      <td>1.487000e+03</td>\n",
       "    </tr>\n",
       "    <tr>\n",
       "      <th>mean</th>\n",
       "      <td>7.785587e+05</td>\n",
       "      <td>7.924324e+05</td>\n",
       "      <td>7.828647e+05</td>\n",
       "    </tr>\n",
       "    <tr>\n",
       "      <th>std</th>\n",
       "      <td>9.797587e+05</td>\n",
       "      <td>9.882875e+05</td>\n",
       "      <td>9.847055e+05</td>\n",
       "    </tr>\n",
       "    <tr>\n",
       "      <th>min</th>\n",
       "      <td>7.254000e+03</td>\n",
       "      <td>7.254000e+03</td>\n",
       "      <td>7.254000e+03</td>\n",
       "    </tr>\n",
       "    <tr>\n",
       "      <th>25%</th>\n",
       "      <td>1.517590e+05</td>\n",
       "      <td>1.689155e+05</td>\n",
       "      <td>1.581165e+05</td>\n",
       "    </tr>\n",
       "    <tr>\n",
       "      <th>50%</th>\n",
       "      <td>5.172800e+05</td>\n",
       "      <td>5.307570e+05</td>\n",
       "      <td>5.239020e+05</td>\n",
       "    </tr>\n",
       "    <tr>\n",
       "      <th>75%</th>\n",
       "      <td>9.135800e+05</td>\n",
       "      <td>9.243010e+05</td>\n",
       "      <td>9.166340e+05</td>\n",
       "    </tr>\n",
       "    <tr>\n",
       "      <th>max</th>\n",
       "      <td>6.226523e+06</td>\n",
       "      <td>6.226523e+06</td>\n",
       "      <td>6.226523e+06</td>\n",
       "    </tr>\n",
       "  </tbody>\n",
       "</table>\n",
       "</div>"
      ],
      "text/plain": [
       "       GRADES_ALL_G  GRADES_ALL_G  GRADES_ALL_G\n",
       "count  1.491000e+03  1.471000e+03  1.487000e+03\n",
       "mean   7.785587e+05  7.924324e+05  7.828647e+05\n",
       "std    9.797587e+05  9.882875e+05  9.847055e+05\n",
       "min    7.254000e+03  7.254000e+03  7.254000e+03\n",
       "25%    1.517590e+05  1.689155e+05  1.581165e+05\n",
       "50%    5.172800e+05  5.307570e+05  5.239020e+05\n",
       "75%    9.135800e+05  9.243010e+05  9.166340e+05\n",
       "max    6.226523e+06  6.226523e+06  6.226523e+06"
      ]
     },
     "execution_count": 78,
     "metadata": {},
     "output_type": "execute_result"
    }
   ],
   "source": [
    "col = 'GRADES_ALL_G'\n",
    "pd.concat([df_2[col], df_3[col], df_4[col]], axis = 1).describe()"
   ]
  },
  {
   "cell_type": "code",
   "execution_count": 79,
   "metadata": {},
   "outputs": [
    {
     "data": {
      "text/html": [
       "<div>\n",
       "<style scoped>\n",
       "    .dataframe tbody tr th:only-of-type {\n",
       "        vertical-align: middle;\n",
       "    }\n",
       "\n",
       "    .dataframe tbody tr th {\n",
       "        vertical-align: top;\n",
       "    }\n",
       "\n",
       "    .dataframe thead th {\n",
       "        text-align: right;\n",
       "    }\n",
       "</style>\n",
       "<table border=\"1\" class=\"dataframe\">\n",
       "  <thead>\n",
       "    <tr style=\"text-align: right;\">\n",
       "      <th></th>\n",
       "      <th>AVG_MATH_4_SCORE</th>\n",
       "      <th>AVG_MATH_4_SCORE</th>\n",
       "      <th>AVG_MATH_4_SCORE</th>\n",
       "    </tr>\n",
       "  </thead>\n",
       "  <tbody>\n",
       "    <tr>\n",
       "      <th>count</th>\n",
       "      <td>1331.000000</td>\n",
       "      <td>1331.000000</td>\n",
       "      <td>1277.000000</td>\n",
       "    </tr>\n",
       "    <tr>\n",
       "      <th>mean</th>\n",
       "      <td>236.795225</td>\n",
       "      <td>231.640394</td>\n",
       "      <td>232.814597</td>\n",
       "    </tr>\n",
       "    <tr>\n",
       "      <th>std</th>\n",
       "      <td>8.202102</td>\n",
       "      <td>11.133270</td>\n",
       "      <td>10.624230</td>\n",
       "    </tr>\n",
       "    <tr>\n",
       "      <th>min</th>\n",
       "      <td>187.134670</td>\n",
       "      <td>187.134670</td>\n",
       "      <td>187.134670</td>\n",
       "    </tr>\n",
       "    <tr>\n",
       "      <th>25%</th>\n",
       "      <td>232.983144</td>\n",
       "      <td>224.734462</td>\n",
       "      <td>226.521892</td>\n",
       "    </tr>\n",
       "    <tr>\n",
       "      <th>50%</th>\n",
       "      <td>238.821928</td>\n",
       "      <td>232.753710</td>\n",
       "      <td>234.531807</td>\n",
       "    </tr>\n",
       "    <tr>\n",
       "      <th>75%</th>\n",
       "      <td>242.257091</td>\n",
       "      <td>240.575489</td>\n",
       "      <td>240.979792</td>\n",
       "    </tr>\n",
       "    <tr>\n",
       "      <th>max</th>\n",
       "      <td>253.420961</td>\n",
       "      <td>253.420961</td>\n",
       "      <td>253.420961</td>\n",
       "    </tr>\n",
       "  </tbody>\n",
       "</table>\n",
       "</div>"
      ],
      "text/plain": [
       "       AVG_MATH_4_SCORE  AVG_MATH_4_SCORE  AVG_MATH_4_SCORE\n",
       "count       1331.000000       1331.000000       1277.000000\n",
       "mean         236.795225        231.640394        232.814597\n",
       "std            8.202102         11.133270         10.624230\n",
       "min          187.134670        187.134670        187.134670\n",
       "25%          232.983144        224.734462        226.521892\n",
       "50%          238.821928        232.753710        234.531807\n",
       "75%          242.257091        240.575489        240.979792\n",
       "max          253.420961        253.420961        253.420961"
      ]
     },
     "execution_count": 79,
     "metadata": {},
     "output_type": "execute_result"
    }
   ],
   "source": [
    "col = 'AVG_MATH_4_SCORE'\n",
    "pd.concat([df_2[col], df_3[col], df_4[col]], axis = 1).describe()"
   ]
  },
  {
   "cell_type": "code",
   "execution_count": 80,
   "metadata": {},
   "outputs": [
    {
     "data": {
      "text/html": [
       "<div>\n",
       "<style scoped>\n",
       "    .dataframe tbody tr th:only-of-type {\n",
       "        vertical-align: middle;\n",
       "    }\n",
       "\n",
       "    .dataframe tbody tr th {\n",
       "        vertical-align: top;\n",
       "    }\n",
       "\n",
       "    .dataframe thead th {\n",
       "        text-align: right;\n",
       "    }\n",
       "</style>\n",
       "<table border=\"1\" class=\"dataframe\">\n",
       "  <thead>\n",
       "    <tr style=\"text-align: right;\">\n",
       "      <th></th>\n",
       "      <th>AVG_READING_4_SCORE</th>\n",
       "      <th>AVG_READING_4_SCORE</th>\n",
       "      <th>AVG_READING_4_SCORE</th>\n",
       "    </tr>\n",
       "  </thead>\n",
       "  <tbody>\n",
       "    <tr>\n",
       "      <th>count</th>\n",
       "      <td>1331.000000</td>\n",
       "      <td>1331.000000</td>\n",
       "      <td>1250.000000</td>\n",
       "    </tr>\n",
       "    <tr>\n",
       "      <th>mean</th>\n",
       "      <td>219.298181</td>\n",
       "      <td>218.101584</td>\n",
       "      <td>218.415385</td>\n",
       "    </tr>\n",
       "    <tr>\n",
       "      <th>std</th>\n",
       "      <td>7.178784</td>\n",
       "      <td>8.032089</td>\n",
       "      <td>7.925924</td>\n",
       "    </tr>\n",
       "    <tr>\n",
       "      <th>min</th>\n",
       "      <td>178.557612</td>\n",
       "      <td>178.557612</td>\n",
       "      <td>178.557612</td>\n",
       "    </tr>\n",
       "    <tr>\n",
       "      <th>25%</th>\n",
       "      <td>215.235824</td>\n",
       "      <td>213.693918</td>\n",
       "      <td>214.240213</td>\n",
       "    </tr>\n",
       "    <tr>\n",
       "      <th>50%</th>\n",
       "      <td>221.220580</td>\n",
       "      <td>219.735395</td>\n",
       "      <td>220.066145</td>\n",
       "    </tr>\n",
       "    <tr>\n",
       "      <th>75%</th>\n",
       "      <td>223.814584</td>\n",
       "      <td>223.578325</td>\n",
       "      <td>223.838858</td>\n",
       "    </tr>\n",
       "    <tr>\n",
       "      <th>max</th>\n",
       "      <td>236.773867</td>\n",
       "      <td>236.773867</td>\n",
       "      <td>236.773867</td>\n",
       "    </tr>\n",
       "  </tbody>\n",
       "</table>\n",
       "</div>"
      ],
      "text/plain": [
       "       AVG_READING_4_SCORE  AVG_READING_4_SCORE  AVG_READING_4_SCORE\n",
       "count          1331.000000          1331.000000          1250.000000\n",
       "mean            219.298181           218.101584           218.415385\n",
       "std               7.178784             8.032089             7.925924\n",
       "min             178.557612           178.557612           178.557612\n",
       "25%             215.235824           213.693918           214.240213\n",
       "50%             221.220580           219.735395           220.066145\n",
       "75%             223.814584           223.578325           223.838858\n",
       "max             236.773867           236.773867           236.773867"
      ]
     },
     "execution_count": 80,
     "metadata": {},
     "output_type": "execute_result"
    }
   ],
   "source": [
    "col = 'AVG_READING_4_SCORE'\n",
    "pd.concat([df_2[col], df_3[col], df_4[col]], axis = 1).describe()"
   ]
  },
  {
   "cell_type": "code",
   "execution_count": null,
   "metadata": {},
   "outputs": [],
   "source": []
  }
 ],
 "metadata": {
  "anaconda-cloud": {},
  "kernelspec": {
   "display_name": "Python [default]",
   "language": "python",
   "name": "python3"
  },
  "language_info": {
   "codemirror_mode": {
    "name": "ipython",
    "version": 3
   },
   "file_extension": ".py",
   "mimetype": "text/x-python",
   "name": "python",
   "nbconvert_exporter": "python",
   "pygments_lexer": "ipython3",
   "version": "3.5.2"
  }
 },
 "nbformat": 4,
 "nbformat_minor": 1
}
