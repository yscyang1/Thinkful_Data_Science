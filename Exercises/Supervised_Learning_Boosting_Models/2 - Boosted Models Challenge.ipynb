{
 "cells": [
  {
   "cell_type": "markdown",
   "metadata": {},
   "source": [
    "### Instructions\n",
    "Go through the following scenarios and identify which supervised learning method(s) are best for addressing that particular problem."
   ]
  },
  {
   "cell_type": "markdown",
   "metadata": {},
   "source": [
    "1.  naive bayes - spam classification/sentiment analysis/text\n",
    "2.  OLS - predictions regression\n",
    "3.  KNN - classifier and regression\n",
    "4.  decision tree/random forest\n",
    "5.  SVM\n",
    "6.  Boosting models\n",
    "7.  PCA"
   ]
  },
  {
   "cell_type": "markdown",
   "metadata": {},
   "source": [
    "#### 1) Predict the running times of prospective Olympic sprinters using data from the last 20 Olympics.\n",
    "Predicting running times tells me that this is a regression problem. Choosing the best method really depends on the size of the data, but the first methods that come to mind are OLS, random forest/decision tree, and KNN.  If the data is strictly from the Olympics (e.g. names, location, running times for each race), then any of these methods would work.  However, if extraneous information were used, such as weather data, KNN might take too long and should be removed from the list of possible methods.  "
   ]
  },
  {
   "cell_type": "markdown",
   "metadata": {},
   "source": [
    "#### 2) You have more features (columns) than rows in your dataset.\n",
    "Using a method that reduces the number of features should be the first priority.  That means using PCA or Lasso/Ridge/ElasticNet regression models.  "
   ]
  },
  {
   "cell_type": "markdown",
   "metadata": {},
   "source": [
    "#### 3) Identify the most important characteristic predicting likelihood of being jailed before age 20.\n",
    "Finding the likelihood of being jailed is a classification problem.  This can be solved with either KNN, random forest/decision tree, or SVM classifiers.  However, if the dataset is too big, then only random forest/decision tree is a viable option."
   ]
  },
  {
   "cell_type": "markdown",
   "metadata": {},
   "source": [
    "#### 4) Implement a filter to “highlight” emails that might be important to the recipient\n",
    "For text analysis, Naive Bayes would be a good choice as it can pick out key words relevant to 'important' and 'non important' emails."
   ]
  },
  {
   "cell_type": "markdown",
   "metadata": {},
   "source": [
    "#### 5) You have 1000+ features.\n",
    "Having over 1000 features is a lot of features.  The best way to deal with this is to find a way to reduce the number of features.  PCA is a good choice in reducing the number of features.  "
   ]
  },
  {
   "cell_type": "markdown",
   "metadata": {},
   "source": [
    "#### 6) Predict whether someone who adds items to their cart on a website will purchase the items.\n",
    "This is another classification problem.  Similar to question 3, KNN, random forest/decision tree or SVC classifiers can predict if a customer will purchase the items in their cart, assuming the data set is an appropriate size for the model."
   ]
  },
  {
   "cell_type": "markdown",
   "metadata": {},
   "source": [
    "#### 7) Your dataset dimensions are 982400 x 500\n",
    "This dataset can be dealt with in two parts.  The first part will be to reduce the number of rows by using PCA.  There are still almost 1 million rows however, which is quite a bit for a CPU to handle.  To deal with this, we can turn to a model that excels in sub-sampling, such as gradient boosting methods.  "
   ]
  },
  {
   "cell_type": "markdown",
   "metadata": {},
   "source": [
    "#### 8) Identify faces in an image.\n",
    "When looking at images, we are looking for patterns such as color of the eyes/skin, shape of each feature on the face, and hair style.  SVM, random forest, and KNN are all options when trying to identify such patterns."
   ]
  },
  {
   "cell_type": "markdown",
   "metadata": {},
   "source": [
    "#### 9) Predict which of three flavors of ice cream will be most popular with boys vs girls.\n",
    "This is another classification problem looking at if a certain gender will favor a particular flavor of ice cream more than another.  KNN, random forest/decision tree or SVM are all good choices depending on the dataset size."
   ]
  },
  {
   "cell_type": "code",
   "execution_count": null,
   "metadata": {},
   "outputs": [],
   "source": []
  }
 ],
 "metadata": {
  "anaconda-cloud": {},
  "kernelspec": {
   "display_name": "Python [default]",
   "language": "python",
   "name": "python3"
  },
  "language_info": {
   "codemirror_mode": {
    "name": "ipython",
    "version": 3
   },
   "file_extension": ".py",
   "mimetype": "text/x-python",
   "name": "python",
   "nbconvert_exporter": "python",
   "pygments_lexer": "ipython3",
   "version": "3.5.2"
  }
 },
 "nbformat": 4,
 "nbformat_minor": 1
}
