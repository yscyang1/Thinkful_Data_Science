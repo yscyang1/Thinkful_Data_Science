{
 "cells": [
  {
   "cell_type": "markdown",
   "metadata": {},
   "source": [
    "### 1) Let's assume that you have World Bank data on financial, economic and social indicators for several countries. You want to measure the factors that affect the level of development in these countries. To this end, you decide to use per capita income as a proxy for the development level, which is defined as the national income divided by the population. You want to use some features in your dataset to predict per capita income. Is this task a classification or a regression task? Why?"
   ]
  },
  {
   "cell_type": "markdown",
   "metadata": {},
   "source": [
    "This is a regression task as income/income per capita is a continuous variable.  "
   ]
  },
  {
   "cell_type": "markdown",
   "metadata": {},
   "source": [
    "### 2) Which of the following arguments are false and why?\n"
   ]
  },
  {
   "cell_type": "markdown",
   "metadata": {},
   "source": [
    "#### a) OLS is a special type of linear regression models\n",
    "I'm not sure what 'special' really means here.  If it means you only use it under special circumstances, then this is false.  OLS is a simple and common technique."
   ]
  },
  {
   "cell_type": "markdown",
   "metadata": {},
   "source": [
    "#### b) Regression models become useless if they don’t meet the assumptions of linear regression.\n",
    "False.  If the assumptions are not met, then there are techniques to try and and meet these assumptions."
   ]
  },
  {
   "cell_type": "markdown",
   "metadata": {},
   "source": [
    "#### c) Estimation and prediction are the same thing in the context of linear regression models.\n",
    "False.  Using the generalized equation 𝑦=𝛼+𝛽𝑥+𝜃𝑧, estimation is to find 𝛼, 𝛽, 𝜃 that best fits the data.  Prediction is to use the equation after finding the best fit parameters, feature engineering, and data cleaning to provide an outcome.  "
   ]
  },
  {
   "cell_type": "markdown",
   "metadata": {},
   "source": [
    "#### d) Linear regression is only one kind of regression model. Regression problems can also be solved with other kind of models like Support Vector Machines or Random Forests.\n",
    "True.  Linear regression doesn't mean a straight line, it means there is a linear relationship between the target variable and features."
   ]
  },
  {
   "cell_type": "markdown",
   "metadata": {},
   "source": [
    "### 3) Assume that your project manager wants you to discover which free services your company offers make your customers buy more of your paid services. Formulate this task as a regression problem and write down the potential outcome and features that you’d like to work on.\n",
    "\n",
    "There are several potential outcomes.  Two of the most common ones would be 1) number of paid services bought, and 2) total spent on paid services.  Features to look at would be all the free services.  From the generalized equation 𝑦=𝛼+𝛽𝑥+𝜃𝑧, we can say that  \n",
    "<p></p>\n",
    "<center>total spent = 𝜃 + 𝜃1(free services 1) + 𝜃2(free services 2) + ... 𝜃n(free services n),</center>\n",
    "\n",
    "where ... can keep going to encompass all the free services of the company."
   ]
  },
  {
   "cell_type": "code",
   "execution_count": null,
   "metadata": {},
   "outputs": [],
   "source": []
  }
 ],
 "metadata": {
  "anaconda-cloud": {},
  "kernelspec": {
   "display_name": "Python [default]",
   "language": "python",
   "name": "python3"
  },
  "language_info": {
   "codemirror_mode": {
    "name": "ipython",
    "version": 3
   },
   "file_extension": ".py",
   "mimetype": "text/x-python",
   "name": "python",
   "nbconvert_exporter": "python",
   "pygments_lexer": "ipython3",
   "version": "3.5.2"
  }
 },
 "nbformat": 4,
 "nbformat_minor": 1
}
