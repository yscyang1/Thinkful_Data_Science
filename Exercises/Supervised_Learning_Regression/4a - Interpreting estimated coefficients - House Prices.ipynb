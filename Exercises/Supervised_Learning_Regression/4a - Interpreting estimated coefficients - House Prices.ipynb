{
 "cells": [
  {
   "cell_type": "markdown",
   "metadata": {},
   "source": [
    "### 1 - Load the houseprices data "
   ]
  },
  {
   "cell_type": "code",
   "execution_count": 1,
   "metadata": {},
   "outputs": [
    {
     "name": "stderr",
     "output_type": "stream",
     "text": [
      "C:\\Users\\Crystal\\AppData\\Local\\Continuum\\Anaconda3\\lib\\site-packages\\statsmodels\\compat\\pandas.py:56: FutureWarning: The pandas.core.datetools module is deprecated and will be removed in a future version. Please use the pandas.tseries module instead.\n",
      "  from pandas.core import datetools\n"
     ]
    }
   ],
   "source": [
    "import pandas as pd\n",
    "import numpy as np\n",
    "import matplotlib.pyplot as plt\n",
    "%matplotlib inline\n",
    "import seaborn as sns\n",
    "import statsmodels.api as sm"
   ]
  },
  {
   "cell_type": "code",
   "execution_count": 2,
   "metadata": {},
   "outputs": [],
   "source": [
    "df = pd.read_csv('houseprices.cvs')"
   ]
  },
  {
   "cell_type": "markdown",
   "metadata": {},
   "source": [
    "### 2 - Run your house prices model again and interpret the results. Which features are statistically significant, and which are not?\n",
    "\n",
    "From my original data exploration, there were 6 features that were correlated with house prices, defined in num_col.  In the end, I cut that down to four features.  It would be interesting to see if OLS will say the same thing and cut those features as well."
   ]
  },
  {
   "cell_type": "code",
   "execution_count": 3,
   "metadata": {},
   "outputs": [],
   "source": [
    "num_col = ['overallqual', 'grlivarea', 'garagecars', 'garagearea', 'totalbsmtsf', 'firstflrsf']"
   ]
  },
  {
   "cell_type": "code",
   "execution_count": 4,
   "metadata": {},
   "outputs": [
    {
     "name": "stdout",
     "output_type": "stream",
     "text": [
      "                            OLS Regression Results                            \n",
      "==============================================================================\n",
      "Dep. Variable:              saleprice   R-squared:                       0.762\n",
      "Model:                            OLS   Adj. R-squared:                  0.761\n",
      "Method:                 Least Squares   F-statistic:                     775.0\n",
      "Date:                Thu, 05 Sep 2019   Prob (F-statistic):               0.00\n",
      "Time:                        14:48:16   Log-Likelihood:                -17496.\n",
      "No. Observations:                1460   AIC:                         3.501e+04\n",
      "Df Residuals:                    1453   BIC:                         3.504e+04\n",
      "Df Model:                           6                                         \n",
      "Covariance Type:            nonrobust                                         \n",
      "===============================================================================\n",
      "                  coef    std err          t      P>|t|      [0.025      0.975]\n",
      "-------------------------------------------------------------------------------\n",
      "const       -1.027e+05   4903.994    -20.932      0.000   -1.12e+05    -9.3e+04\n",
      "overallqual    2.4e+04   1083.393     22.150      0.000    2.19e+04    2.61e+04\n",
      "grlivarea      43.1229      2.679     16.095      0.000      37.867      48.379\n",
      "garagecars   1.452e+04   3018.621      4.809      0.000    8593.872    2.04e+04\n",
      "garagearea     15.6639     10.475      1.495      0.135      -4.884      36.212\n",
      "totalbsmtsf    24.3908      4.318      5.649      0.000      15.921      32.860\n",
      "firstflrsf     11.1859      5.032      2.223      0.026       1.315      21.057\n",
      "==============================================================================\n",
      "Omnibus:                      431.781   Durbin-Watson:                   1.975\n",
      "Prob(Omnibus):                  0.000   Jarque-Bera (JB):            39208.253\n",
      "Skew:                          -0.313   Prob(JB):                         0.00\n",
      "Kurtosis:                      28.380   Cond. No.                     1.14e+04\n",
      "==============================================================================\n",
      "\n",
      "Warnings:\n",
      "[1] Standard Errors assume that the covariance matrix of the errors is correctly specified.\n",
      "[2] The condition number is large, 1.14e+04. This might indicate that there are\n",
      "strong multicollinearity or other numerical problems.\n"
     ]
    }
   ],
   "source": [
    "Y = df['saleprice']\n",
    "X = df[num_col]\n",
    "X = sm.add_constant(X)\n",
    "results = sm.OLS(Y,X).fit()\n",
    "print(results.summary())"
   ]
  },
  {
   "cell_type": "markdown",
   "metadata": {},
   "source": [
    "To tell if features are statistically significant, look at the p-values. If there are any under 0.1, then they are statistically significant.  The only one that is not statistically significant is 'garagearea', with a p-value of 0.135.  "
   ]
  },
  {
   "cell_type": "markdown",
   "metadata": {},
   "source": [
    "### 3 - Now, exclude the insignificant features from your model. Did anything change?\n",
    "The remaining features stayed significant, although some of their coefficients changed.  "
   ]
  },
  {
   "cell_type": "code",
   "execution_count": 6,
   "metadata": {},
   "outputs": [
    {
     "name": "stdout",
     "output_type": "stream",
     "text": [
      "                            OLS Regression Results                            \n",
      "==============================================================================\n",
      "Dep. Variable:              saleprice   R-squared:                       0.762\n",
      "Model:                            OLS   Adj. R-squared:                  0.761\n",
      "Method:                 Least Squares   F-statistic:                     928.8\n",
      "Date:                Thu, 05 Sep 2019   Prob (F-statistic):               0.00\n",
      "Time:                        14:51:37   Log-Likelihood:                -17497.\n",
      "No. Observations:                1460   AIC:                         3.501e+04\n",
      "Df Residuals:                    1454   BIC:                         3.504e+04\n",
      "Df Model:                           5                                         \n",
      "Covariance Type:            nonrobust                                         \n",
      "===============================================================================\n",
      "                  coef    std err          t      P>|t|      [0.025      0.975]\n",
      "-------------------------------------------------------------------------------\n",
      "const        -1.03e+05   4901.609    -21.006      0.000   -1.13e+05   -9.33e+04\n",
      "overallqual  2.396e+04   1083.493     22.109      0.000    2.18e+04    2.61e+04\n",
      "grlivarea      43.2993      2.678     16.170      0.000      38.047      48.552\n",
      "garagecars   1.819e+04   1752.914     10.377      0.000    1.48e+04    2.16e+04\n",
      "totalbsmtsf    25.0167      4.299      5.819      0.000      16.583      33.450\n",
      "firstflrsf     11.6608      5.024      2.321      0.020       1.805      21.516\n",
      "==============================================================================\n",
      "Omnibus:                      417.210   Durbin-Watson:                   1.973\n",
      "Prob(Omnibus):                  0.000   Jarque-Bera (JB):            35788.405\n",
      "Skew:                          -0.254   Prob(JB):                         0.00\n",
      "Kurtosis:                      27.250   Cond. No.                     1.11e+04\n",
      "==============================================================================\n",
      "\n",
      "Warnings:\n",
      "[1] Standard Errors assume that the covariance matrix of the errors is correctly specified.\n",
      "[2] The condition number is large, 1.11e+04. This might indicate that there are\n",
      "strong multicollinearity or other numerical problems.\n"
     ]
    }
   ],
   "source": [
    "Y2 = df['saleprice']\n",
    "X2 = df[['overallqual', 'grlivarea', 'garagecars', 'totalbsmtsf', 'firstflrsf']]\n",
    "X2 = sm.add_constant(X2)\n",
    "results2 = sm.OLS(Y2,X2).fit()\n",
    "print(results2.summary())"
   ]
  },
  {
   "cell_type": "markdown",
   "metadata": {},
   "source": [
    "### 4 - Interpret the statistically significant coefficients by quantifying their relations with the house prices. Which features have a more prominent effect on house prices?\n",
    "\n",
    "The features with the most prominent effect on house prices are 'overallqual' and 'garagecars', where for each unit of 'overallqual', house prices increases by \\$23960 and for each unit of 'garagecars', house prices increaess by \\$18190. The other features will increase house prices by less than \\$50 for each unit increase."
   ]
  },
  {
   "cell_type": "markdown",
   "metadata": {},
   "source": [
    "### 5 - Do the results sound reasonable to you? If not, try to explain the potential reasons.\n",
    "These results sound reasonable.  No one wants to purchase a run down home (unless they are gung-ho about fixing up the place themselves) and most people need cars as transportation.  I'm a little surprised square footage's effect is that low though, but it could be cultural differences."
   ]
  },
  {
   "cell_type": "code",
   "execution_count": null,
   "metadata": {},
   "outputs": [],
   "source": []
  }
 ],
 "metadata": {
  "kernelspec": {
   "display_name": "Python [default]",
   "language": "python",
   "name": "python3"
  },
  "language_info": {
   "codemirror_mode": {
    "name": "ipython",
    "version": 3
   },
   "file_extension": ".py",
   "mimetype": "text/x-python",
   "name": "python",
   "nbconvert_exporter": "python",
   "pygments_lexer": "ipython3",
   "version": "3.5.2"
  }
 },
 "nbformat": 4,
 "nbformat_minor": 1
}
