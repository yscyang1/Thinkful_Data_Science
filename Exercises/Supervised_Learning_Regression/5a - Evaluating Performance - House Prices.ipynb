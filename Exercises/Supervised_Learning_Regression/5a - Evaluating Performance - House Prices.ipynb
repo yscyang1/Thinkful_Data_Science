{
 "cells": [
  {
   "cell_type": "markdown",
   "metadata": {},
   "source": [
    "### 1) Load the houseprices data"
   ]
  },
  {
   "cell_type": "code",
   "execution_count": 1,
   "metadata": {},
   "outputs": [
    {
     "name": "stderr",
     "output_type": "stream",
     "text": [
      "C:\\Users\\Crystal\\AppData\\Local\\Continuum\\Anaconda3\\lib\\site-packages\\statsmodels\\compat\\pandas.py:56: FutureWarning: The pandas.core.datetools module is deprecated and will be removed in a future version. Please use the pandas.tseries module instead.\n",
      "  from pandas.core import datetools\n"
     ]
    }
   ],
   "source": [
    "import matplotlib.pyplot as plt\n",
    "import numpy as np\n",
    "import pandas as pd\n",
    "import statsmodels.api as sm"
   ]
  },
  {
   "cell_type": "code",
   "execution_count": 2,
   "metadata": {},
   "outputs": [],
   "source": [
    "df = pd.read_csv('houseprices.cvs')"
   ]
  },
  {
   "cell_type": "code",
   "execution_count": 3,
   "metadata": {},
   "outputs": [],
   "source": [
    "num_col = ['overallqual', 'grlivarea', 'garagecars', 'garagearea', 'totalbsmtsf', 'firstflrsf']\n",
    "cat_col = ['exterqual', 'kitchenqual']"
   ]
  },
  {
   "cell_type": "code",
   "execution_count": 4,
   "metadata": {},
   "outputs": [],
   "source": [
    "df2 = pd.concat([df[num_col], df[cat_col], df['saleprice']], axis = 1)"
   ]
  },
  {
   "cell_type": "code",
   "execution_count": 5,
   "metadata": {},
   "outputs": [],
   "source": [
    "for col in cat_col:\n",
    "    df2 = pd.concat([df2, pd.get_dummies(df[col], drop_first=True, prefix = col)], axis = 1)"
   ]
  },
  {
   "cell_type": "code",
   "execution_count": 6,
   "metadata": {},
   "outputs": [
    {
     "data": {
      "text/html": [
       "<div>\n",
       "<style scoped>\n",
       "    .dataframe tbody tr th:only-of-type {\n",
       "        vertical-align: middle;\n",
       "    }\n",
       "\n",
       "    .dataframe tbody tr th {\n",
       "        vertical-align: top;\n",
       "    }\n",
       "\n",
       "    .dataframe thead th {\n",
       "        text-align: right;\n",
       "    }\n",
       "</style>\n",
       "<table border=\"1\" class=\"dataframe\">\n",
       "  <thead>\n",
       "    <tr style=\"text-align: right;\">\n",
       "      <th></th>\n",
       "      <th>overallqual</th>\n",
       "      <th>grlivarea</th>\n",
       "      <th>garagecars</th>\n",
       "      <th>garagearea</th>\n",
       "      <th>totalbsmtsf</th>\n",
       "      <th>firstflrsf</th>\n",
       "      <th>exterqual</th>\n",
       "      <th>kitchenqual</th>\n",
       "      <th>saleprice</th>\n",
       "      <th>exterqual_Fa</th>\n",
       "      <th>exterqual_Gd</th>\n",
       "      <th>exterqual_TA</th>\n",
       "      <th>kitchenqual_Fa</th>\n",
       "      <th>kitchenqual_Gd</th>\n",
       "      <th>kitchenqual_TA</th>\n",
       "    </tr>\n",
       "  </thead>\n",
       "  <tbody>\n",
       "    <tr>\n",
       "      <th>0</th>\n",
       "      <td>7</td>\n",
       "      <td>1710</td>\n",
       "      <td>2</td>\n",
       "      <td>548</td>\n",
       "      <td>856</td>\n",
       "      <td>856</td>\n",
       "      <td>Gd</td>\n",
       "      <td>Gd</td>\n",
       "      <td>208500</td>\n",
       "      <td>0</td>\n",
       "      <td>1</td>\n",
       "      <td>0</td>\n",
       "      <td>0</td>\n",
       "      <td>1</td>\n",
       "      <td>0</td>\n",
       "    </tr>\n",
       "    <tr>\n",
       "      <th>1</th>\n",
       "      <td>6</td>\n",
       "      <td>1262</td>\n",
       "      <td>2</td>\n",
       "      <td>460</td>\n",
       "      <td>1262</td>\n",
       "      <td>1262</td>\n",
       "      <td>TA</td>\n",
       "      <td>TA</td>\n",
       "      <td>181500</td>\n",
       "      <td>0</td>\n",
       "      <td>0</td>\n",
       "      <td>1</td>\n",
       "      <td>0</td>\n",
       "      <td>0</td>\n",
       "      <td>1</td>\n",
       "    </tr>\n",
       "    <tr>\n",
       "      <th>2</th>\n",
       "      <td>7</td>\n",
       "      <td>1786</td>\n",
       "      <td>2</td>\n",
       "      <td>608</td>\n",
       "      <td>920</td>\n",
       "      <td>920</td>\n",
       "      <td>Gd</td>\n",
       "      <td>Gd</td>\n",
       "      <td>223500</td>\n",
       "      <td>0</td>\n",
       "      <td>1</td>\n",
       "      <td>0</td>\n",
       "      <td>0</td>\n",
       "      <td>1</td>\n",
       "      <td>0</td>\n",
       "    </tr>\n",
       "    <tr>\n",
       "      <th>3</th>\n",
       "      <td>7</td>\n",
       "      <td>1717</td>\n",
       "      <td>3</td>\n",
       "      <td>642</td>\n",
       "      <td>756</td>\n",
       "      <td>961</td>\n",
       "      <td>TA</td>\n",
       "      <td>Gd</td>\n",
       "      <td>140000</td>\n",
       "      <td>0</td>\n",
       "      <td>0</td>\n",
       "      <td>1</td>\n",
       "      <td>0</td>\n",
       "      <td>1</td>\n",
       "      <td>0</td>\n",
       "    </tr>\n",
       "    <tr>\n",
       "      <th>4</th>\n",
       "      <td>8</td>\n",
       "      <td>2198</td>\n",
       "      <td>3</td>\n",
       "      <td>836</td>\n",
       "      <td>1145</td>\n",
       "      <td>1145</td>\n",
       "      <td>Gd</td>\n",
       "      <td>Gd</td>\n",
       "      <td>250000</td>\n",
       "      <td>0</td>\n",
       "      <td>1</td>\n",
       "      <td>0</td>\n",
       "      <td>0</td>\n",
       "      <td>1</td>\n",
       "      <td>0</td>\n",
       "    </tr>\n",
       "  </tbody>\n",
       "</table>\n",
       "</div>"
      ],
      "text/plain": [
       "   overallqual  grlivarea  garagecars  garagearea  totalbsmtsf  firstflrsf  \\\n",
       "0            7       1710           2         548          856         856   \n",
       "1            6       1262           2         460         1262        1262   \n",
       "2            7       1786           2         608          920         920   \n",
       "3            7       1717           3         642          756         961   \n",
       "4            8       2198           3         836         1145        1145   \n",
       "\n",
       "  exterqual kitchenqual  saleprice  exterqual_Fa  exterqual_Gd  exterqual_TA  \\\n",
       "0        Gd          Gd     208500             0             1             0   \n",
       "1        TA          TA     181500             0             0             1   \n",
       "2        Gd          Gd     223500             0             1             0   \n",
       "3        TA          Gd     140000             0             0             1   \n",
       "4        Gd          Gd     250000             0             1             0   \n",
       "\n",
       "   kitchenqual_Fa  kitchenqual_Gd  kitchenqual_TA  \n",
       "0               0               1               0  \n",
       "1               0               0               1  \n",
       "2               0               1               0  \n",
       "3               0               1               0  \n",
       "4               0               1               0  "
      ]
     },
     "execution_count": 6,
     "metadata": {},
     "output_type": "execute_result"
    }
   ],
   "source": [
    "df2.head()"
   ]
  },
  {
   "cell_type": "markdown",
   "metadata": {},
   "source": [
    "### 2) Run your house prices model again and assess the goodness of fit of your model using F-test, R-squared, adjusted R-squared, AIC and BIC."
   ]
  },
  {
   "cell_type": "markdown",
   "metadata": {},
   "source": [
    "The R-squared and adjusted R-squared values are similar, at 0.792 and 0.790.\n",
    "\n",
    "F-statistic is 459 and has a p-value near 0, telling us that the features explain something about the target variable.\n",
    "\n",
    "Lastly, the AIC and BIC are 3.482e+04 and 3.489e+04."
   ]
  },
  {
   "cell_type": "code",
   "execution_count": 7,
   "metadata": {},
   "outputs": [
    {
     "name": "stdout",
     "output_type": "stream",
     "text": [
      "                            OLS Regression Results                            \n",
      "==============================================================================\n",
      "Dep. Variable:              saleprice   R-squared:                       0.792\n",
      "Model:                            OLS   Adj. R-squared:                  0.790\n",
      "Method:                 Least Squares   F-statistic:                     459.0\n",
      "Date:                Mon, 09 Sep 2019   Prob (F-statistic):               0.00\n",
      "Time:                        22:23:36   Log-Likelihood:                -17398.\n",
      "No. Observations:                1460   AIC:                         3.482e+04\n",
      "Df Residuals:                    1447   BIC:                         3.489e+04\n",
      "Df Model:                          12                                         \n",
      "Covariance Type:            nonrobust                                         \n",
      "==================================================================================\n",
      "                     coef    std err          t      P>|t|      [0.025      0.975]\n",
      "----------------------------------------------------------------------------------\n",
      "const           3.758e+04   1.12e+04      3.346      0.001    1.55e+04    5.96e+04\n",
      "overallqual     1.609e+04   1225.717     13.131      0.000    1.37e+04    1.85e+04\n",
      "grlivarea         43.0657      2.516     17.116      0.000      38.130      48.001\n",
      "garagecars      1.466e+04   2857.554      5.129      0.000    9051.993    2.03e+04\n",
      "garagearea         7.0534      9.848      0.716      0.474     -12.264      26.371\n",
      "totalbsmtsf       19.2251      4.074      4.719      0.000      11.234      27.216\n",
      "firstflrsf         8.9155      4.745      1.879      0.060      -0.393      18.224\n",
      "exterqual_Fa   -4.953e+04   1.29e+04     -3.851      0.000   -7.48e+04   -2.43e+04\n",
      "exterqual_Gd   -3.435e+04   6421.345     -5.349      0.000   -4.69e+04   -2.17e+04\n",
      "exterqual_TA   -4.598e+04   7092.098     -6.483      0.000   -5.99e+04   -3.21e+04\n",
      "kitchenqual_Fa -4.695e+04   8338.150     -5.631      0.000   -6.33e+04   -3.06e+04\n",
      "kitchenqual_Gd -3.634e+04   4793.439     -7.581      0.000   -4.57e+04   -2.69e+04\n",
      "kitchenqual_TA -4.707e+04   5374.308     -8.759      0.000   -5.76e+04   -3.65e+04\n",
      "==============================================================================\n",
      "Omnibus:                      621.769   Durbin-Watson:                   1.992\n",
      "Prob(Omnibus):                  0.000   Jarque-Bera (JB):            68903.106\n",
      "Skew:                          -0.985   Prob(JB):                         0.00\n",
      "Kurtosis:                      36.597   Cond. No.                     3.96e+04\n",
      "==============================================================================\n",
      "\n",
      "Warnings:\n",
      "[1] Standard Errors assume that the covariance matrix of the errors is correctly specified.\n",
      "[2] The condition number is large, 3.96e+04. This might indicate that there are\n",
      "strong multicollinearity or other numerical problems.\n"
     ]
    }
   ],
   "source": [
    "Y = df2['saleprice']\n",
    "X = df2.drop(['saleprice', 'exterqual', 'kitchenqual'], axis = 1)\n",
    "X = sm.add_constant(X)\n",
    "results = sm.OLS(Y,X).fit()\n",
    "print(results.summary())"
   ]
  },
  {
   "cell_type": "markdown",
   "metadata": {},
   "source": [
    "### 3) Do you think your model is satisfactory? If so, why?\n",
    "As a first model, getting a R-squared values of 0.792 isn't bad.  This means that ~79% of the variance is explained.  Of course, there is room for improvement, as that means 21% of the variance is not explained.  "
   ]
  },
  {
   "cell_type": "markdown",
   "metadata": {},
   "source": [
    "### 4) In order to improve the goodness of fit of your model, try different model specifications by adding or removing some variables.\n",
    "\n",
    "I've created new features that adds up or multiplies the external and kitchen qualities as well as summing up the total square footage around the property.  However, none of these really made much difference in R-squared and adjusted R-squared values.  The biggest difference in improving these values was taking the log of sale prices."
   ]
  },
  {
   "cell_type": "code",
   "execution_count": 8,
   "metadata": {},
   "outputs": [],
   "source": [
    "df2['sumqual'] = df2['exterqual_Fa'] + df2['exterqual_Gd'] + df2['exterqual_TA'] + df2['kitchenqual_Fa'] + df2['kitchenqual_Gd'] + df2['kitchenqual_TA']"
   ]
  },
  {
   "cell_type": "code",
   "execution_count": 9,
   "metadata": {},
   "outputs": [],
   "source": [
    "df2['prodqual'] = df2['exterqual_Fa'] + df2['exterqual_Gd'] * df2['exterqual_TA'] * df2['kitchenqual_Fa'] * df2['kitchenqual_Gd'] * df2['kitchenqual_TA']"
   ]
  },
  {
   "cell_type": "code",
   "execution_count": 10,
   "metadata": {},
   "outputs": [],
   "source": [
    "df2['totalarea'] = df2['grlivarea'] + df2['totalbsmtsf'] + df2['firstflrsf'] + df2['garagearea']"
   ]
  },
  {
   "cell_type": "code",
   "execution_count": 18,
   "metadata": {},
   "outputs": [
    {
     "name": "stdout",
     "output_type": "stream",
     "text": [
      "                            OLS Regression Results                            \n",
      "==============================================================================\n",
      "Dep. Variable:              saleprice   R-squared:                       0.822\n",
      "Model:                            OLS   Adj. R-squared:                  0.820\n",
      "Method:                 Least Squares   F-statistic:                     475.2\n",
      "Date:                Mon, 09 Sep 2019   Prob (F-statistic):               0.00\n",
      "Time:                        22:29:10   Log-Likelihood:                 526.73\n",
      "No. Observations:                1460   AIC:                            -1023.\n",
      "Df Residuals:                    1445   BIC:                            -944.2\n",
      "Df Model:                          14                                         \n",
      "Covariance Type:            nonrobust                                         \n",
      "=====================================================================================\n",
      "                        coef    std err          t      P>|t|      [0.025      0.975]\n",
      "-------------------------------------------------------------------------------------\n",
      "const                10.4310      0.224     46.516      0.000       9.991      10.871\n",
      "overallqual           0.1896      0.028      6.737      0.000       0.134       0.245\n",
      "grlivarea             0.0001   1.42e-05      9.923      0.000       0.000       0.000\n",
      "garagecars            0.0726      0.014      5.367      0.000       0.046       0.099\n",
      "garagearea         1.686e-05   3.81e-05      0.443      0.658   -5.78e-05    9.15e-05\n",
      "totalbsmtsf        5.895e-05   2.11e-05      2.790      0.005    1.75e-05       0.000\n",
      "firstflrsf        -1.614e-05   2.37e-05     -0.680      0.497   -6.27e-05    3.04e-05\n",
      "exterqual_Fa         -0.0651      0.030     -2.155      0.031      -0.124      -0.006\n",
      "exterqual_Gd          0.0505      0.036      1.389      0.165      -0.021       0.122\n",
      "exterqual_TA         -0.0002      0.038     -0.006      0.995      -0.074       0.074\n",
      "kitchenqual_Fa       -0.0855      0.035     -2.445      0.015      -0.154      -0.017\n",
      "kitchenqual_Gd        0.0373      0.023      1.640      0.101      -0.007       0.082\n",
      "kitchenqual_TA       -0.0418      0.024     -1.769      0.077      -0.088       0.005\n",
      "sumqual              -0.1048      0.085     -1.239      0.216      -0.271       0.061\n",
      "prodqual             -0.0651      0.030     -2.155      0.031      -0.124      -0.006\n",
      "totalarea             0.0002   1.62e-05     12.415      0.000       0.000       0.000\n",
      "overallXtotalarea -2.116e-05    2.3e-06     -9.205      0.000   -2.57e-05   -1.67e-05\n",
      "overallXsum          -0.0038      0.012     -0.319      0.749      -0.027       0.019\n",
      "==============================================================================\n",
      "Omnibus:                      463.279   Durbin-Watson:                   1.986\n",
      "Prob(Omnibus):                  0.000   Jarque-Bera (JB):             2995.159\n",
      "Skew:                          -1.318   Prob(JB):                         0.00\n",
      "Kurtosis:                       9.503   Cond. No.                     1.21e+21\n",
      "==============================================================================\n",
      "\n",
      "Warnings:\n",
      "[1] Standard Errors assume that the covariance matrix of the errors is correctly specified.\n",
      "[2] The smallest eigenvalue is 9.3e-31. This might indicate that there are\n",
      "strong multicollinearity problems or that the design matrix is singular.\n"
     ]
    }
   ],
   "source": [
    "Y2 = np.log(df2['saleprice'])\n",
    "X2 = pd.concat([df2.drop(['saleprice', 'exterqual', 'kitchenqual'], axis = 1)], axis = 1)\n",
    "X2 = sm.add_constant(X2)\n",
    "results2 = sm.OLS(Y2,X2).fit()\n",
    "print(results2.summary())"
   ]
  },
  {
   "cell_type": "markdown",
   "metadata": {},
   "source": [
    "### 5)  For each model you try, get the goodness of fit metrics and compare your models with each other. Which model is the best and why?\n",
    "The table below summarizes the adjusted r-square value, F-statistic and corresponding p-value, and AIC and BIC.\n",
    "\n",
    "For the adjusted R-squared, the higher value is the second model.  \n",
    "\n",
    "For f-statistics, both models have a p-value under 0.1 and the null hypoethsis is rejected, meaning both models are useful and contributes something to the explanation of the target.\n",
    "\n",
    "Lastly, AIC and BIC are better if they have lower values.   Both AIC and BIC are lower for the second model.  \n",
    "\n",
    "Overall, it seems that the second model is better than the first."
   ]
  },
  {
   "cell_type": "markdown",
   "metadata": {},
   "source": [
    "| Model | Adjusted R-squared   | F-statistic & p-value   | AIC   | BIC   |\n",
    "|------|------|\n",
    "| 1 | 0.790   | 459.0 & 0  | 3.482e+04   | 3.489e+04   |\n",
    "| 2 | 0.820  | 475.2 & 0   | -1023   | -944.2   |\n"
   ]
  },
  {
   "cell_type": "code",
   "execution_count": null,
   "metadata": {},
   "outputs": [],
   "source": []
  }
 ],
 "metadata": {
  "anaconda-cloud": {},
  "kernelspec": {
   "display_name": "Python [default]",
   "language": "python",
   "name": "python3"
  },
  "language_info": {
   "codemirror_mode": {
    "name": "ipython",
    "version": 3
   },
   "file_extension": ".py",
   "mimetype": "text/x-python",
   "name": "python",
   "nbconvert_exporter": "python",
   "pygments_lexer": "ipython3",
   "version": "3.5.2"
  }
 },
 "nbformat": 4,
 "nbformat_minor": 1
}
