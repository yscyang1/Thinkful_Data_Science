{
 "cells": [
  {
   "cell_type": "code",
   "execution_count": 1,
   "metadata": {},
   "outputs": [
    {
     "name": "stderr",
     "output_type": "stream",
     "text": [
      "C:\\Users\\Crystal\\AppData\\Local\\Continuum\\Anaconda3\\lib\\site-packages\\sklearn\\utils\\fixes.py:313: FutureWarning: numpy not_equal will not check object identity in the future. The comparison did not return the same result as suggested by the identity (`is`)) and will change.\n",
      "  _nan_object_mask = _nan_object_array != _nan_object_array\n",
      "C:\\Users\\Crystal\\AppData\\Local\\Continuum\\Anaconda3\\lib\\site-packages\\statsmodels\\compat\\pandas.py:56: FutureWarning: The pandas.core.datetools module is deprecated and will be removed in a future version. Please use the pandas.tseries module instead.\n",
      "  from pandas.core import datetools\n"
     ]
    }
   ],
   "source": [
    "import matplotlib.pyplot as plt\n",
    "import numpy as np\n",
    "import pandas as pd\n",
    "import seaborn as sns\n",
    "%matplotlib inline\n",
    "from sklearn.linear_model import LinearRegression\n",
    "from sklearn.model_selection import train_test_split\n",
    "from sklearn.metrics import mean_absolute_error\n",
    "import statsmodels.api as sm\n",
    "from statsmodels.tools.eval_measures import mse, rmse"
   ]
  },
  {
   "cell_type": "markdown",
   "metadata": {},
   "source": [
    "### 1)  Load the houseprices data "
   ]
  },
  {
   "cell_type": "code",
   "execution_count": 2,
   "metadata": {},
   "outputs": [],
   "source": [
    "df = pd.read_csv('houseprices.cvs')"
   ]
  },
  {
   "cell_type": "markdown",
   "metadata": {},
   "source": [
    "### 2) Split your data into train and test sets.\n",
    "First, determine the target variable ('saleprice') and features(num_col and cat_col).  Splitting data into train and test sets can easily be done with sklearn's train_test_split function."
   ]
  },
  {
   "cell_type": "code",
   "execution_count": 3,
   "metadata": {},
   "outputs": [],
   "source": [
    "num_col = ['overallqual', 'grlivarea', 'garagecars', 'garagearea', 'totalbsmtsf', 'firstflrsf']\n",
    "cat_col = ['exterqual', 'kitchenqual']"
   ]
  },
  {
   "cell_type": "code",
   "execution_count": 4,
   "metadata": {},
   "outputs": [],
   "source": [
    "df2 = pd.concat([df[num_col], df[cat_col], df['saleprice']], axis = 1)"
   ]
  },
  {
   "cell_type": "code",
   "execution_count": 5,
   "metadata": {},
   "outputs": [],
   "source": [
    "for col in cat_col:\n",
    "    df2 = pd.concat([df2, pd.get_dummies(df[col], drop_first=True, prefix = col)], axis = 1)"
   ]
  },
  {
   "cell_type": "code",
   "execution_count": 6,
   "metadata": {},
   "outputs": [],
   "source": [
    "Y = df2['saleprice']\n",
    "X = df2.drop(['saleprice', 'exterqual', 'kitchenqual'], axis = 1)"
   ]
  },
  {
   "cell_type": "code",
   "execution_count": 7,
   "metadata": {},
   "outputs": [],
   "source": [
    "X_train, X_test, y_train, y_test = train_test_split(X, Y, test_size = 0.2, random_state = 42)"
   ]
  },
  {
   "cell_type": "markdown",
   "metadata": {},
   "source": [
    "### 3) Estimate your model from the previous checkpoint in the train set. Assess the goodness of fit of your model."
   ]
  },
  {
   "cell_type": "code",
   "execution_count": 8,
   "metadata": {},
   "outputs": [
    {
     "name": "stdout",
     "output_type": "stream",
     "text": [
      "                            OLS Regression Results                            \n",
      "==============================================================================\n",
      "Dep. Variable:              saleprice   R-squared:                       0.780\n",
      "Model:                            OLS   Adj. R-squared:                  0.778\n",
      "Method:                 Least Squares   F-statistic:                     341.8\n",
      "Date:                Mon, 09 Sep 2019   Prob (F-statistic):               0.00\n",
      "Time:                        22:43:57   Log-Likelihood:                -13923.\n",
      "No. Observations:                1168   AIC:                         2.787e+04\n",
      "Df Residuals:                    1155   BIC:                         2.794e+04\n",
      "Df Model:                          12                                         \n",
      "Covariance Type:            nonrobust                                         \n",
      "==================================================================================\n",
      "                     coef    std err          t      P>|t|      [0.025      0.975]\n",
      "----------------------------------------------------------------------------------\n",
      "const           3.006e+04   1.27e+04      2.372      0.018    5190.458    5.49e+04\n",
      "overallqual     1.713e+04   1373.326     12.471      0.000    1.44e+04    1.98e+04\n",
      "grlivarea         39.6087      2.813     14.082      0.000      34.090      45.127\n",
      "garagecars      1.477e+04   3220.928      4.587      0.000    8455.455    2.11e+04\n",
      "garagearea         9.4217     11.234      0.839      0.402     -12.620      31.464\n",
      "totalbsmtsf       15.2501      4.458      3.421      0.001       6.504      23.996\n",
      "firstflrsf        10.5667      5.271      2.005      0.045       0.224      20.909\n",
      "exterqual_Fa   -3.819e+04   1.45e+04     -2.635      0.009   -6.66e+04   -9749.967\n",
      "exterqual_Gd   -2.729e+04   7334.476     -3.721      0.000   -4.17e+04   -1.29e+04\n",
      "exterqual_TA   -3.842e+04   8064.106     -4.765      0.000   -5.42e+04   -2.26e+04\n",
      "kitchenqual_Fa -4.343e+04   9572.910     -4.537      0.000   -6.22e+04   -2.46e+04\n",
      "kitchenqual_Gd -3.636e+04   5483.628     -6.630      0.000   -4.71e+04   -2.56e+04\n",
      "kitchenqual_TA -4.743e+04   6225.154     -7.619      0.000   -5.96e+04   -3.52e+04\n",
      "==============================================================================\n",
      "Omnibus:                      528.426   Durbin-Watson:                   2.093\n",
      "Prob(Omnibus):                  0.000   Jarque-Bera (JB):            49233.210\n",
      "Skew:                          -1.139   Prob(JB):                         0.00\n",
      "Kurtosis:                      34.725   Cond. No.                     3.99e+04\n",
      "==============================================================================\n",
      "\n",
      "Warnings:\n",
      "[1] Standard Errors assume that the covariance matrix of the errors is correctly specified.\n",
      "[2] The condition number is large, 3.99e+04. This might indicate that there are\n",
      "strong multicollinearity or other numerical problems.\n"
     ]
    }
   ],
   "source": [
    "X_train = sm.add_constant(X_train)\n",
    "results = sm.OLS(y_train, X_train).fit()\n",
    "print(results.summary())"
   ]
  },
  {
   "cell_type": "markdown",
   "metadata": {},
   "source": [
    "R-squared and adjusted R-squared values are 0.780 and 0.778 respectively.  These numbers are a good starting point, but can be improved.  \n",
    "\n",
    "F-statistic and its corresponding p-value are 341.8 and ~0 respectively, which tells us that the model to some degree explains the target variable.\n",
    "\n",
    "Lastly, the AIC and BIC are 2.787e+04 and 2.794e+04 respectively."
   ]
  },
  {
   "cell_type": "markdown",
   "metadata": {},
   "source": [
    "### 4) Predict the house prices in the test set, and evaluate the performance of your model using the metrics we mentioned in this checkpoint.  Is the performance of your model satisfactory? Why?"
   ]
  },
  {
   "cell_type": "code",
   "execution_count": 9,
   "metadata": {},
   "outputs": [
    {
     "data": {
      "text/plain": [
       "<matplotlib.text.Text at 0x1167b2a3ac8>"
      ]
     },
     "execution_count": 9,
     "metadata": {},
     "output_type": "execute_result"
    },
    {
     "data": {
      "image/png": "[encoded data removed]",
      "text/plain": [
       "<matplotlib.figure.Figure at 0x1167afda2e8>"
      ]
     },
     "metadata": {},
     "output_type": "display_data"
    }
   ],
   "source": [
    "X_test = sm.add_constant(X_test)\n",
    "y_preds = results.predict(X_test)\n",
    "\n",
    "plt.scatter(y_test, y_preds)\n",
    "plt.plot(y_test, y_test, color = 'red')\n",
    "plt.xlabel('True Values')\n",
    "plt.ylabel('Predicted Values')\n",
    "plt.title('True vs Predictved values of House Sale Prices')"
   ]
  },
  {
   "cell_type": "code",
   "execution_count": 10,
   "metadata": {},
   "outputs": [
    {
     "name": "stdout",
     "output_type": "stream",
     "text": [
      "Mean absolute error of the prediction is: 23426.644247539654\n",
      "Mean squared error of the prediction is: 1303789351.8254063\n",
      "Root mean squared error of the prediction is: 36108.023371896255\n",
      "Mean absolute percentage error of the prediction is: 14.811800268428533\n"
     ]
    }
   ],
   "source": [
    "print(\"Mean absolute error of the prediction is: {}\".format(mean_absolute_error(y_test, y_preds)))\n",
    "print(\"Mean squared error of the prediction is: {}\".format(mse(y_test, y_preds)))\n",
    "print(\"Root mean squared error of the prediction is: {}\".format(rmse(y_test, y_preds)))\n",
    "print(\"Mean absolute percentage error of the prediction is: {}\".format(np.mean(np.abs((y_test - y_preds) / y_test)) * 100))"
   ]
  },
  {
   "cell_type": "markdown",
   "metadata": {},
   "source": [
    "The plot gives us an idea if the model's predictions are good or bad.  For the most part it looks like it predicts pretty well until ~\\$350, then above that number the predictions are too low. The evaluation metrics are printed above.  It is difficult to say if they are good or bad without comparing to another model.  The exception is mean absolute percentage error (MAPE), which has a 14% error.  As a first model this sounds decent, but probably can be improved."
   ]
  },
  {
   "cell_type": "markdown",
   "metadata": {},
   "source": [
    "### 5) Try to improve your model in terms of predictive performance by adding or removing some variables.\n",
    "I found the best way to improve the model was to take the log of the sale price.  Metrics are printed at the bottom, but they are significantly better than the first model.  MAE, MSE, and RMSE are all under 1 and MAPE is ~1%."
   ]
  },
  {
   "cell_type": "code",
   "execution_count": 11,
   "metadata": {},
   "outputs": [],
   "source": [
    "df2['sumqual'] = df2['exterqual_Fa'] + df2['exterqual_Gd'] + df2['exterqual_TA'] + df2['kitchenqual_Fa'] + df2['kitchenqual_Gd'] + df2['kitchenqual_TA']\n",
    "df2['prodqual'] = df2['exterqual_Fa'] * df2['exterqual_Gd'] * df2['exterqual_TA'] * df2['kitchenqual_Fa'] * df2['kitchenqual_Gd'] * df2['kitchenqual_TA']\n",
    "df2['totalarea'] = df2['grlivarea'] + df2['totalbsmtsf'] + df2['firstflrsf'] + df2['garagearea']"
   ]
  },
  {
   "cell_type": "code",
   "execution_count": 12,
   "metadata": {
    "scrolled": true
   },
   "outputs": [
    {
     "name": "stdout",
     "output_type": "stream",
     "text": [
      "                            OLS Regression Results                            \n",
      "==============================================================================\n",
      "Dep. Variable:              saleprice   R-squared:                       0.800\n",
      "Model:                            OLS   Adj. R-squared:                  0.798\n",
      "Method:                 Least Squares   F-statistic:                     385.9\n",
      "Date:                Mon, 09 Sep 2019   Prob (F-statistic):               0.00\n",
      "Time:                        22:43:57   Log-Likelihood:                 380.27\n",
      "No. Observations:                1168   AIC:                            -734.5\n",
      "Df Residuals:                    1155   BIC:                            -668.7\n",
      "Df Model:                          12                                         \n",
      "Covariance Type:            nonrobust                                         \n",
      "==================================================================================\n",
      "                     coef    std err          t      P>|t|      [0.025      0.975]\n",
      "----------------------------------------------------------------------------------\n",
      "const             10.9090      0.061    179.106      0.000      10.790      11.029\n",
      "overallqual        0.1010      0.007     15.310      0.000       0.088       0.114\n",
      "grlivarea          0.0001   1.64e-05      6.966      0.000    8.21e-05       0.000\n",
      "garagecars         0.1022      0.015      6.600      0.000       0.072       0.133\n",
      "garagearea     -4.022e-05   4.42e-05     -0.909      0.363      -0.000    4.66e-05\n",
      "totalbsmtsf      1.76e-05   2.38e-05      0.739      0.460   -2.91e-05    6.43e-05\n",
      "firstflrsf     -2.244e-05   2.72e-05     -0.825      0.409   -7.58e-05    3.09e-05\n",
      "exterqual_Fa      -0.0805      0.058     -1.379      0.168      -0.195       0.034\n",
      "exterqual_Gd       0.0934      0.029      3.274      0.001       0.037       0.149\n",
      "exterqual_TA       0.0544      0.031      1.747      0.081      -0.007       0.116\n",
      "kitchenqual_Fa    -0.1044      0.043     -2.407      0.016      -0.190      -0.019\n",
      "kitchenqual_Gd     0.0365      0.028      1.291      0.197      -0.019       0.092\n",
      "kitchenqual_TA    -0.0447      0.030     -1.479      0.139      -0.104       0.015\n",
      "sumqual           -0.0453      0.009     -4.790      0.000      -0.064      -0.027\n",
      "prodqual                0          0        nan        nan           0           0\n",
      "totalarea       6.919e-05   1.05e-05      6.566      0.000    4.85e-05    8.99e-05\n",
      "sumqual           -0.0453      0.009     -4.790      0.000      -0.064      -0.027\n",
      "==============================================================================\n",
      "Omnibus:                      685.139   Durbin-Watson:                   2.046\n",
      "Prob(Omnibus):                  0.000   Jarque-Bera (JB):            17145.173\n",
      "Skew:                          -2.222   Prob(JB):                         0.00\n",
      "Kurtosis:                      21.236   Cond. No.                     3.85e+34\n",
      "==============================================================================\n",
      "\n",
      "Warnings:\n",
      "[1] Standard Errors assume that the covariance matrix of the errors is correctly specified.\n",
      "[2] The smallest eigenvalue is 1.98e-59. This might indicate that there are\n",
      "strong multicollinearity problems or that the design matrix is singular.\n"
     ]
    },
    {
     "name": "stderr",
     "output_type": "stream",
     "text": [
      "C:\\Users\\Crystal\\AppData\\Local\\Continuum\\Anaconda3\\lib\\site-packages\\statsmodels\\base\\model.py:1036: RuntimeWarning: invalid value encountered in true_divide\n",
      "  return self.params / self.bse\n",
      "C:\\Users\\Crystal\\AppData\\Local\\Continuum\\Anaconda3\\lib\\site-packages\\scipy\\stats\\_distn_infrastructure.py:879: RuntimeWarning: invalid value encountered in greater\n",
      "  return (self.a < x) & (x < self.b)\n",
      "C:\\Users\\Crystal\\AppData\\Local\\Continuum\\Anaconda3\\lib\\site-packages\\scipy\\stats\\_distn_infrastructure.py:879: RuntimeWarning: invalid value encountered in less\n",
      "  return (self.a < x) & (x < self.b)\n",
      "C:\\Users\\Crystal\\AppData\\Local\\Continuum\\Anaconda3\\lib\\site-packages\\scipy\\stats\\_distn_infrastructure.py:1821: RuntimeWarning: invalid value encountered in less_equal\n",
      "  cond2 = cond0 & (x <= self.a)\n"
     ]
    }
   ],
   "source": [
    "Y2 = np.log(df2['saleprice'])\n",
    "X2 = pd.concat([df2.drop(['saleprice', 'exterqual', 'kitchenqual'], axis = 1), df2['sumqual']], axis = 1)\n",
    "X2 = sm.add_constant(X2)\n",
    "X2_train, X2_test, y2_train, y2_test = train_test_split(X2, Y2, test_size = 0.2, random_state = 42)\n",
    "X2_train = sm.add_constant(X2_train)\n",
    "results2 = sm.OLS(y2_train, X2_train).fit()\n",
    "print(results2.summary())"
   ]
  },
  {
   "cell_type": "code",
   "execution_count": 13,
   "metadata": {
    "scrolled": true
   },
   "outputs": [
    {
     "data": {
      "text/plain": [
       "<matplotlib.text.Text at 0x1167c407208>"
      ]
     },
     "execution_count": 13,
     "metadata": {},
     "output_type": "execute_result"
    },
    {
     "data": {
      "image/png": "[encoded data removed]",
      "text/plain": [
       "<matplotlib.figure.Figure at 0x1167c314908>"
      ]
     },
     "metadata": {},
     "output_type": "display_data"
    }
   ],
   "source": [
    "X2_test = sm.add_constant(X2_test)\n",
    "y2_preds = results2.predict(X2_test)\n",
    "\n",
    "plt.scatter(y2_test, y2_preds)\n",
    "plt.plot(y2_test, y2_test, color = 'red')\n",
    "plt.xlabel('True Values')\n",
    "plt.ylabel('Predicted Values')\n",
    "plt.title('True vs Predictved values of House Sale Prices')"
   ]
  },
  {
   "cell_type": "code",
   "execution_count": 14,
   "metadata": {},
   "outputs": [
    {
     "name": "stdout",
     "output_type": "stream",
     "text": [
      "Mean absolute error of the second prediction is: 0.12340351327047608\n",
      "Mean squared error of the second prediction is: 0.030593672673697957\n",
      "Root mean squared error of the second prediction is: 0.1749104704518799\n",
      "Mean absolute percentage error of the second prediction is: 1.04459686965894\n"
     ]
    }
   ],
   "source": [
    "print(\"Mean absolute error of the second prediction is: {}\".format(mean_absolute_error(y2_test, y2_preds)))\n",
    "print(\"Mean squared error of the second prediction is: {}\".format(mse(y2_test, y2_preds)))\n",
    "print(\"Root mean squared error of the second prediction is: {}\".format(rmse(y2_test, y2_preds)))\n",
    "print(\"Mean absolute percentage error of the second prediction is: {}\".format(np.mean(np.abs((y2_test - y2_preds) / y2_test)) * 100))"
   ]
  },
  {
   "cell_type": "markdown",
   "metadata": {},
   "source": []
  }
 ],
 "metadata": {
  "anaconda-cloud": {},
  "kernelspec": {
   "display_name": "Python [default]",
   "language": "python",
   "name": "python3"
  },
  "language_info": {
   "codemirror_mode": {
    "name": "ipython",
    "version": 3
   },
   "file_extension": ".py",
   "mimetype": "text/x-python",
   "name": "python",
   "nbconvert_exporter": "python",
   "pygments_lexer": "ipython3",
   "version": "3.5.2"
  }
 },
 "nbformat": 4,
 "nbformat_minor": 1
}
