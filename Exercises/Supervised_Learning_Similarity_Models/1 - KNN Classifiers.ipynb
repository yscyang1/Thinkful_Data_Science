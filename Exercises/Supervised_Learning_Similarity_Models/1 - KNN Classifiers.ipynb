{
 "cells": [
  {
   "cell_type": "markdown",
   "metadata": {},
   "source": [
    "### Instructions\n",
    "The Nearest Neighbor algorithm is extremely simple. So simple, in fact, that you should be able to build it yourself from scratch using the Python you already know. Code a Nearest Neighbors algorithm that works for two dimensional data. You can use either arrays or dataframes to do this. Test it against the SKLearn package on the music dataset from above to ensure that it's correct. The goal here is to confirm your understanding of the model and continue to practice your Python skills. We're just expecting a brute force method here. After doing this, look up \"ball tree\" methods to see a more performant algorithm design."
   ]
  },
  {
   "cell_type": "markdown",
   "metadata": {},
   "source": [
    "### 1 - Import Libraries and Data\n",
    "The data is an array defined below.  The duration is measured in seconds, and loudness is in loudness units (not decibels, as this isn't linear).  The target variable is 'jazz', indicating if the corresponding datapoint is a jazz or rock song, where a 1 indicates a jazz song and a 0 indicates a rock song.  "
   ]
  },
  {
   "cell_type": "code",
   "execution_count": 1,
   "metadata": {},
   "outputs": [],
   "source": [
    "import numpy as np\n",
    "import pandas as pd\n",
    "import matplotlib.pyplot as plt\n",
    "import seaborn as sns\n",
    "import scipy\n",
    "%matplotlib inline"
   ]
  },
  {
   "cell_type": "code",
   "execution_count": 30,
   "metadata": {},
   "outputs": [],
   "source": [
    "music = pd.DataFrame()\n",
    "\n",
    "# Some data to play with.\n",
    "music['duration'] = [184, 134, 243, 186, 122, 197, 294, 382, 102, 264, \n",
    "                     205, 110, 307, 110, 397, 153, 190, 192, 210, 403,\n",
    "                     164, 198, 204, 253, 234, 190, 182, 401, 376, 102]\n",
    "music['loudness'] = [18, 34, 43, 36, 22, 9, 29, 22, 10, 24, \n",
    "                     20, 10, 17, 51, 7, 13, 19, 12, 21, 22,\n",
    "                     16, 18, 4, 23, 34, 19, 14, 11, 37, 42]\n",
    "\n",
    "# We know whether the songs in our training data are jazz or not.\n",
    "music['jazz'] = [ 1, 0, 0, 0, 1, 1, 0, 1, 1, 0,\n",
    "                  0, 1, 1, 0, 1, 1, 0, 1, 1, 1,\n",
    "                  1, 1, 1, 1, 0, 0, 1, 1, 0, 0]\n"
   ]
  },
  {
   "cell_type": "markdown",
   "metadata": {},
   "source": [
    "### 2 - A Glance at the Data\n",
    "Below is a plot of the loudness and duration, where the blue dots indicate rock songs and the orange dots indicate jazz songs.  Visually, the biggest indicator of the genre of the song is the loudness of the song, with the boundary at around a loudness of 23."
   ]
  },
  {
   "cell_type": "code",
   "execution_count": 47,
   "metadata": {},
   "outputs": [
    {
     "data": {
      "text/plain": [
       "<matplotlib.text.Text at 0x1af47629c50>"
      ]
     },
     "execution_count": 47,
     "metadata": {},
     "output_type": "execute_result"
    },
    {
     "data": {
      "image/png": "[encoded data removed]",
      "text/plain": [
       "<matplotlib.figure.Figure at 0x1af475e58d0>"
      ]
     },
     "metadata": {},
     "output_type": "display_data"
    }
   ],
   "source": [
    "sns.scatterplot(x = 'loudness', y = 'duration', hue = 'jazz', data = music)\n",
    "plt.xlabel('Loudness')\n",
    "plt.ylabel('Duration')\n",
    "plt.title('Relationship between Duration and Loudness for Jazz and Rock Songs')"
   ]
  },
  {
   "cell_type": "markdown",
   "metadata": {},
   "source": [
    "### 3 - Writing a Nearest Neighbor Algorithm\n",
    "The nearest neighbor algorithm takes in a data point and finds the nearest data point in the dataset.  The input data point will have the same classification as the one in the dataset.  The euclidean distance will be used to find the nearest data point.  Since this is a 2D array, I can use Pythagorean theorem."
   ]
  },
  {
   "cell_type": "code",
   "execution_count": 64,
   "metadata": {},
   "outputs": [],
   "source": [
    "dataset_lst = list(zip(music['loudness'], music['duration']))"
   ]
  },
  {
   "cell_type": "code",
   "execution_count": 92,
   "metadata": {},
   "outputs": [],
   "source": [
    "def nn(datapt):\n",
    "    min_index = np.argmin([euclidean(datapt, dataset_lst[i]) for i in range(len(dataset_lst))])\n",
    "    genre =  music['jazz'][min_index]\n",
    "    if genre == 0:\n",
    "        return 'rock'\n",
    "    else: \n",
    "        return 'jazz'\n",
    "\n",
    "def euclidean(datapt1, datapt2):\n",
    "    return np.sqrt((datapt1[0] - datapt2[0])**2 + (datapt1[0] - datapt2[0])**2)"
   ]
  },
  {
   "cell_type": "markdown",
   "metadata": {},
   "source": [
    "Here are a few predictions:"
   ]
  },
  {
   "cell_type": "code",
   "execution_count": 112,
   "metadata": {},
   "outputs": [
    {
     "name": "stdout",
     "output_type": "stream",
     "text": [
      "The model predicts that at 24 loudness and 190 seconds, the song is rock\n",
      "The model predicts that at 44 loudness and 150 seconds, the song is rock\n",
      "The model predicts that at 10 loudness and 120 seconds, the song is jazz\n",
      "The model predicts that at 32 loudness and 122 seconds, the song is rock\n"
     ]
    }
   ],
   "source": [
    "print('The model predicts that at 24 loudness and 190 seconds, the song is {}'.format(nn([24,190])))\n",
    "print('The model predicts that at 44 loudness and 150 seconds, the song is {}'.format(nn([44,150])))\n",
    "print('The model predicts that at 10 loudness and 120 seconds, the song is {}'.format(nn([10,120])))\n",
    "print('The model predicts that at 32 loudness and 122 seconds, the song is {}'.format(nn([33,120])))"
   ]
  },
  {
   "cell_type": "markdown",
   "metadata": {},
   "source": [
    "Using sklearn's KNeighborsClassifier, I can check the above predictions to make sure the algorithm I wrote is predicting correctly."
   ]
  },
  {
   "cell_type": "code",
   "execution_count": 111,
   "metadata": {},
   "outputs": [
    {
     "data": {
      "text/plain": [
       "KNeighborsClassifier(algorithm='auto', leaf_size=30, metric='minkowski',\n",
       "           metric_params=None, n_jobs=None, n_neighbors=1, p=2,\n",
       "           weights='uniform')"
      ]
     },
     "execution_count": 111,
     "metadata": {},
     "output_type": "execute_result"
    }
   ],
   "source": [
    "from sklearn.neighbors import KNeighborsClassifier\n",
    "neighbors = KNeighborsClassifier(n_neighbors=1)\n",
    "X = music[['loudness', 'duration']]\n",
    "Y = music.jazz\n",
    "neighbors.fit(X,Y)"
   ]
  },
  {
   "cell_type": "code",
   "execution_count": 108,
   "metadata": {},
   "outputs": [],
   "source": [
    "def print_genre(model):\n",
    "    genre = None\n",
    "    if model[0] == 0:\n",
    "        genre = 'rock'\n",
    "    else:\n",
    "        genre = \"jazz\"\n",
    "    print('The model predicts that at 24 loudness and 190 seconds, the song is {}'.format(genre))"
   ]
  },
  {
   "cell_type": "code",
   "execution_count": 113,
   "metadata": {},
   "outputs": [
    {
     "name": "stdout",
     "output_type": "stream",
     "text": [
      "The model predicts that at 24 loudness and 190 seconds, the song is rock\n",
      "The model predicts that at 24 loudness and 190 seconds, the song is rock\n",
      "The model predicts that at 24 loudness and 190 seconds, the song is jazz\n",
      "The model predicts that at 24 loudness and 190 seconds, the song is jazz\n"
     ]
    }
   ],
   "source": [
    "print_genre(neighbors.predict([[24, 190]]))\n",
    "print_genre(neighbors.predict([[44, 150]]))\n",
    "print_genre(neighbors.predict([[10, 120]]))\n",
    "print_genre(neighbors.predict([[33, 120]]))"
   ]
  },
  {
   "cell_type": "markdown",
   "metadata": {},
   "source": [
    "As you can see, the two algorithms match."
   ]
  },
  {
   "cell_type": "code",
   "execution_count": null,
   "metadata": {},
   "outputs": [],
   "source": []
  }
 ],
 "metadata": {
  "anaconda-cloud": {},
  "kernelspec": {
   "display_name": "Python [default]",
   "language": "python",
   "name": "python3"
  },
  "language_info": {
   "codemirror_mode": {
    "name": "ipython",
    "version": 3
   },
   "file_extension": ".py",
   "mimetype": "text/x-python",
   "name": "python",
   "nbconvert_exporter": "python",
   "pygments_lexer": "ipython3",
   "version": "3.5.2"
  }
 },
 "nbformat": 4,
 "nbformat_minor": 1
}
