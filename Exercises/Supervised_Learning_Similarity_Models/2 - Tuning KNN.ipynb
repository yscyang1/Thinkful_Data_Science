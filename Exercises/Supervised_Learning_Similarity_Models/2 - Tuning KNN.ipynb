{
 "cells": [
  {
   "cell_type": "markdown",
   "metadata": {},
   "source": [
    "### Let's say we work at a credit card company and we're trying to figure out if people are going to pay their bills on time. We have everyone's purchases, split into four main categories: groceries, dining out, utilities, and entertainment. What are some ways you might use KNN to create this model? What aspects of KNN would be useful? Write up your thoughts in submit a link below."
   ]
  },
  {
   "cell_type": "markdown",
   "metadata": {},
   "source": [
    "There are 3 parameters that can be tuned in KNN:  1) normalization, 2) weights, and 3) choosing K.  \n",
    "\n",
    "When thinking about distance and normalization, we have to see if the most people will spend around the same amount in each category.  I highly doubt this, since most people will spend most of their money on groceries and utilities, and a much smaller fraction on dining out and entertainment.  There is however, another subset of the population that choose to dine out more than buy groceries, or choose to invest a greater part of their money into entertainment.  For a KNN model, it is advisable to normalize the spending in each category.  \n",
    "\n",
    "Another way to go about it is to find the ratios the user has spent in each category and run the KNN model on the ratios rather than (normalized) dollar amount; this would also normalize the data.  The thought process here is to find out if those who have a higher ratio in one or two categories are better or worse at paying off their credit card.  \n",
    "\n",
    "In terms of weights and choosing K, this will have to be done experimentally.  "
   ]
  },
  {
   "cell_type": "code",
   "execution_count": null,
   "metadata": {},
   "outputs": [],
   "source": []
  }
 ],
 "metadata": {
  "kernelspec": {
   "display_name": "Python [default]",
   "language": "python",
   "name": "python3"
  },
  "language_info": {
   "codemirror_mode": {
    "name": "ipython",
    "version": 3
   },
   "file_extension": ".py",
   "mimetype": "text/x-python",
   "name": "python",
   "nbconvert_exporter": "python",
   "pygments_lexer": "ipython3",
   "version": "3.5.2"
  }
 },
 "nbformat": 4,
 "nbformat_minor": 1
}
