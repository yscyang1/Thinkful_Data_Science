{
 "cells": [
  {
   "cell_type": "markdown",
   "metadata": {},
   "source": [
    "https://www.kaggle.com/thegurusteam/spanish-high-speed-rail-system-ticket-pricing/downloads/spanish-high-speed-rail-system-ticket-pricing.zip/5\n",
    "goal:  predict price of ticket\n",
    "\n",
    "At The Gurus, we are working on the following product: this is a Spanish High Speed Train Service (Renfe AVE) tickets pricing monitoring system. It scrapes tickets pricing data periodically and stores it in a database. Ticket pricing changes based on demand and time, and there can be significant difference in price. We are creating this product mainly with ourselves in mind. Users can set up alarms using an email, choosing an origin and destination (cities), time (date and hour range picker) choosing a price reduction over mean price, etc."
   ]
  },
  {
   "cell_type": "markdown",
   "metadata": {},
   "source": [
    "### 1 - Importing the Data\n",
    "first look at the data.  lots of categorical values and dates/times.  "
   ]
  },
  {
   "cell_type": "code",
   "execution_count": 1,
   "metadata": {},
   "outputs": [
    {
     "name": "stderr",
     "output_type": "stream",
     "text": [
      "C:\\Users\\Crystal\\AppData\\Local\\Continuum\\Anaconda3\\lib\\site-packages\\sklearn\\utils\\fixes.py:313: FutureWarning: numpy not_equal will not check object identity in the future. The comparison did not return the same result as suggested by the identity (`is`)) and will change.\n",
      "  _nan_object_mask = _nan_object_array != _nan_object_array\n",
      "C:\\Users\\Crystal\\AppData\\Local\\Continuum\\Anaconda3\\lib\\site-packages\\statsmodels\\compat\\pandas.py:56: FutureWarning: The pandas.core.datetools module is deprecated and will be removed in a future version. Please use the pandas.tseries module instead.\n",
      "  from pandas.core import datetools\n"
     ]
    }
   ],
   "source": [
    "import pandas as pd\n",
    "import seaborn as sns\n",
    "import numpy as np\n",
    "import matplotlib.pyplot as plt\n",
    "%matplotlib inline\n",
    "from tabulate import tabulate\n",
    "from datetime import datetime\n",
    "from sklearn.linear_model import LinearRegression\n",
    "from sklearn.model_selection import train_test_split\n",
    "from sklearn.metrics import mean_absolute_error\n",
    "from statsmodels.tools.eval_measures import mse, rmse\n",
    "import statsmodels.api as sm\n",
    "import warnings\n",
    "warnings.filterwarnings('ignore')"
   ]
  },
  {
   "cell_type": "code",
   "execution_count": 2,
   "metadata": {},
   "outputs": [],
   "source": [
    "df = pd.read_csv('renfe.csv', parse_dates=['insert_date','start_date','end_date'])"
   ]
  },
  {
   "cell_type": "code",
   "execution_count": 3,
   "metadata": {},
   "outputs": [
    {
     "data": {
      "text/html": [
       "<div>\n",
       "<style scoped>\n",
       "    .dataframe tbody tr th:only-of-type {\n",
       "        vertical-align: middle;\n",
       "    }\n",
       "\n",
       "    .dataframe tbody tr th {\n",
       "        vertical-align: top;\n",
       "    }\n",
       "\n",
       "    .dataframe thead th {\n",
       "        text-align: right;\n",
       "    }\n",
       "</style>\n",
       "<table border=\"1\" class=\"dataframe\">\n",
       "  <thead>\n",
       "    <tr style=\"text-align: right;\">\n",
       "      <th></th>\n",
       "      <th>insert_date</th>\n",
       "      <th>origin</th>\n",
       "      <th>destination</th>\n",
       "      <th>start_date</th>\n",
       "      <th>end_date</th>\n",
       "      <th>train_type</th>\n",
       "      <th>price</th>\n",
       "      <th>train_class</th>\n",
       "      <th>fare</th>\n",
       "    </tr>\n",
       "  </thead>\n",
       "  <tbody>\n",
       "    <tr>\n",
       "      <th>0</th>\n",
       "      <td>2019-04-11 21:49:46</td>\n",
       "      <td>MADRID</td>\n",
       "      <td>BARCELONA</td>\n",
       "      <td>2019-04-18 05:50:00</td>\n",
       "      <td>2019-04-18 08:55:00</td>\n",
       "      <td>AVE</td>\n",
       "      <td>68.95</td>\n",
       "      <td>Preferente</td>\n",
       "      <td>Promo</td>\n",
       "    </tr>\n",
       "    <tr>\n",
       "      <th>1</th>\n",
       "      <td>2019-04-11 21:49:46</td>\n",
       "      <td>MADRID</td>\n",
       "      <td>BARCELONA</td>\n",
       "      <td>2019-04-18 06:30:00</td>\n",
       "      <td>2019-04-18 09:20:00</td>\n",
       "      <td>AVE</td>\n",
       "      <td>75.40</td>\n",
       "      <td>Turista</td>\n",
       "      <td>Promo</td>\n",
       "    </tr>\n",
       "    <tr>\n",
       "      <th>2</th>\n",
       "      <td>2019-04-11 21:49:46</td>\n",
       "      <td>MADRID</td>\n",
       "      <td>BARCELONA</td>\n",
       "      <td>2019-04-18 07:00:00</td>\n",
       "      <td>2019-04-18 09:30:00</td>\n",
       "      <td>AVE</td>\n",
       "      <td>106.75</td>\n",
       "      <td>Turista Plus</td>\n",
       "      <td>Promo</td>\n",
       "    </tr>\n",
       "    <tr>\n",
       "      <th>3</th>\n",
       "      <td>2019-04-11 21:49:46</td>\n",
       "      <td>MADRID</td>\n",
       "      <td>BARCELONA</td>\n",
       "      <td>2019-04-18 07:30:00</td>\n",
       "      <td>2019-04-18 10:40:00</td>\n",
       "      <td>AVE</td>\n",
       "      <td>90.50</td>\n",
       "      <td>Turista Plus</td>\n",
       "      <td>Promo</td>\n",
       "    </tr>\n",
       "    <tr>\n",
       "      <th>4</th>\n",
       "      <td>2019-04-11 21:49:46</td>\n",
       "      <td>MADRID</td>\n",
       "      <td>BARCELONA</td>\n",
       "      <td>2019-04-18 08:00:00</td>\n",
       "      <td>2019-04-18 10:30:00</td>\n",
       "      <td>AVE</td>\n",
       "      <td>88.95</td>\n",
       "      <td>Turista</td>\n",
       "      <td>Promo</td>\n",
       "    </tr>\n",
       "  </tbody>\n",
       "</table>\n",
       "</div>"
      ],
      "text/plain": [
       "          insert_date  origin destination          start_date  \\\n",
       "0 2019-04-11 21:49:46  MADRID   BARCELONA 2019-04-18 05:50:00   \n",
       "1 2019-04-11 21:49:46  MADRID   BARCELONA 2019-04-18 06:30:00   \n",
       "2 2019-04-11 21:49:46  MADRID   BARCELONA 2019-04-18 07:00:00   \n",
       "3 2019-04-11 21:49:46  MADRID   BARCELONA 2019-04-18 07:30:00   \n",
       "4 2019-04-11 21:49:46  MADRID   BARCELONA 2019-04-18 08:00:00   \n",
       "\n",
       "             end_date train_type   price   train_class   fare  \n",
       "0 2019-04-18 08:55:00        AVE   68.95    Preferente  Promo  \n",
       "1 2019-04-18 09:20:00        AVE   75.40       Turista  Promo  \n",
       "2 2019-04-18 09:30:00        AVE  106.75  Turista Plus  Promo  \n",
       "3 2019-04-18 10:40:00        AVE   90.50  Turista Plus  Promo  \n",
       "4 2019-04-18 10:30:00        AVE   88.95       Turista  Promo  "
      ]
     },
     "execution_count": 3,
     "metadata": {},
     "output_type": "execute_result"
    }
   ],
   "source": [
    "df.head()"
   ]
  },
  {
   "cell_type": "markdown",
   "metadata": {},
   "source": [
    "since so many categorical features, all the features are objects.  remove insert date. that is when the data was scrapped and should have no bearing on the price"
   ]
  },
  {
   "cell_type": "code",
   "execution_count": 4,
   "metadata": {},
   "outputs": [
    {
     "name": "stdout",
     "output_type": "stream",
     "text": [
      "<class 'pandas.core.frame.DataFrame'>\n",
      "RangeIndex: 7671354 entries, 0 to 7671353\n",
      "Data columns (total 9 columns):\n",
      "insert_date    datetime64[ns]\n",
      "origin         object\n",
      "destination    object\n",
      "start_date     datetime64[ns]\n",
      "end_date       datetime64[ns]\n",
      "train_type     object\n",
      "price          float64\n",
      "train_class    object\n",
      "fare           object\n",
      "dtypes: datetime64[ns](3), float64(1), object(5)\n",
      "memory usage: 526.8+ MB\n"
     ]
    }
   ],
   "source": [
    "df.info()"
   ]
  },
  {
   "cell_type": "code",
   "execution_count": 5,
   "metadata": {},
   "outputs": [],
   "source": [
    "df = df.sample(frac = 0.6)"
   ]
  },
  {
   "cell_type": "markdown",
   "metadata": {},
   "source": [
    "#### 1.1 - Missing Data\n",
    "There is missing data from the price, train class, and fare.  Since I am trying to predict price, I will delete the rows with missing prices. Removing these missing prices ended up removing the missing values from the other features as well."
   ]
  },
  {
   "cell_type": "code",
   "execution_count": 6,
   "metadata": {},
   "outputs": [
    {
     "name": "stdout",
     "output_type": "stream",
     "text": [
      "Feature        % Missing    # Unique Values\n",
      "-----------  -----------  -----------------\n",
      "insert_date     0                    414932\n",
      "origin          0                         5\n",
      "destination     0                         5\n",
      "start_date      0                     19644\n",
      "end_date        0                     25700\n",
      "train_type      0                        16\n",
      "price           7.47906                 327\n",
      "train_class     0.348874                  9\n",
      "fare            0.348874                 10\n"
     ]
    }
   ],
   "source": [
    "print(tabulate([[col, df[col].isnull().sum()/df.shape[0] * 100, df[col].nunique()] for col in df.columns], headers = ['Feature', '% Missing', '# Unique Values']))"
   ]
  },
  {
   "cell_type": "code",
   "execution_count": 7,
   "metadata": {},
   "outputs": [],
   "source": [
    "df = df[df['price'].notnull()]"
   ]
  },
  {
   "cell_type": "markdown",
   "metadata": {},
   "source": [
    "### 2 - Data Exploration\n",
    "split into two sections: the price and non date features."
   ]
  },
  {
   "cell_type": "markdown",
   "metadata": {},
   "source": [
    "#### 2.1 - Price\n",
    "From the histogram, it seems that most of the ticket prices hover between 45 to 80 Euros.  There are however, tickets that cost as much as 350 Euros, and some are even free!  Using Tukey's method, I found there are 38909 outliers (threshold of 1.5).  Since the distribution is so heavily right skewed, can I take the log of the prices to get more normalized data and reduce the number of outliers?"
   ]
  },
  {
   "cell_type": "code",
   "execution_count": 8,
   "metadata": {},
   "outputs": [
    {
     "data": {
      "image/png": "[encoded data removed]",
      "text/plain": [
       "<matplotlib.figure.Figure at 0x1cb2bf67be0>"
      ]
     },
     "metadata": {},
     "output_type": "display_data"
    }
   ],
   "source": [
    "fig, (axis1, axis2) = plt.subplots(1,2, figsize=(15, 4))\n",
    "\n",
    "sns.distplot(df['price'], bins = 30, kde = False, norm_hist=True, ax = axis1)\n",
    "sns.boxplot(x = 'price', data = df, ax = axis2)\n",
    "\n",
    "axis1.set_title('Distribution of Ticket Prices')\n",
    "axis2.set_title('Boxplot of Ticket Prices')\n",
    "\n",
    "axis1.set_ylabel('Density')\n",
    "\n",
    "for ax in [axis1, axis2]:\n",
    "    ax.set_xlabel('Price (€)')\n",
    "    \n",
    "plt.tight_layout()"
   ]
  },
  {
   "cell_type": "code",
   "execution_count": 9,
   "metadata": {},
   "outputs": [
    {
     "data": {
      "text/plain": [
       "0.0"
      ]
     },
     "execution_count": 9,
     "metadata": {},
     "output_type": "execute_result"
    }
   ],
   "source": [
    "df['price'].min()"
   ]
  },
  {
   "cell_type": "code",
   "execution_count": 10,
   "metadata": {},
   "outputs": [],
   "source": [
    "def get_outlier(dataframe, col, threshold = 1.5):\n",
    "    q75, q25 = np.percentile(dataframe[col], [75, 25])\n",
    "    iqr = q75 - q25\n",
    "    \n",
    "    minval = q25 - (iqr * threshold)\n",
    "    maxval = q75 + (iqr * threshold)\n",
    "    \n",
    "    print('The number of outliers is {}'.format(len(np.where((dataframe[col] > maxval) | (dataframe[col] < minval))[0])))\n",
    "    \n",
    "    return minval, maxval"
   ]
  },
  {
   "cell_type": "code",
   "execution_count": 11,
   "metadata": {},
   "outputs": [
    {
     "name": "stdout",
     "output_type": "stream",
     "text": [
      "The number of outliers is 23184\n"
     ]
    },
    {
     "data": {
      "text/plain": [
       "(-11.449999999999989, 128.94999999999999)"
      ]
     },
     "execution_count": 11,
     "metadata": {},
     "output_type": "execute_result"
    }
   ],
   "source": [
    "get_outlier(df, 'price')"
   ]
  },
  {
   "cell_type": "markdown",
   "metadata": {},
   "source": [
    "After taking the log of the price, the distribution looks more normalized, centered at 4.  However, there are still ~11k outliers, this time on the lower end of the distribution. "
   ]
  },
  {
   "cell_type": "code",
   "execution_count": 12,
   "metadata": {},
   "outputs": [],
   "source": [
    "df['log_price'] = np.log(df['price'] + 1)"
   ]
  },
  {
   "cell_type": "code",
   "execution_count": 13,
   "metadata": {},
   "outputs": [
    {
     "data": {
      "text/plain": [
       "<matplotlib.axes._subplots.AxesSubplot at 0x1cb27072668>"
      ]
     },
     "execution_count": 13,
     "metadata": {},
     "output_type": "execute_result"
    },
    {
     "data": {
      "image/png": "[encoded data removed]",
      "text/plain": [
       "<matplotlib.figure.Figure at 0x1cb1728d9e8>"
      ]
     },
     "metadata": {},
     "output_type": "display_data"
    }
   ],
   "source": [
    "sns.distplot(df['log_price'], kde = False, norm_hist=True, bins = 30)"
   ]
  },
  {
   "cell_type": "code",
   "execution_count": 14,
   "metadata": {},
   "outputs": [
    {
     "name": "stdout",
     "output_type": "stream",
     "text": [
      "The number of outliers is 6568\n"
     ]
    },
    {
     "data": {
      "text/plain": [
       "(2.8345096192148507, 5.2556045574204919)"
      ]
     },
     "execution_count": 14,
     "metadata": {},
     "output_type": "execute_result"
    }
   ],
   "source": [
    "get_outlier(df, 'log_price')"
   ]
  },
  {
   "cell_type": "code",
   "execution_count": 15,
   "metadata": {},
   "outputs": [
    {
     "data": {
      "text/html": [
       "<div>\n",
       "<style scoped>\n",
       "    .dataframe tbody tr th:only-of-type {\n",
       "        vertical-align: middle;\n",
       "    }\n",
       "\n",
       "    .dataframe tbody tr th {\n",
       "        vertical-align: top;\n",
       "    }\n",
       "\n",
       "    .dataframe thead th {\n",
       "        text-align: right;\n",
       "    }\n",
       "</style>\n",
       "<table border=\"1\" class=\"dataframe\">\n",
       "  <thead>\n",
       "    <tr style=\"text-align: right;\">\n",
       "      <th></th>\n",
       "      <th>insert_date</th>\n",
       "      <th>origin</th>\n",
       "      <th>destination</th>\n",
       "      <th>start_date</th>\n",
       "      <th>end_date</th>\n",
       "      <th>train_type</th>\n",
       "      <th>price</th>\n",
       "      <th>train_class</th>\n",
       "      <th>fare</th>\n",
       "      <th>log_price</th>\n",
       "    </tr>\n",
       "  </thead>\n",
       "  <tbody>\n",
       "    <tr>\n",
       "      <th>3046677</th>\n",
       "      <td>2019-06-19 19:19:28</td>\n",
       "      <td>BARCELONA</td>\n",
       "      <td>MADRID</td>\n",
       "      <td>2019-06-23 19:00:00</td>\n",
       "      <td>2019-06-23 22:00:00</td>\n",
       "      <td>AVE</td>\n",
       "      <td>0.0</td>\n",
       "      <td>Turista Plus</td>\n",
       "      <td>Flexible</td>\n",
       "      <td>0.0</td>\n",
       "    </tr>\n",
       "    <tr>\n",
       "      <th>3073523</th>\n",
       "      <td>2019-06-20 01:51:19</td>\n",
       "      <td>MADRID</td>\n",
       "      <td>BARCELONA</td>\n",
       "      <td>2019-06-24 09:30:00</td>\n",
       "      <td>2019-06-24 12:34:00</td>\n",
       "      <td>AVE</td>\n",
       "      <td>0.0</td>\n",
       "      <td>Preferente</td>\n",
       "      <td>Flexible</td>\n",
       "      <td>0.0</td>\n",
       "    </tr>\n",
       "    <tr>\n",
       "      <th>3008284</th>\n",
       "      <td>2019-06-19 09:19:06</td>\n",
       "      <td>BARCELONA</td>\n",
       "      <td>MADRID</td>\n",
       "      <td>2019-06-23 18:00:00</td>\n",
       "      <td>2019-06-23 21:10:00</td>\n",
       "      <td>AVE</td>\n",
       "      <td>0.0</td>\n",
       "      <td>Preferente</td>\n",
       "      <td>Flexible</td>\n",
       "      <td>0.0</td>\n",
       "    </tr>\n",
       "    <tr>\n",
       "      <th>4253725</th>\n",
       "      <td>2019-08-19 23:05:22</td>\n",
       "      <td>BARCELONA</td>\n",
       "      <td>MADRID</td>\n",
       "      <td>2019-08-21 18:00:00</td>\n",
       "      <td>2019-08-21 21:10:00</td>\n",
       "      <td>AVE</td>\n",
       "      <td>0.0</td>\n",
       "      <td>Turista Plus</td>\n",
       "      <td>Flexible</td>\n",
       "      <td>0.0</td>\n",
       "    </tr>\n",
       "    <tr>\n",
       "      <th>3038186</th>\n",
       "      <td>2019-06-19 17:11:02</td>\n",
       "      <td>BARCELONA</td>\n",
       "      <td>MADRID</td>\n",
       "      <td>2019-06-23 18:00:00</td>\n",
       "      <td>2019-06-23 21:10:00</td>\n",
       "      <td>AVE</td>\n",
       "      <td>0.0</td>\n",
       "      <td>Preferente</td>\n",
       "      <td>Flexible</td>\n",
       "      <td>0.0</td>\n",
       "    </tr>\n",
       "  </tbody>\n",
       "</table>\n",
       "</div>"
      ],
      "text/plain": [
       "                insert_date     origin destination          start_date  \\\n",
       "3046677 2019-06-19 19:19:28  BARCELONA      MADRID 2019-06-23 19:00:00   \n",
       "3073523 2019-06-20 01:51:19     MADRID   BARCELONA 2019-06-24 09:30:00   \n",
       "3008284 2019-06-19 09:19:06  BARCELONA      MADRID 2019-06-23 18:00:00   \n",
       "4253725 2019-08-19 23:05:22  BARCELONA      MADRID 2019-08-21 18:00:00   \n",
       "3038186 2019-06-19 17:11:02  BARCELONA      MADRID 2019-06-23 18:00:00   \n",
       "\n",
       "                   end_date train_type  price   train_class      fare  \\\n",
       "3046677 2019-06-23 22:00:00        AVE    0.0  Turista Plus  Flexible   \n",
       "3073523 2019-06-24 12:34:00        AVE    0.0    Preferente  Flexible   \n",
       "3008284 2019-06-23 21:10:00        AVE    0.0    Preferente  Flexible   \n",
       "4253725 2019-08-21 21:10:00        AVE    0.0  Turista Plus  Flexible   \n",
       "3038186 2019-06-23 21:10:00        AVE    0.0    Preferente  Flexible   \n",
       "\n",
       "         log_price  \n",
       "3046677        0.0  \n",
       "3073523        0.0  \n",
       "3008284        0.0  \n",
       "4253725        0.0  \n",
       "3038186        0.0  "
      ]
     },
     "execution_count": 15,
     "metadata": {},
     "output_type": "execute_result"
    }
   ],
   "source": [
    "df[df['log_price']==0].head()"
   ]
  },
  {
   "cell_type": "markdown",
   "metadata": {},
   "source": [
    "#### 2.3 - Non Date Features\n",
    "The non date features are the origin, destination, train type, class, and fare type.  Each of these are categorical features and will thus have to be converted to numerical values somehow.  But first, lets explore if there is a relationship between each feature and the ticket price.  Since the whole dataset has ~7 million rows, to expedite the plotting process, I will sample a quarter of the original dataset and work with the sample for this section.  The sample is ~1.7 million rows and is enough to capture the behavior of the full dataset.  "
   ]
  },
  {
   "cell_type": "markdown",
   "metadata": {},
   "source": [
    "##### 2.3.1 - Cities\n",
    "The most expensive city to travel to and from is Barcelona and the cheapest city is Valencia.  Prices for the origin and destination are similar, with Barcelona's average log price at around 4.4 (or price of €81), and Valencia's average log price at 3.5 (or price of €33)."
   ]
  },
  {
   "cell_type": "code",
   "execution_count": 16,
   "metadata": {},
   "outputs": [],
   "source": [
    "sample_df = df.sample(frac = 0.25)"
   ]
  },
  {
   "cell_type": "code",
   "execution_count": 17,
   "metadata": {},
   "outputs": [
    {
     "data": {
      "image/png": "[encoded data removed]",
      "text/plain": [
       "<matplotlib.figure.Figure at 0x1cb370f4f60>"
      ]
     },
     "metadata": {},
     "output_type": "display_data"
    }
   ],
   "source": [
    "fig, (axis1, axis2) = plt.subplots(1, 2, figsize=(15, 4))\n",
    "\n",
    "sns.barplot(x = 'destination', y = 'log_price', \n",
    "            order = sample_df.groupby('origin').mean()['log_price'].sort_values().index, data = sample_df, ax = axis1)\n",
    "sns.barplot(x = 'destination', y = 'log_price', \n",
    "            order = sample_df.groupby('destination').mean()['log_price'].sort_values().index, data = sample_df, ax = axis2)\n",
    "\n",
    "axis1.set_title('Average Log Prices by Origin')\n",
    "axis2.set_title('Average Log Prices by Destination')\n",
    "\n",
    "for ax in [axis1, axis2]:\n",
    "    ax.set_xlabel('City')\n",
    "    ax.set_ylabel('Log Price')"
   ]
  },
  {
   "cell_type": "markdown",
   "metadata": {},
   "source": [
    "##### 2.3.2 - Train Type\n",
    "In this dataset there are 15 unique types of trains that passengers can utilize.  The most expensive type of train is ATE-TGV, a line that operates between Spain and France, and has a average log price of 4.4 (or a price of €86) whereas the cheapest type of train is the regional train, which has a log price of 3.4 (price of €29)."
   ]
  },
  {
   "cell_type": "code",
   "execution_count": 19,
   "metadata": {},
   "outputs": [
    {
     "data": {
      "text/plain": [
       "(array([ 0,  1,  2,  3,  4,  5,  6,  7,  8,  9, 10, 11, 12, 13, 14]),\n",
       " <a list of 15 Text xticklabel objects>)"
      ]
     },
     "execution_count": 19,
     "metadata": {},
     "output_type": "execute_result"
    },
    {
     "data": {
      "image/png": "[encoded data removed]",
      "text/plain": [
       "<matplotlib.figure.Figure at 0x1cb381a8390>"
      ]
     },
     "metadata": {},
     "output_type": "display_data"
    }
   ],
   "source": [
    "sns.barplot(x = 'train_type', y = 'log_price', order = sample_df.groupby('train_type').mean()['log_price'].sort_values().index,data = sample_df)\n",
    "plt.title('Average Ticket Prices Based on Train Type')\n",
    "plt.xlabel('Train Type')\n",
    "plt.ylabel('Log Price')\n",
    "plt.xticks(rotation='vertical')"
   ]
  },
  {
   "cell_type": "markdown",
   "metadata": {},
   "source": [
    "##### 3.2.3 - Train Class\n",
    "The cheapest class is called turista con enlace.  I'm not fluent in Spanish, but I believe this means there is a stop/transfer point for this type of class.  The average log price for this class is 3.8 (price of €43).  On the other hand, the most expensive class is called Cama G. Clase, which looks like comes with a bed, toilet and shower and comes at a log price of 5 (price of €147)."
   ]
  },
  {
   "cell_type": "code",
   "execution_count": 20,
   "metadata": {},
   "outputs": [
    {
     "data": {
      "text/plain": [
       "(array([0, 1, 2, 3, 4, 5, 6, 7, 8]), <a list of 9 Text xticklabel objects>)"
      ]
     },
     "execution_count": 20,
     "metadata": {},
     "output_type": "execute_result"
    },
    {
     "data": {
      "image/png": "[encoded data removed]",
      "text/plain": [
       "<matplotlib.figure.Figure at 0x1cb2e37ee10>"
      ]
     },
     "metadata": {},
     "output_type": "display_data"
    }
   ],
   "source": [
    "sns.barplot(x = 'train_class', y = 'log_price', order = sample_df.groupby('train_class').mean()['log_price'].sort_values().index, data = sample_df)\n",
    "plt.title('Average Ticket Prices Based on Train Class')\n",
    "plt.xlabel('Train Class')\n",
    "plt.ylabel('Log Price')\n",
    "plt.xticks(rotation='vertical')"
   ]
  },
  {
   "cell_type": "markdown",
   "metadata": {},
   "source": [
    "##### 3.2.4 - Fare\n",
    "The first thing to notice is that there is seemingly no data for the fare type '4x100'.  This is because the fare is 0.  In the complete dataset, there is only one instance of this type of fare as well, so I will drop it as it appears to be an outlier.  \n",
    "\n",
    "The cheapest fare is called adulto ida, which is an adult outbound/one way ticket.  The average log price for this fare is 3.5 (price of €32).  The most expensive fare is mesa, which means the passenger is seated at a table.  The average log price for having a table is 5.5 (price of €246), quite a bit more expensive than the adult one way ticket.  "
   ]
  },
  {
   "cell_type": "code",
   "execution_count": 21,
   "metadata": {},
   "outputs": [
    {
     "data": {
      "text/plain": [
       "(array([0, 1, 2, 3, 4, 5, 6, 7, 8]), <a list of 9 Text xticklabel objects>)"
      ]
     },
     "execution_count": 21,
     "metadata": {},
     "output_type": "execute_result"
    },
    {
     "data": {
      "image/png": "[encoded data removed]",
      "text/plain": [
       "<matplotlib.figure.Figure at 0x1cb2e388da0>"
      ]
     },
     "metadata": {},
     "output_type": "display_data"
    }
   ],
   "source": [
    "sns.barplot(x = 'fare', y = 'log_price', order = sample_df.groupby('fare').mean()['log_price'].sort_values().index, data = sample_df)\n",
    "plt.title('Average Log Price for Fares')\n",
    "plt.xlabel('Fare Type')\n",
    "plt.ylabel('Log Price')\n",
    "plt.xticks(rotation='vertical')"
   ]
  },
  {
   "cell_type": "code",
   "execution_count": 22,
   "metadata": {},
   "outputs": [],
   "source": [
    "df = df[df['fare'] != '4x100']"
   ]
  },
  {
   "cell_type": "code",
   "execution_count": 23,
   "metadata": {},
   "outputs": [],
   "source": [
    "# df.to_csv('renfe_2.csv', index = False)"
   ]
  },
  {
   "cell_type": "markdown",
   "metadata": {},
   "source": [
    "### 4 - Feature Engineering\n",
    "Thus far, there hasn't been many numerical features.  For this dataset, all of the numerical features will be derived from the datetime columns.  In addition, a very important feature missing from the dataset is the route, which is can be used as a proxy for distance."
   ]
  },
  {
   "cell_type": "markdown",
   "metadata": {},
   "source": [
    "#### 4.1 - Deriving Features from Dates\n",
    "All the trips in this dataset occur in 2019, so I will not be including a year.  From the starting date, I can immediately derive the month, hour, and minute the trip starts.  Again, for computational purposes, I will be plotting each graph with a sample of the whole population.  \n",
    "\n",
    "The start date of all trips are in the range of April to October 2019.  It appears that as the year goes on, the log prices decreases.  As for the hour, average prices seem to be relatively steady between 8am and 5pm.  The other hours are a little more erratic, but generally the prices are lower in the middle of the night.  Last is the minutes.  I'm surprised that the trips don't start on a more regular schedule (i.e. on the hour or every fifteen minutes).  Nevertheless, there does seem to be a vaguely cyclical cycle where the log of the price peaks near the hour (55-5) and near the half hour (between 25-35).  "
   ]
  },
  {
   "cell_type": "code",
   "execution_count": 24,
   "metadata": {},
   "outputs": [],
   "source": [
    "df['month'] = df['start_date'].apply(lambda x: x.month)\n",
    "df['hour'] = df['start_date'].apply(lambda x: x.hour)\n",
    "df['minute'] = df['start_date'].apply(lambda x: x.minute)"
   ]
  },
  {
   "cell_type": "code",
   "execution_count": 25,
   "metadata": {},
   "outputs": [],
   "source": [
    "sample_df = df.sample(frac = 0.25)"
   ]
  },
  {
   "cell_type": "code",
   "execution_count": 26,
   "metadata": {},
   "outputs": [
    {
     "data": {
      "image/png": "[encoded data removed]",
      "text/plain": [
       "<matplotlib.figure.Figure at 0x1cb34731c18>"
      ]
     },
     "metadata": {},
     "output_type": "display_data"
    }
   ],
   "source": [
    "fig, (axis1, axis2, axis3) = plt.subplots(1, 3, figsize=(15, 4))\n",
    "\n",
    "sns.pointplot(x = 'month', y = 'log_price', data = sample_df, ax = axis1)\n",
    "sns.pointplot(x = 'hour', y = 'log_price', data = sample_df, ax = axis2)\n",
    "sns.pointplot(x = 'minute', y = 'log_price', data = sample_df, ax = axis3)\n",
    "\n",
    "axis1.set_title('Average Log Price by Month')\n",
    "axis2.set_title('Average Log Price by Hour')\n",
    "for ax in [axis1, axis2, axis3]:\n",
    "    ax.set_ylabel('Log Price')\n",
    "    \n",
    "plt.tight_layout()"
   ]
  },
  {
   "cell_type": "markdown",
   "metadata": {},
   "source": [
    "From the month, hour and minutes, I can extract even more features.  From the months, I can extract seasons, in which I define spring as April and May, summer is June - August, and autumn is September - October.  Lastly, from the minutes, I'm curious if there is any relationship between the price and the trip starting near the hour and half hour."
   ]
  },
  {
   "cell_type": "code",
   "execution_count": 27,
   "metadata": {},
   "outputs": [],
   "source": [
    "def get_seasons(col):\n",
    "    if col <= 5:\n",
    "        return 'spring'\n",
    "    if 6 <= col <= 8:\n",
    "        return 'summer'\n",
    "    if col >= 9:\n",
    "        return 'autumn'"
   ]
  },
  {
   "cell_type": "code",
   "execution_count": 28,
   "metadata": {},
   "outputs": [],
   "source": [
    "df['season'] = df['month'].apply(get_seasons)"
   ]
  },
  {
   "cell_type": "code",
   "execution_count": 29,
   "metadata": {},
   "outputs": [],
   "source": [
    "def get_part_of_day(col):\n",
    "    if col <=6 or col >=21:\n",
    "        return 'night'\n",
    "    if 7 <= col < 12:\n",
    "        return 'morning'\n",
    "    if 12 <= col < 17:\n",
    "        return 'afternoon'\n",
    "    if 17 <= col < 21:\n",
    "        return 'evening'"
   ]
  },
  {
   "cell_type": "code",
   "execution_count": 30,
   "metadata": {},
   "outputs": [],
   "source": [
    "df['part_of_day'] = df['hour'].apply(get_part_of_day)"
   ]
  },
  {
   "cell_type": "code",
   "execution_count": 31,
   "metadata": {},
   "outputs": [],
   "source": [
    "def get_top_of_hour(col):\n",
    "    if col < 3:\n",
    "        return 1\n",
    "    if col > 55:\n",
    "        return 1\n",
    "    else:\n",
    "        return 0"
   ]
  },
  {
   "cell_type": "code",
   "execution_count": 32,
   "metadata": {},
   "outputs": [],
   "source": [
    "def get_half_hour(col):\n",
    "    if 25 <= col <= 35:\n",
    "        return 1\n",
    "    else:\n",
    "        return 0"
   ]
  },
  {
   "cell_type": "code",
   "execution_count": 33,
   "metadata": {},
   "outputs": [],
   "source": [
    "df['top_of_hour'] = df['minute'].apply(get_top_of_hour)\n",
    "df['half_hour'] = df['minute'].apply(get_half_hour)"
   ]
  },
  {
   "cell_type": "markdown",
   "metadata": {},
   "source": [
    "The rest of the features that can be derived from the date involve subtracting two dates/times.  Three examples that come to mind include calculating the duration of the trip, if the trip is overnight, and how long between the 'booking' of the trip until the day of the actual trip?  In this case, the booking of the trip is when the data was scrapped.  "
   ]
  },
  {
   "cell_type": "code",
   "execution_count": 34,
   "metadata": {},
   "outputs": [],
   "source": [
    "df['duration'] = df['end_date'] - df['start_date']"
   ]
  },
  {
   "cell_type": "code",
   "execution_count": 35,
   "metadata": {},
   "outputs": [],
   "source": [
    "df['overnight'] = df['start_date'].apply(lambda x: x.day) != df['end_date'].apply(lambda x: x.day)"
   ]
  },
  {
   "cell_type": "code",
   "execution_count": 36,
   "metadata": {},
   "outputs": [],
   "source": [
    "df['booking_to_trip'] = (df['start_date'] - df['insert_date']).apply(lambda x: x.days)"
   ]
  },
  {
   "cell_type": "markdown",
   "metadata": {},
   "source": [
    "#### 4.2 - Deriving Routes\n",
    "The last feature I'd like to extract is the route.  This is done simply by combining the starting and ending cities.  Luckily since there are only 5 cities, the number of unique routes is 8.  "
   ]
  },
  {
   "cell_type": "code",
   "execution_count": 37,
   "metadata": {},
   "outputs": [],
   "source": [
    "df['route'] = df['origin'] + ' - ' + df['destination']"
   ]
  },
  {
   "cell_type": "markdown",
   "metadata": {},
   "source": [
    "### OLS \n",
    "The first model I'd like to test is an OLS regression model.  However, before I can do that, I must prep the data so that all features are numerical and remove any features that are redundant.  \n",
    "\n"
   ]
  },
  {
   "cell_type": "code",
   "execution_count": 38,
   "metadata": {},
   "outputs": [],
   "source": [
    "df.drop(['insert_date', 'origin', 'destination', 'start_date', 'end_date'], axis = 1, inplace = True)"
   ]
  },
  {
   "cell_type": "code",
   "execution_count": 43,
   "metadata": {},
   "outputs": [],
   "source": [
    "num_col = [col for col in df.columns if df[col].dtype != 'object']"
   ]
  },
  {
   "cell_type": "code",
   "execution_count": 44,
   "metadata": {},
   "outputs": [],
   "source": [
    "cat_col = [col for col in df.columns if df[col].dtype == 'object']"
   ]
  },
  {
   "cell_type": "code",
   "execution_count": 46,
   "metadata": {},
   "outputs": [],
   "source": [
    "dummy_df = pd.DataFrame()\n",
    "for col in cat_col:\n",
    "     dummy_df = pd.concat([dummy_df, pd.get_dummies(df[col], prefix = col, drop_first=True)], axis = 1)"
   ]
  },
  {
   "cell_type": "code",
   "execution_count": 47,
   "metadata": {},
   "outputs": [],
   "source": [
    "df_ols = pd.concat([df, dummy_df], axis = 1)\n",
    "\n",
    "y_ols = df_ols['log_price']\n",
    "X_ols = df_ols.drop(['log_price', 'price'], axis = 1)\n"
   ]
  },
  {
   "cell_type": "code",
   "execution_count": null,
   "metadata": {},
   "outputs": [],
   "source": [
    "X_ols_train, X_ols_test, y_ols_train, y_ols_test = train_test_split(X_ols, y_ols, test_size=0.2, random_state=42)\n",
    "X_ols_train = sm.add_constant(X_ols_train)\n",
    "X_ols_test = sm.add_constant(X_ols_test)"
   ]
  },
  {
   "cell_type": "code",
   "execution_count": null,
   "metadata": {},
   "outputs": [],
   "source": [
    "results_ols = sm.OLS(y_ols_train, X_ols_train).fit()\n",
    "print(results_ols.summary())"
   ]
  },
  {
   "cell_type": "code",
   "execution_count": null,
   "metadata": {},
   "outputs": [],
   "source": []
  }
 ],
 "metadata": {
  "anaconda-cloud": {},
  "kernelspec": {
   "display_name": "Python [default]",
   "language": "python",
   "name": "python3"
  },
  "language_info": {
   "codemirror_mode": {
    "name": "ipython",
    "version": 3
   },
   "file_extension": ".py",
   "mimetype": "text/x-python",
   "name": "python",
   "nbconvert_exporter": "python",
   "pygments_lexer": "ipython3",
   "version": "3.5.2"
  }
 },
 "nbformat": 4,
 "nbformat_minor": 1
}
