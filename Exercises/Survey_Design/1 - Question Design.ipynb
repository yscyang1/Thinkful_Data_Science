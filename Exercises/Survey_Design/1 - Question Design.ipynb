{
 "cells": [
  {
   "cell_type": "markdown",
   "metadata": {},
   "source": [
    "### Drill 1: Question Design\n",
    "For each of the following, indicate the best question type to use and why."
   ]
  },
  {
   "cell_type": "markdown",
   "metadata": {},
   "source": [
    "##### Age\n",
    "A rating scale would be most appropriate, but can bore some people if there are too many numbers to scroll through.  An alternative is a write in response, but that runs the risk of people mistyping or writing random words.  Although, those who are typing in random words are probably not reading the questions and it might be possible to disregard their whole survey."
   ]
  },
  {
   "cell_type": "markdown",
   "metadata": {},
   "source": [
    "##### Gender\n",
    "Multiple choice, as there are a set number of genders.  "
   ]
  },
  {
   "cell_type": "markdown",
   "metadata": {},
   "source": [
    "##### Income\n",
    "Income ranges can be quite large.  There are two logical choices here.  The first is to give a range with multiple choice answers.  The second is a write in response, but again this runs the risk of people writing random words.  "
   ]
  },
  {
   "cell_type": "markdown",
   "metadata": {},
   "source": [
    "##### Opinions about dish soap\n",
    "This really depends on what the survey is looking for.  If the question is a simple 'do you like this brand'? then a simple yes/no multiple choice will suffice.  If it is more complicated with multiple questions regarding the brand, such as 'this brand is cheap', 'this brand is easy to find', and 'I have heard of this brand', then a multiple choice answer where you can choose multiple answers is more appropriate.  "
   ]
  },
  {
   "cell_type": "markdown",
   "metadata": {},
   "source": [
    "##### Brand of dish soap used\n",
    "This can be a written answer, but it is probably best to list the most popular 5-10 brands and a last answer of other/have it be a write in."
   ]
  },
  {
   "cell_type": "markdown",
   "metadata": {},
   "source": [
    "##### Preference for dish soap brand\n",
    "If the previous answer allowed for multiple answers (and it should..) then for the brands the user indicates they used, let them rank each one based on their preference."
   ]
  },
  {
   "cell_type": "markdown",
   "metadata": {},
   "source": [
    "##### Positive vs negative feelings about dish soap\n",
    "If there are recurrent feelings about dish soap that was discovered in previous surveys or a focus group, then there can be multiple choice answers (multiple answers) plus a write in. An alternative is just a plain write in."
   ]
  },
  {
   "cell_type": "markdown",
   "metadata": {},
   "source": [
    "### Drill 2: Fix the flaw\n",
    "Choose 5 questions you believe can be improved from the Mainstream Media Accountability Survey sent in February 2017.  Describe the flaw you see and write an improved version of the question."
   ]
  },
  {
   "cell_type": "markdown",
   "metadata": {},
   "source": [
    "##### 1) What percentage do you believe is an accurate representation of President Trump’s positive news coverage by the mainstream media?\n",
    "\n",
    "If you want a more accurate picture of media representation, then the question should first ask what percentage is an accurate representation of Trump's news coverage.  A follow up question can be if the accurate representation is mostly positive, neutral, or negative."
   ]
  },
  {
   "cell_type": "markdown",
   "metadata": {},
   "source": [
    "##### 2) Do you believe that the media sensationalizes and exaggerates stories in order to paint President Trump and conservatives in a bad light?\n",
    "\n",
    "This is a loaded question and assumes that the user thinks the media sensationalizes and exaggerates stories in the first place.  The better question is to first ask if the media sensationalizes stories about Trump.  If the user says yes, then they can ask if the stores are sensationalized to paint Trump in a positive, neutral, or negative light.  "
   ]
  },
  {
   "cell_type": "markdown",
   "metadata": {},
   "source": [
    "##### 3) What television source do you primarily get your news from?\n",
    "This is flawed because many people, including myself, do not get news information from tv.  A better way to do this would be first to ask how the user gets their news (mobile, pc, tv, doesn't watch news).  If the intent is focused on television news sources, those who picked tv can choose their primary source from the list.  "
   ]
  },
  {
   "cell_type": "markdown",
   "metadata": {},
   "source": [
    "##### 4) Do you believe that the media purposely tries to divide Republicans in order to help elect Democrats?\n",
    "Again, this is a loaded question and assumes the user thinks the media is trying to divide anyone/is biased.  First we must determine if the user believes the media is trying to divide viewers based on their political views.  If they believe the media is trying to divide viewers, then the survey can ask if the media tends to put one party in a more favorable light than the others.  If the user answers yes, then the question can ask which party the media favors.  "
   ]
  },
  {
   "cell_type": "markdown",
   "metadata": {},
   "source": [
    "##### 5)  Do you believe that the media unfairly reported on President Trump’s executive order granting Americans the freedom to buy health care across state lines?\n",
    "\n",
    "This is a framing problem made to think that the media is being unfair regarding healthcare.  A better question might be to ask 'what is your opinion on the media reporting on Trumps executive order granting Americans the freedom to buy health care across state lines?'"
   ]
  },
  {
   "cell_type": "code",
   "execution_count": null,
   "metadata": {},
   "outputs": [],
   "source": []
  }
 ],
 "metadata": {
  "anaconda-cloud": {},
  "kernelspec": {
   "display_name": "Python [default]",
   "language": "python",
   "name": "python3"
  },
  "language_info": {
   "codemirror_mode": {
    "name": "ipython",
    "version": 3
   },
   "file_extension": ".py",
   "mimetype": "text/x-python",
   "name": "python",
   "nbconvert_exporter": "python",
   "pygments_lexer": "ipython3",
   "version": "3.5.2"
  }
 },
 "nbformat": 4,
 "nbformat_minor": 1
}
