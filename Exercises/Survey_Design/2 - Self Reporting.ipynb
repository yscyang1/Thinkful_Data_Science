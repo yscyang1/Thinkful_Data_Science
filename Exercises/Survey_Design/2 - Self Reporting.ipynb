{
 "cells": [
  {
   "cell_type": "markdown",
   "metadata": {},
   "source": [
    "### State whether a survey would be the best option for answering each of the following questions"
   ]
  },
  {
   "cell_type": "markdown",
   "metadata": {},
   "source": [
    "##### Popularity of various Uber drivers. \n",
    "This would not be a good idea for a survey.  It would require the rider to have met most of the uber drivers and that is not feasible."
   ]
  },
  {
   "cell_type": "markdown",
   "metadata": {},
   "source": [
    "##### A grocery store wants to know how much people like strawberry, chocolate, and vanilla ice cream. \n",
    "A survey would be an appropriate method to finding this information, but the survey should first ask if the user likes ice cream or not.  "
   ]
  },
  {
   "cell_type": "markdown",
   "metadata": {},
   "source": [
    "##### Trojan wants to know whether their condoms are more popular among straight people or gay people. \n",
    "This could work, but Trojan should be aware that gay people are less likely to respond to a sexual orientation question than hetero people."
   ]
  },
  {
   "cell_type": "markdown",
   "metadata": {},
   "source": [
    "##### Recently, rental rates for HappyCars have increased by 30%, which is quite unusual. You want to find out why this is happening and how to keep the increase going. \n",
    "Its possible to use a survey to find out why there is an increase, but it might be difficult to ask the right questions without a focus group."
   ]
  },
  {
   "cell_type": "markdown",
   "metadata": {},
   "source": [
    "#####  Assessing the success rate of a new advertising campaign.\n",
    "This requires metrics and statistics.  Something like AB testing would be more appropriate."
   ]
  },
  {
   "cell_type": "markdown",
   "metadata": {},
   "source": [
    "#####  Measuring the effect of nurse/patient ratio on patient recovery rates in hospital wards. \n",
    "Again, this requires metrics and statistics, so AB testing would be more appropriate  "
   ]
  },
  {
   "cell_type": "code",
   "execution_count": null,
   "metadata": {},
   "outputs": [],
   "source": []
  }
 ],
 "metadata": {
  "kernelspec": {
   "display_name": "Python [default]",
   "language": "python",
   "name": "python3"
  },
  "language_info": {
   "codemirror_mode": {
    "name": "ipython",
    "version": 3
   },
   "file_extension": ".py",
   "mimetype": "text/x-python",
   "name": "python",
   "nbconvert_exporter": "python",
   "pygments_lexer": "ipython3",
   "version": "3.5.2"
  }
 },
 "nbformat": 4,
 "nbformat_minor": 1
}
