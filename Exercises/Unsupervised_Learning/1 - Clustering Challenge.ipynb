{
 "cells": [
  {
   "cell_type": "markdown",
   "metadata": {},
   "source": [
    "### Introduction\n",
    "After learning about several clustering methods, we are tasked with applying these techniques to the [Boston Marathon dataset](https://github.com/llimllib/bostonmarathon).  In this case, I have chosen data from the year 2013.  Specifically, we are asked to determine which clustering technique is best for the marathon results and include a writeup on what we have discovered.  \n",
    "\n",
    "Something I didn't know about the Boston Marathon is that it includes wheelchair racers and hand cyclists.  This dataset only includes those who ran on their feet and wheelchair racers, but it would be interesting to see if any clustering techniques are able to distinguish between runners, wheelchair racers, and gender, giving a total of 4 clusters."
   ]
  },
  {
   "cell_type": "markdown",
   "metadata": {},
   "source": [
    "### 1 - Importing the Data\n"
   ]
  },
  {
   "cell_type": "code",
   "execution_count": 1,
   "metadata": {},
   "outputs": [],
   "source": [
    "import numpy as np\n",
    "import pandas as pd\n",
    "import matplotlib.pyplot as plt\n",
    "import seaborn as sns\n",
    "%matplotlib inline\n",
    "\n",
    "from sklearn.cluster import KMeans, MeanShift, estimate_bandwidth, SpectralClustering\n",
    "from sklearn.preprocessing import normalize\n",
    "from sklearn.decomposition import PCA\n",
    "from sklearn import metrics\n"
   ]
  },
  {
   "cell_type": "code",
   "execution_count": 2,
   "metadata": {},
   "outputs": [],
   "source": [
    "df = pd.read_csv('boston_marathon_results.csv')"
   ]
  },
  {
   "cell_type": "code",
   "execution_count": 3,
   "metadata": {},
   "outputs": [
    {
     "data": {
      "text/html": [
       "<div>\n",
       "<style scoped>\n",
       "    .dataframe tbody tr th:only-of-type {\n",
       "        vertical-align: middle;\n",
       "    }\n",
       "\n",
       "    .dataframe tbody tr th {\n",
       "        vertical-align: top;\n",
       "    }\n",
       "\n",
       "    .dataframe thead th {\n",
       "        text-align: right;\n",
       "    }\n",
       "</style>\n",
       "<table border=\"1\" class=\"dataframe\">\n",
       "  <thead>\n",
       "    <tr style=\"text-align: right;\">\n",
       "      <th></th>\n",
       "      <th>25k</th>\n",
       "      <th>age</th>\n",
       "      <th>name</th>\n",
       "      <th>division</th>\n",
       "      <th>10k</th>\n",
       "      <th>gender</th>\n",
       "      <th>half</th>\n",
       "      <th>official</th>\n",
       "      <th>bib</th>\n",
       "      <th>ctz</th>\n",
       "      <th>...</th>\n",
       "      <th>overall</th>\n",
       "      <th>pace</th>\n",
       "      <th>state</th>\n",
       "      <th>30k</th>\n",
       "      <th>5k</th>\n",
       "      <th>genderdiv</th>\n",
       "      <th>20k</th>\n",
       "      <th>35k</th>\n",
       "      <th>city</th>\n",
       "      <th>40k</th>\n",
       "    </tr>\n",
       "  </thead>\n",
       "  <tbody>\n",
       "    <tr>\n",
       "      <th>0</th>\n",
       "      <td>49.87</td>\n",
       "      <td>28</td>\n",
       "      <td>Cassidy, Josh R.</td>\n",
       "      <td>9</td>\n",
       "      <td>18.18</td>\n",
       "      <td>M</td>\n",
       "      <td>40.93</td>\n",
       "      <td>90.90</td>\n",
       "      <td>W1</td>\n",
       "      <td>NaN</td>\n",
       "      <td>...</td>\n",
       "      <td>9</td>\n",
       "      <td>3.47</td>\n",
       "      <td>ON</td>\n",
       "      <td>62.07</td>\n",
       "      <td>8.90</td>\n",
       "      <td>9</td>\n",
       "      <td>38.80</td>\n",
       "      <td>74.73</td>\n",
       "      <td>Toronto</td>\n",
       "      <td>85.55</td>\n",
       "    </tr>\n",
       "    <tr>\n",
       "      <th>1</th>\n",
       "      <td>77.27</td>\n",
       "      <td>30</td>\n",
       "      <td>Korir, Wesley</td>\n",
       "      <td>5</td>\n",
       "      <td>30.90</td>\n",
       "      <td>M</td>\n",
       "      <td>64.90</td>\n",
       "      <td>132.50</td>\n",
       "      <td>1</td>\n",
       "      <td>NaN</td>\n",
       "      <td>...</td>\n",
       "      <td>5</td>\n",
       "      <td>5.07</td>\n",
       "      <td>NaN</td>\n",
       "      <td>92.97</td>\n",
       "      <td>15.90</td>\n",
       "      <td>5</td>\n",
       "      <td>61.52</td>\n",
       "      <td>108.78</td>\n",
       "      <td>Kenya</td>\n",
       "      <td>124.77</td>\n",
       "    </tr>\n",
       "    <tr>\n",
       "      <th>2</th>\n",
       "      <td>77.23</td>\n",
       "      <td>23</td>\n",
       "      <td>Desisa, Lelisa</td>\n",
       "      <td>1</td>\n",
       "      <td>30.90</td>\n",
       "      <td>M</td>\n",
       "      <td>64.92</td>\n",
       "      <td>130.37</td>\n",
       "      <td>2</td>\n",
       "      <td>NaN</td>\n",
       "      <td>...</td>\n",
       "      <td>1</td>\n",
       "      <td>4.98</td>\n",
       "      <td>NaN</td>\n",
       "      <td>92.72</td>\n",
       "      <td>15.93</td>\n",
       "      <td>1</td>\n",
       "      <td>61.53</td>\n",
       "      <td>108.68</td>\n",
       "      <td>Ambo</td>\n",
       "      <td>123.78</td>\n",
       "    </tr>\n",
       "    <tr>\n",
       "      <th>3</th>\n",
       "      <td>50.50</td>\n",
       "      <td>32</td>\n",
       "      <td>Fearnley, Kurt H.</td>\n",
       "      <td>5</td>\n",
       "      <td>18.73</td>\n",
       "      <td>M</td>\n",
       "      <td>42.00</td>\n",
       "      <td>88.43</td>\n",
       "      <td>W2</td>\n",
       "      <td>NaN</td>\n",
       "      <td>...</td>\n",
       "      <td>5</td>\n",
       "      <td>3.38</td>\n",
       "      <td>NaN</td>\n",
       "      <td>61.35</td>\n",
       "      <td>8.98</td>\n",
       "      <td>5</td>\n",
       "      <td>39.88</td>\n",
       "      <td>73.00</td>\n",
       "      <td>Hamilton</td>\n",
       "      <td>83.43</td>\n",
       "    </tr>\n",
       "    <tr>\n",
       "      <th>4</th>\n",
       "      <td>48.75</td>\n",
       "      <td>39</td>\n",
       "      <td>Hokinoue, Kota</td>\n",
       "      <td>3</td>\n",
       "      <td>18.18</td>\n",
       "      <td>M</td>\n",
       "      <td>40.57</td>\n",
       "      <td>87.22</td>\n",
       "      <td>W3</td>\n",
       "      <td>NaN</td>\n",
       "      <td>...</td>\n",
       "      <td>3</td>\n",
       "      <td>3.33</td>\n",
       "      <td>NaN</td>\n",
       "      <td>59.92</td>\n",
       "      <td>8.92</td>\n",
       "      <td>3</td>\n",
       "      <td>38.55</td>\n",
       "      <td>71.68</td>\n",
       "      <td>Iizuka</td>\n",
       "      <td>81.88</td>\n",
       "    </tr>\n",
       "  </tbody>\n",
       "</table>\n",
       "<p>5 rows × 21 columns</p>\n",
       "</div>"
      ],
      "text/plain": [
       "     25k  age               name  division    10k gender   half  official bib  \\\n",
       "0  49.87   28   Cassidy, Josh R.         9  18.18      M  40.93     90.90  W1   \n",
       "1  77.27   30      Korir, Wesley         5  30.90      M  64.90    132.50   1   \n",
       "2  77.23   23     Desisa, Lelisa         1  30.90      M  64.92    130.37   2   \n",
       "3  50.50   32  Fearnley, Kurt H.         5  18.73      M  42.00     88.43  W2   \n",
       "4  48.75   39     Hokinoue, Kota         3  18.18      M  40.57     87.22  W3   \n",
       "\n",
       "   ctz   ...   overall  pace  state    30k     5k genderdiv    20k     35k  \\\n",
       "0  NaN   ...         9  3.47     ON  62.07   8.90         9  38.80   74.73   \n",
       "1  NaN   ...         5  5.07    NaN  92.97  15.90         5  61.52  108.78   \n",
       "2  NaN   ...         1  4.98    NaN  92.72  15.93         1  61.53  108.68   \n",
       "3  NaN   ...         5  3.38    NaN  61.35   8.98         5  39.88   73.00   \n",
       "4  NaN   ...         3  3.33    NaN  59.92   8.92         3  38.55   71.68   \n",
       "\n",
       "       city     40k  \n",
       "0   Toronto   85.55  \n",
       "1     Kenya  124.77  \n",
       "2      Ambo  123.78  \n",
       "3  Hamilton   83.43  \n",
       "4    Iizuka   81.88  \n",
       "\n",
       "[5 rows x 21 columns]"
      ]
     },
     "execution_count": 3,
     "metadata": {},
     "output_type": "execute_result"
    }
   ],
   "source": [
    "df.head()"
   ]
  },
  {
   "cell_type": "code",
   "execution_count": 4,
   "metadata": {},
   "outputs": [
    {
     "name": "stdout",
     "output_type": "stream",
     "text": [
      "<class 'pandas.core.frame.DataFrame'>\n",
      "RangeIndex: 16164 entries, 0 to 16163\n",
      "Data columns (total 21 columns):\n",
      "25k          16164 non-null object\n",
      "age          16164 non-null int64\n",
      "name         16164 non-null object\n",
      "division     16164 non-null int64\n",
      "10k          16164 non-null object\n",
      "gender       16164 non-null object\n",
      "half         16164 non-null object\n",
      "official     16164 non-null float64\n",
      "bib          16164 non-null object\n",
      "ctz          757 non-null object\n",
      "country      16164 non-null object\n",
      "overall      16164 non-null int64\n",
      "pace         16164 non-null float64\n",
      "state        14701 non-null object\n",
      "30k          16164 non-null object\n",
      "5k           16164 non-null object\n",
      "genderdiv    16164 non-null int64\n",
      "20k          16164 non-null object\n",
      "35k          16164 non-null object\n",
      "city         16163 non-null object\n",
      "40k          16164 non-null object\n",
      "dtypes: float64(2), int64(4), object(15)\n",
      "memory usage: 14.8 MB\n"
     ]
    }
   ],
   "source": [
    "df.info(memory_usage='deep')"
   ]
  },
  {
   "cell_type": "code",
   "execution_count": 5,
   "metadata": {},
   "outputs": [
    {
     "data": {
      "text/html": [
       "<div>\n",
       "<style scoped>\n",
       "    .dataframe tbody tr th:only-of-type {\n",
       "        vertical-align: middle;\n",
       "    }\n",
       "\n",
       "    .dataframe tbody tr th {\n",
       "        vertical-align: top;\n",
       "    }\n",
       "\n",
       "    .dataframe thead th {\n",
       "        text-align: right;\n",
       "    }\n",
       "</style>\n",
       "<table border=\"1\" class=\"dataframe\">\n",
       "  <thead>\n",
       "    <tr style=\"text-align: right;\">\n",
       "      <th></th>\n",
       "      <th>age</th>\n",
       "      <th>division</th>\n",
       "      <th>official</th>\n",
       "      <th>overall</th>\n",
       "      <th>pace</th>\n",
       "      <th>genderdiv</th>\n",
       "    </tr>\n",
       "  </thead>\n",
       "  <tbody>\n",
       "    <tr>\n",
       "      <th>count</th>\n",
       "      <td>16164.000000</td>\n",
       "      <td>16164.000000</td>\n",
       "      <td>16164.000000</td>\n",
       "      <td>16164.000000</td>\n",
       "      <td>16164.000000</td>\n",
       "      <td>16164.000000</td>\n",
       "    </tr>\n",
       "    <tr>\n",
       "      <th>mean</th>\n",
       "      <td>41.638332</td>\n",
       "      <td>1100.967025</td>\n",
       "      <td>208.159470</td>\n",
       "      <td>8429.373422</td>\n",
       "      <td>7.947398</td>\n",
       "      <td>4351.684732</td>\n",
       "    </tr>\n",
       "    <tr>\n",
       "      <th>std</th>\n",
       "      <td>10.351311</td>\n",
       "      <td>942.114816</td>\n",
       "      <td>23.743608</td>\n",
       "      <td>5052.024116</td>\n",
       "      <td>0.905739</td>\n",
       "      <td>2772.398239</td>\n",
       "    </tr>\n",
       "    <tr>\n",
       "      <th>min</th>\n",
       "      <td>18.000000</td>\n",
       "      <td>1.000000</td>\n",
       "      <td>85.530000</td>\n",
       "      <td>1.000000</td>\n",
       "      <td>3.270000</td>\n",
       "      <td>1.000000</td>\n",
       "    </tr>\n",
       "    <tr>\n",
       "      <th>25%</th>\n",
       "      <td>34.000000</td>\n",
       "      <td>363.000000</td>\n",
       "      <td>191.727500</td>\n",
       "      <td>4061.750000</td>\n",
       "      <td>7.320000</td>\n",
       "      <td>2032.750000</td>\n",
       "    </tr>\n",
       "    <tr>\n",
       "      <th>50%</th>\n",
       "      <td>42.000000</td>\n",
       "      <td>842.000000</td>\n",
       "      <td>209.225000</td>\n",
       "      <td>8247.500000</td>\n",
       "      <td>7.980000</td>\n",
       "      <td>4113.500000</td>\n",
       "    </tr>\n",
       "    <tr>\n",
       "      <th>75%</th>\n",
       "      <td>49.000000</td>\n",
       "      <td>1560.000000</td>\n",
       "      <td>225.230000</td>\n",
       "      <td>12662.250000</td>\n",
       "      <td>8.600000</td>\n",
       "      <td>6316.000000</td>\n",
       "    </tr>\n",
       "    <tr>\n",
       "      <th>max</th>\n",
       "      <td>80.000000</td>\n",
       "      <td>3834.000000</td>\n",
       "      <td>284.230000</td>\n",
       "      <td>17598.000000</td>\n",
       "      <td>10.850000</td>\n",
       "      <td>10648.000000</td>\n",
       "    </tr>\n",
       "  </tbody>\n",
       "</table>\n",
       "</div>"
      ],
      "text/plain": [
       "                age      division      official       overall          pace  \\\n",
       "count  16164.000000  16164.000000  16164.000000  16164.000000  16164.000000   \n",
       "mean      41.638332   1100.967025    208.159470   8429.373422      7.947398   \n",
       "std       10.351311    942.114816     23.743608   5052.024116      0.905739   \n",
       "min       18.000000      1.000000     85.530000      1.000000      3.270000   \n",
       "25%       34.000000    363.000000    191.727500   4061.750000      7.320000   \n",
       "50%       42.000000    842.000000    209.225000   8247.500000      7.980000   \n",
       "75%       49.000000   1560.000000    225.230000  12662.250000      8.600000   \n",
       "max       80.000000   3834.000000    284.230000  17598.000000     10.850000   \n",
       "\n",
       "          genderdiv  \n",
       "count  16164.000000  \n",
       "mean    4351.684732  \n",
       "std     2772.398239  \n",
       "min        1.000000  \n",
       "25%     2032.750000  \n",
       "50%     4113.500000  \n",
       "75%     6316.000000  \n",
       "max    10648.000000  "
      ]
     },
     "execution_count": 5,
     "metadata": {},
     "output_type": "execute_result"
    }
   ],
   "source": [
    "df.describe()"
   ]
  },
  {
   "cell_type": "markdown",
   "metadata": {},
   "source": [
    "#### 1.1 - Missing Data\n",
    "There are 3 features with missing categories: ctz, state, and city.  The feature 'ctz' is the citizenship the runner holds.  Since 95% of the values are missing, I will remove this feature for this exercise."
   ]
  },
  {
   "cell_type": "code",
   "execution_count": 6,
   "metadata": {},
   "outputs": [
    {
     "data": {
      "text/plain": [
       "25k              0\n",
       "age              0\n",
       "name             0\n",
       "division         0\n",
       "10k              0\n",
       "gender           0\n",
       "half             0\n",
       "official         0\n",
       "bib              0\n",
       "ctz          15407\n",
       "country          0\n",
       "overall          0\n",
       "pace             0\n",
       "state         1463\n",
       "30k              0\n",
       "5k               0\n",
       "genderdiv        0\n",
       "20k              0\n",
       "35k              0\n",
       "city             1\n",
       "40k              0\n",
       "dtype: int64"
      ]
     },
     "execution_count": 6,
     "metadata": {},
     "output_type": "execute_result"
    }
   ],
   "source": [
    "df.isnull().sum()"
   ]
  },
  {
   "cell_type": "markdown",
   "metadata": {},
   "source": [
    "In the states column, there are missing value because those races were run in a country outside of the United States.  In this case, I will impute 'other'.  "
   ]
  },
  {
   "cell_type": "code",
   "execution_count": 7,
   "metadata": {},
   "outputs": [
    {
     "data": {
      "text/plain": [
       "array(['KEN', 'ETH', 'AUS', 'JPN', 'RSA', 'POL', 'SUI', 'ESP', 'FRA',\n",
       "       'ITA', 'ECU', 'RUS', 'MEX', 'BER', 'GBR', 'DEN', 'NED', 'CRC',\n",
       "       'ISL', 'IRL', 'GER', 'AUT', 'GRE', 'GUA', 'DOM', 'UKR', 'SWE',\n",
       "       'NOR', 'SVK', 'BAH', 'BRA', 'HKG', 'KOR', 'VEN', 'CZE', 'HUN',\n",
       "       'SLO', 'COL', 'PER', 'SIN', 'CHI', 'FIN', 'CHN', 'BEL', 'ARG',\n",
       "       'UAE', 'URU', 'NZL', 'ISR', 'PAN', 'TWN', 'LTU', 'IND', 'POR',\n",
       "       'MAS', 'CAY', 'EST', 'TRI', 'ESA', 'PHI', 'VGB', 'ARU', 'QAT',\n",
       "       'TCA', 'BOL', 'TUR'], dtype=object)"
      ]
     },
     "execution_count": 7,
     "metadata": {},
     "output_type": "execute_result"
    }
   ],
   "source": [
    "df[df['state'].isnull()]['country'].unique()"
   ]
  },
  {
   "cell_type": "code",
   "execution_count": 8,
   "metadata": {},
   "outputs": [],
   "source": [
    "df['state'].fillna('Other', inplace = True)"
   ]
  },
  {
   "cell_type": "markdown",
   "metadata": {},
   "source": [
    "Lastly, there is the matter of the missing city.  This particular race was ran in Argentina.  Most of the races in Argentina were run in Buenos Aires, so I will fill the missing city with Buenos Aires.  I did try to search for the city, but failed to find the information."
   ]
  },
  {
   "cell_type": "code",
   "execution_count": 9,
   "metadata": {},
   "outputs": [
    {
     "data": {
      "text/plain": [
       "10138    ARG\n",
       "Name: country, dtype: object"
      ]
     },
     "execution_count": 9,
     "metadata": {},
     "output_type": "execute_result"
    }
   ],
   "source": [
    "df[df['city'].isnull()]['country']"
   ]
  },
  {
   "cell_type": "code",
   "execution_count": 10,
   "metadata": {},
   "outputs": [
    {
     "data": {
      "text/plain": [
       "Buenos Aires                       4\n",
       "Mendoza                            2\n",
       "Rojas                              1\n",
       "Bahia Blanca                       1\n",
       "Salta                              1\n",
       "Mar Del Plata                      1\n",
       "La Plata                           1\n",
       "Ciudad Autonoma De Buenos Aires    1\n",
       "Name: city, dtype: int64"
      ]
     },
     "execution_count": 10,
     "metadata": {},
     "output_type": "execute_result"
    }
   ],
   "source": [
    "df[df['country']=='ARG']['city'].value_counts()"
   ]
  },
  {
   "cell_type": "code",
   "execution_count": 11,
   "metadata": {},
   "outputs": [],
   "source": [
    "df['city'].fillna('Buenos Aires', inplace = True)"
   ]
  },
  {
   "cell_type": "markdown",
   "metadata": {},
   "source": [
    "### 2 - Data Cleaning"
   ]
  },
  {
   "cell_type": "markdown",
   "metadata": {},
   "source": [
    "#### 2.1 - Creating Ground Truths\n",
    "I know that when clustering, we don't always have ground truths.  However, I can create one for easy comparison between clusters and models.  In this case, I will have 4 categories:  M, F, WM, and WF, which stands for male, female, wheelchair male, and wheelchair female respectively.  "
   ]
  },
  {
   "cell_type": "code",
   "execution_count": 12,
   "metadata": {},
   "outputs": [],
   "source": [
    "def get_ground_truth(gender, bib):\n",
    "    if bib[0] == 'W':\n",
    "        return 'W' + gender\n",
    "    else:\n",
    "        return gender\n",
    "df['racertype'] = df.apply(lambda x: get_ground_truth(x['gender'], x['bib']), axis = 1)"
   ]
  },
  {
   "cell_type": "markdown",
   "metadata": {},
   "source": [
    "The dataset is pretty unbalanced now, with only ~50 racers in wheelchairs finishing the race vs ~16k runners on foot.  This could make it difficult to distinguish clusters.  If anything, the official times (and splits) are a big separator between those in wheelchairs and non wheelchair racers.  Below in the left chart, we see that the mean official times between wheelchair and non wheelchair racers differ by about 80 minutes, with wheelchair racers averaging ~120 minutes and non wheelchair racers somewhere between 200-220 minutes, depending on gender.  On the right chart is a plot of official times vs age.  Here we can see that there is a giant cluster for male runners, and inside is a subset of clusters for female runners.  The wheelchair racers are more spread out but are clearly separate from the runners.  They run into a similar problem of the genders blending together though."
   ]
  },
  {
   "cell_type": "code",
   "execution_count": 13,
   "metadata": {},
   "outputs": [
    {
     "data": {
      "text/plain": [
       "M     9637\n",
       "F     6475\n",
       "WM      43\n",
       "WF       9\n",
       "Name: racertype, dtype: int64"
      ]
     },
     "execution_count": 13,
     "metadata": {},
     "output_type": "execute_result"
    }
   ],
   "source": [
    "df['racertype'].value_counts()"
   ]
  },
  {
   "cell_type": "code",
   "execution_count": 14,
   "metadata": {},
   "outputs": [
    {
     "name": "stderr",
     "output_type": "stream",
     "text": [
      "C:\\Users\\Crystal\\AppData\\Local\\Continuum\\Anaconda3\\lib\\site-packages\\scipy\\stats\\stats.py:1713: FutureWarning: Using a non-tuple sequence for multidimensional indexing is deprecated; use `arr[tuple(seq)]` instead of `arr[seq]`. In the future this will be interpreted as an array index, `arr[np.array(seq)]`, which will result either in an error or a different result.\n",
      "  return np.add.reduce(sorted[indexer] * weights, axis=axis) / sumval\n"
     ]
    },
    {
     "data": {
      "text/plain": [
       "<matplotlib.text.Text at 0x1fd812292e8>"
      ]
     },
     "execution_count": 14,
     "metadata": {},
     "output_type": "execute_result"
    },
    {
     "data": {
      "image/png": "[encoded data removed]",
      "text/plain": [
       "<matplotlib.figure.Figure at 0x1fd80ee71d0>"
      ]
     },
     "metadata": {},
     "output_type": "display_data"
    }
   ],
   "source": [
    "fig, (axis1, axis2) = plt.subplots(1, 2, figsize = (15, 4))\n",
    "sns.pointplot(x = 'racertype', y = 'official', data = df, linestyles = '', ax = axis1)\n",
    "sns.scatterplot(x = 'age', y = 'official', hue = 'racertype', data = df, ax = axis2)\n",
    "\n",
    "axis1.set_title('Mean Official Times by Racer Type')\n",
    "axis1.set_ylabel('Official Time (min)')\n",
    "axis1.set_xlabel('Racer Type')\n",
    "\n",
    "axis2.set_title('Relationship Between Age and Official Times')\n",
    "axis2.set_ylabel('Official Time (min)')\n",
    "axis2.set_xlabel('Age')"
   ]
  },
  {
   "cell_type": "code",
   "execution_count": 15,
   "metadata": {},
   "outputs": [],
   "source": [
    "df.drop('gender', axis = 1, inplace = True)"
   ]
  },
  {
   "cell_type": "markdown",
   "metadata": {},
   "source": [
    "#### 2.2 - Fixing Hidden Missing Values\n",
    "I was wondering why the splits (i.e. 25k, 10k, etc) are objects instead of floats.  Turns out if there are missing values, they are labeled as '-'.  These values will be imputed by assuming the runner will have a steady pace over the whole marathon.  "
   ]
  },
  {
   "cell_type": "code",
   "execution_count": 16,
   "metadata": {},
   "outputs": [],
   "source": [
    "float_lst = ['25k', '10k', 'half', '30k', '5k', '20k', '35k', '40k']"
   ]
  },
  {
   "cell_type": "code",
   "execution_count": 17,
   "metadata": {},
   "outputs": [],
   "source": [
    "marathon_distance = 42.19506847 # in km\n",
    "splits_dict = {'25k': 25/marathon_distance, '10k': 10/marathon_distance, 'half': 0.5, \n",
    "               '30k': 30/marathon_distance, '5k': 5/marathon_distance, '20k': 20/marathon_distance,\n",
    "               '35k': 35/marathon_distance, '40k': 40/marathon_distance}"
   ]
  },
  {
   "cell_type": "code",
   "execution_count": 18,
   "metadata": {},
   "outputs": [],
   "source": [
    "def get_distance(cols):\n",
    "    for i in range(len(float_lst)):\n",
    "        if cols[i]=='-':\n",
    "            return splits_dict[float_lst[i]] * cols[8]"
   ]
  },
  {
   "cell_type": "code",
   "execution_count": 19,
   "metadata": {},
   "outputs": [],
   "source": [
    "for col in float_lst:\n",
    "    condition = df[col]=='-'\n",
    "    df.loc[condition, [col]] = df.loc[condition].apply(lambda x: get_distance(x[float_lst + ['official']].values), axis = 1)\n",
    "    df[col] = pd.to_numeric(df[col], downcast = 'float')"
   ]
  },
  {
   "cell_type": "markdown",
   "metadata": {},
   "source": [
    "### 3 - Applying Cluster Techniques\n",
    "Here, I would like to use 2 clustering techniques:  kmeans and mean shift.  I would have liked to apply spectral clustering to, but my computer cannot handle it.  "
   ]
  },
  {
   "cell_type": "markdown",
   "metadata": {},
   "source": [
    "#### 3.1 - Prepping the Data\n",
    "Before applying the clustering techniques, I need to prep the data.  There are two things I need to do to prep the data:  1)  remove extraneous features, and 2) normalize the data.  The features I think are unneeded are names and locations (ctz, country, state, city).  I will also remove genderdiv because I'm afraid of target leakage.  "
   ]
  },
  {
   "cell_type": "code",
   "execution_count": 20,
   "metadata": {},
   "outputs": [],
   "source": [
    "df.drop(['name', 'genderdiv', 'ctz', 'country', 'state', 'city'], axis = 1, inplace = True)"
   ]
  },
  {
   "cell_type": "markdown",
   "metadata": {},
   "source": [
    "I suspect bib numbers are important, since most of the racers in wheelchairs have numbers going up to the 100, maybe 150 at most.  I am concerned however that there is a W in the bib number.  There are two choices to deal with the W, either remove it or encode it.  For now, I will try removing it to preserve the actual number."
   ]
  },
  {
   "cell_type": "code",
   "execution_count": 21,
   "metadata": {},
   "outputs": [],
   "source": [
    "def remove_bib_letters(col):\n",
    "    if col[0].isnumeric():\n",
    "        return col\n",
    "    else:\n",
    "        return col[1:]\n",
    "    \n",
    "df['bib'] = df['bib'].apply(lambda x: remove_bib_letters(x))"
   ]
  },
  {
   "cell_type": "markdown",
   "metadata": {},
   "source": [
    "Lastly, I would like to normalize the data."
   ]
  },
  {
   "cell_type": "code",
   "execution_count": 22,
   "metadata": {},
   "outputs": [],
   "source": [
    "X = df.drop('racertype', axis = 1)\n",
    "y = df['racertype']"
   ]
  },
  {
   "cell_type": "code",
   "execution_count": 23,
   "metadata": {},
   "outputs": [],
   "source": [
    "X_norm = normalize(X)"
   ]
  },
  {
   "cell_type": "markdown",
   "metadata": {},
   "source": [
    "In addition, I'd like to apply PCA to the data.  For a first try, I'd like to reduce the data down to 4 features.  "
   ]
  },
  {
   "cell_type": "code",
   "execution_count": 24,
   "metadata": {},
   "outputs": [],
   "source": [
    "X_pca = PCA(4).fit_transform(X_norm)"
   ]
  },
  {
   "cell_type": "markdown",
   "metadata": {},
   "source": [
    "#### 3.2 - K Means Clustering\n",
    "Based on the crosstabs, it seems that the pca transformed data performs better than the non-pca data, but the main difference is identifying more female runners.  Male runners and those in wheelchairs do not change much.  In fact, it seems like both normalized and pca transformed data group the wheelchair racers as one group."
   ]
  },
  {
   "cell_type": "code",
   "execution_count": 25,
   "metadata": {},
   "outputs": [],
   "source": [
    "y_pred_kmeans = KMeans(n_clusters = 4, random_state=42).fit_predict(X_norm)"
   ]
  },
  {
   "cell_type": "code",
   "execution_count": 26,
   "metadata": {},
   "outputs": [
    {
     "name": "stdout",
     "output_type": "stream",
     "text": [
      "racertype     F     M  WF  WM\n",
      "row_0                        \n",
      "0          2336  3097   0   0\n",
      "1           200  2414   0   0\n",
      "2          3939  3878   0   0\n",
      "3             0   248   9  43\n"
     ]
    }
   ],
   "source": [
    "print(pd.crosstab(y_pred_kmeans, y))"
   ]
  },
  {
   "cell_type": "code",
   "execution_count": 27,
   "metadata": {},
   "outputs": [],
   "source": [
    "y_pred_PCAkmeans = KMeans(n_clusters = 4, random_state=42).fit_predict(X_pca)"
   ]
  },
  {
   "cell_type": "code",
   "execution_count": 28,
   "metadata": {},
   "outputs": [
    {
     "name": "stdout",
     "output_type": "stream",
     "text": [
      "racertype     F     M  WF  WM\n",
      "row_0                        \n",
      "0          3950  3880   0   0\n",
      "1           202  2419   0   0\n",
      "2          2323  3092   0   0\n",
      "3             0   246   9  43\n"
     ]
    }
   ],
   "source": [
    "print(pd.crosstab(y_pred_PCAkmeans, y))"
   ]
  },
  {
   "cell_type": "markdown",
   "metadata": {},
   "source": [
    "The adjusted rand index (ARI) compares how the pairs of data points are related to the ground truth in the new solution.  Values range from 0 to 1, where 1 means the pairs are in complete agreement and 0 indicates perfect randomness.  For both the normalized and pca transformed data, the ARI are pretty close to randomness, at around 0.018.  "
   ]
  },
  {
   "cell_type": "code",
   "execution_count": 29,
   "metadata": {},
   "outputs": [
    {
     "name": "stdout",
     "output_type": "stream",
     "text": [
      "ARI for normalized data: 0.018256560786382745\n",
      "ARI for pca transformed data: 0.01844315660845497\n"
     ]
    }
   ],
   "source": [
    "print('ARI for normalized data: {}'.format(metrics.adjusted_rand_score(y, y_pred_kmeans)))\n",
    "print('ARI for pca transformed data: {}'.format(metrics.adjusted_rand_score(y, y_pred_PCAkmeans)))"
   ]
  },
  {
   "cell_type": "markdown",
   "metadata": {},
   "source": [
    "A possible explanation is that I'm using the wrong number of clusters.  Below, I've plotted the ARI against the number of clusters for the normalized and pca transformed data.  It seems that the best ARI comes from 6 clusters for both transformed sets of data."
   ]
  },
  {
   "cell_type": "code",
   "execution_count": 30,
   "metadata": {},
   "outputs": [],
   "source": [
    "kmeans_norm_ari_lst = []\n",
    "kmeans_pca_ari_lst = []\n",
    "\n",
    "for k in range(2, 11):\n",
    "    tmp_pca = KMeans(n_clusters = k, random_state=42).fit_predict(X_pca)\n",
    "    kmeans_pca_ari_lst.append(metrics.adjusted_rand_score(y, tmp_pca))\n",
    "    tmp_norm = KMeans(n_clusters = k, random_state=42).fit_predict(X_norm)\n",
    "    kmeans_norm_ari_lst.append(metrics.adjusted_rand_score(y, tmp_norm))"
   ]
  },
  {
   "cell_type": "code",
   "execution_count": 31,
   "metadata": {},
   "outputs": [
    {
     "data": {
      "text/plain": [
       "<matplotlib.legend.Legend at 0x1fd81d12b00>"
      ]
     },
     "execution_count": 31,
     "metadata": {},
     "output_type": "execute_result"
    },
    {
     "data": {
      "image/png": "[encoded data removed]",
      "text/plain": [
       "<matplotlib.figure.Figure at 0x1fd80fe5160>"
      ]
     },
     "metadata": {},
     "output_type": "display_data"
    }
   ],
   "source": [
    "plt.plot(range(2,11), kmeans_norm_ari_lst)\n",
    "plt.plot(range(2,11), kmeans_pca_ari_lst)\n",
    "plt.title('ARI for PCA transformed Data and Various Clusters - KMeans')\n",
    "plt.xlabel('Number of Clusters (K)')\n",
    "plt.ylabel('ARI')\n",
    "plt.legend(['norm', 'pca'])"
   ]
  },
  {
   "cell_type": "markdown",
   "metadata": {},
   "source": [
    "#### 3.3 - Mean Shift\n",
    "With mean shift clustering, the algorithm predicts the number of clusters.  With some adjusting to get the best ARI score, the predicted number of clusters for both normalized and pca transformed data was 4, and ARI ~0.026, which is not as good as k-means.  On the positive side, mean shift seems to be able to distinguish between the genders in the wheelchair racers."
   ]
  },
  {
   "cell_type": "code",
   "execution_count": 32,
   "metadata": {},
   "outputs": [
    {
     "name": "stdout",
     "output_type": "stream",
     "text": [
      "Number of estimated clusters: 4\n"
     ]
    }
   ],
   "source": [
    "bandwidth_norm = estimate_bandwidth(X_norm, quantile=0.35, n_samples=1000)\n",
    "ms_norm = MeanShift(bandwidth=bandwidth_norm, bin_seeding=True)\n",
    "ms_norm.fit(X_norm)\n",
    "labels_norm = ms_norm.labels_\n",
    "cluster_centers_norm = ms_norm.cluster_centers_\n",
    "n_clusters_norm = len(np.unique(labels_norm))\n",
    "\n",
    "print(\"Number of estimated clusters: {}\".format(n_clusters_norm))"
   ]
  },
  {
   "cell_type": "code",
   "execution_count": 36,
   "metadata": {},
   "outputs": [
    {
     "name": "stdout",
     "output_type": "stream",
     "text": [
      "racertype     F     M  WF  WM\n",
      "row_0                        \n",
      "0          6468  6416   0   0\n",
      "1             7  2994   0   0\n",
      "2             0    51   0  43\n",
      "3             0   176   9   0\n"
     ]
    }
   ],
   "source": [
    "print(pd.crosstab(labels_norm, y))"
   ]
  },
  {
   "cell_type": "code",
   "execution_count": 33,
   "metadata": {},
   "outputs": [
    {
     "name": "stdout",
     "output_type": "stream",
     "text": [
      "Number of estimated clusters: 4\n"
     ]
    }
   ],
   "source": [
    "bandwidth_pca = estimate_bandwidth(X_pca, quantile=0.35, n_samples=1000)\n",
    "ms_pca = MeanShift(bandwidth=bandwidth_pca, bin_seeding=True)\n",
    "ms_pca.fit(X_pca)\n",
    "labels_pca = ms_pca.labels_\n",
    "cluster_centers_pca = ms_pca.cluster_centers_\n",
    "n_clusters_pca = len(np.unique(labels_pca))\n",
    "\n",
    "print(\"Number of estimated clusters: {}\".format(n_clusters_pca))"
   ]
  },
  {
   "cell_type": "code",
   "execution_count": 35,
   "metadata": {},
   "outputs": [
    {
     "name": "stdout",
     "output_type": "stream",
     "text": [
      "racertype     F     M  WF  WM\n",
      "row_0                        \n",
      "0          6468  6419   0   0\n",
      "1             7  2999   0   0\n",
      "2             0    51   0  43\n",
      "3             0   168   9   0\n"
     ]
    }
   ],
   "source": [
    "print(pd.crosstab(labels_pca, y))"
   ]
  },
  {
   "cell_type": "code",
   "execution_count": 34,
   "metadata": {},
   "outputs": [
    {
     "name": "stdout",
     "output_type": "stream",
     "text": [
      "ARI for normalized data: 0.026087732574383533\n",
      "ARI for pca transformed data: 0.02627153014323408\n"
     ]
    }
   ],
   "source": [
    "print('ARI for normalized data: {}'.format(metrics.adjusted_rand_score(y, labels_norm)))\n",
    "print('ARI for pca transformed data: {}'.format(metrics.adjusted_rand_score(y, labels_pca)))"
   ]
  },
  {
   "cell_type": "markdown",
   "metadata": {},
   "source": [
    "### 4 - Conclusions\n",
    "In this notebook, I tried to use clustering techniques to separate racers into four categories: male runners, female runners, male wheelchair racers, and female wheelchair racers.  Using k-means clustering, 6 was the optimal number of clusters for both normalized and pca transformed data, with an ARI of ~0.034.  With mean shift clustering, 4 was the optimal number of clusters, with an ARI of ~0.026.  From the crosstab information, it appears that both k-means and mean shift had a very difficult time distinguishing between male and female racers.  However, mean shift clustering was able to distinguish between genders for the wheelchair racers.  "
   ]
  },
  {
   "cell_type": "code",
   "execution_count": null,
   "metadata": {},
   "outputs": [],
   "source": []
  }
 ],
 "metadata": {
  "anaconda-cloud": {},
  "kernelspec": {
   "display_name": "Python [default]",
   "language": "python",
   "name": "python3"
  },
  "language_info": {
   "codemirror_mode": {
    "name": "ipython",
    "version": 3
   },
   "file_extension": ".py",
   "mimetype": "text/x-python",
   "name": "python",
   "nbconvert_exporter": "python",
   "pygments_lexer": "ipython3",
   "version": "3.5.2"
  }
 },
 "nbformat": 4,
 "nbformat_minor": 1
}
