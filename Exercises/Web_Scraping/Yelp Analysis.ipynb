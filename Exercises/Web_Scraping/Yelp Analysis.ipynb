{
 "cells": [
  {
   "cell_type": "markdown",
   "metadata": {},
   "source": [
    "### Instructions\n",
    "This unit is all about web scraping.  There are three main points to this assignment: 1) return specific pieces of information (instead of just downloading the whole page), 2) iterate over several pages, and 3) save the data.\n",
    "\n",
    "After gathering the data, compute some statistical calculations or visualizations to share.  \n",
    "\n",
    "I chose to use the Yelp API to search for Korean bbq (kbbq) businesses in Los Angeles, CA because who doesn't like kbbq? Due to the way I saved the information, I have 6 json files I need to append together.   Overall, I have information on 300 kbbq restaurants in the Los Angeles Area.  "
   ]
  },
  {
   "cell_type": "code",
   "execution_count": 1,
   "metadata": {},
   "outputs": [],
   "source": [
    "import pandas as pd\n",
    "import seaborn as sns\n",
    "import numpy as np\n",
    "import matplotlib.pyplot as plt\n",
    "%matplotlib inline"
   ]
  },
  {
   "cell_type": "code",
   "execution_count": 2,
   "metadata": {},
   "outputs": [],
   "source": [
    "df1 = pd.read_json('kbbq0.json')\n",
    "df2 = pd.read_json('kbbq1.json')\n",
    "df3 = pd.read_json('kbbq2.json')\n",
    "df4 = pd.read_json('kbbq3.json')\n",
    "df5 = pd.read_json('kbbq4.json')\n",
    "df6 = pd.read_json('kbbq5.json')"
   ]
  },
  {
   "cell_type": "code",
   "execution_count": 3,
   "metadata": {},
   "outputs": [],
   "source": [
    "df = pd.concat([df1, df2, df3, df4, df5, df6], axis = 0)\n",
    "df.reset_index(inplace= True, drop = True)"
   ]
  },
  {
   "cell_type": "code",
   "execution_count": 4,
   "metadata": {},
   "outputs": [
    {
     "name": "stdout",
     "output_type": "stream",
     "text": [
      "<class 'pandas.core.frame.DataFrame'>\n",
      "RangeIndex: 300 entries, 0 to 299\n",
      "Data columns (total 16 columns):\n",
      "alias            300 non-null object\n",
      "categories       300 non-null object\n",
      "coordinates      300 non-null object\n",
      "display_phone    300 non-null object\n",
      "distance         300 non-null float64\n",
      "id               300 non-null object\n",
      "image_url        300 non-null object\n",
      "is_closed        300 non-null bool\n",
      "location         300 non-null object\n",
      "name             300 non-null object\n",
      "phone            300 non-null object\n",
      "price            289 non-null object\n",
      "rating           300 non-null float64\n",
      "review_count     300 non-null int64\n",
      "transactions     300 non-null object\n",
      "url              300 non-null object\n",
      "dtypes: bool(1), float64(2), int64(1), object(12)\n",
      "memory usage: 35.5+ KB\n"
     ]
    }
   ],
   "source": [
    "df.info()"
   ]
  },
  {
   "cell_type": "code",
   "execution_count": 5,
   "metadata": {},
   "outputs": [
    {
     "data": {
      "text/html": [
       "<div>\n",
       "<style scoped>\n",
       "    .dataframe tbody tr th:only-of-type {\n",
       "        vertical-align: middle;\n",
       "    }\n",
       "\n",
       "    .dataframe tbody tr th {\n",
       "        vertical-align: top;\n",
       "    }\n",
       "\n",
       "    .dataframe thead th {\n",
       "        text-align: right;\n",
       "    }\n",
       "</style>\n",
       "<table border=\"1\" class=\"dataframe\">\n",
       "  <thead>\n",
       "    <tr style=\"text-align: right;\">\n",
       "      <th></th>\n",
       "      <th>alias</th>\n",
       "      <th>categories</th>\n",
       "      <th>coordinates</th>\n",
       "      <th>display_phone</th>\n",
       "      <th>distance</th>\n",
       "      <th>id</th>\n",
       "      <th>image_url</th>\n",
       "      <th>is_closed</th>\n",
       "      <th>location</th>\n",
       "      <th>name</th>\n",
       "      <th>phone</th>\n",
       "      <th>price</th>\n",
       "      <th>rating</th>\n",
       "      <th>review_count</th>\n",
       "      <th>transactions</th>\n",
       "      <th>url</th>\n",
       "    </tr>\n",
       "  </thead>\n",
       "  <tbody>\n",
       "    <tr>\n",
       "      <th>0</th>\n",
       "      <td>hae-jang-chon-korean-bbq-restaurant-los-angeles</td>\n",
       "      <td>[{'title': 'Korean', 'alias': 'korean'}, {'tit...</td>\n",
       "      <td>{'longitude': -118.3061281, 'latitude': 34.063...</td>\n",
       "      <td>(213) 389-8777</td>\n",
       "      <td>1428.368051</td>\n",
       "      <td>JYGPEUZy4k5ObXGIjcD3DA</td>\n",
       "      <td>https://s3-media2.fl.yelpcdn.com/bphoto/UE_ZY3...</td>\n",
       "      <td>False</td>\n",
       "      <td>{'city': 'Los Angeles', 'address2': '', 'count...</td>\n",
       "      <td>Hae Jang Chon Korean BBQ Restaurant</td>\n",
       "      <td>12133898777</td>\n",
       "      <td>$$</td>\n",
       "      <td>4.0</td>\n",
       "      <td>4864</td>\n",
       "      <td>[]</td>\n",
       "      <td>https://www.yelp.com/biz/hae-jang-chon-korean-...</td>\n",
       "    </tr>\n",
       "    <tr>\n",
       "      <th>1</th>\n",
       "      <td>kang-ho-dong-baekjeong-los-angeles-4</td>\n",
       "      <td>[{'title': 'Barbeque', 'alias': 'bbq'}, {'titl...</td>\n",
       "      <td>{'longitude': -118.2972751, 'latitude': 34.063...</td>\n",
       "      <td>(213) 384-9678</td>\n",
       "      <td>2233.423641</td>\n",
       "      <td>qAAoilHU25Qr45FOQlA19g</td>\n",
       "      <td>https://s3-media3.fl.yelpcdn.com/bphoto/izhJQs...</td>\n",
       "      <td>False</td>\n",
       "      <td>{'city': 'Los Angeles', 'address2': '', 'count...</td>\n",
       "      <td>Kang Ho-dong Baekjeong</td>\n",
       "      <td>12133849678</td>\n",
       "      <td>$$</td>\n",
       "      <td>4.5</td>\n",
       "      <td>4191</td>\n",
       "      <td>[]</td>\n",
       "      <td>https://www.yelp.com/biz/kang-ho-dong-baekjeon...</td>\n",
       "    </tr>\n",
       "    <tr>\n",
       "      <th>2</th>\n",
       "      <td>soowon-galbi-kbbq-restaurant-los-angeles-2</td>\n",
       "      <td>[{'title': 'Korean', 'alias': 'korean'}, {'tit...</td>\n",
       "      <td>{'longitude': -118.291338516533, 'latitude': 3...</td>\n",
       "      <td>(213) 365-9292</td>\n",
       "      <td>2826.075978</td>\n",
       "      <td>9FuxqbYXM0vaPnzrQ7B_qQ</td>\n",
       "      <td>https://s3-media3.fl.yelpcdn.com/bphoto/r9XjII...</td>\n",
       "      <td>False</td>\n",
       "      <td>{'city': 'Los Angeles', 'address2': 'Ste C', '...</td>\n",
       "      <td>Soowon Galbi KBBQ Restaurant</td>\n",
       "      <td>12133659292</td>\n",
       "      <td>$$</td>\n",
       "      <td>4.5</td>\n",
       "      <td>2508</td>\n",
       "      <td>[]</td>\n",
       "      <td>https://www.yelp.com/biz/soowon-galbi-kbbq-res...</td>\n",
       "    </tr>\n",
       "    <tr>\n",
       "      <th>3</th>\n",
       "      <td>road-to-seoul-los-angeles</td>\n",
       "      <td>[{'title': 'Korean', 'alias': 'korean'}, {'tit...</td>\n",
       "      <td>{'longitude': -118.30867, 'latitude': 34.04847}</td>\n",
       "      <td>(323) 731-9292</td>\n",
       "      <td>1867.839859</td>\n",
       "      <td>FlL2h3iROzhAIVBp3OaA9g</td>\n",
       "      <td>https://s3-media1.fl.yelpcdn.com/bphoto/fyDpBB...</td>\n",
       "      <td>False</td>\n",
       "      <td>{'city': 'Los Angeles', 'address2': '', 'count...</td>\n",
       "      <td>Road To Seoul</td>\n",
       "      <td>13237319292</td>\n",
       "      <td>$$</td>\n",
       "      <td>4.0</td>\n",
       "      <td>3685</td>\n",
       "      <td>[restaurant_reservation]</td>\n",
       "      <td>https://www.yelp.com/biz/road-to-seoul-los-ang...</td>\n",
       "    </tr>\n",
       "    <tr>\n",
       "      <th>4</th>\n",
       "      <td>ong-ga-nae-korean-bbq-los-angeles</td>\n",
       "      <td>[{'title': 'Korean', 'alias': 'korean'}, {'tit...</td>\n",
       "      <td>{'longitude': -118.2914951, 'latitude': 34.054...</td>\n",
       "      <td>(213) 386-9292</td>\n",
       "      <td>2874.653938</td>\n",
       "      <td>fBLnD9qxQggvDSPyOBsBLg</td>\n",
       "      <td>https://s3-media3.fl.yelpcdn.com/bphoto/5K5n0M...</td>\n",
       "      <td>False</td>\n",
       "      <td>{'city': 'Los Angeles', 'address2': None, 'cou...</td>\n",
       "      <td>Ong Ga Nae Korean BBQ</td>\n",
       "      <td>12133869292</td>\n",
       "      <td>$$</td>\n",
       "      <td>4.5</td>\n",
       "      <td>507</td>\n",
       "      <td>[restaurant_reservation]</td>\n",
       "      <td>https://www.yelp.com/biz/ong-ga-nae-korean-bbq...</td>\n",
       "    </tr>\n",
       "  </tbody>\n",
       "</table>\n",
       "</div>"
      ],
      "text/plain": [
       "                                             alias  \\\n",
       "0  hae-jang-chon-korean-bbq-restaurant-los-angeles   \n",
       "1             kang-ho-dong-baekjeong-los-angeles-4   \n",
       "2       soowon-galbi-kbbq-restaurant-los-angeles-2   \n",
       "3                        road-to-seoul-los-angeles   \n",
       "4                ong-ga-nae-korean-bbq-los-angeles   \n",
       "\n",
       "                                          categories  \\\n",
       "0  [{'title': 'Korean', 'alias': 'korean'}, {'tit...   \n",
       "1  [{'title': 'Barbeque', 'alias': 'bbq'}, {'titl...   \n",
       "2  [{'title': 'Korean', 'alias': 'korean'}, {'tit...   \n",
       "3  [{'title': 'Korean', 'alias': 'korean'}, {'tit...   \n",
       "4  [{'title': 'Korean', 'alias': 'korean'}, {'tit...   \n",
       "\n",
       "                                         coordinates   display_phone  \\\n",
       "0  {'longitude': -118.3061281, 'latitude': 34.063...  (213) 389-8777   \n",
       "1  {'longitude': -118.2972751, 'latitude': 34.063...  (213) 384-9678   \n",
       "2  {'longitude': -118.291338516533, 'latitude': 3...  (213) 365-9292   \n",
       "3    {'longitude': -118.30867, 'latitude': 34.04847}  (323) 731-9292   \n",
       "4  {'longitude': -118.2914951, 'latitude': 34.054...  (213) 386-9292   \n",
       "\n",
       "      distance                      id  \\\n",
       "0  1428.368051  JYGPEUZy4k5ObXGIjcD3DA   \n",
       "1  2233.423641  qAAoilHU25Qr45FOQlA19g   \n",
       "2  2826.075978  9FuxqbYXM0vaPnzrQ7B_qQ   \n",
       "3  1867.839859  FlL2h3iROzhAIVBp3OaA9g   \n",
       "4  2874.653938  fBLnD9qxQggvDSPyOBsBLg   \n",
       "\n",
       "                                           image_url  is_closed  \\\n",
       "0  https://s3-media2.fl.yelpcdn.com/bphoto/UE_ZY3...      False   \n",
       "1  https://s3-media3.fl.yelpcdn.com/bphoto/izhJQs...      False   \n",
       "2  https://s3-media3.fl.yelpcdn.com/bphoto/r9XjII...      False   \n",
       "3  https://s3-media1.fl.yelpcdn.com/bphoto/fyDpBB...      False   \n",
       "4  https://s3-media3.fl.yelpcdn.com/bphoto/5K5n0M...      False   \n",
       "\n",
       "                                            location  \\\n",
       "0  {'city': 'Los Angeles', 'address2': '', 'count...   \n",
       "1  {'city': 'Los Angeles', 'address2': '', 'count...   \n",
       "2  {'city': 'Los Angeles', 'address2': 'Ste C', '...   \n",
       "3  {'city': 'Los Angeles', 'address2': '', 'count...   \n",
       "4  {'city': 'Los Angeles', 'address2': None, 'cou...   \n",
       "\n",
       "                                  name        phone price  rating  \\\n",
       "0  Hae Jang Chon Korean BBQ Restaurant  12133898777    $$     4.0   \n",
       "1               Kang Ho-dong Baekjeong  12133849678    $$     4.5   \n",
       "2         Soowon Galbi KBBQ Restaurant  12133659292    $$     4.5   \n",
       "3                        Road To Seoul  13237319292    $$     4.0   \n",
       "4                Ong Ga Nae Korean BBQ  12133869292    $$     4.5   \n",
       "\n",
       "   review_count              transactions  \\\n",
       "0          4864                        []   \n",
       "1          4191                        []   \n",
       "2          2508                        []   \n",
       "3          3685  [restaurant_reservation]   \n",
       "4           507  [restaurant_reservation]   \n",
       "\n",
       "                                                 url  \n",
       "0  https://www.yelp.com/biz/hae-jang-chon-korean-...  \n",
       "1  https://www.yelp.com/biz/kang-ho-dong-baekjeon...  \n",
       "2  https://www.yelp.com/biz/soowon-galbi-kbbq-res...  \n",
       "3  https://www.yelp.com/biz/road-to-seoul-los-ang...  \n",
       "4  https://www.yelp.com/biz/ong-ga-nae-korean-bbq...  "
      ]
     },
     "execution_count": 5,
     "metadata": {},
     "output_type": "execute_result"
    }
   ],
   "source": [
    "df.head()"
   ]
  },
  {
   "cell_type": "markdown",
   "metadata": {},
   "source": [
    "For this exercise, there are some some information I don't need, so I will drop them.  In addition, I see that there are 11 restaurants without a price range.  I will also drop these.  "
   ]
  },
  {
   "cell_type": "code",
   "execution_count": 6,
   "metadata": {},
   "outputs": [],
   "source": [
    "df.drop(['coordinates', 'distance', 'image_url', 'is_closed', 'id', 'url', 'phone'], axis = 1, inplace = True)\n",
    "df.reset_index(inplace = True, drop = True)"
   ]
  },
  {
   "cell_type": "code",
   "execution_count": 7,
   "metadata": {},
   "outputs": [
    {
     "data": {
      "text/plain": [
       "alias             0\n",
       "categories        0\n",
       "display_phone     0\n",
       "location          0\n",
       "name              0\n",
       "price            11\n",
       "rating            0\n",
       "review_count      0\n",
       "transactions      0\n",
       "dtype: int64"
      ]
     },
     "execution_count": 7,
     "metadata": {},
     "output_type": "execute_result"
    }
   ],
   "source": [
    "df.isnull().sum()"
   ]
  },
  {
   "cell_type": "markdown",
   "metadata": {},
   "source": [
    "So I know LA and Koreatown specifically has a lot of kbbq establishments, but 300 sounds like it is a little high.  Sure enough, looking at the last 5 entries in the dataset, these are not kbbq establishments.  To filter out the kbbq restaurants,  I used the title and aliases in the 'categories' feature.  If some form of the keywords 'Korean' and 'bbq' are in there, then I'll say they are kbbq establishments."
   ]
  },
  {
   "cell_type": "code",
   "execution_count": 20,
   "metadata": {},
   "outputs": [
    {
     "data": {
      "text/html": [
       "<div>\n",
       "<style scoped>\n",
       "    .dataframe tbody tr th:only-of-type {\n",
       "        vertical-align: middle;\n",
       "    }\n",
       "\n",
       "    .dataframe tbody tr th {\n",
       "        vertical-align: top;\n",
       "    }\n",
       "\n",
       "    .dataframe thead th {\n",
       "        text-align: right;\n",
       "    }\n",
       "</style>\n",
       "<table border=\"1\" class=\"dataframe\">\n",
       "  <thead>\n",
       "    <tr style=\"text-align: right;\">\n",
       "      <th></th>\n",
       "      <th>alias</th>\n",
       "      <th>categories</th>\n",
       "      <th>display_phone</th>\n",
       "      <th>location</th>\n",
       "      <th>name</th>\n",
       "      <th>price</th>\n",
       "      <th>rating</th>\n",
       "      <th>review_count</th>\n",
       "      <th>transactions</th>\n",
       "      <th>is_kbbq</th>\n",
       "    </tr>\n",
       "  </thead>\n",
       "  <tbody>\n",
       "    <tr>\n",
       "      <th>295</th>\n",
       "      <td>ajisai-west-hollywood</td>\n",
       "      <td>[{'title': 'Japanese', 'alias': 'japanese'}, {...</td>\n",
       "      <td>(310) 652-7014</td>\n",
       "      <td>{'city': 'West Hollywood', 'address2': '', 'co...</td>\n",
       "      <td>Ajisai</td>\n",
       "      <td>$$</td>\n",
       "      <td>4.5</td>\n",
       "      <td>370</td>\n",
       "      <td>[pickup]</td>\n",
       "      <td>False</td>\n",
       "    </tr>\n",
       "    <tr>\n",
       "      <th>296</th>\n",
       "      <td>izakaya-fu-ga-los-angeles</td>\n",
       "      <td>[{'title': 'Bars', 'alias': 'bars'}, {'title':...</td>\n",
       "      <td>(213) 625-1722</td>\n",
       "      <td>{'city': 'Los Angeles', 'address2': '', 'count...</td>\n",
       "      <td>Izakaya Fu-ga</td>\n",
       "      <td>$$</td>\n",
       "      <td>4.0</td>\n",
       "      <td>909</td>\n",
       "      <td>[delivery, pickup, restaurant_reservation]</td>\n",
       "      <td>False</td>\n",
       "    </tr>\n",
       "    <tr>\n",
       "      <th>297</th>\n",
       "      <td>biergarten-los-angeles</td>\n",
       "      <td>[{'title': 'Gastropubs', 'alias': 'gastropubs'...</td>\n",
       "      <td>(323) 466-4860</td>\n",
       "      <td>{'city': 'Los Angeles', 'address2': None, 'cou...</td>\n",
       "      <td>Biergarten</td>\n",
       "      <td>$$</td>\n",
       "      <td>4.0</td>\n",
       "      <td>780</td>\n",
       "      <td>[pickup]</td>\n",
       "      <td>False</td>\n",
       "    </tr>\n",
       "    <tr>\n",
       "      <th>298</th>\n",
       "      <td>men-oh-tokushima-ramen-los-angeles</td>\n",
       "      <td>[{'title': 'Ramen', 'alias': 'ramen'}, {'title...</td>\n",
       "      <td>(213) 687-8485</td>\n",
       "      <td>{'city': 'Los Angeles', 'address2': '', 'count...</td>\n",
       "      <td>Men Oh Tokushima Ramen</td>\n",
       "      <td>$$</td>\n",
       "      <td>4.0</td>\n",
       "      <td>1231</td>\n",
       "      <td>[delivery, pickup]</td>\n",
       "      <td>False</td>\n",
       "    </tr>\n",
       "    <tr>\n",
       "      <th>299</th>\n",
       "      <td>sushi-ajito-los-angeles</td>\n",
       "      <td>[{'title': 'Japanese', 'alias': 'japanese'}, {...</td>\n",
       "      <td>(323) 466-2460</td>\n",
       "      <td>{'city': 'Los Angeles', 'address2': '', 'count...</td>\n",
       "      <td>Sushi Ajito</td>\n",
       "      <td>$$</td>\n",
       "      <td>3.5</td>\n",
       "      <td>281</td>\n",
       "      <td>[delivery, pickup]</td>\n",
       "      <td>False</td>\n",
       "    </tr>\n",
       "  </tbody>\n",
       "</table>\n",
       "</div>"
      ],
      "text/plain": [
       "                                  alias  \\\n",
       "295               ajisai-west-hollywood   \n",
       "296           izakaya-fu-ga-los-angeles   \n",
       "297              biergarten-los-angeles   \n",
       "298  men-oh-tokushima-ramen-los-angeles   \n",
       "299             sushi-ajito-los-angeles   \n",
       "\n",
       "                                            categories   display_phone  \\\n",
       "295  [{'title': 'Japanese', 'alias': 'japanese'}, {...  (310) 652-7014   \n",
       "296  [{'title': 'Bars', 'alias': 'bars'}, {'title':...  (213) 625-1722   \n",
       "297  [{'title': 'Gastropubs', 'alias': 'gastropubs'...  (323) 466-4860   \n",
       "298  [{'title': 'Ramen', 'alias': 'ramen'}, {'title...  (213) 687-8485   \n",
       "299  [{'title': 'Japanese', 'alias': 'japanese'}, {...  (323) 466-2460   \n",
       "\n",
       "                                              location  \\\n",
       "295  {'city': 'West Hollywood', 'address2': '', 'co...   \n",
       "296  {'city': 'Los Angeles', 'address2': '', 'count...   \n",
       "297  {'city': 'Los Angeles', 'address2': None, 'cou...   \n",
       "298  {'city': 'Los Angeles', 'address2': '', 'count...   \n",
       "299  {'city': 'Los Angeles', 'address2': '', 'count...   \n",
       "\n",
       "                       name price  rating  review_count  \\\n",
       "295                  Ajisai    $$     4.5           370   \n",
       "296           Izakaya Fu-ga    $$     4.0           909   \n",
       "297              Biergarten    $$     4.0           780   \n",
       "298  Men Oh Tokushima Ramen    $$     4.0          1231   \n",
       "299             Sushi Ajito    $$     3.5           281   \n",
       "\n",
       "                                   transactions  is_kbbq  \n",
       "295                                    [pickup]    False  \n",
       "296  [delivery, pickup, restaurant_reservation]    False  \n",
       "297                                    [pickup]    False  \n",
       "298                          [delivery, pickup]    False  \n",
       "299                          [delivery, pickup]    False  "
      ]
     },
     "execution_count": 20,
     "metadata": {},
     "output_type": "execute_result"
    }
   ],
   "source": [
    "df.tail(5)"
   ]
  },
  {
   "cell_type": "code",
   "execution_count": 9,
   "metadata": {},
   "outputs": [
    {
     "data": {
      "text/plain": [
       "295    False\n",
       "296    False\n",
       "297    False\n",
       "298    False\n",
       "299    False\n",
       "Name: categories, dtype: bool"
      ]
     },
     "execution_count": 9,
     "metadata": {},
     "output_type": "execute_result"
    }
   ],
   "source": [
    "def find_kbbq(col):\n",
    "    korean_keywords = ['Korean', 'korean']\n",
    "    bbq_keywords = ['Barbeque', 'bbq']\n",
    "    is_korean= False\n",
    "    is_bbq = False\n",
    "    for i in col:\n",
    "        if i['title'] in korean_keywords or i['alias'] in korean_keywords:\n",
    "            is_korean = True\n",
    "        if i['alias'] in bbq_keywords or i['alias'] in bbq_keywords:\n",
    "            is_bbq = True\n",
    "    if all([is_korean, is_bbq]):\n",
    "        return True\n",
    "    else:\n",
    "        return False"
   ]
  },
  {
   "cell_type": "code",
   "execution_count": 15,
   "metadata": {},
   "outputs": [],
   "source": [
    "df['is_kbbq'] = df['categories'].apply(find_kbbq)"
   ]
  },
  {
   "cell_type": "code",
   "execution_count": 30,
   "metadata": {},
   "outputs": [],
   "source": [
    "kbbq_df = df[df['is_kbbq']==True]\n",
    "kbbq_df.reset_index(inplace = True, drop = True)\n",
    "\n",
    "notkbbq_df = df[df['is_kbbq']==False]\n",
    "notkbbq_df.reset_index(inplace = True, drop = True)"
   ]
  },
  {
   "cell_type": "markdown",
   "metadata": {},
   "source": [
    "Filtering out by keywords has reduced the number of establishments to 78.  Again, it isn't perfect, as I'm seeing soon tofu and a food truck at the end of the dataset, but its definitely filtered out a lot more."
   ]
  },
  {
   "cell_type": "code",
   "execution_count": 27,
   "metadata": {},
   "outputs": [
    {
     "name": "stdout",
     "output_type": "stream",
     "text": [
      "Number of kbbq establishments: 78\n"
     ]
    }
   ],
   "source": [
    "print('Number of kbbq establishments: {}'.format(kbbq_df.shape[0]))"
   ]
  },
  {
   "cell_type": "code",
   "execution_count": 31,
   "metadata": {},
   "outputs": [
    {
     "data": {
      "text/html": [
       "<div>\n",
       "<style scoped>\n",
       "    .dataframe tbody tr th:only-of-type {\n",
       "        vertical-align: middle;\n",
       "    }\n",
       "\n",
       "    .dataframe tbody tr th {\n",
       "        vertical-align: top;\n",
       "    }\n",
       "\n",
       "    .dataframe thead th {\n",
       "        text-align: right;\n",
       "    }\n",
       "</style>\n",
       "<table border=\"1\" class=\"dataframe\">\n",
       "  <thead>\n",
       "    <tr style=\"text-align: right;\">\n",
       "      <th></th>\n",
       "      <th>alias</th>\n",
       "      <th>categories</th>\n",
       "      <th>display_phone</th>\n",
       "      <th>location</th>\n",
       "      <th>name</th>\n",
       "      <th>price</th>\n",
       "      <th>rating</th>\n",
       "      <th>review_count</th>\n",
       "      <th>transactions</th>\n",
       "      <th>is_kbbq</th>\n",
       "    </tr>\n",
       "  </thead>\n",
       "  <tbody>\n",
       "    <tr>\n",
       "      <th>73</th>\n",
       "      <td>feng-mao-lamb-kebab-los-angeles</td>\n",
       "      <td>[{'title': 'Korean', 'alias': 'korean'}, {'tit...</td>\n",
       "      <td>(213) 388-9299</td>\n",
       "      <td>{'city': 'Los Angeles', 'address2': '', 'count...</td>\n",
       "      <td>Feng Mao Lamb Kebab</td>\n",
       "      <td>$$</td>\n",
       "      <td>4.0</td>\n",
       "      <td>456</td>\n",
       "      <td>[]</td>\n",
       "      <td>True</td>\n",
       "    </tr>\n",
       "    <tr>\n",
       "      <th>74</th>\n",
       "      <td>kang-nam-restaurant-los-angeles</td>\n",
       "      <td>[{'title': 'Korean', 'alias': 'korean'}, {'tit...</td>\n",
       "      <td>(323) 937-1070</td>\n",
       "      <td>{'city': 'Los Angeles', 'address2': '', 'count...</td>\n",
       "      <td>Kang Nam Restaurant</td>\n",
       "      <td>$$</td>\n",
       "      <td>3.5</td>\n",
       "      <td>132</td>\n",
       "      <td>[]</td>\n",
       "      <td>True</td>\n",
       "    </tr>\n",
       "    <tr>\n",
       "      <th>75</th>\n",
       "      <td>beverly-soon-tofu-restaurant-los-angeles</td>\n",
       "      <td>[{'title': 'Korean', 'alias': 'korean'}, {'tit...</td>\n",
       "      <td>(213) 380-1113</td>\n",
       "      <td>{'city': 'Los Angeles', 'address2': 'Ste 108',...</td>\n",
       "      <td>Beverly Soon Tofu Restaurant</td>\n",
       "      <td>$$</td>\n",
       "      <td>4.0</td>\n",
       "      <td>1491</td>\n",
       "      <td>[]</td>\n",
       "      <td>True</td>\n",
       "    </tr>\n",
       "    <tr>\n",
       "      <th>76</th>\n",
       "      <td>kogi-bbq-truck-azul-los-angeles</td>\n",
       "      <td>[{'title': 'Korean', 'alias': 'korean'}, {'tit...</td>\n",
       "      <td>(323) 315-0253</td>\n",
       "      <td>{'city': 'Los Angeles', 'address2': '', 'count...</td>\n",
       "      <td>Kogi BBQ Truck - Azul</td>\n",
       "      <td>$</td>\n",
       "      <td>3.5</td>\n",
       "      <td>2063</td>\n",
       "      <td>[]</td>\n",
       "      <td>True</td>\n",
       "    </tr>\n",
       "    <tr>\n",
       "      <th>77</th>\n",
       "      <td>seoul-garden-restaurant-los-angeles</td>\n",
       "      <td>[{'title': 'Korean', 'alias': 'korean'}, {'tit...</td>\n",
       "      <td>(213) 386-8477</td>\n",
       "      <td>{'city': 'Los Angeles', 'address2': '', 'count...</td>\n",
       "      <td>Seoul Garden Restaurant</td>\n",
       "      <td>$$</td>\n",
       "      <td>4.0</td>\n",
       "      <td>512</td>\n",
       "      <td>[delivery, pickup]</td>\n",
       "      <td>True</td>\n",
       "    </tr>\n",
       "  </tbody>\n",
       "</table>\n",
       "</div>"
      ],
      "text/plain": [
       "                                       alias  \\\n",
       "73           feng-mao-lamb-kebab-los-angeles   \n",
       "74           kang-nam-restaurant-los-angeles   \n",
       "75  beverly-soon-tofu-restaurant-los-angeles   \n",
       "76           kogi-bbq-truck-azul-los-angeles   \n",
       "77       seoul-garden-restaurant-los-angeles   \n",
       "\n",
       "                                           categories   display_phone  \\\n",
       "73  [{'title': 'Korean', 'alias': 'korean'}, {'tit...  (213) 388-9299   \n",
       "74  [{'title': 'Korean', 'alias': 'korean'}, {'tit...  (323) 937-1070   \n",
       "75  [{'title': 'Korean', 'alias': 'korean'}, {'tit...  (213) 380-1113   \n",
       "76  [{'title': 'Korean', 'alias': 'korean'}, {'tit...  (323) 315-0253   \n",
       "77  [{'title': 'Korean', 'alias': 'korean'}, {'tit...  (213) 386-8477   \n",
       "\n",
       "                                             location  \\\n",
       "73  {'city': 'Los Angeles', 'address2': '', 'count...   \n",
       "74  {'city': 'Los Angeles', 'address2': '', 'count...   \n",
       "75  {'city': 'Los Angeles', 'address2': 'Ste 108',...   \n",
       "76  {'city': 'Los Angeles', 'address2': '', 'count...   \n",
       "77  {'city': 'Los Angeles', 'address2': '', 'count...   \n",
       "\n",
       "                            name price  rating  review_count  \\\n",
       "73           Feng Mao Lamb Kebab    $$     4.0           456   \n",
       "74           Kang Nam Restaurant    $$     3.5           132   \n",
       "75  Beverly Soon Tofu Restaurant    $$     4.0          1491   \n",
       "76         Kogi BBQ Truck - Azul     $     3.5          2063   \n",
       "77       Seoul Garden Restaurant    $$     4.0           512   \n",
       "\n",
       "          transactions  is_kbbq  \n",
       "73                  []     True  \n",
       "74                  []     True  \n",
       "75                  []     True  \n",
       "76                  []     True  \n",
       "77  [delivery, pickup]     True  "
      ]
     },
     "execution_count": 31,
     "metadata": {},
     "output_type": "execute_result"
    }
   ],
   "source": [
    "kbbq_df.tail()"
   ]
  },
  {
   "cell_type": "markdown",
   "metadata": {},
   "source": [
    "Now that I've found all the kbbq and non kbbq establishments, I want to know which ones are afforadable.  For those unfamiliar with Yelp's pricing symbols, it represents the price per person, where  \\$= under \\$10. \\$\\$=11-30. \\$\\$\\$=31-60. and \\$\\$\\$\\$= over \\$61.  For the most part, kbbq restaurants are in the 11-30 dollar range.  "
   ]
  },
  {
   "cell_type": "code",
   "execution_count": 32,
   "metadata": {},
   "outputs": [],
   "source": [
    "def convert_price(col):\n",
    "    if col == '$':\n",
    "        return '< 10'\n",
    "    elif col == '$$':\n",
    "        return '11-30'\n",
    "    elif col == '$$$':\n",
    "        return '31-60'\n",
    "    elif col == '$$$$':\n",
    "        return '> 60'"
   ]
  },
  {
   "cell_type": "code",
   "execution_count": 33,
   "metadata": {},
   "outputs": [
    {
     "name": "stderr",
     "output_type": "stream",
     "text": [
      "C:\\Users\\Crystal\\AppData\\Local\\Continuum\\Anaconda3\\lib\\site-packages\\ipykernel\\__main__.py:1: SettingWithCopyWarning: \n",
      "A value is trying to be set on a copy of a slice from a DataFrame.\n",
      "Try using .loc[row_indexer,col_indexer] = value instead\n",
      "\n",
      "See the caveats in the documentation: http://pandas.pydata.org/pandas-docs/stable/indexing.html#indexing-view-versus-copy\n",
      "  if __name__ == '__main__':\n",
      "C:\\Users\\Crystal\\AppData\\Local\\Continuum\\Anaconda3\\lib\\site-packages\\ipykernel\\__main__.py:2: SettingWithCopyWarning: \n",
      "A value is trying to be set on a copy of a slice from a DataFrame.\n",
      "Try using .loc[row_indexer,col_indexer] = value instead\n",
      "\n",
      "See the caveats in the documentation: http://pandas.pydata.org/pandas-docs/stable/indexing.html#indexing-view-versus-copy\n",
      "  from ipykernel import kernelapp as app\n"
     ]
    }
   ],
   "source": [
    "kbbq_df['price'] = df['price'].apply(convert_price)\n",
    "notkbbq_df['price'] = notkbbq_df['price'].apply(convert_price)"
   ]
  },
  {
   "cell_type": "markdown",
   "metadata": {},
   "source": [
    "Kbbq seems to mainly exist in the 11-30 dollar range, with a few in the 31-60 dollar range.  There is one restauant under 10 dollars but checking their yelp page, they aren't a kbbq establishment. This is pretty in line with my kbbq experience; most of the kbq places I've been to are all you can eat (ayce) priced at around \\$30, with non ayce places varying between 30 to 60 dollars. In comparison, non kbbq establishments are also in the 11-30 dollar range, but a greater percentage are under 10, and some places in the more than 30 dollars.  "
   ]
  },
  {
   "cell_type": "code",
   "execution_count": 54,
   "metadata": {},
   "outputs": [],
   "source": [
    "price_order = ['< 10', '11-30', '31-60', '> 60']"
   ]
  },
  {
   "cell_type": "code",
   "execution_count": 55,
   "metadata": {},
   "outputs": [
    {
     "data": {
      "image/png": "[encoded data removed]",
      "text/plain": [
       "<matplotlib.figure.Figure at 0x1ed912ba6a0>"
      ]
     },
     "metadata": {},
     "output_type": "display_data"
    }
   ],
   "source": [
    "fig, (axis1, axis2) = plt.subplots(1,2,figsize=(15,4))\n",
    "\n",
    "sns.countplot(x = 'price', order = price_order, data = kbbq_df, ax = axis1)\n",
    "sns.countplot(x = 'price', order = price_order, data = notkbbq_df, ax = axis2)\n",
    "\n",
    "axis1.set_title('Distribution of Prices for Kbbq')\n",
    "axis2.set_title('Distribution of Prices for Non-Kbb')\n",
    "\n",
    "for ax in [axis1, axis2]:\n",
    "    ax.set_xlabel('Price Range')\n",
    "    ax.set_ylabel('Count')\n",
    "    \n",
    "plt.tight_layout()"
   ]
  },
  {
   "cell_type": "code",
   "execution_count": 42,
   "metadata": {},
   "outputs": [
    {
     "name": "stderr",
     "output_type": "stream",
     "text": [
      "C:\\Users\\Crystal\\AppData\\Local\\Continuum\\Anaconda3\\lib\\site-packages\\ipykernel\\__main__.py:1: SettingWithCopyWarning: \n",
      "A value is trying to be set on a copy of a slice from a DataFrame.\n",
      "Try using .loc[row_indexer,col_indexer] = value instead\n",
      "\n",
      "See the caveats in the documentation: http://pandas.pydata.org/pandas-docs/stable/indexing.html#indexing-view-versus-copy\n",
      "  if __name__ == '__main__':\n",
      "C:\\Users\\Crystal\\AppData\\Local\\Continuum\\Anaconda3\\lib\\site-packages\\ipykernel\\__main__.py:2: SettingWithCopyWarning: \n",
      "A value is trying to be set on a copy of a slice from a DataFrame.\n",
      "Try using .loc[row_indexer,col_indexer] = value instead\n",
      "\n",
      "See the caveats in the documentation: http://pandas.pydata.org/pandas-docs/stable/indexing.html#indexing-view-versus-copy\n",
      "  from ipykernel import kernelapp as app\n"
     ]
    }
   ],
   "source": [
    "kbbq_df['area_code'] = kbbq_df['display_phone'].apply(lambda x: x[1:4])\n",
    "notkbbq_df['area_code'] = notkbbq_df['display_phone'].apply(lambda x: x[1:4])"
   ]
  },
  {
   "cell_type": "markdown",
   "metadata": {},
   "source": [
    "A second aspect of this dataset I wanted to explore is the location of kbbq establishments. I do this by looking at what area codes they are located in.  \n",
    "\n",
    "The first thing I notice is that there are only certain locations that have kbbq, namely in the 213 and 323 area codes.  Non kbbq establishments are also concentrated in these area codes, but there are two more area codes, plus some without phone numbers which turns out to be food trucks.  "
   ]
  },
  {
   "cell_type": "code",
   "execution_count": 62,
   "metadata": {},
   "outputs": [
    {
     "data": {
      "image/png": "[encoded data removed]",
      "text/plain": [
       "<matplotlib.figure.Figure at 0x1ed92932940>"
      ]
     },
     "metadata": {},
     "output_type": "display_data"
    }
   ],
   "source": [
    "fig, (axis1, axis2) = plt.subplots(1,2,figsize=(15,4))\n",
    "\n",
    "sns.countplot(x = 'area_code', hue = 'price', hue_order=price_order, data = kbbq_df, ax = axis1)\n",
    "sns.countplot(x = 'area_code', hue = 'price', hue_order=price_order, data = notkbbq_df, ax = axis2)\n",
    "\n",
    "axis1.set_title('Price by Area Code - Kbbq')\n",
    "axis2.set_title('Price by Area Code - Non-Kbbq')\n",
    "\n",
    "for ax in [axis1, axis2]:\n",
    "    ax.set_xlabel('Area Code')\n",
    "    ax.set_ylabel('Count')\n",
    "    ax.legend(loc = 'upper right')"
   ]
  },
  {
   "cell_type": "markdown",
   "metadata": {},
   "source": [
    "Lastly, I wanted to look at if the number of reviews had any relationship with the rating.  Interestingly, for the most part most reviews have at least four stars, and very rarely are there any ratings under 3 stars.  I assume this is because restaurant competition is fierce and an establishment cannot survive if the ratings are bad.  \n",
    "\n",
    "What really amazes me is that some establishments have over 2000 reviews, with one non kbbq establishment having over 8000 (Daikokuya Little Tokyo for the curious)!  Overall though, it seems like if an establishment has over 2000 reviews then it has at least 3.5 stars.    "
   ]
  },
  {
   "cell_type": "code",
   "execution_count": 67,
   "metadata": {},
   "outputs": [
    {
     "data": {
      "image/png": "[encoded data removed]",
      "text/plain": [
       "<matplotlib.figure.Figure at 0x1ed914d0588>"
      ]
     },
     "metadata": {},
     "output_type": "display_data"
    }
   ],
   "source": [
    "fig, (axis1, axis2) = plt.subplots(1,2,figsize=(15,4))\n",
    "\n",
    "sns.scatterplot(x = 'review_count', y = 'rating', data = kbbq_df, ax = axis1)\n",
    "sns.scatterplot(x = 'review_count', y = 'rating', data = notkbbq_df, ax = axis2)\n",
    "\n",
    "axis1.set_title('Reviews and Ratings - Kbbq')\n",
    "axis2.set_title('Reviews and Ratings - Non-Kbbq')\n",
    "\n",
    "for ax in [axis1, axis2]:\n",
    "    ax.set_xlabel('Number of Reviews')\n",
    "    ax.set_ylabel('Rating')\n",
    "    \n",
    "plt.tight_layout()"
   ]
  },
  {
   "cell_type": "markdown",
   "metadata": {},
   "source": [
    "Overall, this has been a fun exercise in web scraping and gathering my own data.  "
   ]
  }
 ],
 "metadata": {
  "kernelspec": {
   "display_name": "Python [default]",
   "language": "python",
   "name": "python3"
  },
  "language_info": {
   "codemirror_mode": {
    "name": "ipython",
    "version": 3
   },
   "file_extension": ".py",
   "mimetype": "text/x-python",
   "name": "python",
   "nbconvert_exporter": "python",
   "pygments_lexer": "ipython3",
   "version": "3.5.2"
  }
 },
 "nbformat": 4,
 "nbformat_minor": 1
}
