{
 "cells": [
  {
   "cell_type": "markdown",
   "metadata": {},
   "source": [
    "This is the scraper I used.  It connects to the yelp API, taking in my unique api key, the term (ie 'coffee', 'noodles', 'burgers'), location, and radius (in meters).  Data is saved as a json files, with each offset saved as a new file.  "
   ]
  },
  {
   "cell_type": "code",
   "execution_count": 1,
   "metadata": {},
   "outputs": [],
   "source": [
    "# Imports for Yelp\n",
    "import requests\n",
    "from getAPIKey import get_api_key\n",
    "\n",
    "# Imports for saving \n",
    "import json"
   ]
  },
  {
   "cell_type": "code",
   "execution_count": 2,
   "metadata": {},
   "outputs": [],
   "source": [
    "class BusinessData:\n",
    "# Create functions to call on and save json data from Yelp API\n",
    "\n",
    "    def __init__(self, apikey, term, location, radius):\n",
    "    # initialize api key, endpoint (yelp's business search in this case), and parameters.\n",
    "        self.apikey = apikey\n",
    "        self.term = term\n",
    "        self.location = location\n",
    "        self.radius = radius\n",
    "        self.offset = 0\n",
    "        self.limit = 50\n",
    "        self.business_endpoint = 'https://api.yelp.com/v3/businesses/search'\n",
    "        self.header = {'Authorization': 'Bearer {}'.format(api_key)}\n",
    "\n",
    "    def make_request(self):\n",
    "    # Make request to Yelp API endpoint.  If response code is not 200, stop request.\n",
    "    # Returns 1) data in json format and 2) total number of businesses\n",
    "        response = requests.get(url = self.business_endpoint, params = self.get_params(), headers = self.header)\n",
    "        if response.status_code != 200:\n",
    "            print('Bad request.  Status code {}'.format(response.status_code))\n",
    "        else:\n",
    "            return response.json(), response.json()['total']\n",
    "\n",
    "    def get_params(self):\n",
    "    # Organize parameters into dictionary format\n",
    "        PARAMS = {'term': self.term, \n",
    "                'location': self.location, \n",
    "                'radius': self.radius,\n",
    "                'offset': self.offset,\n",
    "                'limit': self.limit}\n",
    "        return PARAMS\n",
    "    \n",
    "    def save_json(self, data, filename):\n",
    "    # Save json data.\n",
    "    # Need to find a way to append to existing json file instead of making new one each offset\n",
    "        with open('{}.json'.format(filename), \"w\") as json_file:\n",
    "            json.dump(data['businesses'], json_file, indent=4)\n",
    "\n",
    "    def change_offset(self):\n",
    "        self.offset += self.limit"
   ]
  },
  {
   "cell_type": "code",
   "execution_count": 4,
   "metadata": {},
   "outputs": [],
   "source": [
    "api_key = get_api_key()\n",
    "\n",
    "city = BusinessData(api_key, 'kbbq', 'Los Angeles', 10000)"
   ]
  },
  {
   "cell_type": "code",
   "execution_count": 5,
   "metadata": {},
   "outputs": [],
   "source": [
    "city_data, city_total = city.make_request()"
   ]
  },
  {
   "cell_type": "code",
   "execution_count": 6,
   "metadata": {},
   "outputs": [],
   "source": [
    "# Save all json data into separate files based on total number of businesses found.\n",
    "for i in range(city_total//50+1):\n",
    "    if i == 0:\n",
    "        city.save_json(city_data, filename = 'kbbq{}'.format(i))\n",
    "\n",
    "    else:\n",
    "        city.change_offset()\n",
    "        city_newdata, _ = city.make_request()\n",
    "        city.save_json(city_newdata, filename = 'kbbq{}'.format(i))"
   ]
  },
  {
   "cell_type": "code",
   "execution_count": null,
   "metadata": {},
   "outputs": [],
   "source": []
  }
 ],
 "metadata": {
  "anaconda-cloud": {},
  "kernelspec": {
   "display_name": "Python [default]",
   "language": "python",
   "name": "python3"
  },
  "language_info": {
   "codemirror_mode": {
    "name": "ipython",
    "version": 3
   },
   "file_extension": ".py",
   "mimetype": "text/x-python",
   "name": "python",
   "nbconvert_exporter": "python",
   "pygments_lexer": "ipython3",
   "version": "3.5.2"
  }
 },
 "nbformat": 4,
 "nbformat_minor": 1
}
